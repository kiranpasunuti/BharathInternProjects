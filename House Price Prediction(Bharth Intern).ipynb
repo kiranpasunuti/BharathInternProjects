{
 "cells": [
  {
   "cell_type": "code",
   "execution_count": 67,
   "id": "79574b35",
   "metadata": {},
   "outputs": [],
   "source": [
    "import pandas as pd\n",
    "import numpy as np\n",
    "import matplotlib.pyplot as plt\n",
    "import plotly.express as px\n",
    "import seaborn as sns \n",
    "import warnings\n",
    "warnings.filterwarnings('ignore')"
   ]
  },
  {
   "cell_type": "code",
   "execution_count": 4,
   "id": "a4d883ca",
   "metadata": {},
   "outputs": [
    {
     "data": {
      "text/html": [
       "<div>\n",
       "<style scoped>\n",
       "    .dataframe tbody tr th:only-of-type {\n",
       "        vertical-align: middle;\n",
       "    }\n",
       "\n",
       "    .dataframe tbody tr th {\n",
       "        vertical-align: top;\n",
       "    }\n",
       "\n",
       "    .dataframe thead th {\n",
       "        text-align: right;\n",
       "    }\n",
       "</style>\n",
       "<table border=\"1\" class=\"dataframe\">\n",
       "  <thead>\n",
       "    <tr style=\"text-align: right;\">\n",
       "      <th></th>\n",
       "      <th>Living Area</th>\n",
       "      <th>Bathrooms</th>\n",
       "      <th>Bedrooms</th>\n",
       "      <th>Lot Size</th>\n",
       "      <th>Age</th>\n",
       "      <th>Fireplace</th>\n",
       "      <th>Price</th>\n",
       "    </tr>\n",
       "  </thead>\n",
       "  <tbody>\n",
       "    <tr>\n",
       "      <th>0</th>\n",
       "      <td>1.982</td>\n",
       "      <td>1.0</td>\n",
       "      <td>3</td>\n",
       "      <td>2.00</td>\n",
       "      <td>133</td>\n",
       "      <td>0</td>\n",
       "      <td>14.2212</td>\n",
       "    </tr>\n",
       "    <tr>\n",
       "      <th>1</th>\n",
       "      <td>1.676</td>\n",
       "      <td>1.5</td>\n",
       "      <td>3</td>\n",
       "      <td>0.38</td>\n",
       "      <td>14</td>\n",
       "      <td>1</td>\n",
       "      <td>13.4865</td>\n",
       "    </tr>\n",
       "    <tr>\n",
       "      <th>2</th>\n",
       "      <td>1.694</td>\n",
       "      <td>2.0</td>\n",
       "      <td>3</td>\n",
       "      <td>0.96</td>\n",
       "      <td>15</td>\n",
       "      <td>1</td>\n",
       "      <td>11.8007</td>\n",
       "    </tr>\n",
       "    <tr>\n",
       "      <th>3</th>\n",
       "      <td>1.800</td>\n",
       "      <td>1.0</td>\n",
       "      <td>2</td>\n",
       "      <td>0.48</td>\n",
       "      <td>49</td>\n",
       "      <td>1</td>\n",
       "      <td>13.8297</td>\n",
       "    </tr>\n",
       "    <tr>\n",
       "      <th>4</th>\n",
       "      <td>2.088</td>\n",
       "      <td>1.0</td>\n",
       "      <td>3</td>\n",
       "      <td>1.84</td>\n",
       "      <td>29</td>\n",
       "      <td>1</td>\n",
       "      <td>12.9470</td>\n",
       "    </tr>\n",
       "    <tr>\n",
       "      <th>...</th>\n",
       "      <td>...</td>\n",
       "      <td>...</td>\n",
       "      <td>...</td>\n",
       "      <td>...</td>\n",
       "      <td>...</td>\n",
       "      <td>...</td>\n",
       "      <td>...</td>\n",
       "    </tr>\n",
       "    <tr>\n",
       "      <th>1042</th>\n",
       "      <td>1.802</td>\n",
       "      <td>2.0</td>\n",
       "      <td>4</td>\n",
       "      <td>0.97</td>\n",
       "      <td>56</td>\n",
       "      <td>1</td>\n",
       "      <td>10.7695</td>\n",
       "    </tr>\n",
       "    <tr>\n",
       "      <th>1043</th>\n",
       "      <td>3.239</td>\n",
       "      <td>3.5</td>\n",
       "      <td>4</td>\n",
       "      <td>2.50</td>\n",
       "      <td>1</td>\n",
       "      <td>1</td>\n",
       "      <td>23.6737</td>\n",
       "    </tr>\n",
       "    <tr>\n",
       "      <th>1044</th>\n",
       "      <td>1.440</td>\n",
       "      <td>2.0</td>\n",
       "      <td>2</td>\n",
       "      <td>0.61</td>\n",
       "      <td>66</td>\n",
       "      <td>1</td>\n",
       "      <td>15.4829</td>\n",
       "    </tr>\n",
       "    <tr>\n",
       "      <th>1045</th>\n",
       "      <td>2.030</td>\n",
       "      <td>2.5</td>\n",
       "      <td>3</td>\n",
       "      <td>1.00</td>\n",
       "      <td>3</td>\n",
       "      <td>1</td>\n",
       "      <td>17.9492</td>\n",
       "    </tr>\n",
       "    <tr>\n",
       "      <th>1046</th>\n",
       "      <td>2.097</td>\n",
       "      <td>2.5</td>\n",
       "      <td>3</td>\n",
       "      <td>1.93</td>\n",
       "      <td>10</td>\n",
       "      <td>1</td>\n",
       "      <td>18.9108</td>\n",
       "    </tr>\n",
       "  </tbody>\n",
       "</table>\n",
       "<p>1047 rows × 7 columns</p>\n",
       "</div>"
      ],
      "text/plain": [
       "      Living Area  Bathrooms  Bedrooms  Lot Size  Age  Fireplace    Price\n",
       "0           1.982        1.0         3      2.00  133          0  14.2212\n",
       "1           1.676        1.5         3      0.38   14          1  13.4865\n",
       "2           1.694        2.0         3      0.96   15          1  11.8007\n",
       "3           1.800        1.0         2      0.48   49          1  13.8297\n",
       "4           2.088        1.0         3      1.84   29          1  12.9470\n",
       "...           ...        ...       ...       ...  ...        ...      ...\n",
       "1042        1.802        2.0         4      0.97   56          1  10.7695\n",
       "1043        3.239        3.5         4      2.50    1          1  23.6737\n",
       "1044        1.440        2.0         2      0.61   66          1  15.4829\n",
       "1045        2.030        2.5         3      1.00    3          1  17.9492\n",
       "1046        2.097        2.5         3      1.93   10          1  18.9108\n",
       "\n",
       "[1047 rows x 7 columns]"
      ]
     },
     "execution_count": 4,
     "metadata": {},
     "output_type": "execute_result"
    }
   ],
   "source": [
    "data=pd.read_csv('houseprice.csv')\n",
    "data"
   ]
  },
  {
   "cell_type": "code",
   "execution_count": 38,
   "id": "dbee6f80",
   "metadata": {
    "scrolled": true
   },
   "outputs": [
    {
     "name": "stdout",
     "output_type": "stream",
     "text": [
      "<class 'pandas.core.frame.DataFrame'>\n",
      "RangeIndex: 1047 entries, 0 to 1046\n",
      "Data columns (total 7 columns):\n",
      " #   Column       Non-Null Count  Dtype  \n",
      "---  ------       --------------  -----  \n",
      " 0   Living Area  1047 non-null   float64\n",
      " 1   Bathrooms    1047 non-null   float64\n",
      " 2   Bedrooms     1047 non-null   int64  \n",
      " 3   Lot Size     1047 non-null   float64\n",
      " 4   Age          1047 non-null   int64  \n",
      " 5   Fireplace    1047 non-null   int64  \n",
      " 6   Price        1047 non-null   float64\n",
      "dtypes: float64(4), int64(3)\n",
      "memory usage: 57.4 KB\n"
     ]
    }
   ],
   "source": [
    "data.info()"
   ]
  },
  {
   "cell_type": "markdown",
   "id": "243ec33b",
   "metadata": {},
   "source": [
    "# Explolatory Data Analysis(EDA)"
   ]
  },
  {
   "cell_type": "code",
   "execution_count": 41,
   "id": "72ae5e6a",
   "metadata": {},
   "outputs": [
    {
     "data": {
      "text/html": [
       "<style type=\"text/css\">\n",
       "#T_0b8bd_row0_col0, #T_0b8bd_row0_col1, #T_0b8bd_row0_col2, #T_0b8bd_row0_col3, #T_0b8bd_row0_col4, #T_0b8bd_row0_col5, #T_0b8bd_row0_col6 {\n",
       "  background-color: #000000;\n",
       "  color: #f1f1f1;\n",
       "}\n",
       "#T_0b8bd_row1_col0, #T_0b8bd_row1_col1, #T_0b8bd_row1_col2, #T_0b8bd_row1_col3, #T_0b8bd_row1_col5, #T_0b8bd_row2_col0, #T_0b8bd_row2_col1, #T_0b8bd_row2_col2, #T_0b8bd_row2_col3, #T_0b8bd_row2_col5, #T_0b8bd_row3_col0, #T_0b8bd_row3_col1, #T_0b8bd_row3_col2, #T_0b8bd_row3_col3, #T_0b8bd_row3_col4, #T_0b8bd_row3_col5, #T_0b8bd_row3_col6, #T_0b8bd_row4_col0, #T_0b8bd_row4_col1, #T_0b8bd_row4_col2, #T_0b8bd_row4_col3, #T_0b8bd_row4_col5, #T_0b8bd_row5_col0, #T_0b8bd_row5_col1, #T_0b8bd_row5_col2, #T_0b8bd_row5_col3, #T_0b8bd_row5_col5, #T_0b8bd_row6_col0, #T_0b8bd_row6_col1, #T_0b8bd_row6_col2, #T_0b8bd_row6_col3, #T_0b8bd_row6_col5, #T_0b8bd_row7_col0, #T_0b8bd_row7_col1, #T_0b8bd_row7_col5 {\n",
       "  background-color: #ffffff;\n",
       "  color: #000000;\n",
       "}\n",
       "#T_0b8bd_row1_col4 {\n",
       "  background-color: #fafae7;\n",
       "  color: #000000;\n",
       "}\n",
       "#T_0b8bd_row1_col6, #T_0b8bd_row5_col6 {\n",
       "  background-color: #fdfdf3;\n",
       "  color: #000000;\n",
       "}\n",
       "#T_0b8bd_row2_col4, #T_0b8bd_row6_col4 {\n",
       "  background-color: #f9f9df;\n",
       "  color: #000000;\n",
       "}\n",
       "#T_0b8bd_row2_col6, #T_0b8bd_row4_col4, #T_0b8bd_row7_col2 {\n",
       "  background-color: #fefefb;\n",
       "  color: #000000;\n",
       "}\n",
       "#T_0b8bd_row4_col6, #T_0b8bd_row7_col3 {\n",
       "  background-color: #fdfdf7;\n",
       "  color: #000000;\n",
       "}\n",
       "#T_0b8bd_row5_col4, #T_0b8bd_row6_col6 {\n",
       "  background-color: #fcfcef;\n",
       "  color: #000000;\n",
       "}\n",
       "#T_0b8bd_row7_col4 {\n",
       "  background-color: #e6c425;\n",
       "  color: #000000;\n",
       "}\n",
       "#T_0b8bd_row7_col6 {\n",
       "  background-color: #f7f7d7;\n",
       "  color: #000000;\n",
       "}\n",
       "</style>\n",
       "<table id=\"T_0b8bd\">\n",
       "  <thead>\n",
       "    <tr>\n",
       "      <th class=\"blank level0\" >&nbsp;</th>\n",
       "      <th id=\"T_0b8bd_level0_col0\" class=\"col_heading level0 col0\" >Living Area</th>\n",
       "      <th id=\"T_0b8bd_level0_col1\" class=\"col_heading level0 col1\" >Bathrooms</th>\n",
       "      <th id=\"T_0b8bd_level0_col2\" class=\"col_heading level0 col2\" >Bedrooms</th>\n",
       "      <th id=\"T_0b8bd_level0_col3\" class=\"col_heading level0 col3\" >Lot Size</th>\n",
       "      <th id=\"T_0b8bd_level0_col4\" class=\"col_heading level0 col4\" >Age</th>\n",
       "      <th id=\"T_0b8bd_level0_col5\" class=\"col_heading level0 col5\" >Fireplace</th>\n",
       "      <th id=\"T_0b8bd_level0_col6\" class=\"col_heading level0 col6\" >Price</th>\n",
       "    </tr>\n",
       "  </thead>\n",
       "  <tbody>\n",
       "    <tr>\n",
       "      <th id=\"T_0b8bd_level0_row0\" class=\"row_heading level0 row0\" >count</th>\n",
       "      <td id=\"T_0b8bd_row0_col0\" class=\"data row0 col0\" >1047.000000</td>\n",
       "      <td id=\"T_0b8bd_row0_col1\" class=\"data row0 col1\" >1047.000000</td>\n",
       "      <td id=\"T_0b8bd_row0_col2\" class=\"data row0 col2\" >1047.000000</td>\n",
       "      <td id=\"T_0b8bd_row0_col3\" class=\"data row0 col3\" >1047.000000</td>\n",
       "      <td id=\"T_0b8bd_row0_col4\" class=\"data row0 col4\" >1047.000000</td>\n",
       "      <td id=\"T_0b8bd_row0_col5\" class=\"data row0 col5\" >1047.000000</td>\n",
       "      <td id=\"T_0b8bd_row0_col6\" class=\"data row0 col6\" >1047.000000</td>\n",
       "    </tr>\n",
       "    <tr>\n",
       "      <th id=\"T_0b8bd_level0_row1\" class=\"row_heading level0 row1\" >mean</th>\n",
       "      <td id=\"T_0b8bd_row1_col0\" class=\"data row1 col0\" >1.807303</td>\n",
       "      <td id=\"T_0b8bd_row1_col1\" class=\"data row1 col1\" >1.918338</td>\n",
       "      <td id=\"T_0b8bd_row1_col2\" class=\"data row1 col2\" >3.183381</td>\n",
       "      <td id=\"T_0b8bd_row1_col3\" class=\"data row1 col3\" >0.569580</td>\n",
       "      <td id=\"T_0b8bd_row1_col4\" class=\"data row1 col4\" >28.061127</td>\n",
       "      <td id=\"T_0b8bd_row1_col5\" class=\"data row1 col5\" >0.593123</td>\n",
       "      <td id=\"T_0b8bd_row1_col6\" class=\"data row1 col6\" >16.386213</td>\n",
       "    </tr>\n",
       "    <tr>\n",
       "      <th id=\"T_0b8bd_level0_row2\" class=\"row_heading level0 row2\" >std</th>\n",
       "      <td id=\"T_0b8bd_row2_col0\" class=\"data row2 col0\" >0.641461</td>\n",
       "      <td id=\"T_0b8bd_row2_col1\" class=\"data row2 col1\" >0.641735</td>\n",
       "      <td id=\"T_0b8bd_row2_col2\" class=\"data row2 col2\" >0.750265</td>\n",
       "      <td id=\"T_0b8bd_row2_col3\" class=\"data row2 col3\" >0.777879</td>\n",
       "      <td id=\"T_0b8bd_row2_col4\" class=\"data row2 col4\" >34.900899</td>\n",
       "      <td id=\"T_0b8bd_row2_col5\" class=\"data row2 col5\" >0.491486</td>\n",
       "      <td id=\"T_0b8bd_row2_col6\" class=\"data row2 col6\" >6.765156</td>\n",
       "    </tr>\n",
       "    <tr>\n",
       "      <th id=\"T_0b8bd_level0_row3\" class=\"row_heading level0 row3\" >min</th>\n",
       "      <td id=\"T_0b8bd_row3_col0\" class=\"data row3 col0\" >0.672000</td>\n",
       "      <td id=\"T_0b8bd_row3_col1\" class=\"data row3 col1\" >1.000000</td>\n",
       "      <td id=\"T_0b8bd_row3_col2\" class=\"data row3 col2\" >1.000000</td>\n",
       "      <td id=\"T_0b8bd_row3_col3\" class=\"data row3 col3\" >0.000000</td>\n",
       "      <td id=\"T_0b8bd_row3_col4\" class=\"data row3 col4\" >0.000000</td>\n",
       "      <td id=\"T_0b8bd_row3_col5\" class=\"data row3 col5\" >0.000000</td>\n",
       "      <td id=\"T_0b8bd_row3_col6\" class=\"data row3 col6\" >1.685800</td>\n",
       "    </tr>\n",
       "    <tr>\n",
       "      <th id=\"T_0b8bd_level0_row4\" class=\"row_heading level0 row4\" >25%</th>\n",
       "      <td id=\"T_0b8bd_row4_col0\" class=\"data row4 col0\" >1.336000</td>\n",
       "      <td id=\"T_0b8bd_row4_col1\" class=\"data row4 col1\" >1.500000</td>\n",
       "      <td id=\"T_0b8bd_row4_col2\" class=\"data row4 col2\" >3.000000</td>\n",
       "      <td id=\"T_0b8bd_row4_col3\" class=\"data row4 col3\" >0.210000</td>\n",
       "      <td id=\"T_0b8bd_row4_col4\" class=\"data row4 col4\" >6.000000</td>\n",
       "      <td id=\"T_0b8bd_row4_col5\" class=\"data row4 col5\" >0.000000</td>\n",
       "      <td id=\"T_0b8bd_row4_col6\" class=\"data row4 col6\" >11.201400</td>\n",
       "    </tr>\n",
       "    <tr>\n",
       "      <th id=\"T_0b8bd_level0_row5\" class=\"row_heading level0 row5\" >50%</th>\n",
       "      <td id=\"T_0b8bd_row5_col0\" class=\"data row5 col0\" >1.672000</td>\n",
       "      <td id=\"T_0b8bd_row5_col1\" class=\"data row5 col1\" >2.000000</td>\n",
       "      <td id=\"T_0b8bd_row5_col2\" class=\"data row5 col2\" >3.000000</td>\n",
       "      <td id=\"T_0b8bd_row5_col3\" class=\"data row5 col3\" >0.390000</td>\n",
       "      <td id=\"T_0b8bd_row5_col4\" class=\"data row5 col4\" >18.000000</td>\n",
       "      <td id=\"T_0b8bd_row5_col5\" class=\"data row5 col5\" >1.000000</td>\n",
       "      <td id=\"T_0b8bd_row5_col6\" class=\"data row5 col6\" >15.191700</td>\n",
       "    </tr>\n",
       "    <tr>\n",
       "      <th id=\"T_0b8bd_level0_row6\" class=\"row_heading level0 row6\" >75%</th>\n",
       "      <td id=\"T_0b8bd_row6_col0\" class=\"data row6 col0\" >2.206000</td>\n",
       "      <td id=\"T_0b8bd_row6_col1\" class=\"data row6 col1\" >2.500000</td>\n",
       "      <td id=\"T_0b8bd_row6_col2\" class=\"data row6 col2\" >4.000000</td>\n",
       "      <td id=\"T_0b8bd_row6_col3\" class=\"data row6 col3\" >0.600000</td>\n",
       "      <td id=\"T_0b8bd_row6_col4\" class=\"data row6 col4\" >34.000000</td>\n",
       "      <td id=\"T_0b8bd_row6_col5\" class=\"data row6 col5\" >1.000000</td>\n",
       "      <td id=\"T_0b8bd_row6_col6\" class=\"data row6 col6\" >20.523500</td>\n",
       "    </tr>\n",
       "    <tr>\n",
       "      <th id=\"T_0b8bd_level0_row7\" class=\"row_heading level0 row7\" >max</th>\n",
       "      <td id=\"T_0b8bd_row7_col0\" class=\"data row7 col0\" >4.534000</td>\n",
       "      <td id=\"T_0b8bd_row7_col1\" class=\"data row7 col1\" >4.500000</td>\n",
       "      <td id=\"T_0b8bd_row7_col2\" class=\"data row7 col2\" >6.000000</td>\n",
       "      <td id=\"T_0b8bd_row7_col3\" class=\"data row7 col3\" >9.000000</td>\n",
       "      <td id=\"T_0b8bd_row7_col4\" class=\"data row7 col4\" >247.000000</td>\n",
       "      <td id=\"T_0b8bd_row7_col5\" class=\"data row7 col5\" >1.000000</td>\n",
       "      <td id=\"T_0b8bd_row7_col6\" class=\"data row7 col6\" >44.643600</td>\n",
       "    </tr>\n",
       "  </tbody>\n",
       "</table>\n"
      ],
      "text/plain": [
       "<pandas.io.formats.style.Styler at 0x1ed8d078fd0>"
      ]
     },
     "execution_count": 41,
     "metadata": {},
     "output_type": "execute_result"
    }
   ],
   "source": [
    "data.describe().style.background_gradient('CMRmap_r')"
   ]
  },
  {
   "cell_type": "code",
   "execution_count": 42,
   "id": "8ba1ecbf",
   "metadata": {},
   "outputs": [
    {
     "data": {
      "text/html": [
       "<div>\n",
       "<style scoped>\n",
       "    .dataframe tbody tr th:only-of-type {\n",
       "        vertical-align: middle;\n",
       "    }\n",
       "\n",
       "    .dataframe tbody tr th {\n",
       "        vertical-align: top;\n",
       "    }\n",
       "\n",
       "    .dataframe thead th {\n",
       "        text-align: right;\n",
       "    }\n",
       "</style>\n",
       "<table border=\"1\" class=\"dataframe\">\n",
       "  <thead>\n",
       "    <tr style=\"text-align: right;\">\n",
       "      <th></th>\n",
       "      <th>Living Area</th>\n",
       "      <th>Bathrooms</th>\n",
       "      <th>Bedrooms</th>\n",
       "      <th>Lot Size</th>\n",
       "      <th>Age</th>\n",
       "      <th>Fireplace</th>\n",
       "      <th>Price</th>\n",
       "    </tr>\n",
       "  </thead>\n",
       "  <tbody>\n",
       "    <tr>\n",
       "      <th>Living Area</th>\n",
       "      <td>1.000000</td>\n",
       "      <td>0.722649</td>\n",
       "      <td>0.664347</td>\n",
       "      <td>0.200180</td>\n",
       "      <td>-0.263168</td>\n",
       "      <td>0.481436</td>\n",
       "      <td>0.776396</td>\n",
       "    </tr>\n",
       "    <tr>\n",
       "      <th>Bathrooms</th>\n",
       "      <td>0.722649</td>\n",
       "      <td>1.000000</td>\n",
       "      <td>0.491798</td>\n",
       "      <td>0.100993</td>\n",
       "      <td>-0.443830</td>\n",
       "      <td>0.444700</td>\n",
       "      <td>0.670189</td>\n",
       "    </tr>\n",
       "    <tr>\n",
       "      <th>Bedrooms</th>\n",
       "      <td>0.664347</td>\n",
       "      <td>0.491798</td>\n",
       "      <td>1.000000</td>\n",
       "      <td>0.140682</td>\n",
       "      <td>-0.060598</td>\n",
       "      <td>0.295873</td>\n",
       "      <td>0.471074</td>\n",
       "    </tr>\n",
       "    <tr>\n",
       "      <th>Lot Size</th>\n",
       "      <td>0.200180</td>\n",
       "      <td>0.100993</td>\n",
       "      <td>0.140682</td>\n",
       "      <td>1.000000</td>\n",
       "      <td>0.015135</td>\n",
       "      <td>0.052765</td>\n",
       "      <td>0.155284</td>\n",
       "    </tr>\n",
       "    <tr>\n",
       "      <th>Age</th>\n",
       "      <td>-0.263168</td>\n",
       "      <td>-0.443830</td>\n",
       "      <td>-0.060598</td>\n",
       "      <td>0.015135</td>\n",
       "      <td>1.000000</td>\n",
       "      <td>-0.248794</td>\n",
       "      <td>-0.363354</td>\n",
       "    </tr>\n",
       "    <tr>\n",
       "      <th>Fireplace</th>\n",
       "      <td>0.481436</td>\n",
       "      <td>0.444700</td>\n",
       "      <td>0.295873</td>\n",
       "      <td>0.052765</td>\n",
       "      <td>-0.248794</td>\n",
       "      <td>1.000000</td>\n",
       "      <td>0.460237</td>\n",
       "    </tr>\n",
       "    <tr>\n",
       "      <th>Price</th>\n",
       "      <td>0.776396</td>\n",
       "      <td>0.670189</td>\n",
       "      <td>0.471074</td>\n",
       "      <td>0.155284</td>\n",
       "      <td>-0.363354</td>\n",
       "      <td>0.460237</td>\n",
       "      <td>1.000000</td>\n",
       "    </tr>\n",
       "  </tbody>\n",
       "</table>\n",
       "</div>"
      ],
      "text/plain": [
       "             Living Area  Bathrooms  Bedrooms  Lot Size       Age  Fireplace  \\\n",
       "Living Area     1.000000   0.722649  0.664347  0.200180 -0.263168   0.481436   \n",
       "Bathrooms       0.722649   1.000000  0.491798  0.100993 -0.443830   0.444700   \n",
       "Bedrooms        0.664347   0.491798  1.000000  0.140682 -0.060598   0.295873   \n",
       "Lot Size        0.200180   0.100993  0.140682  1.000000  0.015135   0.052765   \n",
       "Age            -0.263168  -0.443830 -0.060598  0.015135  1.000000  -0.248794   \n",
       "Fireplace       0.481436   0.444700  0.295873  0.052765 -0.248794   1.000000   \n",
       "Price           0.776396   0.670189  0.471074  0.155284 -0.363354   0.460237   \n",
       "\n",
       "                Price  \n",
       "Living Area  0.776396  \n",
       "Bathrooms    0.670189  \n",
       "Bedrooms     0.471074  \n",
       "Lot Size     0.155284  \n",
       "Age         -0.363354  \n",
       "Fireplace    0.460237  \n",
       "Price        1.000000  "
      ]
     },
     "execution_count": 42,
     "metadata": {},
     "output_type": "execute_result"
    }
   ],
   "source": [
    "data.corr()"
   ]
  },
  {
   "cell_type": "code",
   "execution_count": 47,
   "id": "0aa9c0f5",
   "metadata": {},
   "outputs": [
    {
     "data": {
      "text/plain": [
       "<Axes: >"
      ]
     },
     "execution_count": 47,
     "metadata": {},
     "output_type": "execute_result"
    },
    {
     "data": {
      "image/png": "[encoded data removed]",
      "text/plain": [
       "<Figure size 640x480 with 2 Axes>"
      ]
     },
     "metadata": {},
     "output_type": "display_data"
    }
   ],
   "source": [
    "import seaborn as sns \n",
    "sns.heatmap(data.corr())"
   ]
  },
  {
   "cell_type": "code",
   "execution_count": 63,
   "id": "f6f0a690",
   "metadata": {},
   "outputs": [
    {
     "data": {
      "application/vnd.plotly.v1+json": {
       "config": {
        "plotlyServerURL": "https://plot.ly"
       },
       "data": [
        {
         "alignmentgroup": "True",
         "bingroup": "x",
         "hovertemplate": "variable=Living Area<br>value=%{x}<br>count=%{y}<extra></extra>",
         "legendgroup": "Living Area",
         "marker": {
          "color": "#636efa",
          "pattern": {
           "shape": ""
          }
         },
         "name": "Living Area",
         "offsetgroup": "Living Area",
         "orientation": "v",
         "showlegend": true,
         "type": "histogram",
         "x": [
          1.982,
          1.676,
          1.694,
          1.8,
          2.088,
          1.456,
          0.96,
          1.464,
          1.216,
          1.632,
          2.27,
          1.804,
          1.6,
          1.46,
          1.548,
          1.59,
          1.17,
          1.51,
          2.299,
          2.577,
          2.328,
          1.172,
          1.554,
          1.242,
          1.376,
          1.107,
          2.25,
          2.472,
          2.843,
          1.4,
          1.342,
          0.813,
          1.48,
          1.392,
          1.512,
          1.512,
          1.696,
          1.595,
          1.48,
          2.291,
          1.391,
          2.501,
          1.662,
          0.957,
          1.48,
          2.275,
          1.44,
          1.008,
          1.48,
          2.116,
          1.1,
          0.96,
          1.228,
          1.56,
          2.164,
          2.634,
          1,
          0.912,
          1.572,
          1.7,
          1.35,
          1.416,
          1.56,
          1.572,
          1.326,
          1.989,
          1.158,
          1.272,
          1.852,
          2.308,
          1.7,
          1.628,
          2.738,
          1.292,
          1.056,
          1.328,
          1.272,
          1.944,
          1.232,
          1.164,
          1.215,
          1.486,
          1.272,
          1.064,
          1.547,
          1.148,
          1.821,
          1.056,
          0.995,
          1.176,
          0.912,
          1.5,
          1.852,
          1.214,
          1.38,
          1.324,
          1.218,
          1.629,
          1.053,
          1.308,
          1.344,
          1.608,
          3.285,
          1.582,
          1.642,
          1.248,
          1.411,
          1.593,
          1.666,
          1.471,
          1.876,
          1.486,
          1.747,
          1.512,
          2.527,
          1.666,
          1.456,
          3.015,
          0.967,
          1.72,
          3.515,
          2.815,
          0.72,
          3.001,
          1.822,
          1.666,
          1.343,
          1.144,
          1.214,
          1.888,
          1.668,
          1.486,
          2.278,
          1.36,
          3.504,
          1.921,
          3.726,
          0.912,
          2.079,
          1.184,
          0.908,
          1.492,
          2.011,
          0.912,
          2.195,
          1.561,
          2.656,
          2.425,
          0.908,
          1.158,
          1.334,
          1.561,
          1.68,
          1.514,
          1.656,
          1.184,
          2.648,
          1.092,
          1.88,
          1.592,
          2.516,
          2.31,
          3.076,
          0.908,
          0.912,
          1.68,
          3.355,
          1.886,
          1.605,
          1.772,
          2.044,
          1.124,
          3.192,
          1.498,
          1.092,
          0.896,
          1.572,
          0.986,
          2.087,
          1.596,
          0.908,
          1.5,
          1.719,
          2.81,
          1.806,
          3.355,
          1.76,
          1.896,
          1.498,
          1.248,
          2.32,
          1.132,
          2.359,
          3.476,
          1.693,
          1.585,
          1.758,
          2.524,
          1.908,
          1.476,
          2.266,
          1.92,
          1.73,
          1.726,
          1.644,
          1.908,
          2.475,
          3.02,
          2.31,
          2.119,
          2.056,
          2.5,
          2.576,
          2.541,
          2.445,
          2.185,
          3.981,
          2.577,
          1.728,
          1.837,
          2.5,
          1.91,
          2.958,
          2.564,
          2.604,
          2.906,
          1.48,
          2.648,
          1.872,
          1.911,
          1.302,
          1.664,
          2.512,
          2.38,
          1.887,
          2.086,
          1.554,
          3.358,
          2.394,
          2.066,
          3.111,
          2.402,
          2.327,
          2.541,
          1.894,
          1.74,
          1.48,
          1.752,
          1.375,
          1.918,
          2.793,
          2.619,
          1.744,
          3.72,
          2,
          1.142,
          2.612,
          2.008,
          2.035,
          1.375,
          0.822,
          3.597,
          1.536,
          1.91,
          3.017,
          1.971,
          1.314,
          1.944,
          1.375,
          1.14,
          1.48,
          2.11,
          0.972,
          0.96,
          2.262,
          0.864,
          2.15,
          1.17,
          1.596,
          1.53,
          1.38,
          1.708,
          1.308,
          1.416,
          1.9,
          1.704,
          1.372,
          1.48,
          3.003,
          1.298,
          1.772,
          1.536,
          1.4,
          1.58,
          1.656,
          1.235,
          1.628,
          1.144,
          1.3,
          1.56,
          2.172,
          3.319,
          1.21,
          1.768,
          1.164,
          1.832,
          1.276,
          2.092,
          2.116,
          1.248,
          2.128,
          1.056,
          2.068,
          3.069,
          2.334,
          1.551,
          1.456,
          0.775,
          1.756,
          1.296,
          1.404,
          1.632,
          1.564,
          1.501,
          1.586,
          1.412,
          2.223,
          1.37,
          3.03,
          2.103,
          1.56,
          1.512,
          3.133,
          2.316,
          1.198,
          1.292,
          0.957,
          1.216,
          2.256,
          2.043,
          1.512,
          1.57,
          1.616,
          1.404,
          1.552,
          1.472,
          2.367,
          1.475,
          1.632,
          1.964,
          2.064,
          1.601,
          2.284,
          1.672,
          2.495,
          1.176,
          1.498,
          1.272,
          1.138,
          2.186,
          1.743,
          2.488,
          0.936,
          2.592,
          1.327,
          0.864,
          1.216,
          3.467,
          1.48,
          0.892,
          2.786,
          1.568,
          0.847,
          2.242,
          1.374,
          1.92,
          2.124,
          1.48,
          2.022,
          1.098,
          1.224,
          2.55,
          1.279,
          1.177,
          1.859,
          2.219,
          2.579,
          1.568,
          0.912,
          1.209,
          2.242,
          2.27,
          3.457,
          1.738,
          1.334,
          2.322,
          1.87,
          1.888,
          1.368,
          1.2,
          1.368,
          2.23,
          1.8,
          1.043,
          1.2,
          2.346,
          0.792,
          2.3,
          2.28,
          1.652,
          2.238,
          1.016,
          1.97,
          1.68,
          1.386,
          1.55,
          2.058,
          1.126,
          1.85,
          1.673,
          2.208,
          1.116,
          1.47,
          3.356,
          1.016,
          1.612,
          1.908,
          1.064,
          2.078,
          2.47,
          2.058,
          1.4,
          1.664,
          1.488,
          1.12,
          0.672,
          1.164,
          1.032,
          1.736,
          1.061,
          1.298,
          1.164,
          0.924,
          0.96,
          1.594,
          2.008,
          1.268,
          1.48,
          1.034,
          1.48,
          1.35,
          1.248,
          2.294,
          1.492,
          1.336,
          2.31,
          1.542,
          1.984,
          1.48,
          1.856,
          1.688,
          1.248,
          2.405,
          1.392,
          1.394,
          1.94,
          2.068,
          1.664,
          1.32,
          1.281,
          1.397,
          1.62,
          1.344,
          3.361,
          2.04,
          1.219,
          1.253,
          1.876,
          3.296,
          1.496,
          2.2,
          3.308,
          3.328,
          1.824,
          2.147,
          2.093,
          1.336,
          2.934,
          1.152,
          1.348,
          2.376,
          2.926,
          2.249,
          2.919,
          3.423,
          1.536,
          2.216,
          2.572,
          2.412,
          1.281,
          1.623,
          2.619,
          1.364,
          1.62,
          1.785,
          1.796,
          1.184,
          1.785,
          2.655,
          3.2,
          2.011,
          3.329,
          1.24,
          1.184,
          1.385,
          1.732,
          0.728,
          1.508,
          1.466,
          0.69,
          0.911,
          1.656,
          1.782,
          0.912,
          1.508,
          1.266,
          0.912,
          1.506,
          1.928,
          1.536,
          1.811,
          1.948,
          0.864,
          1.76,
          1.872,
          2.25,
          0.924,
          1.406,
          3.535,
          1.561,
          0.988,
          1.785,
          2.655,
          2.372,
          2.504,
          1.184,
          1.527,
          1.764,
          1.184,
          1.168,
          0.912,
          0.912,
          1.492,
          1.508,
          1.27,
          2.31,
          1.688,
          2.548,
          1.385,
          3.271,
          1.921,
          1.56,
          1.84,
          1.704,
          1.971,
          3.106,
          0.924,
          1.216,
          1.635,
          1.892,
          2.95,
          2.539,
          1.375,
          1.302,
          0.937,
          3.376,
          2.328,
          1.994,
          2.623,
          2.602,
          1.48,
          0.924,
          3.236,
          1.973,
          1.422,
          1.352,
          2.772,
          1.62,
          2.5,
          1.702,
          2.748,
          2.31,
          1.74,
          2.5,
          1.832,
          2.657,
          0.976,
          1.612,
          1.456,
          1.992,
          2.348,
          2.676,
          2.304,
          3.44,
          2.593,
          2.162,
          1.578,
          2.088,
          0.924,
          1.734,
          1.792,
          2.96,
          2.993,
          2.027,
          2.421,
          1.758,
          2.702,
          2.6,
          2.572,
          2.498,
          2.396,
          2.641,
          3.123,
          2.028,
          1.873,
          2.608,
          0.929,
          0.924,
          1.227,
          2.294,
          0.976,
          2.762,
          2.618,
          2.024,
          1.864,
          1.78,
          1.734,
          2.014,
          1.314,
          2.262,
          1.927,
          2.708,
          1.91,
          1.48,
          1.875,
          1.665,
          2.17,
          1.822,
          1.784,
          1.348,
          1.48,
          1.052,
          1.836,
          1.728,
          2.214,
          2.733,
          2.931,
          2.9,
          2.254,
          2.056,
          1.212,
          2.564,
          2.176,
          3.496,
          1.332,
          1.244,
          1.29,
          1.989,
          1.212,
          2.119,
          1.808,
          1.716,
          1.872,
          1.548,
          1.536,
          1.38,
          1.08,
          1.8,
          1.754,
          1.17,
          2.088,
          1.89,
          1.742,
          1.544,
          1.463,
          0.84,
          0.988,
          1.68,
          1.804,
          1.498,
          1.656,
          1.72,
          1.82,
          2.076,
          1.82,
          1.468,
          1.637,
          2.526,
          1.322,
          1.736,
          1.836,
          1.643,
          1.842,
          2.167,
          1.475,
          3.026,
          1.092,
          2.311,
          1.256,
          1.04,
          1.12,
          1.664,
          2.268,
          1.302,
          1.239,
          1.272,
          1.666,
          0.984,
          1.322,
          1.008,
          1.092,
          2.576,
          3.25,
          1.445,
          1.932,
          1.43,
          1.474,
          1.908,
          2.329,
          0.936,
          1.92,
          1.675,
          1.6,
          1.428,
          1.536,
          1.924,
          1.576,
          1.288,
          0.84,
          1.11,
          0.784,
          1.98,
          1.29,
          2,
          2.49,
          0.952,
          1.56,
          2.932,
          2.31,
          1.792,
          1.25,
          1.5,
          0.864,
          1.392,
          0.812,
          1.76,
          0.898,
          1.096,
          1.2,
          2.016,
          1.31,
          0.96,
          1.056,
          1.512,
          1.89,
          1.812,
          1.952,
          1.856,
          0.924,
          2.346,
          1.274,
          1.42,
          2.296,
          2.026,
          0.99,
          1.711,
          3.944,
          1.344,
          0.878,
          2.248,
          2.107,
          1.364,
          1.27,
          2.12,
          1.668,
          2.11,
          1.242,
          1.04,
          2.084,
          1.36,
          2.024,
          1.019,
          3.028,
          1.242,
          1.528,
          2.988,
          1.428,
          1.144,
          1.666,
          4.534,
          2.202,
          1.184,
          2.601,
          2.51,
          3.056,
          1.592,
          1.24,
          1.673,
          1.852,
          1.184,
          2.641,
          1.184,
          1.952,
          2.038,
          1.276,
          0.908,
          2.434,
          0.912,
          2.494,
          2.96,
          1.294,
          2.152,
          0.988,
          2.712,
          2.203,
          3.001,
          2.31,
          2.04,
          3.144,
          1.806,
          1.54,
          2.011,
          3.344,
          2.714,
          1.518,
          1.836,
          2.066,
          1.423,
          1.512,
          2.144,
          1.61,
          1.196,
          1.376,
          1.834,
          1.72,
          1.295,
          0.8,
          1.868,
          1.946,
          1.142,
          1.202,
          1.3,
          1.508,
          2.271,
          1.592,
          0.912,
          1.673,
          2.31,
          0.912,
          2.641,
          1.708,
          0.988,
          2.058,
          2.31,
          2.434,
          1.612,
          3.081,
          1.227,
          2.762,
          3.982,
          2.212,
          1.173,
          2.604,
          1.54,
          2.472,
          1.184,
          2.12,
          2.472,
          1.592,
          1.404,
          3.344,
          1.69,
          1.512,
          1.82,
          1.476,
          1.652,
          2.331,
          0.96,
          1.54,
          1.668,
          0.912,
          0.743,
          3.021,
          1.274,
          0.792,
          0.96,
          1.6,
          1.15,
          1.456,
          2.464,
          1.326,
          2.808,
          1.479,
          2.498,
          1.064,
          1.792,
          3.121,
          1.032,
          2.668,
          2.996,
          1.815,
          1.281,
          2.204,
          2.096,
          2.57,
          2.936,
          3.21,
          3.02,
          2.086,
          1.98,
          1.26,
          1.938,
          2.284,
          1.804,
          1.375,
          2.226,
          1.48,
          1.228,
          1.886,
          1.479,
          3.44,
          2.588,
          2.88,
          2.133,
          1.056,
          1.314,
          2.741,
          1.326,
          1.38,
          1.48,
          2.05,
          2.338,
          1.91,
          1.652,
          3.542,
          0.929,
          1.831,
          1.468,
          2.039,
          1.794,
          1.666,
          2.388,
          2.505,
          2.284,
          1.879,
          1.664,
          3.82,
          2.809,
          2.066,
          1.664,
          2.35,
          2.116,
          1.48,
          1.524,
          1.034,
          1.48,
          0.88,
          1.512,
          0.912,
          1.611,
          1.47,
          2.748,
          1.512,
          1.512,
          2.039,
          1.48,
          2.872,
          1.244,
          1.355,
          1.564,
          1.022,
          1.48,
          1.904,
          1.592,
          1.332,
          0.96,
          2.143,
          1.514,
          1.986,
          2.286,
          2.752,
          1.656,
          3.37,
          1.932,
          1.184,
          2.712,
          2.5,
          0.912,
          2.604,
          1.836,
          0.882,
          2.002,
          0.912,
          1.508,
          0.882,
          2.396,
          2.46,
          2.322,
          1.48,
          2.306,
          2.756,
          1.664,
          3.125,
          2.835,
          2.464,
          2.628,
          1.099,
          1.225,
          2.764,
          0.84,
          1.363,
          1.472,
          1.836,
          1.774,
          1.59,
          2.109,
          1.47,
          2.314,
          1.04,
          1.308,
          1.954,
          2.498,
          1.874,
          2.892,
          2.4,
          1.572,
          1.678,
          1.388,
          1.512,
          1.653,
          1.758,
          2.31,
          1.802,
          3.239,
          1.44,
          2.03,
          2.097
         ],
         "xaxis": "x",
         "yaxis": "y"
        }
       ],
       "layout": {
        "barmode": "relative",
        "legend": {
         "title": {
          "text": "variable"
         },
         "tracegroupgap": 0
        },
        "margin": {
         "t": 60
        },
        "template": {
         "data": {
          "bar": [
           {
            "error_x": {
             "color": "#2a3f5f"
            },
            "error_y": {
             "color": "#2a3f5f"
            },
            "marker": {
             "line": {
              "color": "#E5ECF6",
              "width": 0.5
             },
             "pattern": {
              "fillmode": "overlay",
              "size": 10,
              "solidity": 0.2
             }
            },
            "type": "bar"
           }
          ],
          "barpolar": [
           {
            "marker": {
             "line": {
              "color": "#E5ECF6",
              "width": 0.5
             },
             "pattern": {
              "fillmode": "overlay",
              "size": 10,
              "solidity": 0.2
             }
            },
            "type": "barpolar"
           }
          ],
          "carpet": [
           {
            "aaxis": {
             "endlinecolor": "#2a3f5f",
             "gridcolor": "white",
             "linecolor": "white",
             "minorgridcolor": "white",
             "startlinecolor": "#2a3f5f"
            },
            "baxis": {
             "endlinecolor": "#2a3f5f",
             "gridcolor": "white",
             "linecolor": "white",
             "minorgridcolor": "white",
             "startlinecolor": "#2a3f5f"
            },
            "type": "carpet"
           }
          ],
          "choropleth": [
           {
            "colorbar": {
             "outlinewidth": 0,
             "ticks": ""
            },
            "type": "choropleth"
           }
          ],
          "contour": [
           {
            "colorbar": {
             "outlinewidth": 0,
             "ticks": ""
            },
            "colorscale": [
             [
              0,
              "#0d0887"
             ],
             [
              0.1111111111111111,
              "#46039f"
             ],
             [
              0.2222222222222222,
              "#7201a8"
             ],
             [
              0.3333333333333333,
              "#9c179e"
             ],
             [
              0.4444444444444444,
              "#bd3786"
             ],
             [
              0.5555555555555556,
              "#d8576b"
             ],
             [
              0.6666666666666666,
              "#ed7953"
             ],
             [
              0.7777777777777778,
              "#fb9f3a"
             ],
             [
              0.8888888888888888,
              "#fdca26"
             ],
             [
              1,
              "#f0f921"
             ]
            ],
            "type": "contour"
           }
          ],
          "contourcarpet": [
           {
            "colorbar": {
             "outlinewidth": 0,
             "ticks": ""
            },
            "type": "contourcarpet"
           }
          ],
          "heatmap": [
           {
            "colorbar": {
             "outlinewidth": 0,
             "ticks": ""
            },
            "colorscale": [
             [
              0,
              "#0d0887"
             ],
             [
              0.1111111111111111,
              "#46039f"
             ],
             [
              0.2222222222222222,
              "#7201a8"
             ],
             [
              0.3333333333333333,
              "#9c179e"
             ],
             [
              0.4444444444444444,
              "#bd3786"
             ],
             [
              0.5555555555555556,
              "#d8576b"
             ],
             [
              0.6666666666666666,
              "#ed7953"
             ],
             [
              0.7777777777777778,
              "#fb9f3a"
             ],
             [
              0.8888888888888888,
              "#fdca26"
             ],
             [
              1,
              "#f0f921"
             ]
            ],
            "type": "heatmap"
           }
          ],
          "heatmapgl": [
           {
            "colorbar": {
             "outlinewidth": 0,
             "ticks": ""
            },
            "colorscale": [
             [
              0,
              "#0d0887"
             ],
             [
              0.1111111111111111,
              "#46039f"
             ],
             [
              0.2222222222222222,
              "#7201a8"
             ],
             [
              0.3333333333333333,
              "#9c179e"
             ],
             [
              0.4444444444444444,
              "#bd3786"
             ],
             [
              0.5555555555555556,
              "#d8576b"
             ],
             [
              0.6666666666666666,
              "#ed7953"
             ],
             [
              0.7777777777777778,
              "#fb9f3a"
             ],
             [
              0.8888888888888888,
              "#fdca26"
             ],
             [
              1,
              "#f0f921"
             ]
            ],
            "type": "heatmapgl"
           }
          ],
          "histogram": [
           {
            "marker": {
             "pattern": {
              "fillmode": "overlay",
              "size": 10,
              "solidity": 0.2
             }
            },
            "type": "histogram"
           }
          ],
          "histogram2d": [
           {
            "colorbar": {
             "outlinewidth": 0,
             "ticks": ""
            },
            "colorscale": [
             [
              0,
              "#0d0887"
             ],
             [
              0.1111111111111111,
              "#46039f"
             ],
             [
              0.2222222222222222,
              "#7201a8"
             ],
             [
              0.3333333333333333,
              "#9c179e"
             ],
             [
              0.4444444444444444,
              "#bd3786"
             ],
             [
              0.5555555555555556,
              "#d8576b"
             ],
             [
              0.6666666666666666,
              "#ed7953"
             ],
             [
              0.7777777777777778,
              "#fb9f3a"
             ],
             [
              0.8888888888888888,
              "#fdca26"
             ],
             [
              1,
              "#f0f921"
             ]
            ],
            "type": "histogram2d"
           }
          ],
          "histogram2dcontour": [
           {
            "colorbar": {
             "outlinewidth": 0,
             "ticks": ""
            },
            "colorscale": [
             [
              0,
              "#0d0887"
             ],
             [
              0.1111111111111111,
              "#46039f"
             ],
             [
              0.2222222222222222,
              "#7201a8"
             ],
             [
              0.3333333333333333,
              "#9c179e"
             ],
             [
              0.4444444444444444,
              "#bd3786"
             ],
             [
              0.5555555555555556,
              "#d8576b"
             ],
             [
              0.6666666666666666,
              "#ed7953"
             ],
             [
              0.7777777777777778,
              "#fb9f3a"
             ],
             [
              0.8888888888888888,
              "#fdca26"
             ],
             [
              1,
              "#f0f921"
             ]
            ],
            "type": "histogram2dcontour"
           }
          ],
          "mesh3d": [
           {
            "colorbar": {
             "outlinewidth": 0,
             "ticks": ""
            },
            "type": "mesh3d"
           }
          ],
          "parcoords": [
           {
            "line": {
             "colorbar": {
              "outlinewidth": 0,
              "ticks": ""
             }
            },
            "type": "parcoords"
           }
          ],
          "pie": [
           {
            "automargin": true,
            "type": "pie"
           }
          ],
          "scatter": [
           {
            "fillpattern": {
             "fillmode": "overlay",
             "size": 10,
             "solidity": 0.2
            },
            "type": "scatter"
           }
          ],
          "scatter3d": [
           {
            "line": {
             "colorbar": {
              "outlinewidth": 0,
              "ticks": ""
             }
            },
            "marker": {
             "colorbar": {
              "outlinewidth": 0,
              "ticks": ""
             }
            },
            "type": "scatter3d"
           }
          ],
          "scattercarpet": [
           {
            "marker": {
             "colorbar": {
              "outlinewidth": 0,
              "ticks": ""
             }
            },
            "type": "scattercarpet"
           }
          ],
          "scattergeo": [
           {
            "marker": {
             "colorbar": {
              "outlinewidth": 0,
              "ticks": ""
             }
            },
            "type": "scattergeo"
           }
          ],
          "scattergl": [
           {
            "marker": {
             "colorbar": {
              "outlinewidth": 0,
              "ticks": ""
             }
            },
            "type": "scattergl"
           }
          ],
          "scattermapbox": [
           {
            "marker": {
             "colorbar": {
              "outlinewidth": 0,
              "ticks": ""
             }
            },
            "type": "scattermapbox"
           }
          ],
          "scatterpolar": [
           {
            "marker": {
             "colorbar": {
              "outlinewidth": 0,
              "ticks": ""
             }
            },
            "type": "scatterpolar"
           }
          ],
          "scatterpolargl": [
           {
            "marker": {
             "colorbar": {
              "outlinewidth": 0,
              "ticks": ""
             }
            },
            "type": "scatterpolargl"
           }
          ],
          "scatterternary": [
           {
            "marker": {
             "colorbar": {
              "outlinewidth": 0,
              "ticks": ""
             }
            },
            "type": "scatterternary"
           }
          ],
          "surface": [
           {
            "colorbar": {
             "outlinewidth": 0,
             "ticks": ""
            },
            "colorscale": [
             [
              0,
              "#0d0887"
             ],
             [
              0.1111111111111111,
              "#46039f"
             ],
             [
              0.2222222222222222,
              "#7201a8"
             ],
             [
              0.3333333333333333,
              "#9c179e"
             ],
             [
              0.4444444444444444,
              "#bd3786"
             ],
             [
              0.5555555555555556,
              "#d8576b"
             ],
             [
              0.6666666666666666,
              "#ed7953"
             ],
             [
              0.7777777777777778,
              "#fb9f3a"
             ],
             [
              0.8888888888888888,
              "#fdca26"
             ],
             [
              1,
              "#f0f921"
             ]
            ],
            "type": "surface"
           }
          ],
          "table": [
           {
            "cells": {
             "fill": {
              "color": "#EBF0F8"
             },
             "line": {
              "color": "white"
             }
            },
            "header": {
             "fill": {
              "color": "#C8D4E3"
             },
             "line": {
              "color": "white"
             }
            },
            "type": "table"
           }
          ]
         },
         "layout": {
          "annotationdefaults": {
           "arrowcolor": "#2a3f5f",
           "arrowhead": 0,
           "arrowwidth": 1
          },
          "autotypenumbers": "strict",
          "coloraxis": {
           "colorbar": {
            "outlinewidth": 0,
            "ticks": ""
           }
          },
          "colorscale": {
           "diverging": [
            [
             0,
             "#8e0152"
            ],
            [
             0.1,
             "#c51b7d"
            ],
            [
             0.2,
             "#de77ae"
            ],
            [
             0.3,
             "#f1b6da"
            ],
            [
             0.4,
             "#fde0ef"
            ],
            [
             0.5,
             "#f7f7f7"
            ],
            [
             0.6,
             "#e6f5d0"
            ],
            [
             0.7,
             "#b8e186"
            ],
            [
             0.8,
             "#7fbc41"
            ],
            [
             0.9,
             "#4d9221"
            ],
            [
             1,
             "#276419"
            ]
           ],
           "sequential": [
            [
             0,
             "#0d0887"
            ],
            [
             0.1111111111111111,
             "#46039f"
            ],
            [
             0.2222222222222222,
             "#7201a8"
            ],
            [
             0.3333333333333333,
             "#9c179e"
            ],
            [
             0.4444444444444444,
             "#bd3786"
            ],
            [
             0.5555555555555556,
             "#d8576b"
            ],
            [
             0.6666666666666666,
             "#ed7953"
            ],
            [
             0.7777777777777778,
             "#fb9f3a"
            ],
            [
             0.8888888888888888,
             "#fdca26"
            ],
            [
             1,
             "#f0f921"
            ]
           ],
           "sequentialminus": [
            [
             0,
             "#0d0887"
            ],
            [
             0.1111111111111111,
             "#46039f"
            ],
            [
             0.2222222222222222,
             "#7201a8"
            ],
            [
             0.3333333333333333,
             "#9c179e"
            ],
            [
             0.4444444444444444,
             "#bd3786"
            ],
            [
             0.5555555555555556,
             "#d8576b"
            ],
            [
             0.6666666666666666,
             "#ed7953"
            ],
            [
             0.7777777777777778,
             "#fb9f3a"
            ],
            [
             0.8888888888888888,
             "#fdca26"
            ],
            [
             1,
             "#f0f921"
            ]
           ]
          },
          "colorway": [
           "#636efa",
           "#EF553B",
           "#00cc96",
           "#ab63fa",
           "#FFA15A",
           "#19d3f3",
           "#FF6692",
           "#B6E880",
           "#FF97FF",
           "#FECB52"
          ],
          "font": {
           "color": "#2a3f5f"
          },
          "geo": {
           "bgcolor": "white",
           "lakecolor": "white",
           "landcolor": "#E5ECF6",
           "showlakes": true,
           "showland": true,
           "subunitcolor": "white"
          },
          "hoverlabel": {
           "align": "left"
          },
          "hovermode": "closest",
          "mapbox": {
           "style": "light"
          },
          "paper_bgcolor": "white",
          "plot_bgcolor": "#E5ECF6",
          "polar": {
           "angularaxis": {
            "gridcolor": "white",
            "linecolor": "white",
            "ticks": ""
           },
           "bgcolor": "#E5ECF6",
           "radialaxis": {
            "gridcolor": "white",
            "linecolor": "white",
            "ticks": ""
           }
          },
          "scene": {
           "xaxis": {
            "backgroundcolor": "#E5ECF6",
            "gridcolor": "white",
            "gridwidth": 2,
            "linecolor": "white",
            "showbackground": true,
            "ticks": "",
            "zerolinecolor": "white"
           },
           "yaxis": {
            "backgroundcolor": "#E5ECF6",
            "gridcolor": "white",
            "gridwidth": 2,
            "linecolor": "white",
            "showbackground": true,
            "ticks": "",
            "zerolinecolor": "white"
           },
           "zaxis": {
            "backgroundcolor": "#E5ECF6",
            "gridcolor": "white",
            "gridwidth": 2,
            "linecolor": "white",
            "showbackground": true,
            "ticks": "",
            "zerolinecolor": "white"
           }
          },
          "shapedefaults": {
           "line": {
            "color": "#2a3f5f"
           }
          },
          "ternary": {
           "aaxis": {
            "gridcolor": "white",
            "linecolor": "white",
            "ticks": ""
           },
           "baxis": {
            "gridcolor": "white",
            "linecolor": "white",
            "ticks": ""
           },
           "bgcolor": "#E5ECF6",
           "caxis": {
            "gridcolor": "white",
            "linecolor": "white",
            "ticks": ""
           }
          },
          "title": {
           "x": 0.05
          },
          "xaxis": {
           "automargin": true,
           "gridcolor": "white",
           "linecolor": "white",
           "ticks": "",
           "title": {
            "standoff": 15
           },
           "zerolinecolor": "white",
           "zerolinewidth": 2
          },
          "yaxis": {
           "automargin": true,
           "gridcolor": "white",
           "linecolor": "white",
           "ticks": "",
           "title": {
            "standoff": 15
           },
           "zerolinecolor": "white",
           "zerolinewidth": 2
          }
         }
        },
        "xaxis": {
         "anchor": "y",
         "domain": [
          0,
          1
         ],
         "title": {
          "text": "value"
         }
        },
        "yaxis": {
         "anchor": "x",
         "domain": [
          0,
          1
         ],
         "title": {
          "text": "count"
         }
        }
       }
      },
      "text/html": [
       "<div>                            <div id=\"d0995023-a2ad-408a-a970-47912c5822a6\" class=\"plotly-graph-div\" style=\"height:525px; width:100%;\"></div>            <script type=\"text/javascript\">                require([\"plotly\"], function(Plotly) {                    window.PLOTLYENV=window.PLOTLYENV || {};                                    if (document.getElementById(\"d0995023-a2ad-408a-a970-47912c5822a6\")) {                    Plotly.newPlot(                        \"d0995023-a2ad-408a-a970-47912c5822a6\",                        [{\"alignmentgroup\":\"True\",\"bingroup\":\"x\",\"hovertemplate\":\"variable=Living Area<br>value=%{x}<br>count=%{y}<extra></extra>\",\"legendgroup\":\"Living Area\",\"marker\":{\"color\":\"#636efa\",\"pattern\":{\"shape\":\"\"}},\"name\":\"Living Area\",\"offsetgroup\":\"Living Area\",\"orientation\":\"v\",\"showlegend\":true,\"x\":[1.982,1.676,1.694,1.8,2.088,1.456,0.96,1.464,1.216,1.632,2.27,1.804,1.6,1.46,1.548,1.59,1.17,1.51,2.299,2.577,2.328,1.172,1.554,1.242,1.376,1.107,2.25,2.472,2.843,1.4,1.342,0.813,1.48,1.392,1.512,1.512,1.696,1.595,1.48,2.291,1.391,2.501,1.662,0.957,1.48,2.275,1.44,1.008,1.48,2.116,1.1,0.96,1.228,1.56,2.164,2.634,1.0,0.912,1.572,1.7,1.35,1.416,1.56,1.572,1.326,1.989,1.158,1.272,1.852,2.308,1.7,1.628,2.738,1.292,1.056,1.328,1.272,1.944,1.232,1.164,1.215,1.486,1.272,1.064,1.547,1.148,1.821,1.056,0.995,1.176,0.912,1.5,1.852,1.214,1.38,1.324,1.218,1.629,1.053,1.308,1.344,1.608,3.285,1.582,1.642,1.248,1.411,1.593,1.666,1.471,1.876,1.486,1.747,1.512,2.527,1.666,1.456,3.015,0.967,1.72,3.515,2.815,0.72,3.001,1.822,1.666,1.343,1.144,1.214,1.888,1.668,1.486,2.278,1.36,3.504,1.921,3.726,0.912,2.079,1.184,0.908,1.492,2.011,0.912,2.195,1.561,2.656,2.425,0.908,1.158,1.334,1.561,1.68,1.514,1.656,1.184,2.648,1.092,1.88,1.592,2.516,2.31,3.076,0.908,0.912,1.68,3.355,1.886,1.605,1.772,2.044,1.124,3.192,1.498,1.092,0.896,1.572,0.986,2.087,1.596,0.908,1.5,1.719,2.81,1.806,3.355,1.76,1.896,1.498,1.248,2.32,1.132,2.359,3.476,1.693,1.585,1.758,2.524,1.908,1.476,2.266,1.92,1.73,1.726,1.644,1.908,2.475,3.02,2.31,2.119,2.056,2.5,2.576,2.541,2.445,2.185,3.981,2.577,1.728,1.837,2.5,1.91,2.958,2.564,2.604,2.906,1.48,2.648,1.872,1.911,1.302,1.664,2.512,2.38,1.887,2.086,1.554,3.358,2.394,2.066,3.111,2.402,2.327,2.541,1.894,1.74,1.48,1.752,1.375,1.918,2.793,2.619,1.744,3.72,2.0,1.142,2.612,2.008,2.035,1.375,0.822,3.597,1.536,1.91,3.017,1.971,1.314,1.944,1.375,1.14,1.48,2.11,0.972,0.96,2.262,0.864,2.15,1.17,1.596,1.53,1.38,1.708,1.308,1.416,1.9,1.704,1.372,1.48,3.003,1.298,1.772,1.536,1.4,1.58,1.656,1.235,1.628,1.144,1.3,1.56,2.172,3.319,1.21,1.768,1.164,1.832,1.276,2.092,2.116,1.248,2.128,1.056,2.068,3.069,2.334,1.551,1.456,0.775,1.756,1.296,1.404,1.632,1.564,1.501,1.586,1.412,2.223,1.37,3.03,2.103,1.56,1.512,3.133,2.316,1.198,1.292,0.957,1.216,2.256,2.043,1.512,1.57,1.616,1.404,1.552,1.472,2.367,1.475,1.632,1.964,2.064,1.601,2.284,1.672,2.495,1.176,1.498,1.272,1.138,2.186,1.743,2.488,0.936,2.592,1.327,0.864,1.216,3.467,1.48,0.892,2.786,1.568,0.847,2.242,1.374,1.92,2.124,1.48,2.022,1.098,1.224,2.55,1.279,1.177,1.859,2.219,2.579,1.568,0.912,1.209,2.242,2.27,3.457,1.738,1.334,2.322,1.87,1.888,1.368,1.2,1.368,2.23,1.8,1.043,1.2,2.346,0.792,2.3,2.28,1.652,2.238,1.016,1.97,1.68,1.386,1.55,2.058,1.126,1.85,1.673,2.208,1.116,1.47,3.356,1.016,1.612,1.908,1.064,2.078,2.47,2.058,1.4,1.664,1.488,1.12,0.672,1.164,1.032,1.736,1.061,1.298,1.164,0.924,0.96,1.594,2.008,1.268,1.48,1.034,1.48,1.35,1.248,2.294,1.492,1.336,2.31,1.542,1.984,1.48,1.856,1.688,1.248,2.405,1.392,1.394,1.94,2.068,1.664,1.32,1.281,1.397,1.62,1.344,3.361,2.04,1.219,1.253,1.876,3.296,1.496,2.2,3.308,3.328,1.824,2.147,2.093,1.336,2.934,1.152,1.348,2.376,2.926,2.249,2.919,3.423,1.536,2.216,2.572,2.412,1.281,1.623,2.619,1.364,1.62,1.785,1.796,1.184,1.785,2.655,3.2,2.011,3.329,1.24,1.184,1.385,1.732,0.728,1.508,1.466,0.69,0.911,1.656,1.782,0.912,1.508,1.266,0.912,1.506,1.928,1.536,1.811,1.948,0.864,1.76,1.872,2.25,0.924,1.406,3.535,1.561,0.988,1.785,2.655,2.372,2.504,1.184,1.527,1.764,1.184,1.168,0.912,0.912,1.492,1.508,1.27,2.31,1.688,2.548,1.385,3.271,1.921,1.56,1.84,1.704,1.971,3.106,0.924,1.216,1.635,1.892,2.95,2.539,1.375,1.302,0.937,3.376,2.328,1.994,2.623,2.602,1.48,0.924,3.236,1.973,1.422,1.352,2.772,1.62,2.5,1.702,2.748,2.31,1.74,2.5,1.832,2.657,0.976,1.612,1.456,1.992,2.348,2.676,2.304,3.44,2.593,2.162,1.578,2.088,0.924,1.734,1.792,2.96,2.993,2.027,2.421,1.758,2.702,2.6,2.572,2.498,2.396,2.641,3.123,2.028,1.873,2.608,0.929,0.924,1.227,2.294,0.976,2.762,2.618,2.024,1.864,1.78,1.734,2.014,1.314,2.262,1.927,2.708,1.91,1.48,1.875,1.665,2.17,1.822,1.784,1.348,1.48,1.052,1.836,1.728,2.214,2.733,2.931,2.9,2.254,2.056,1.212,2.564,2.176,3.496,1.332,1.244,1.29,1.989,1.212,2.119,1.808,1.716,1.872,1.548,1.536,1.38,1.08,1.8,1.754,1.17,2.088,1.89,1.742,1.544,1.463,0.84,0.988,1.68,1.804,1.498,1.656,1.72,1.82,2.076,1.82,1.468,1.637,2.526,1.322,1.736,1.836,1.643,1.842,2.167,1.475,3.026,1.092,2.311,1.256,1.04,1.12,1.664,2.268,1.302,1.239,1.272,1.666,0.984,1.322,1.008,1.092,2.576,3.25,1.445,1.932,1.43,1.474,1.908,2.329,0.936,1.92,1.675,1.6,1.428,1.536,1.924,1.576,1.288,0.84,1.11,0.784,1.98,1.29,2.0,2.49,0.952,1.56,2.932,2.31,1.792,1.25,1.5,0.864,1.392,0.812,1.76,0.898,1.096,1.2,2.016,1.31,0.96,1.056,1.512,1.89,1.812,1.952,1.856,0.924,2.346,1.274,1.42,2.296,2.026,0.99,1.711,3.944,1.344,0.878,2.248,2.107,1.364,1.27,2.12,1.668,2.11,1.242,1.04,2.084,1.36,2.024,1.019,3.028,1.242,1.528,2.988,1.428,1.144,1.666,4.534,2.202,1.184,2.601,2.51,3.056,1.592,1.24,1.673,1.852,1.184,2.641,1.184,1.952,2.038,1.276,0.908,2.434,0.912,2.494,2.96,1.294,2.152,0.988,2.712,2.203,3.001,2.31,2.04,3.144,1.806,1.54,2.011,3.344,2.714,1.518,1.836,2.066,1.423,1.512,2.144,1.61,1.196,1.376,1.834,1.72,1.295,0.8,1.868,1.946,1.142,1.202,1.3,1.508,2.271,1.592,0.912,1.673,2.31,0.912,2.641,1.708,0.988,2.058,2.31,2.434,1.612,3.081,1.227,2.762,3.982,2.212,1.173,2.604,1.54,2.472,1.184,2.12,2.472,1.592,1.404,3.344,1.69,1.512,1.82,1.476,1.652,2.331,0.96,1.54,1.668,0.912,0.743,3.021,1.274,0.792,0.96,1.6,1.15,1.456,2.464,1.326,2.808,1.479,2.498,1.064,1.792,3.121,1.032,2.668,2.996,1.815,1.281,2.204,2.096,2.57,2.936,3.21,3.02,2.086,1.98,1.26,1.938,2.284,1.804,1.375,2.226,1.48,1.228,1.886,1.479,3.44,2.588,2.88,2.133,1.056,1.314,2.741,1.326,1.38,1.48,2.05,2.338,1.91,1.652,3.542,0.929,1.831,1.468,2.039,1.794,1.666,2.388,2.505,2.284,1.879,1.664,3.82,2.809,2.066,1.664,2.35,2.116,1.48,1.524,1.034,1.48,0.88,1.512,0.912,1.611,1.47,2.748,1.512,1.512,2.039,1.48,2.872,1.244,1.355,1.564,1.022,1.48,1.904,1.592,1.332,0.96,2.143,1.514,1.986,2.286,2.752,1.656,3.37,1.932,1.184,2.712,2.5,0.912,2.604,1.836,0.882,2.002,0.912,1.508,0.882,2.396,2.46,2.322,1.48,2.306,2.756,1.664,3.125,2.835,2.464,2.628,1.099,1.225,2.764,0.84,1.363,1.472,1.836,1.774,1.59,2.109,1.47,2.314,1.04,1.308,1.954,2.498,1.874,2.892,2.4,1.572,1.678,1.388,1.512,1.653,1.758,2.31,1.802,3.239,1.44,2.03,2.097],\"xaxis\":\"x\",\"yaxis\":\"y\",\"type\":\"histogram\"}],                        {\"template\":{\"data\":{\"histogram2dcontour\":[{\"type\":\"histogram2dcontour\",\"colorbar\":{\"outlinewidth\":0,\"ticks\":\"\"},\"colorscale\":[[0.0,\"#0d0887\"],[0.1111111111111111,\"#46039f\"],[0.2222222222222222,\"#7201a8\"],[0.3333333333333333,\"#9c179e\"],[0.4444444444444444,\"#bd3786\"],[0.5555555555555556,\"#d8576b\"],[0.6666666666666666,\"#ed7953\"],[0.7777777777777778,\"#fb9f3a\"],[0.8888888888888888,\"#fdca26\"],[1.0,\"#f0f921\"]]}],\"choropleth\":[{\"type\":\"choropleth\",\"colorbar\":{\"outlinewidth\":0,\"ticks\":\"\"}}],\"histogram2d\":[{\"type\":\"histogram2d\",\"colorbar\":{\"outlinewidth\":0,\"ticks\":\"\"},\"colorscale\":[[0.0,\"#0d0887\"],[0.1111111111111111,\"#46039f\"],[0.2222222222222222,\"#7201a8\"],[0.3333333333333333,\"#9c179e\"],[0.4444444444444444,\"#bd3786\"],[0.5555555555555556,\"#d8576b\"],[0.6666666666666666,\"#ed7953\"],[0.7777777777777778,\"#fb9f3a\"],[0.8888888888888888,\"#fdca26\"],[1.0,\"#f0f921\"]]}],\"heatmap\":[{\"type\":\"heatmap\",\"colorbar\":{\"outlinewidth\":0,\"ticks\":\"\"},\"colorscale\":[[0.0,\"#0d0887\"],[0.1111111111111111,\"#46039f\"],[0.2222222222222222,\"#7201a8\"],[0.3333333333333333,\"#9c179e\"],[0.4444444444444444,\"#bd3786\"],[0.5555555555555556,\"#d8576b\"],[0.6666666666666666,\"#ed7953\"],[0.7777777777777778,\"#fb9f3a\"],[0.8888888888888888,\"#fdca26\"],[1.0,\"#f0f921\"]]}],\"heatmapgl\":[{\"type\":\"heatmapgl\",\"colorbar\":{\"outlinewidth\":0,\"ticks\":\"\"},\"colorscale\":[[0.0,\"#0d0887\"],[0.1111111111111111,\"#46039f\"],[0.2222222222222222,\"#7201a8\"],[0.3333333333333333,\"#9c179e\"],[0.4444444444444444,\"#bd3786\"],[0.5555555555555556,\"#d8576b\"],[0.6666666666666666,\"#ed7953\"],[0.7777777777777778,\"#fb9f3a\"],[0.8888888888888888,\"#fdca26\"],[1.0,\"#f0f921\"]]}],\"contourcarpet\":[{\"type\":\"contourcarpet\",\"colorbar\":{\"outlinewidth\":0,\"ticks\":\"\"}}],\"contour\":[{\"type\":\"contour\",\"colorbar\":{\"outlinewidth\":0,\"ticks\":\"\"},\"colorscale\":[[0.0,\"#0d0887\"],[0.1111111111111111,\"#46039f\"],[0.2222222222222222,\"#7201a8\"],[0.3333333333333333,\"#9c179e\"],[0.4444444444444444,\"#bd3786\"],[0.5555555555555556,\"#d8576b\"],[0.6666666666666666,\"#ed7953\"],[0.7777777777777778,\"#fb9f3a\"],[0.8888888888888888,\"#fdca26\"],[1.0,\"#f0f921\"]]}],\"surface\":[{\"type\":\"surface\",\"colorbar\":{\"outlinewidth\":0,\"ticks\":\"\"},\"colorscale\":[[0.0,\"#0d0887\"],[0.1111111111111111,\"#46039f\"],[0.2222222222222222,\"#7201a8\"],[0.3333333333333333,\"#9c179e\"],[0.4444444444444444,\"#bd3786\"],[0.5555555555555556,\"#d8576b\"],[0.6666666666666666,\"#ed7953\"],[0.7777777777777778,\"#fb9f3a\"],[0.8888888888888888,\"#fdca26\"],[1.0,\"#f0f921\"]]}],\"mesh3d\":[{\"type\":\"mesh3d\",\"colorbar\":{\"outlinewidth\":0,\"ticks\":\"\"}}],\"scatter\":[{\"fillpattern\":{\"fillmode\":\"overlay\",\"size\":10,\"solidity\":0.2},\"type\":\"scatter\"}],\"parcoords\":[{\"type\":\"parcoords\",\"line\":{\"colorbar\":{\"outlinewidth\":0,\"ticks\":\"\"}}}],\"scatterpolargl\":[{\"type\":\"scatterpolargl\",\"marker\":{\"colorbar\":{\"outlinewidth\":0,\"ticks\":\"\"}}}],\"bar\":[{\"error_x\":{\"color\":\"#2a3f5f\"},\"error_y\":{\"color\":\"#2a3f5f\"},\"marker\":{\"line\":{\"color\":\"#E5ECF6\",\"width\":0.5},\"pattern\":{\"fillmode\":\"overlay\",\"size\":10,\"solidity\":0.2}},\"type\":\"bar\"}],\"scattergeo\":[{\"type\":\"scattergeo\",\"marker\":{\"colorbar\":{\"outlinewidth\":0,\"ticks\":\"\"}}}],\"scatterpolar\":[{\"type\":\"scatterpolar\",\"marker\":{\"colorbar\":{\"outlinewidth\":0,\"ticks\":\"\"}}}],\"histogram\":[{\"marker\":{\"pattern\":{\"fillmode\":\"overlay\",\"size\":10,\"solidity\":0.2}},\"type\":\"histogram\"}],\"scattergl\":[{\"type\":\"scattergl\",\"marker\":{\"colorbar\":{\"outlinewidth\":0,\"ticks\":\"\"}}}],\"scatter3d\":[{\"type\":\"scatter3d\",\"line\":{\"colorbar\":{\"outlinewidth\":0,\"ticks\":\"\"}},\"marker\":{\"colorbar\":{\"outlinewidth\":0,\"ticks\":\"\"}}}],\"scattermapbox\":[{\"type\":\"scattermapbox\",\"marker\":{\"colorbar\":{\"outlinewidth\":0,\"ticks\":\"\"}}}],\"scatterternary\":[{\"type\":\"scatterternary\",\"marker\":{\"colorbar\":{\"outlinewidth\":0,\"ticks\":\"\"}}}],\"scattercarpet\":[{\"type\":\"scattercarpet\",\"marker\":{\"colorbar\":{\"outlinewidth\":0,\"ticks\":\"\"}}}],\"carpet\":[{\"aaxis\":{\"endlinecolor\":\"#2a3f5f\",\"gridcolor\":\"white\",\"linecolor\":\"white\",\"minorgridcolor\":\"white\",\"startlinecolor\":\"#2a3f5f\"},\"baxis\":{\"endlinecolor\":\"#2a3f5f\",\"gridcolor\":\"white\",\"linecolor\":\"white\",\"minorgridcolor\":\"white\",\"startlinecolor\":\"#2a3f5f\"},\"type\":\"carpet\"}],\"table\":[{\"cells\":{\"fill\":{\"color\":\"#EBF0F8\"},\"line\":{\"color\":\"white\"}},\"header\":{\"fill\":{\"color\":\"#C8D4E3\"},\"line\":{\"color\":\"white\"}},\"type\":\"table\"}],\"barpolar\":[{\"marker\":{\"line\":{\"color\":\"#E5ECF6\",\"width\":0.5},\"pattern\":{\"fillmode\":\"overlay\",\"size\":10,\"solidity\":0.2}},\"type\":\"barpolar\"}],\"pie\":[{\"automargin\":true,\"type\":\"pie\"}]},\"layout\":{\"autotypenumbers\":\"strict\",\"colorway\":[\"#636efa\",\"#EF553B\",\"#00cc96\",\"#ab63fa\",\"#FFA15A\",\"#19d3f3\",\"#FF6692\",\"#B6E880\",\"#FF97FF\",\"#FECB52\"],\"font\":{\"color\":\"#2a3f5f\"},\"hovermode\":\"closest\",\"hoverlabel\":{\"align\":\"left\"},\"paper_bgcolor\":\"white\",\"plot_bgcolor\":\"#E5ECF6\",\"polar\":{\"bgcolor\":\"#E5ECF6\",\"angularaxis\":{\"gridcolor\":\"white\",\"linecolor\":\"white\",\"ticks\":\"\"},\"radialaxis\":{\"gridcolor\":\"white\",\"linecolor\":\"white\",\"ticks\":\"\"}},\"ternary\":{\"bgcolor\":\"#E5ECF6\",\"aaxis\":{\"gridcolor\":\"white\",\"linecolor\":\"white\",\"ticks\":\"\"},\"baxis\":{\"gridcolor\":\"white\",\"linecolor\":\"white\",\"ticks\":\"\"},\"caxis\":{\"gridcolor\":\"white\",\"linecolor\":\"white\",\"ticks\":\"\"}},\"coloraxis\":{\"colorbar\":{\"outlinewidth\":0,\"ticks\":\"\"}},\"colorscale\":{\"sequential\":[[0.0,\"#0d0887\"],[0.1111111111111111,\"#46039f\"],[0.2222222222222222,\"#7201a8\"],[0.3333333333333333,\"#9c179e\"],[0.4444444444444444,\"#bd3786\"],[0.5555555555555556,\"#d8576b\"],[0.6666666666666666,\"#ed7953\"],[0.7777777777777778,\"#fb9f3a\"],[0.8888888888888888,\"#fdca26\"],[1.0,\"#f0f921\"]],\"sequentialminus\":[[0.0,\"#0d0887\"],[0.1111111111111111,\"#46039f\"],[0.2222222222222222,\"#7201a8\"],[0.3333333333333333,\"#9c179e\"],[0.4444444444444444,\"#bd3786\"],[0.5555555555555556,\"#d8576b\"],[0.6666666666666666,\"#ed7953\"],[0.7777777777777778,\"#fb9f3a\"],[0.8888888888888888,\"#fdca26\"],[1.0,\"#f0f921\"]],\"diverging\":[[0,\"#8e0152\"],[0.1,\"#c51b7d\"],[0.2,\"#de77ae\"],[0.3,\"#f1b6da\"],[0.4,\"#fde0ef\"],[0.5,\"#f7f7f7\"],[0.6,\"#e6f5d0\"],[0.7,\"#b8e186\"],[0.8,\"#7fbc41\"],[0.9,\"#4d9221\"],[1,\"#276419\"]]},\"xaxis\":{\"gridcolor\":\"white\",\"linecolor\":\"white\",\"ticks\":\"\",\"title\":{\"standoff\":15},\"zerolinecolor\":\"white\",\"automargin\":true,\"zerolinewidth\":2},\"yaxis\":{\"gridcolor\":\"white\",\"linecolor\":\"white\",\"ticks\":\"\",\"title\":{\"standoff\":15},\"zerolinecolor\":\"white\",\"automargin\":true,\"zerolinewidth\":2},\"scene\":{\"xaxis\":{\"backgroundcolor\":\"#E5ECF6\",\"gridcolor\":\"white\",\"linecolor\":\"white\",\"showbackground\":true,\"ticks\":\"\",\"zerolinecolor\":\"white\",\"gridwidth\":2},\"yaxis\":{\"backgroundcolor\":\"#E5ECF6\",\"gridcolor\":\"white\",\"linecolor\":\"white\",\"showbackground\":true,\"ticks\":\"\",\"zerolinecolor\":\"white\",\"gridwidth\":2},\"zaxis\":{\"backgroundcolor\":\"#E5ECF6\",\"gridcolor\":\"white\",\"linecolor\":\"white\",\"showbackground\":true,\"ticks\":\"\",\"zerolinecolor\":\"white\",\"gridwidth\":2}},\"shapedefaults\":{\"line\":{\"color\":\"#2a3f5f\"}},\"annotationdefaults\":{\"arrowcolor\":\"#2a3f5f\",\"arrowhead\":0,\"arrowwidth\":1},\"geo\":{\"bgcolor\":\"white\",\"landcolor\":\"#E5ECF6\",\"subunitcolor\":\"white\",\"showland\":true,\"showlakes\":true,\"lakecolor\":\"white\"},\"title\":{\"x\":0.05},\"mapbox\":{\"style\":\"light\"}}},\"xaxis\":{\"anchor\":\"y\",\"domain\":[0.0,1.0],\"title\":{\"text\":\"value\"}},\"yaxis\":{\"anchor\":\"x\",\"domain\":[0.0,1.0],\"title\":{\"text\":\"count\"}},\"legend\":{\"title\":{\"text\":\"variable\"},\"tracegroupgap\":0},\"margin\":{\"t\":60},\"barmode\":\"relative\"},                        {\"responsive\": true}                    ).then(function(){\n",
       "                            \n",
       "var gd = document.getElementById('d0995023-a2ad-408a-a970-47912c5822a6');\n",
       "var x = new MutationObserver(function (mutations, observer) {{\n",
       "        var display = window.getComputedStyle(gd).display;\n",
       "        if (!display || display === 'none') {{\n",
       "            console.log([gd, 'removed!']);\n",
       "            Plotly.purge(gd);\n",
       "            observer.disconnect();\n",
       "        }}\n",
       "}});\n",
       "\n",
       "// Listen for the removal of the full notebook cells\n",
       "var notebookContainer = gd.closest('#notebook-container');\n",
       "if (notebookContainer) {{\n",
       "    x.observe(notebookContainer, {childList: true});\n",
       "}}\n",
       "\n",
       "// Listen for the clearing of the current output cell\n",
       "var outputEl = gd.closest('.output');\n",
       "if (outputEl) {{\n",
       "    x.observe(outputEl, {childList: true});\n",
       "}}\n",
       "\n",
       "                        })                };                });            </script>        </div>"
      ]
     },
     "metadata": {},
     "output_type": "display_data"
    },
    {
     "data": {
      "application/vnd.plotly.v1+json": {
       "config": {
        "plotlyServerURL": "https://plot.ly"
       },
       "data": [
        {
         "alignmentgroup": "True",
         "bingroup": "x",
         "hovertemplate": "variable=Bathrooms<br>value=%{x}<br>count=%{y}<extra></extra>",
         "legendgroup": "Bathrooms",
         "marker": {
          "color": "#636efa",
          "pattern": {
           "shape": ""
          }
         },
         "name": "Bathrooms",
         "offsetgroup": "Bathrooms",
         "orientation": "v",
         "showlegend": true,
         "type": "histogram",
         "x": [
          1,
          1.5,
          2,
          1,
          1,
          2,
          1.5,
          1,
          1,
          1.5,
          2.5,
          2.5,
          1.5,
          2,
          2,
          2.5,
          1.5,
          2.5,
          2.5,
          2.5,
          2.5,
          2.5,
          1.5,
          2,
          2,
          1,
          2.5,
          2,
          2.5,
          1.5,
          1,
          1,
          2.5,
          1,
          1.5,
          1.5,
          2.5,
          2,
          1.5,
          2.5,
          2,
          2.5,
          2,
          1,
          1.5,
          2.5,
          1,
          1,
          2.5,
          2.5,
          1,
          1,
          1,
          1.5,
          2,
          2.5,
          1,
          1,
          1.5,
          1,
          1.5,
          1.5,
          2,
          1.5,
          2,
          2,
          1.5,
          1.5,
          2,
          3,
          2,
          1.5,
          2.5,
          1.5,
          2,
          1,
          1.5,
          2.5,
          1,
          2,
          1.5,
          2.5,
          1.5,
          1,
          2,
          1,
          2.5,
          1,
          1,
          2,
          1,
          1.5,
          1,
          1,
          1.5,
          1.5,
          1.5,
          1,
          1,
          1,
          1.5,
          1,
          2,
          1.5,
          2,
          2,
          1,
          1,
          2.5,
          2.5,
          2.5,
          1.5,
          2.5,
          2.5,
          2.5,
          2.5,
          2,
          2.5,
          2,
          2,
          2.5,
          2.5,
          1,
          2.5,
          2.5,
          2.5,
          2.5,
          1,
          1.5,
          1,
          2,
          1.5,
          2.5,
          1,
          2.5,
          2,
          2.5,
          1.5,
          2.5,
          2,
          1,
          2.5,
          2.5,
          1.5,
          2,
          1.5,
          2.5,
          2.5,
          1,
          1.5,
          1.5,
          1.5,
          2,
          2,
          1.5,
          1.5,
          2.5,
          1.5,
          2,
          2,
          2,
          3,
          3.5,
          1,
          1.5,
          1,
          2.5,
          2.5,
          2.5,
          2,
          2.5,
          1,
          3,
          1.5,
          1,
          1,
          1.5,
          1,
          2.5,
          1.5,
          1,
          1.5,
          1.5,
          2.5,
          2.5,
          2.5,
          1,
          1.5,
          1.5,
          2,
          2.5,
          1,
          2.5,
          2.5,
          1.5,
          1.5,
          2,
          2.5,
          2.5,
          1.5,
          2.5,
          2,
          2.5,
          2,
          2.5,
          2,
          2.5,
          2.5,
          2.5,
          2.5,
          1.5,
          2.5,
          2.5,
          2.5,
          2.5,
          2.5,
          3,
          2.5,
          2.5,
          1.5,
          2.5,
          2.5,
          2.5,
          2.5,
          3,
          2.5,
          1.5,
          2.5,
          1.5,
          1.5,
          1.5,
          2,
          2.5,
          2.5,
          2.5,
          2.5,
          2,
          3.5,
          2.5,
          2.5,
          2.5,
          2.5,
          2.5,
          2.5,
          2,
          1.5,
          1.5,
          2.5,
          1.5,
          2,
          2.5,
          2.5,
          1.5,
          4,
          2.5,
          1.5,
          2.5,
          2.5,
          2.5,
          1.5,
          1,
          2.5,
          1,
          2.5,
          3.5,
          2.5,
          1.5,
          2.5,
          1.5,
          1.5,
          1.5,
          2,
          1,
          2,
          2,
          1,
          2,
          2,
          1,
          2,
          1.5,
          1,
          1,
          1.5,
          1.5,
          1,
          1.5,
          1.5,
          3.5,
          1,
          2.5,
          1.5,
          2,
          1.5,
          1,
          1,
          1,
          1,
          1,
          1.5,
          1,
          2.5,
          1,
          1.5,
          1,
          2,
          2,
          2.5,
          2,
          2,
          2,
          1,
          1,
          3.5,
          2,
          1,
          1,
          1,
          1.5,
          2,
          2,
          2,
          1,
          2,
          1.5,
          1.5,
          2.5,
          1,
          2.5,
          2.5,
          1,
          1.5,
          3,
          2.5,
          1,
          2,
          1,
          1,
          1.5,
          1.5,
          1.5,
          2,
          2,
          2,
          1.5,
          1.5,
          2.5,
          2,
          2.5,
          2.5,
          2.5,
          1.5,
          1.5,
          2.5,
          2.5,
          1.5,
          1,
          1,
          1,
          2.5,
          2.5,
          2,
          1,
          3,
          2,
          1.5,
          1.5,
          2.5,
          2.5,
          1,
          2.5,
          1.5,
          1,
          2.5,
          1.5,
          2.5,
          2.5,
          2.5,
          2.5,
          1,
          1,
          2.5,
          1,
          1.5,
          1.5,
          2.5,
          2.5,
          1.5,
          1,
          1,
          2.5,
          2.5,
          2.5,
          2,
          1.5,
          2.5,
          2.5,
          2,
          1,
          1.5,
          1,
          2.5,
          2.5,
          1,
          1,
          2.5,
          1,
          2.5,
          2.5,
          1.5,
          1.5,
          2,
          2.5,
          2,
          1.5,
          2.5,
          2.5,
          2,
          2.5,
          1,
          2.5,
          2,
          2.5,
          2.5,
          2,
          1,
          2,
          1,
          1.5,
          2.5,
          1.5,
          1.5,
          3,
          2.5,
          2,
          1,
          2,
          1,
          2,
          1,
          1,
          2,
          1,
          1,
          1.5,
          2.5,
          1,
          1.5,
          1.5,
          1.5,
          1.5,
          1.5,
          3.5,
          1.5,
          1.5,
          2.5,
          2.5,
          2.5,
          1.5,
          1.5,
          1,
          1,
          2.5,
          1.5,
          1,
          2,
          2.5,
          1.5,
          1,
          2.5,
          1.5,
          2.5,
          1.5,
          3.5,
          2.5,
          1.5,
          1.5,
          2.5,
          2.5,
          1,
          2.5,
          2.5,
          2.5,
          2.5,
          2.5,
          2.5,
          2,
          2.5,
          1,
          2.5,
          2.5,
          3,
          2.5,
          2.5,
          2.5,
          2.5,
          2.5,
          2.5,
          2.5,
          2.5,
          1.5,
          2.5,
          1.5,
          1.5,
          2.5,
          2.5,
          2,
          2.5,
          2.5,
          2.5,
          2.5,
          1.5,
          1.5,
          1.5,
          1.5,
          1.5,
          1,
          2,
          1,
          1,
          1,
          1.5,
          1.5,
          1.5,
          1.5,
          1,
          1.5,
          1.5,
          2,
          2,
          2.5,
          2.5,
          1.5,
          1.5,
          1.5,
          2.5,
          1,
          1.5,
          3,
          1.5,
          2,
          2.5,
          2.5,
          2,
          2.5,
          1.5,
          2,
          2.5,
          1.5,
          2,
          1.5,
          1.5,
          2.5,
          2,
          1,
          2.5,
          2,
          2.5,
          1.5,
          2.5,
          2,
          1,
          1,
          2.5,
          2.5,
          2.5,
          1,
          1,
          1.5,
          2,
          2.5,
          2.5,
          1.5,
          1.5,
          1,
          2.5,
          2.5,
          2,
          2.5,
          2.5,
          1.5,
          1,
          2.5,
          2.5,
          1.5,
          1.5,
          2.5,
          2,
          2.5,
          1.5,
          2.5,
          2.5,
          1.5,
          2.5,
          1.5,
          2.5,
          2,
          1.5,
          1,
          2.5,
          2.5,
          2.5,
          2.5,
          2.5,
          2.5,
          2.5,
          2.5,
          2.5,
          1,
          1.5,
          2.5,
          2.5,
          2.5,
          2.5,
          2.5,
          2,
          1.5,
          2.5,
          2.5,
          2.5,
          2.5,
          2.5,
          2.5,
          2,
          2.5,
          2.5,
          1.5,
          1,
          2,
          2.5,
          2,
          2.5,
          1.5,
          2,
          1.5,
          2.5,
          2.5,
          1.5,
          1.5,
          2.5,
          2,
          2,
          2.5,
          1.5,
          2.5,
          2,
          2.5,
          1.5,
          1.5,
          2,
          1.5,
          1.5,
          2,
          1.5,
          2.5,
          2.5,
          3.5,
          2.5,
          1.5,
          2.5,
          1,
          2.5,
          2,
          2.5,
          1,
          1.5,
          2,
          1.5,
          1.5,
          2.5,
          1.5,
          2,
          2,
          1.5,
          2,
          1,
          2,
          1.5,
          1,
          1,
          2,
          2,
          2.5,
          2,
          1.5,
          1,
          1,
          2.5,
          2.5,
          1.5,
          1.5,
          2,
          2.5,
          2.5,
          1.5,
          1,
          1.5,
          2.5,
          1,
          1.5,
          2,
          2.5,
          1.5,
          2.5,
          1.5,
          4,
          1.5,
          2.5,
          1.5,
          1,
          1,
          1.5,
          1,
          2,
          1,
          1,
          1,
          1,
          1,
          1,
          1,
          2.5,
          2.5,
          1.5,
          2,
          2.5,
          2,
          3.5,
          2,
          1,
          1,
          2.5,
          2,
          2,
          1.5,
          2,
          1.5,
          1,
          1,
          1,
          1,
          2,
          1.5,
          2.5,
          2.5,
          1,
          1,
          2.5,
          3,
          2.5,
          1.5,
          2,
          1.5,
          2.5,
          1,
          3,
          1,
          1,
          2,
          1.5,
          1.5,
          1,
          1,
          2,
          2.5,
          2,
          2.5,
          1.5,
          1,
          2.5,
          1.5,
          1.5,
          2.5,
          2.5,
          1.5,
          1,
          1,
          2,
          1,
          2.5,
          1,
          1.5,
          1.5,
          2.5,
          2,
          2.5,
          2,
          1,
          2.5,
          1,
          2.5,
          1.5,
          2.5,
          2,
          2.5,
          2.5,
          2,
          1.5,
          2.5,
          2.5,
          2.5,
          2,
          2.5,
          2.5,
          2.5,
          1.5,
          2,
          2,
          2.5,
          2,
          3,
          2,
          2,
          2.5,
          2,
          1,
          2.5,
          1.5,
          2.5,
          2.5,
          1.5,
          2.5,
          1,
          2.5,
          2.5,
          2.5,
          2.5,
          2.5,
          2.5,
          2,
          1.5,
          2.5,
          3.5,
          3,
          1,
          2.5,
          2.5,
          1.5,
          2,
          2.5,
          2,
          1.5,
          1.5,
          2,
          1.5,
          1.5,
          1,
          2.5,
          1.5,
          2,
          1.5,
          2,
          1.5,
          2.5,
          1.5,
          1.5,
          2,
          2.5,
          1.5,
          3,
          2,
          1,
          2.5,
          2.5,
          2.5,
          2,
          2.5,
          1,
          3,
          4.5,
          2.5,
          1,
          2.5,
          1.5,
          3.5,
          1.5,
          2.5,
          2.5,
          1.5,
          1.5,
          2.5,
          2.5,
          2,
          1.5,
          2,
          1.5,
          2.5,
          1,
          1,
          1.5,
          1,
          1,
          2.5,
          2,
          1,
          1,
          1,
          1,
          1.5,
          2.5,
          1,
          2.5,
          1.5,
          2.5,
          1,
          2,
          3,
          1,
          2.5,
          2.5,
          2.5,
          1,
          1.5,
          3,
          2.5,
          2.5,
          2.5,
          2.5,
          2.5,
          1,
          1.5,
          2.5,
          2.5,
          2.5,
          1.5,
          2.5,
          1.5,
          1.5,
          1.5,
          1.5,
          4,
          2.5,
          2.5,
          1.5,
          1,
          1.5,
          2.5,
          1.5,
          1,
          1.5,
          1.5,
          2.5,
          2.5,
          2,
          3.5,
          1.5,
          2,
          1.5,
          2.5,
          2,
          1.5,
          2.5,
          2.5,
          2.5,
          2.5,
          2,
          4.5,
          2.5,
          2.5,
          2,
          2.5,
          2.5,
          1.5,
          1.5,
          1.5,
          2.5,
          1,
          2,
          1,
          2,
          2.5,
          2.5,
          1.5,
          1.5,
          1,
          2.5,
          3,
          1.5,
          1,
          2,
          1,
          1.5,
          2,
          1.5,
          1.5,
          1,
          2.5,
          1.5,
          2.5,
          2.5,
          3,
          2.5,
          3,
          2.5,
          2,
          3,
          3.5,
          1.5,
          2.5,
          1.5,
          1.5,
          2.5,
          1.5,
          1.5,
          1.5,
          2.5,
          2.5,
          2.5,
          1.5,
          2.5,
          2.5,
          2,
          2.5,
          3,
          2.5,
          2.5,
          1,
          1,
          2.5,
          1,
          2,
          1,
          2.5,
          2.5,
          2.5,
          2.5,
          1.5,
          2.5,
          1,
          1,
          1.5,
          2.5,
          2.5,
          3.5,
          2,
          1.5,
          2.5,
          1,
          1.5,
          2,
          2.5,
          2.5,
          2,
          3.5,
          2,
          2.5,
          2.5
         ],
         "xaxis": "x",
         "yaxis": "y"
        }
       ],
       "layout": {
        "barmode": "relative",
        "legend": {
         "title": {
          "text": "variable"
         },
         "tracegroupgap": 0
        },
        "margin": {
         "t": 60
        },
        "template": {
         "data": {
          "bar": [
           {
            "error_x": {
             "color": "#2a3f5f"
            },
            "error_y": {
             "color": "#2a3f5f"
            },
            "marker": {
             "line": {
              "color": "#E5ECF6",
              "width": 0.5
             },
             "pattern": {
              "fillmode": "overlay",
              "size": 10,
              "solidity": 0.2
             }
            },
            "type": "bar"
           }
          ],
          "barpolar": [
           {
            "marker": {
             "line": {
              "color": "#E5ECF6",
              "width": 0.5
             },
             "pattern": {
              "fillmode": "overlay",
              "size": 10,
              "solidity": 0.2
             }
            },
            "type": "barpolar"
           }
          ],
          "carpet": [
           {
            "aaxis": {
             "endlinecolor": "#2a3f5f",
             "gridcolor": "white",
             "linecolor": "white",
             "minorgridcolor": "white",
             "startlinecolor": "#2a3f5f"
            },
            "baxis": {
             "endlinecolor": "#2a3f5f",
             "gridcolor": "white",
             "linecolor": "white",
             "minorgridcolor": "white",
             "startlinecolor": "#2a3f5f"
            },
            "type": "carpet"
           }
          ],
          "choropleth": [
           {
            "colorbar": {
             "outlinewidth": 0,
             "ticks": ""
            },
            "type": "choropleth"
           }
          ],
          "contour": [
           {
            "colorbar": {
             "outlinewidth": 0,
             "ticks": ""
            },
            "colorscale": [
             [
              0,
              "#0d0887"
             ],
             [
              0.1111111111111111,
              "#46039f"
             ],
             [
              0.2222222222222222,
              "#7201a8"
             ],
             [
              0.3333333333333333,
              "#9c179e"
             ],
             [
              0.4444444444444444,
              "#bd3786"
             ],
             [
              0.5555555555555556,
              "#d8576b"
             ],
             [
              0.6666666666666666,
              "#ed7953"
             ],
             [
              0.7777777777777778,
              "#fb9f3a"
             ],
             [
              0.8888888888888888,
              "#fdca26"
             ],
             [
              1,
              "#f0f921"
             ]
            ],
            "type": "contour"
           }
          ],
          "contourcarpet": [
           {
            "colorbar": {
             "outlinewidth": 0,
             "ticks": ""
            },
            "type": "contourcarpet"
           }
          ],
          "heatmap": [
           {
            "colorbar": {
             "outlinewidth": 0,
             "ticks": ""
            },
            "colorscale": [
             [
              0,
              "#0d0887"
             ],
             [
              0.1111111111111111,
              "#46039f"
             ],
             [
              0.2222222222222222,
              "#7201a8"
             ],
             [
              0.3333333333333333,
              "#9c179e"
             ],
             [
              0.4444444444444444,
              "#bd3786"
             ],
             [
              0.5555555555555556,
              "#d8576b"
             ],
             [
              0.6666666666666666,
              "#ed7953"
             ],
             [
              0.7777777777777778,
              "#fb9f3a"
             ],
             [
              0.8888888888888888,
              "#fdca26"
             ],
             [
              1,
              "#f0f921"
             ]
            ],
            "type": "heatmap"
           }
          ],
          "heatmapgl": [
           {
            "colorbar": {
             "outlinewidth": 0,
             "ticks": ""
            },
            "colorscale": [
             [
              0,
              "#0d0887"
             ],
             [
              0.1111111111111111,
              "#46039f"
             ],
             [
              0.2222222222222222,
              "#7201a8"
             ],
             [
              0.3333333333333333,
              "#9c179e"
             ],
             [
              0.4444444444444444,
              "#bd3786"
             ],
             [
              0.5555555555555556,
              "#d8576b"
             ],
             [
              0.6666666666666666,
              "#ed7953"
             ],
             [
              0.7777777777777778,
              "#fb9f3a"
             ],
             [
              0.8888888888888888,
              "#fdca26"
             ],
             [
              1,
              "#f0f921"
             ]
            ],
            "type": "heatmapgl"
           }
          ],
          "histogram": [
           {
            "marker": {
             "pattern": {
              "fillmode": "overlay",
              "size": 10,
              "solidity": 0.2
             }
            },
            "type": "histogram"
           }
          ],
          "histogram2d": [
           {
            "colorbar": {
             "outlinewidth": 0,
             "ticks": ""
            },
            "colorscale": [
             [
              0,
              "#0d0887"
             ],
             [
              0.1111111111111111,
              "#46039f"
             ],
             [
              0.2222222222222222,
              "#7201a8"
             ],
             [
              0.3333333333333333,
              "#9c179e"
             ],
             [
              0.4444444444444444,
              "#bd3786"
             ],
             [
              0.5555555555555556,
              "#d8576b"
             ],
             [
              0.6666666666666666,
              "#ed7953"
             ],
             [
              0.7777777777777778,
              "#fb9f3a"
             ],
             [
              0.8888888888888888,
              "#fdca26"
             ],
             [
              1,
              "#f0f921"
             ]
            ],
            "type": "histogram2d"
           }
          ],
          "histogram2dcontour": [
           {
            "colorbar": {
             "outlinewidth": 0,
             "ticks": ""
            },
            "colorscale": [
             [
              0,
              "#0d0887"
             ],
             [
              0.1111111111111111,
              "#46039f"
             ],
             [
              0.2222222222222222,
              "#7201a8"
             ],
             [
              0.3333333333333333,
              "#9c179e"
             ],
             [
              0.4444444444444444,
              "#bd3786"
             ],
             [
              0.5555555555555556,
              "#d8576b"
             ],
             [
              0.6666666666666666,
              "#ed7953"
             ],
             [
              0.7777777777777778,
              "#fb9f3a"
             ],
             [
              0.8888888888888888,
              "#fdca26"
             ],
             [
              1,
              "#f0f921"
             ]
            ],
            "type": "histogram2dcontour"
           }
          ],
          "mesh3d": [
           {
            "colorbar": {
             "outlinewidth": 0,
             "ticks": ""
            },
            "type": "mesh3d"
           }
          ],
          "parcoords": [
           {
            "line": {
             "colorbar": {
              "outlinewidth": 0,
              "ticks": ""
             }
            },
            "type": "parcoords"
           }
          ],
          "pie": [
           {
            "automargin": true,
            "type": "pie"
           }
          ],
          "scatter": [
           {
            "fillpattern": {
             "fillmode": "overlay",
             "size": 10,
             "solidity": 0.2
            },
            "type": "scatter"
           }
          ],
          "scatter3d": [
           {
            "line": {
             "colorbar": {
              "outlinewidth": 0,
              "ticks": ""
             }
            },
            "marker": {
             "colorbar": {
              "outlinewidth": 0,
              "ticks": ""
             }
            },
            "type": "scatter3d"
           }
          ],
          "scattercarpet": [
           {
            "marker": {
             "colorbar": {
              "outlinewidth": 0,
              "ticks": ""
             }
            },
            "type": "scattercarpet"
           }
          ],
          "scattergeo": [
           {
            "marker": {
             "colorbar": {
              "outlinewidth": 0,
              "ticks": ""
             }
            },
            "type": "scattergeo"
           }
          ],
          "scattergl": [
           {
            "marker": {
             "colorbar": {
              "outlinewidth": 0,
              "ticks": ""
             }
            },
            "type": "scattergl"
           }
          ],
          "scattermapbox": [
           {
            "marker": {
             "colorbar": {
              "outlinewidth": 0,
              "ticks": ""
             }
            },
            "type": "scattermapbox"
           }
          ],
          "scatterpolar": [
           {
            "marker": {
             "colorbar": {
              "outlinewidth": 0,
              "ticks": ""
             }
            },
            "type": "scatterpolar"
           }
          ],
          "scatterpolargl": [
           {
            "marker": {
             "colorbar": {
              "outlinewidth": 0,
              "ticks": ""
             }
            },
            "type": "scatterpolargl"
           }
          ],
          "scatterternary": [
           {
            "marker": {
             "colorbar": {
              "outlinewidth": 0,
              "ticks": ""
             }
            },
            "type": "scatterternary"
           }
          ],
          "surface": [
           {
            "colorbar": {
             "outlinewidth": 0,
             "ticks": ""
            },
            "colorscale": [
             [
              0,
              "#0d0887"
             ],
             [
              0.1111111111111111,
              "#46039f"
             ],
             [
              0.2222222222222222,
              "#7201a8"
             ],
             [
              0.3333333333333333,
              "#9c179e"
             ],
             [
              0.4444444444444444,
              "#bd3786"
             ],
             [
              0.5555555555555556,
              "#d8576b"
             ],
             [
              0.6666666666666666,
              "#ed7953"
             ],
             [
              0.7777777777777778,
              "#fb9f3a"
             ],
             [
              0.8888888888888888,
              "#fdca26"
             ],
             [
              1,
              "#f0f921"
             ]
            ],
            "type": "surface"
           }
          ],
          "table": [
           {
            "cells": {
             "fill": {
              "color": "#EBF0F8"
             },
             "line": {
              "color": "white"
             }
            },
            "header": {
             "fill": {
              "color": "#C8D4E3"
             },
             "line": {
              "color": "white"
             }
            },
            "type": "table"
           }
          ]
         },
         "layout": {
          "annotationdefaults": {
           "arrowcolor": "#2a3f5f",
           "arrowhead": 0,
           "arrowwidth": 1
          },
          "autotypenumbers": "strict",
          "coloraxis": {
           "colorbar": {
            "outlinewidth": 0,
            "ticks": ""
           }
          },
          "colorscale": {
           "diverging": [
            [
             0,
             "#8e0152"
            ],
            [
             0.1,
             "#c51b7d"
            ],
            [
             0.2,
             "#de77ae"
            ],
            [
             0.3,
             "#f1b6da"
            ],
            [
             0.4,
             "#fde0ef"
            ],
            [
             0.5,
             "#f7f7f7"
            ],
            [
             0.6,
             "#e6f5d0"
            ],
            [
             0.7,
             "#b8e186"
            ],
            [
             0.8,
             "#7fbc41"
            ],
            [
             0.9,
             "#4d9221"
            ],
            [
             1,
             "#276419"
            ]
           ],
           "sequential": [
            [
             0,
             "#0d0887"
            ],
            [
             0.1111111111111111,
             "#46039f"
            ],
            [
             0.2222222222222222,
             "#7201a8"
            ],
            [
             0.3333333333333333,
             "#9c179e"
            ],
            [
             0.4444444444444444,
             "#bd3786"
            ],
            [
             0.5555555555555556,
             "#d8576b"
            ],
            [
             0.6666666666666666,
             "#ed7953"
            ],
            [
             0.7777777777777778,
             "#fb9f3a"
            ],
            [
             0.8888888888888888,
             "#fdca26"
            ],
            [
             1,
             "#f0f921"
            ]
           ],
           "sequentialminus": [
            [
             0,
             "#0d0887"
            ],
            [
             0.1111111111111111,
             "#46039f"
            ],
            [
             0.2222222222222222,
             "#7201a8"
            ],
            [
             0.3333333333333333,
             "#9c179e"
            ],
            [
             0.4444444444444444,
             "#bd3786"
            ],
            [
             0.5555555555555556,
             "#d8576b"
            ],
            [
             0.6666666666666666,
             "#ed7953"
            ],
            [
             0.7777777777777778,
             "#fb9f3a"
            ],
            [
             0.8888888888888888,
             "#fdca26"
            ],
            [
             1,
             "#f0f921"
            ]
           ]
          },
          "colorway": [
           "#636efa",
           "#EF553B",
           "#00cc96",
           "#ab63fa",
           "#FFA15A",
           "#19d3f3",
           "#FF6692",
           "#B6E880",
           "#FF97FF",
           "#FECB52"
          ],
          "font": {
           "color": "#2a3f5f"
          },
          "geo": {
           "bgcolor": "white",
           "lakecolor": "white",
           "landcolor": "#E5ECF6",
           "showlakes": true,
           "showland": true,
           "subunitcolor": "white"
          },
          "hoverlabel": {
           "align": "left"
          },
          "hovermode": "closest",
          "mapbox": {
           "style": "light"
          },
          "paper_bgcolor": "white",
          "plot_bgcolor": "#E5ECF6",
          "polar": {
           "angularaxis": {
            "gridcolor": "white",
            "linecolor": "white",
            "ticks": ""
           },
           "bgcolor": "#E5ECF6",
           "radialaxis": {
            "gridcolor": "white",
            "linecolor": "white",
            "ticks": ""
           }
          },
          "scene": {
           "xaxis": {
            "backgroundcolor": "#E5ECF6",
            "gridcolor": "white",
            "gridwidth": 2,
            "linecolor": "white",
            "showbackground": true,
            "ticks": "",
            "zerolinecolor": "white"
           },
           "yaxis": {
            "backgroundcolor": "#E5ECF6",
            "gridcolor": "white",
            "gridwidth": 2,
            "linecolor": "white",
            "showbackground": true,
            "ticks": "",
            "zerolinecolor": "white"
           },
           "zaxis": {
            "backgroundcolor": "#E5ECF6",
            "gridcolor": "white",
            "gridwidth": 2,
            "linecolor": "white",
            "showbackground": true,
            "ticks": "",
            "zerolinecolor": "white"
           }
          },
          "shapedefaults": {
           "line": {
            "color": "#2a3f5f"
           }
          },
          "ternary": {
           "aaxis": {
            "gridcolor": "white",
            "linecolor": "white",
            "ticks": ""
           },
           "baxis": {
            "gridcolor": "white",
            "linecolor": "white",
            "ticks": ""
           },
           "bgcolor": "#E5ECF6",
           "caxis": {
            "gridcolor": "white",
            "linecolor": "white",
            "ticks": ""
           }
          },
          "title": {
           "x": 0.05
          },
          "xaxis": {
           "automargin": true,
           "gridcolor": "white",
           "linecolor": "white",
           "ticks": "",
           "title": {
            "standoff": 15
           },
           "zerolinecolor": "white",
           "zerolinewidth": 2
          },
          "yaxis": {
           "automargin": true,
           "gridcolor": "white",
           "linecolor": "white",
           "ticks": "",
           "title": {
            "standoff": 15
           },
           "zerolinecolor": "white",
           "zerolinewidth": 2
          }
         }
        },
        "xaxis": {
         "anchor": "y",
         "domain": [
          0,
          1
         ],
         "title": {
          "text": "value"
         }
        },
        "yaxis": {
         "anchor": "x",
         "domain": [
          0,
          1
         ],
         "title": {
          "text": "count"
         }
        }
       }
      },
      "text/html": [
       "<div>                            <div id=\"fe812f91-0476-4f54-8284-227135d54784\" class=\"plotly-graph-div\" style=\"height:525px; width:100%;\"></div>            <script type=\"text/javascript\">                require([\"plotly\"], function(Plotly) {                    window.PLOTLYENV=window.PLOTLYENV || {};                                    if (document.getElementById(\"fe812f91-0476-4f54-8284-227135d54784\")) {                    Plotly.newPlot(                        \"fe812f91-0476-4f54-8284-227135d54784\",                        [{\"alignmentgroup\":\"True\",\"bingroup\":\"x\",\"hovertemplate\":\"variable=Bathrooms<br>value=%{x}<br>count=%{y}<extra></extra>\",\"legendgroup\":\"Bathrooms\",\"marker\":{\"color\":\"#636efa\",\"pattern\":{\"shape\":\"\"}},\"name\":\"Bathrooms\",\"offsetgroup\":\"Bathrooms\",\"orientation\":\"v\",\"showlegend\":true,\"x\":[1.0,1.5,2.0,1.0,1.0,2.0,1.5,1.0,1.0,1.5,2.5,2.5,1.5,2.0,2.0,2.5,1.5,2.5,2.5,2.5,2.5,2.5,1.5,2.0,2.0,1.0,2.5,2.0,2.5,1.5,1.0,1.0,2.5,1.0,1.5,1.5,2.5,2.0,1.5,2.5,2.0,2.5,2.0,1.0,1.5,2.5,1.0,1.0,2.5,2.5,1.0,1.0,1.0,1.5,2.0,2.5,1.0,1.0,1.5,1.0,1.5,1.5,2.0,1.5,2.0,2.0,1.5,1.5,2.0,3.0,2.0,1.5,2.5,1.5,2.0,1.0,1.5,2.5,1.0,2.0,1.5,2.5,1.5,1.0,2.0,1.0,2.5,1.0,1.0,2.0,1.0,1.5,1.0,1.0,1.5,1.5,1.5,1.0,1.0,1.0,1.5,1.0,2.0,1.5,2.0,2.0,1.0,1.0,2.5,2.5,2.5,1.5,2.5,2.5,2.5,2.5,2.0,2.5,2.0,2.0,2.5,2.5,1.0,2.5,2.5,2.5,2.5,1.0,1.5,1.0,2.0,1.5,2.5,1.0,2.5,2.0,2.5,1.5,2.5,2.0,1.0,2.5,2.5,1.5,2.0,1.5,2.5,2.5,1.0,1.5,1.5,1.5,2.0,2.0,1.5,1.5,2.5,1.5,2.0,2.0,2.0,3.0,3.5,1.0,1.5,1.0,2.5,2.5,2.5,2.0,2.5,1.0,3.0,1.5,1.0,1.0,1.5,1.0,2.5,1.5,1.0,1.5,1.5,2.5,2.5,2.5,1.0,1.5,1.5,2.0,2.5,1.0,2.5,2.5,1.5,1.5,2.0,2.5,2.5,1.5,2.5,2.0,2.5,2.0,2.5,2.0,2.5,2.5,2.5,2.5,1.5,2.5,2.5,2.5,2.5,2.5,3.0,2.5,2.5,1.5,2.5,2.5,2.5,2.5,3.0,2.5,1.5,2.5,1.5,1.5,1.5,2.0,2.5,2.5,2.5,2.5,2.0,3.5,2.5,2.5,2.5,2.5,2.5,2.5,2.0,1.5,1.5,2.5,1.5,2.0,2.5,2.5,1.5,4.0,2.5,1.5,2.5,2.5,2.5,1.5,1.0,2.5,1.0,2.5,3.5,2.5,1.5,2.5,1.5,1.5,1.5,2.0,1.0,2.0,2.0,1.0,2.0,2.0,1.0,2.0,1.5,1.0,1.0,1.5,1.5,1.0,1.5,1.5,3.5,1.0,2.5,1.5,2.0,1.5,1.0,1.0,1.0,1.0,1.0,1.5,1.0,2.5,1.0,1.5,1.0,2.0,2.0,2.5,2.0,2.0,2.0,1.0,1.0,3.5,2.0,1.0,1.0,1.0,1.5,2.0,2.0,2.0,1.0,2.0,1.5,1.5,2.5,1.0,2.5,2.5,1.0,1.5,3.0,2.5,1.0,2.0,1.0,1.0,1.5,1.5,1.5,2.0,2.0,2.0,1.5,1.5,2.5,2.0,2.5,2.5,2.5,1.5,1.5,2.5,2.5,1.5,1.0,1.0,1.0,2.5,2.5,2.0,1.0,3.0,2.0,1.5,1.5,2.5,2.5,1.0,2.5,1.5,1.0,2.5,1.5,2.5,2.5,2.5,2.5,1.0,1.0,2.5,1.0,1.5,1.5,2.5,2.5,1.5,1.0,1.0,2.5,2.5,2.5,2.0,1.5,2.5,2.5,2.0,1.0,1.5,1.0,2.5,2.5,1.0,1.0,2.5,1.0,2.5,2.5,1.5,1.5,2.0,2.5,2.0,1.5,2.5,2.5,2.0,2.5,1.0,2.5,2.0,2.5,2.5,2.0,1.0,2.0,1.0,1.5,2.5,1.5,1.5,3.0,2.5,2.0,1.0,2.0,1.0,2.0,1.0,1.0,2.0,1.0,1.0,1.5,2.5,1.0,1.5,1.5,1.5,1.5,1.5,3.5,1.5,1.5,2.5,2.5,2.5,1.5,1.5,1.0,1.0,2.5,1.5,1.0,2.0,2.5,1.5,1.0,2.5,1.5,2.5,1.5,3.5,2.5,1.5,1.5,2.5,2.5,1.0,2.5,2.5,2.5,2.5,2.5,2.5,2.0,2.5,1.0,2.5,2.5,3.0,2.5,2.5,2.5,2.5,2.5,2.5,2.5,2.5,1.5,2.5,1.5,1.5,2.5,2.5,2.0,2.5,2.5,2.5,2.5,1.5,1.5,1.5,1.5,1.5,1.0,2.0,1.0,1.0,1.0,1.5,1.5,1.5,1.5,1.0,1.5,1.5,2.0,2.0,2.5,2.5,1.5,1.5,1.5,2.5,1.0,1.5,3.0,1.5,2.0,2.5,2.5,2.0,2.5,1.5,2.0,2.5,1.5,2.0,1.5,1.5,2.5,2.0,1.0,2.5,2.0,2.5,1.5,2.5,2.0,1.0,1.0,2.5,2.5,2.5,1.0,1.0,1.5,2.0,2.5,2.5,1.5,1.5,1.0,2.5,2.5,2.0,2.5,2.5,1.5,1.0,2.5,2.5,1.5,1.5,2.5,2.0,2.5,1.5,2.5,2.5,1.5,2.5,1.5,2.5,2.0,1.5,1.0,2.5,2.5,2.5,2.5,2.5,2.5,2.5,2.5,2.5,1.0,1.5,2.5,2.5,2.5,2.5,2.5,2.0,1.5,2.5,2.5,2.5,2.5,2.5,2.5,2.0,2.5,2.5,1.5,1.0,2.0,2.5,2.0,2.5,1.5,2.0,1.5,2.5,2.5,1.5,1.5,2.5,2.0,2.0,2.5,1.5,2.5,2.0,2.5,1.5,1.5,2.0,1.5,1.5,2.0,1.5,2.5,2.5,3.5,2.5,1.5,2.5,1.0,2.5,2.0,2.5,1.0,1.5,2.0,1.5,1.5,2.5,1.5,2.0,2.0,1.5,2.0,1.0,2.0,1.5,1.0,1.0,2.0,2.0,2.5,2.0,1.5,1.0,1.0,2.5,2.5,1.5,1.5,2.0,2.5,2.5,1.5,1.0,1.5,2.5,1.0,1.5,2.0,2.5,1.5,2.5,1.5,4.0,1.5,2.5,1.5,1.0,1.0,1.5,1.0,2.0,1.0,1.0,1.0,1.0,1.0,1.0,1.0,2.5,2.5,1.5,2.0,2.5,2.0,3.5,2.0,1.0,1.0,2.5,2.0,2.0,1.5,2.0,1.5,1.0,1.0,1.0,1.0,2.0,1.5,2.5,2.5,1.0,1.0,2.5,3.0,2.5,1.5,2.0,1.5,2.5,1.0,3.0,1.0,1.0,2.0,1.5,1.5,1.0,1.0,2.0,2.5,2.0,2.5,1.5,1.0,2.5,1.5,1.5,2.5,2.5,1.5,1.0,1.0,2.0,1.0,2.5,1.0,1.5,1.5,2.5,2.0,2.5,2.0,1.0,2.5,1.0,2.5,1.5,2.5,2.0,2.5,2.5,2.0,1.5,2.5,2.5,2.5,2.0,2.5,2.5,2.5,1.5,2.0,2.0,2.5,2.0,3.0,2.0,2.0,2.5,2.0,1.0,2.5,1.5,2.5,2.5,1.5,2.5,1.0,2.5,2.5,2.5,2.5,2.5,2.5,2.0,1.5,2.5,3.5,3.0,1.0,2.5,2.5,1.5,2.0,2.5,2.0,1.5,1.5,2.0,1.5,1.5,1.0,2.5,1.5,2.0,1.5,2.0,1.5,2.5,1.5,1.5,2.0,2.5,1.5,3.0,2.0,1.0,2.5,2.5,2.5,2.0,2.5,1.0,3.0,4.5,2.5,1.0,2.5,1.5,3.5,1.5,2.5,2.5,1.5,1.5,2.5,2.5,2.0,1.5,2.0,1.5,2.5,1.0,1.0,1.5,1.0,1.0,2.5,2.0,1.0,1.0,1.0,1.0,1.5,2.5,1.0,2.5,1.5,2.5,1.0,2.0,3.0,1.0,2.5,2.5,2.5,1.0,1.5,3.0,2.5,2.5,2.5,2.5,2.5,1.0,1.5,2.5,2.5,2.5,1.5,2.5,1.5,1.5,1.5,1.5,4.0,2.5,2.5,1.5,1.0,1.5,2.5,1.5,1.0,1.5,1.5,2.5,2.5,2.0,3.5,1.5,2.0,1.5,2.5,2.0,1.5,2.5,2.5,2.5,2.5,2.0,4.5,2.5,2.5,2.0,2.5,2.5,1.5,1.5,1.5,2.5,1.0,2.0,1.0,2.0,2.5,2.5,1.5,1.5,1.0,2.5,3.0,1.5,1.0,2.0,1.0,1.5,2.0,1.5,1.5,1.0,2.5,1.5,2.5,2.5,3.0,2.5,3.0,2.5,2.0,3.0,3.5,1.5,2.5,1.5,1.5,2.5,1.5,1.5,1.5,2.5,2.5,2.5,1.5,2.5,2.5,2.0,2.5,3.0,2.5,2.5,1.0,1.0,2.5,1.0,2.0,1.0,2.5,2.5,2.5,2.5,1.5,2.5,1.0,1.0,1.5,2.5,2.5,3.5,2.0,1.5,2.5,1.0,1.5,2.0,2.5,2.5,2.0,3.5,2.0,2.5,2.5],\"xaxis\":\"x\",\"yaxis\":\"y\",\"type\":\"histogram\"}],                        {\"template\":{\"data\":{\"histogram2dcontour\":[{\"type\":\"histogram2dcontour\",\"colorbar\":{\"outlinewidth\":0,\"ticks\":\"\"},\"colorscale\":[[0.0,\"#0d0887\"],[0.1111111111111111,\"#46039f\"],[0.2222222222222222,\"#7201a8\"],[0.3333333333333333,\"#9c179e\"],[0.4444444444444444,\"#bd3786\"],[0.5555555555555556,\"#d8576b\"],[0.6666666666666666,\"#ed7953\"],[0.7777777777777778,\"#fb9f3a\"],[0.8888888888888888,\"#fdca26\"],[1.0,\"#f0f921\"]]}],\"choropleth\":[{\"type\":\"choropleth\",\"colorbar\":{\"outlinewidth\":0,\"ticks\":\"\"}}],\"histogram2d\":[{\"type\":\"histogram2d\",\"colorbar\":{\"outlinewidth\":0,\"ticks\":\"\"},\"colorscale\":[[0.0,\"#0d0887\"],[0.1111111111111111,\"#46039f\"],[0.2222222222222222,\"#7201a8\"],[0.3333333333333333,\"#9c179e\"],[0.4444444444444444,\"#bd3786\"],[0.5555555555555556,\"#d8576b\"],[0.6666666666666666,\"#ed7953\"],[0.7777777777777778,\"#fb9f3a\"],[0.8888888888888888,\"#fdca26\"],[1.0,\"#f0f921\"]]}],\"heatmap\":[{\"type\":\"heatmap\",\"colorbar\":{\"outlinewidth\":0,\"ticks\":\"\"},\"colorscale\":[[0.0,\"#0d0887\"],[0.1111111111111111,\"#46039f\"],[0.2222222222222222,\"#7201a8\"],[0.3333333333333333,\"#9c179e\"],[0.4444444444444444,\"#bd3786\"],[0.5555555555555556,\"#d8576b\"],[0.6666666666666666,\"#ed7953\"],[0.7777777777777778,\"#fb9f3a\"],[0.8888888888888888,\"#fdca26\"],[1.0,\"#f0f921\"]]}],\"heatmapgl\":[{\"type\":\"heatmapgl\",\"colorbar\":{\"outlinewidth\":0,\"ticks\":\"\"},\"colorscale\":[[0.0,\"#0d0887\"],[0.1111111111111111,\"#46039f\"],[0.2222222222222222,\"#7201a8\"],[0.3333333333333333,\"#9c179e\"],[0.4444444444444444,\"#bd3786\"],[0.5555555555555556,\"#d8576b\"],[0.6666666666666666,\"#ed7953\"],[0.7777777777777778,\"#fb9f3a\"],[0.8888888888888888,\"#fdca26\"],[1.0,\"#f0f921\"]]}],\"contourcarpet\":[{\"type\":\"contourcarpet\",\"colorbar\":{\"outlinewidth\":0,\"ticks\":\"\"}}],\"contour\":[{\"type\":\"contour\",\"colorbar\":{\"outlinewidth\":0,\"ticks\":\"\"},\"colorscale\":[[0.0,\"#0d0887\"],[0.1111111111111111,\"#46039f\"],[0.2222222222222222,\"#7201a8\"],[0.3333333333333333,\"#9c179e\"],[0.4444444444444444,\"#bd3786\"],[0.5555555555555556,\"#d8576b\"],[0.6666666666666666,\"#ed7953\"],[0.7777777777777778,\"#fb9f3a\"],[0.8888888888888888,\"#fdca26\"],[1.0,\"#f0f921\"]]}],\"surface\":[{\"type\":\"surface\",\"colorbar\":{\"outlinewidth\":0,\"ticks\":\"\"},\"colorscale\":[[0.0,\"#0d0887\"],[0.1111111111111111,\"#46039f\"],[0.2222222222222222,\"#7201a8\"],[0.3333333333333333,\"#9c179e\"],[0.4444444444444444,\"#bd3786\"],[0.5555555555555556,\"#d8576b\"],[0.6666666666666666,\"#ed7953\"],[0.7777777777777778,\"#fb9f3a\"],[0.8888888888888888,\"#fdca26\"],[1.0,\"#f0f921\"]]}],\"mesh3d\":[{\"type\":\"mesh3d\",\"colorbar\":{\"outlinewidth\":0,\"ticks\":\"\"}}],\"scatter\":[{\"fillpattern\":{\"fillmode\":\"overlay\",\"size\":10,\"solidity\":0.2},\"type\":\"scatter\"}],\"parcoords\":[{\"type\":\"parcoords\",\"line\":{\"colorbar\":{\"outlinewidth\":0,\"ticks\":\"\"}}}],\"scatterpolargl\":[{\"type\":\"scatterpolargl\",\"marker\":{\"colorbar\":{\"outlinewidth\":0,\"ticks\":\"\"}}}],\"bar\":[{\"error_x\":{\"color\":\"#2a3f5f\"},\"error_y\":{\"color\":\"#2a3f5f\"},\"marker\":{\"line\":{\"color\":\"#E5ECF6\",\"width\":0.5},\"pattern\":{\"fillmode\":\"overlay\",\"size\":10,\"solidity\":0.2}},\"type\":\"bar\"}],\"scattergeo\":[{\"type\":\"scattergeo\",\"marker\":{\"colorbar\":{\"outlinewidth\":0,\"ticks\":\"\"}}}],\"scatterpolar\":[{\"type\":\"scatterpolar\",\"marker\":{\"colorbar\":{\"outlinewidth\":0,\"ticks\":\"\"}}}],\"histogram\":[{\"marker\":{\"pattern\":{\"fillmode\":\"overlay\",\"size\":10,\"solidity\":0.2}},\"type\":\"histogram\"}],\"scattergl\":[{\"type\":\"scattergl\",\"marker\":{\"colorbar\":{\"outlinewidth\":0,\"ticks\":\"\"}}}],\"scatter3d\":[{\"type\":\"scatter3d\",\"line\":{\"colorbar\":{\"outlinewidth\":0,\"ticks\":\"\"}},\"marker\":{\"colorbar\":{\"outlinewidth\":0,\"ticks\":\"\"}}}],\"scattermapbox\":[{\"type\":\"scattermapbox\",\"marker\":{\"colorbar\":{\"outlinewidth\":0,\"ticks\":\"\"}}}],\"scatterternary\":[{\"type\":\"scatterternary\",\"marker\":{\"colorbar\":{\"outlinewidth\":0,\"ticks\":\"\"}}}],\"scattercarpet\":[{\"type\":\"scattercarpet\",\"marker\":{\"colorbar\":{\"outlinewidth\":0,\"ticks\":\"\"}}}],\"carpet\":[{\"aaxis\":{\"endlinecolor\":\"#2a3f5f\",\"gridcolor\":\"white\",\"linecolor\":\"white\",\"minorgridcolor\":\"white\",\"startlinecolor\":\"#2a3f5f\"},\"baxis\":{\"endlinecolor\":\"#2a3f5f\",\"gridcolor\":\"white\",\"linecolor\":\"white\",\"minorgridcolor\":\"white\",\"startlinecolor\":\"#2a3f5f\"},\"type\":\"carpet\"}],\"table\":[{\"cells\":{\"fill\":{\"color\":\"#EBF0F8\"},\"line\":{\"color\":\"white\"}},\"header\":{\"fill\":{\"color\":\"#C8D4E3\"},\"line\":{\"color\":\"white\"}},\"type\":\"table\"}],\"barpolar\":[{\"marker\":{\"line\":{\"color\":\"#E5ECF6\",\"width\":0.5},\"pattern\":{\"fillmode\":\"overlay\",\"size\":10,\"solidity\":0.2}},\"type\":\"barpolar\"}],\"pie\":[{\"automargin\":true,\"type\":\"pie\"}]},\"layout\":{\"autotypenumbers\":\"strict\",\"colorway\":[\"#636efa\",\"#EF553B\",\"#00cc96\",\"#ab63fa\",\"#FFA15A\",\"#19d3f3\",\"#FF6692\",\"#B6E880\",\"#FF97FF\",\"#FECB52\"],\"font\":{\"color\":\"#2a3f5f\"},\"hovermode\":\"closest\",\"hoverlabel\":{\"align\":\"left\"},\"paper_bgcolor\":\"white\",\"plot_bgcolor\":\"#E5ECF6\",\"polar\":{\"bgcolor\":\"#E5ECF6\",\"angularaxis\":{\"gridcolor\":\"white\",\"linecolor\":\"white\",\"ticks\":\"\"},\"radialaxis\":{\"gridcolor\":\"white\",\"linecolor\":\"white\",\"ticks\":\"\"}},\"ternary\":{\"bgcolor\":\"#E5ECF6\",\"aaxis\":{\"gridcolor\":\"white\",\"linecolor\":\"white\",\"ticks\":\"\"},\"baxis\":{\"gridcolor\":\"white\",\"linecolor\":\"white\",\"ticks\":\"\"},\"caxis\":{\"gridcolor\":\"white\",\"linecolor\":\"white\",\"ticks\":\"\"}},\"coloraxis\":{\"colorbar\":{\"outlinewidth\":0,\"ticks\":\"\"}},\"colorscale\":{\"sequential\":[[0.0,\"#0d0887\"],[0.1111111111111111,\"#46039f\"],[0.2222222222222222,\"#7201a8\"],[0.3333333333333333,\"#9c179e\"],[0.4444444444444444,\"#bd3786\"],[0.5555555555555556,\"#d8576b\"],[0.6666666666666666,\"#ed7953\"],[0.7777777777777778,\"#fb9f3a\"],[0.8888888888888888,\"#fdca26\"],[1.0,\"#f0f921\"]],\"sequentialminus\":[[0.0,\"#0d0887\"],[0.1111111111111111,\"#46039f\"],[0.2222222222222222,\"#7201a8\"],[0.3333333333333333,\"#9c179e\"],[0.4444444444444444,\"#bd3786\"],[0.5555555555555556,\"#d8576b\"],[0.6666666666666666,\"#ed7953\"],[0.7777777777777778,\"#fb9f3a\"],[0.8888888888888888,\"#fdca26\"],[1.0,\"#f0f921\"]],\"diverging\":[[0,\"#8e0152\"],[0.1,\"#c51b7d\"],[0.2,\"#de77ae\"],[0.3,\"#f1b6da\"],[0.4,\"#fde0ef\"],[0.5,\"#f7f7f7\"],[0.6,\"#e6f5d0\"],[0.7,\"#b8e186\"],[0.8,\"#7fbc41\"],[0.9,\"#4d9221\"],[1,\"#276419\"]]},\"xaxis\":{\"gridcolor\":\"white\",\"linecolor\":\"white\",\"ticks\":\"\",\"title\":{\"standoff\":15},\"zerolinecolor\":\"white\",\"automargin\":true,\"zerolinewidth\":2},\"yaxis\":{\"gridcolor\":\"white\",\"linecolor\":\"white\",\"ticks\":\"\",\"title\":{\"standoff\":15},\"zerolinecolor\":\"white\",\"automargin\":true,\"zerolinewidth\":2},\"scene\":{\"xaxis\":{\"backgroundcolor\":\"#E5ECF6\",\"gridcolor\":\"white\",\"linecolor\":\"white\",\"showbackground\":true,\"ticks\":\"\",\"zerolinecolor\":\"white\",\"gridwidth\":2},\"yaxis\":{\"backgroundcolor\":\"#E5ECF6\",\"gridcolor\":\"white\",\"linecolor\":\"white\",\"showbackground\":true,\"ticks\":\"\",\"zerolinecolor\":\"white\",\"gridwidth\":2},\"zaxis\":{\"backgroundcolor\":\"#E5ECF6\",\"gridcolor\":\"white\",\"linecolor\":\"white\",\"showbackground\":true,\"ticks\":\"\",\"zerolinecolor\":\"white\",\"gridwidth\":2}},\"shapedefaults\":{\"line\":{\"color\":\"#2a3f5f\"}},\"annotationdefaults\":{\"arrowcolor\":\"#2a3f5f\",\"arrowhead\":0,\"arrowwidth\":1},\"geo\":{\"bgcolor\":\"white\",\"landcolor\":\"#E5ECF6\",\"subunitcolor\":\"white\",\"showland\":true,\"showlakes\":true,\"lakecolor\":\"white\"},\"title\":{\"x\":0.05},\"mapbox\":{\"style\":\"light\"}}},\"xaxis\":{\"anchor\":\"y\",\"domain\":[0.0,1.0],\"title\":{\"text\":\"value\"}},\"yaxis\":{\"anchor\":\"x\",\"domain\":[0.0,1.0],\"title\":{\"text\":\"count\"}},\"legend\":{\"title\":{\"text\":\"variable\"},\"tracegroupgap\":0},\"margin\":{\"t\":60},\"barmode\":\"relative\"},                        {\"responsive\": true}                    ).then(function(){\n",
       "                            \n",
       "var gd = document.getElementById('fe812f91-0476-4f54-8284-227135d54784');\n",
       "var x = new MutationObserver(function (mutations, observer) {{\n",
       "        var display = window.getComputedStyle(gd).display;\n",
       "        if (!display || display === 'none') {{\n",
       "            console.log([gd, 'removed!']);\n",
       "            Plotly.purge(gd);\n",
       "            observer.disconnect();\n",
       "        }}\n",
       "}});\n",
       "\n",
       "// Listen for the removal of the full notebook cells\n",
       "var notebookContainer = gd.closest('#notebook-container');\n",
       "if (notebookContainer) {{\n",
       "    x.observe(notebookContainer, {childList: true});\n",
       "}}\n",
       "\n",
       "// Listen for the clearing of the current output cell\n",
       "var outputEl = gd.closest('.output');\n",
       "if (outputEl) {{\n",
       "    x.observe(outputEl, {childList: true});\n",
       "}}\n",
       "\n",
       "                        })                };                });            </script>        </div>"
      ]
     },
     "metadata": {},
     "output_type": "display_data"
    },
    {
     "data": {
      "application/vnd.plotly.v1+json": {
       "config": {
        "plotlyServerURL": "https://plot.ly"
       },
       "data": [
        {
         "alignmentgroup": "True",
         "bingroup": "x",
         "hovertemplate": "variable=Bedrooms<br>value=%{x}<br>count=%{y}<extra></extra>",
         "legendgroup": "Bedrooms",
         "marker": {
          "color": "#636efa",
          "pattern": {
           "shape": ""
          }
         },
         "name": "Bedrooms",
         "offsetgroup": "Bedrooms",
         "orientation": "v",
         "showlegend": true,
         "type": "histogram",
         "x": [
          3,
          3,
          3,
          2,
          3,
          3,
          2,
          2,
          2,
          3,
          3,
          3,
          3,
          2,
          3,
          3,
          4,
          3,
          4,
          4,
          4,
          3,
          3,
          3,
          3,
          3,
          4,
          4,
          4,
          3,
          2,
          2,
          2,
          2,
          3,
          3,
          3,
          3,
          3,
          4,
          3,
          4,
          3,
          3,
          3,
          4,
          3,
          3,
          2,
          3,
          3,
          2,
          2,
          3,
          3,
          4,
          3,
          2,
          3,
          3,
          3,
          3,
          3,
          3,
          4,
          3,
          3,
          3,
          4,
          2,
          2,
          2,
          2,
          3,
          2,
          4,
          4,
          3,
          3,
          3,
          3,
          3,
          3,
          3,
          3,
          3,
          3,
          3,
          3,
          3,
          2,
          4,
          4,
          3,
          2,
          3,
          3,
          3,
          3,
          2,
          2,
          3,
          5,
          3,
          3,
          3,
          3,
          3,
          3,
          3,
          3,
          3,
          3,
          3,
          4,
          3,
          3,
          4,
          4,
          4,
          4,
          4,
          3,
          5,
          3,
          3,
          2,
          2,
          2,
          3,
          2,
          3,
          4,
          4,
          5,
          3,
          4,
          2,
          3,
          3,
          2,
          3,
          4,
          2,
          3,
          4,
          4,
          4,
          2,
          3,
          3,
          3,
          3,
          3,
          3,
          2,
          4,
          3,
          3,
          3,
          3,
          4,
          4,
          2,
          2,
          4,
          4,
          3,
          3,
          3,
          3,
          3,
          4,
          2,
          5,
          2,
          4,
          3,
          3,
          3,
          2,
          3,
          3,
          4,
          3,
          4,
          4,
          3,
          2,
          3,
          4,
          2,
          4,
          4,
          3,
          3,
          3,
          4,
          3,
          3,
          4,
          3,
          3,
          3,
          4,
          3,
          4,
          4,
          5,
          4,
          4,
          4,
          5,
          4,
          4,
          3,
          4,
          4,
          3,
          3,
          4,
          4,
          4,
          4,
          4,
          4,
          3,
          6,
          4,
          4,
          2,
          3,
          4,
          3,
          4,
          4,
          2,
          4,
          4,
          4,
          4,
          4,
          4,
          4,
          3,
          3,
          3,
          3,
          2,
          3,
          3,
          4,
          4,
          5,
          3,
          3,
          4,
          4,
          4,
          2,
          2,
          4,
          2,
          4,
          4,
          4,
          2,
          4,
          2,
          2,
          3,
          3,
          3,
          2,
          4,
          3,
          4,
          2,
          3,
          3,
          3,
          2,
          3,
          3,
          3,
          2,
          3,
          2,
          4,
          3,
          3,
          4,
          3,
          5,
          3,
          3,
          2,
          3,
          3,
          3,
          6,
          3,
          2,
          4,
          3,
          4,
          3,
          4,
          4,
          3,
          4,
          2,
          4,
          4,
          4,
          4,
          4,
          2,
          3,
          4,
          3,
          4,
          3,
          3,
          3,
          3,
          4,
          3,
          4,
          4,
          2,
          3,
          4,
          3,
          2,
          3,
          3,
          3,
          4,
          4,
          3,
          3,
          2,
          3,
          3,
          4,
          4,
          3,
          4,
          4,
          4,
          3,
          3,
          3,
          4,
          2,
          2,
          3,
          3,
          3,
          3,
          3,
          3,
          3,
          2,
          3,
          3,
          4,
          3,
          2,
          4,
          3,
          2,
          3,
          3,
          3,
          3,
          3,
          3,
          2,
          2,
          3,
          3,
          3,
          3,
          4,
          4,
          3,
          3,
          2,
          3,
          3,
          3,
          3,
          2,
          3,
          3,
          3,
          3,
          3,
          3,
          3,
          3,
          3,
          2,
          4,
          3,
          3,
          4,
          3,
          3,
          2,
          4,
          3,
          2,
          2,
          4,
          3,
          4,
          3,
          3,
          3,
          3,
          4,
          2,
          3,
          3,
          2,
          4,
          4,
          2,
          3,
          3,
          3,
          3,
          2,
          3,
          3,
          3,
          3,
          3,
          3,
          1,
          3,
          4,
          4,
          3,
          3,
          2,
          3,
          2,
          3,
          4,
          3,
          2,
          4,
          3,
          2,
          2,
          3,
          3,
          3,
          4,
          3,
          4,
          3,
          4,
          3,
          3,
          2,
          2,
          3,
          3,
          4,
          4,
          2,
          2,
          3,
          4,
          3,
          4,
          4,
          4,
          3,
          4,
          3,
          3,
          3,
          3,
          2,
          4,
          4,
          4,
          4,
          4,
          3,
          3,
          4,
          4,
          2,
          4,
          4,
          2,
          4,
          3,
          3,
          3,
          3,
          4,
          4,
          4,
          3,
          2,
          2,
          2,
          3,
          2,
          3,
          3,
          3,
          2,
          3,
          3,
          2,
          3,
          3,
          2,
          3,
          4,
          3,
          3,
          3,
          3,
          4,
          3,
          4,
          3,
          2,
          4,
          3,
          2,
          3,
          4,
          3,
          4,
          2,
          2,
          3,
          2,
          3,
          2,
          2,
          3,
          3,
          3,
          4,
          5,
          3,
          2,
          4,
          3,
          2,
          3,
          3,
          4,
          4,
          3,
          3,
          4,
          3,
          4,
          4,
          2,
          2,
          2,
          4,
          3,
          3,
          4,
          4,
          3,
          2,
          4,
          3,
          3,
          2,
          4,
          3,
          4,
          3,
          4,
          4,
          3,
          4,
          3,
          4,
          2,
          3,
          3,
          4,
          4,
          4,
          4,
          4,
          4,
          4,
          3,
          4,
          2,
          4,
          2,
          4,
          4,
          3,
          4,
          4,
          5,
          4,
          4,
          5,
          3,
          4,
          4,
          3,
          4,
          4,
          2,
          2,
          2,
          5,
          2,
          4,
          3,
          3,
          3,
          2,
          4,
          3,
          2,
          4,
          3,
          4,
          4,
          3,
          4,
          4,
          3,
          3,
          3,
          2,
          3,
          2,
          3,
          4,
          3,
          4,
          4,
          4,
          4,
          4,
          2,
          4,
          3,
          4,
          3,
          4,
          3,
          4,
          3,
          4,
          2,
          4,
          3,
          3,
          3,
          3,
          3,
          3,
          4,
          2,
          3,
          4,
          3,
          3,
          3,
          1,
          3,
          3,
          3,
          3,
          3,
          3,
          3,
          3,
          4,
          4,
          3,
          4,
          3,
          3,
          3,
          3,
          3,
          3,
          3,
          4,
          3,
          4,
          3,
          3,
          3,
          3,
          3,
          3,
          3,
          3,
          3,
          3,
          3,
          3,
          3,
          3,
          3,
          3,
          3,
          3,
          3,
          4,
          5,
          3,
          3,
          2,
          4,
          3,
          3,
          3,
          3,
          3,
          2,
          3,
          1,
          3,
          3,
          3,
          4,
          3,
          3,
          4,
          2,
          3,
          4,
          2,
          3,
          3,
          2,
          4,
          2,
          3,
          3,
          3,
          4,
          3,
          3,
          3,
          3,
          3,
          4,
          3,
          3,
          4,
          3,
          3,
          4,
          4,
          2,
          3,
          4,
          3,
          2,
          4,
          2,
          2,
          3,
          4,
          3,
          3,
          2,
          3,
          3,
          2,
          4,
          2,
          5,
          2,
          3,
          5,
          3,
          3,
          3,
          6,
          4,
          3,
          4,
          4,
          5,
          3,
          3,
          2,
          4,
          3,
          4,
          3,
          4,
          3,
          2,
          2,
          4,
          2,
          3,
          4,
          3,
          3,
          2,
          4,
          3,
          4,
          4,
          5,
          4,
          4,
          3,
          4,
          4,
          4,
          3,
          3,
          3,
          3,
          3,
          3,
          3,
          4,
          3,
          4,
          3,
          3,
          2,
          3,
          4,
          2,
          2,
          3,
          3,
          3,
          3,
          2,
          2,
          4,
          2,
          4,
          2,
          2,
          3,
          4,
          4,
          3,
          4,
          3,
          4,
          4,
          4,
          3,
          4,
          3,
          4,
          2,
          3,
          3,
          3,
          3,
          4,
          3,
          3,
          4,
          3,
          3,
          4,
          2,
          2,
          4,
          3,
          3,
          4,
          3,
          2,
          3,
          3,
          3,
          3,
          4,
          3,
          4,
          3,
          4,
          3,
          3,
          4,
          2,
          4,
          4,
          3,
          2,
          4,
          3,
          5,
          4,
          3,
          4,
          4,
          4,
          2,
          3,
          4,
          3,
          2,
          4,
          3,
          3,
          3,
          2,
          5,
          4,
          4,
          4,
          2,
          2,
          4,
          2,
          4,
          3,
          4,
          4,
          4,
          3,
          4,
          2,
          3,
          2,
          4,
          3,
          4,
          4,
          4,
          4,
          3,
          3,
          4,
          4,
          4,
          3,
          3,
          3,
          3,
          3,
          3,
          2,
          3,
          3,
          3,
          4,
          3,
          4,
          3,
          3,
          3,
          2,
          5,
          2,
          3,
          3,
          3,
          3,
          2,
          3,
          3,
          3,
          3,
          3,
          3,
          4,
          5,
          3,
          4,
          4,
          3,
          5,
          4,
          2,
          4,
          4,
          3,
          4,
          2,
          3,
          3,
          4,
          4,
          4,
          3,
          3,
          4,
          3,
          4,
          4,
          4,
          3,
          2,
          3,
          4,
          2,
          3,
          3,
          3,
          3,
          3,
          2,
          3,
          4,
          2,
          3,
          2,
          4,
          3,
          4,
          3,
          4,
          3,
          3,
          4,
          3,
          3,
          3,
          4,
          4,
          2,
          3,
          3
         ],
         "xaxis": "x",
         "yaxis": "y"
        }
       ],
       "layout": {
        "barmode": "relative",
        "legend": {
         "title": {
          "text": "variable"
         },
         "tracegroupgap": 0
        },
        "margin": {
         "t": 60
        },
        "template": {
         "data": {
          "bar": [
           {
            "error_x": {
             "color": "#2a3f5f"
            },
            "error_y": {
             "color": "#2a3f5f"
            },
            "marker": {
             "line": {
              "color": "#E5ECF6",
              "width": 0.5
             },
             "pattern": {
              "fillmode": "overlay",
              "size": 10,
              "solidity": 0.2
             }
            },
            "type": "bar"
           }
          ],
          "barpolar": [
           {
            "marker": {
             "line": {
              "color": "#E5ECF6",
              "width": 0.5
             },
             "pattern": {
              "fillmode": "overlay",
              "size": 10,
              "solidity": 0.2
             }
            },
            "type": "barpolar"
           }
          ],
          "carpet": [
           {
            "aaxis": {
             "endlinecolor": "#2a3f5f",
             "gridcolor": "white",
             "linecolor": "white",
             "minorgridcolor": "white",
             "startlinecolor": "#2a3f5f"
            },
            "baxis": {
             "endlinecolor": "#2a3f5f",
             "gridcolor": "white",
             "linecolor": "white",
             "minorgridcolor": "white",
             "startlinecolor": "#2a3f5f"
            },
            "type": "carpet"
           }
          ],
          "choropleth": [
           {
            "colorbar": {
             "outlinewidth": 0,
             "ticks": ""
            },
            "type": "choropleth"
           }
          ],
          "contour": [
           {
            "colorbar": {
             "outlinewidth": 0,
             "ticks": ""
            },
            "colorscale": [
             [
              0,
              "#0d0887"
             ],
             [
              0.1111111111111111,
              "#46039f"
             ],
             [
              0.2222222222222222,
              "#7201a8"
             ],
             [
              0.3333333333333333,
              "#9c179e"
             ],
             [
              0.4444444444444444,
              "#bd3786"
             ],
             [
              0.5555555555555556,
              "#d8576b"
             ],
             [
              0.6666666666666666,
              "#ed7953"
             ],
             [
              0.7777777777777778,
              "#fb9f3a"
             ],
             [
              0.8888888888888888,
              "#fdca26"
             ],
             [
              1,
              "#f0f921"
             ]
            ],
            "type": "contour"
           }
          ],
          "contourcarpet": [
           {
            "colorbar": {
             "outlinewidth": 0,
             "ticks": ""
            },
            "type": "contourcarpet"
           }
          ],
          "heatmap": [
           {
            "colorbar": {
             "outlinewidth": 0,
             "ticks": ""
            },
            "colorscale": [
             [
              0,
              "#0d0887"
             ],
             [
              0.1111111111111111,
              "#46039f"
             ],
             [
              0.2222222222222222,
              "#7201a8"
             ],
             [
              0.3333333333333333,
              "#9c179e"
             ],
             [
              0.4444444444444444,
              "#bd3786"
             ],
             [
              0.5555555555555556,
              "#d8576b"
             ],
             [
              0.6666666666666666,
              "#ed7953"
             ],
             [
              0.7777777777777778,
              "#fb9f3a"
             ],
             [
              0.8888888888888888,
              "#fdca26"
             ],
             [
              1,
              "#f0f921"
             ]
            ],
            "type": "heatmap"
           }
          ],
          "heatmapgl": [
           {
            "colorbar": {
             "outlinewidth": 0,
             "ticks": ""
            },
            "colorscale": [
             [
              0,
              "#0d0887"
             ],
             [
              0.1111111111111111,
              "#46039f"
             ],
             [
              0.2222222222222222,
              "#7201a8"
             ],
             [
              0.3333333333333333,
              "#9c179e"
             ],
             [
              0.4444444444444444,
              "#bd3786"
             ],
             [
              0.5555555555555556,
              "#d8576b"
             ],
             [
              0.6666666666666666,
              "#ed7953"
             ],
             [
              0.7777777777777778,
              "#fb9f3a"
             ],
             [
              0.8888888888888888,
              "#fdca26"
             ],
             [
              1,
              "#f0f921"
             ]
            ],
            "type": "heatmapgl"
           }
          ],
          "histogram": [
           {
            "marker": {
             "pattern": {
              "fillmode": "overlay",
              "size": 10,
              "solidity": 0.2
             }
            },
            "type": "histogram"
           }
          ],
          "histogram2d": [
           {
            "colorbar": {
             "outlinewidth": 0,
             "ticks": ""
            },
            "colorscale": [
             [
              0,
              "#0d0887"
             ],
             [
              0.1111111111111111,
              "#46039f"
             ],
             [
              0.2222222222222222,
              "#7201a8"
             ],
             [
              0.3333333333333333,
              "#9c179e"
             ],
             [
              0.4444444444444444,
              "#bd3786"
             ],
             [
              0.5555555555555556,
              "#d8576b"
             ],
             [
              0.6666666666666666,
              "#ed7953"
             ],
             [
              0.7777777777777778,
              "#fb9f3a"
             ],
             [
              0.8888888888888888,
              "#fdca26"
             ],
             [
              1,
              "#f0f921"
             ]
            ],
            "type": "histogram2d"
           }
          ],
          "histogram2dcontour": [
           {
            "colorbar": {
             "outlinewidth": 0,
             "ticks": ""
            },
            "colorscale": [
             [
              0,
              "#0d0887"
             ],
             [
              0.1111111111111111,
              "#46039f"
             ],
             [
              0.2222222222222222,
              "#7201a8"
             ],
             [
              0.3333333333333333,
              "#9c179e"
             ],
             [
              0.4444444444444444,
              "#bd3786"
             ],
             [
              0.5555555555555556,
              "#d8576b"
             ],
             [
              0.6666666666666666,
              "#ed7953"
             ],
             [
              0.7777777777777778,
              "#fb9f3a"
             ],
             [
              0.8888888888888888,
              "#fdca26"
             ],
             [
              1,
              "#f0f921"
             ]
            ],
            "type": "histogram2dcontour"
           }
          ],
          "mesh3d": [
           {
            "colorbar": {
             "outlinewidth": 0,
             "ticks": ""
            },
            "type": "mesh3d"
           }
          ],
          "parcoords": [
           {
            "line": {
             "colorbar": {
              "outlinewidth": 0,
              "ticks": ""
             }
            },
            "type": "parcoords"
           }
          ],
          "pie": [
           {
            "automargin": true,
            "type": "pie"
           }
          ],
          "scatter": [
           {
            "fillpattern": {
             "fillmode": "overlay",
             "size": 10,
             "solidity": 0.2
            },
            "type": "scatter"
           }
          ],
          "scatter3d": [
           {
            "line": {
             "colorbar": {
              "outlinewidth": 0,
              "ticks": ""
             }
            },
            "marker": {
             "colorbar": {
              "outlinewidth": 0,
              "ticks": ""
             }
            },
            "type": "scatter3d"
           }
          ],
          "scattercarpet": [
           {
            "marker": {
             "colorbar": {
              "outlinewidth": 0,
              "ticks": ""
             }
            },
            "type": "scattercarpet"
           }
          ],
          "scattergeo": [
           {
            "marker": {
             "colorbar": {
              "outlinewidth": 0,
              "ticks": ""
             }
            },
            "type": "scattergeo"
           }
          ],
          "scattergl": [
           {
            "marker": {
             "colorbar": {
              "outlinewidth": 0,
              "ticks": ""
             }
            },
            "type": "scattergl"
           }
          ],
          "scattermapbox": [
           {
            "marker": {
             "colorbar": {
              "outlinewidth": 0,
              "ticks": ""
             }
            },
            "type": "scattermapbox"
           }
          ],
          "scatterpolar": [
           {
            "marker": {
             "colorbar": {
              "outlinewidth": 0,
              "ticks": ""
             }
            },
            "type": "scatterpolar"
           }
          ],
          "scatterpolargl": [
           {
            "marker": {
             "colorbar": {
              "outlinewidth": 0,
              "ticks": ""
             }
            },
            "type": "scatterpolargl"
           }
          ],
          "scatterternary": [
           {
            "marker": {
             "colorbar": {
              "outlinewidth": 0,
              "ticks": ""
             }
            },
            "type": "scatterternary"
           }
          ],
          "surface": [
           {
            "colorbar": {
             "outlinewidth": 0,
             "ticks": ""
            },
            "colorscale": [
             [
              0,
              "#0d0887"
             ],
             [
              0.1111111111111111,
              "#46039f"
             ],
             [
              0.2222222222222222,
              "#7201a8"
             ],
             [
              0.3333333333333333,
              "#9c179e"
             ],
             [
              0.4444444444444444,
              "#bd3786"
             ],
             [
              0.5555555555555556,
              "#d8576b"
             ],
             [
              0.6666666666666666,
              "#ed7953"
             ],
             [
              0.7777777777777778,
              "#fb9f3a"
             ],
             [
              0.8888888888888888,
              "#fdca26"
             ],
             [
              1,
              "#f0f921"
             ]
            ],
            "type": "surface"
           }
          ],
          "table": [
           {
            "cells": {
             "fill": {
              "color": "#EBF0F8"
             },
             "line": {
              "color": "white"
             }
            },
            "header": {
             "fill": {
              "color": "#C8D4E3"
             },
             "line": {
              "color": "white"
             }
            },
            "type": "table"
           }
          ]
         },
         "layout": {
          "annotationdefaults": {
           "arrowcolor": "#2a3f5f",
           "arrowhead": 0,
           "arrowwidth": 1
          },
          "autotypenumbers": "strict",
          "coloraxis": {
           "colorbar": {
            "outlinewidth": 0,
            "ticks": ""
           }
          },
          "colorscale": {
           "diverging": [
            [
             0,
             "#8e0152"
            ],
            [
             0.1,
             "#c51b7d"
            ],
            [
             0.2,
             "#de77ae"
            ],
            [
             0.3,
             "#f1b6da"
            ],
            [
             0.4,
             "#fde0ef"
            ],
            [
             0.5,
             "#f7f7f7"
            ],
            [
             0.6,
             "#e6f5d0"
            ],
            [
             0.7,
             "#b8e186"
            ],
            [
             0.8,
             "#7fbc41"
            ],
            [
             0.9,
             "#4d9221"
            ],
            [
             1,
             "#276419"
            ]
           ],
           "sequential": [
            [
             0,
             "#0d0887"
            ],
            [
             0.1111111111111111,
             "#46039f"
            ],
            [
             0.2222222222222222,
             "#7201a8"
            ],
            [
             0.3333333333333333,
             "#9c179e"
            ],
            [
             0.4444444444444444,
             "#bd3786"
            ],
            [
             0.5555555555555556,
             "#d8576b"
            ],
            [
             0.6666666666666666,
             "#ed7953"
            ],
            [
             0.7777777777777778,
             "#fb9f3a"
            ],
            [
             0.8888888888888888,
             "#fdca26"
            ],
            [
             1,
             "#f0f921"
            ]
           ],
           "sequentialminus": [
            [
             0,
             "#0d0887"
            ],
            [
             0.1111111111111111,
             "#46039f"
            ],
            [
             0.2222222222222222,
             "#7201a8"
            ],
            [
             0.3333333333333333,
             "#9c179e"
            ],
            [
             0.4444444444444444,
             "#bd3786"
            ],
            [
             0.5555555555555556,
             "#d8576b"
            ],
            [
             0.6666666666666666,
             "#ed7953"
            ],
            [
             0.7777777777777778,
             "#fb9f3a"
            ],
            [
             0.8888888888888888,
             "#fdca26"
            ],
            [
             1,
             "#f0f921"
            ]
           ]
          },
          "colorway": [
           "#636efa",
           "#EF553B",
           "#00cc96",
           "#ab63fa",
           "#FFA15A",
           "#19d3f3",
           "#FF6692",
           "#B6E880",
           "#FF97FF",
           "#FECB52"
          ],
          "font": {
           "color": "#2a3f5f"
          },
          "geo": {
           "bgcolor": "white",
           "lakecolor": "white",
           "landcolor": "#E5ECF6",
           "showlakes": true,
           "showland": true,
           "subunitcolor": "white"
          },
          "hoverlabel": {
           "align": "left"
          },
          "hovermode": "closest",
          "mapbox": {
           "style": "light"
          },
          "paper_bgcolor": "white",
          "plot_bgcolor": "#E5ECF6",
          "polar": {
           "angularaxis": {
            "gridcolor": "white",
            "linecolor": "white",
            "ticks": ""
           },
           "bgcolor": "#E5ECF6",
           "radialaxis": {
            "gridcolor": "white",
            "linecolor": "white",
            "ticks": ""
           }
          },
          "scene": {
           "xaxis": {
            "backgroundcolor": "#E5ECF6",
            "gridcolor": "white",
            "gridwidth": 2,
            "linecolor": "white",
            "showbackground": true,
            "ticks": "",
            "zerolinecolor": "white"
           },
           "yaxis": {
            "backgroundcolor": "#E5ECF6",
            "gridcolor": "white",
            "gridwidth": 2,
            "linecolor": "white",
            "showbackground": true,
            "ticks": "",
            "zerolinecolor": "white"
           },
           "zaxis": {
            "backgroundcolor": "#E5ECF6",
            "gridcolor": "white",
            "gridwidth": 2,
            "linecolor": "white",
            "showbackground": true,
            "ticks": "",
            "zerolinecolor": "white"
           }
          },
          "shapedefaults": {
           "line": {
            "color": "#2a3f5f"
           }
          },
          "ternary": {
           "aaxis": {
            "gridcolor": "white",
            "linecolor": "white",
            "ticks": ""
           },
           "baxis": {
            "gridcolor": "white",
            "linecolor": "white",
            "ticks": ""
           },
           "bgcolor": "#E5ECF6",
           "caxis": {
            "gridcolor": "white",
            "linecolor": "white",
            "ticks": ""
           }
          },
          "title": {
           "x": 0.05
          },
          "xaxis": {
           "automargin": true,
           "gridcolor": "white",
           "linecolor": "white",
           "ticks": "",
           "title": {
            "standoff": 15
           },
           "zerolinecolor": "white",
           "zerolinewidth": 2
          },
          "yaxis": {
           "automargin": true,
           "gridcolor": "white",
           "linecolor": "white",
           "ticks": "",
           "title": {
            "standoff": 15
           },
           "zerolinecolor": "white",
           "zerolinewidth": 2
          }
         }
        },
        "xaxis": {
         "anchor": "y",
         "domain": [
          0,
          1
         ],
         "title": {
          "text": "value"
         }
        },
        "yaxis": {
         "anchor": "x",
         "domain": [
          0,
          1
         ],
         "title": {
          "text": "count"
         }
        }
       }
      },
      "text/html": [
       "<div>                            <div id=\"bbaf85b0-3ee2-4a8b-b8e7-9adf891d3285\" class=\"plotly-graph-div\" style=\"height:525px; width:100%;\"></div>            <script type=\"text/javascript\">                require([\"plotly\"], function(Plotly) {                    window.PLOTLYENV=window.PLOTLYENV || {};                                    if (document.getElementById(\"bbaf85b0-3ee2-4a8b-b8e7-9adf891d3285\")) {                    Plotly.newPlot(                        \"bbaf85b0-3ee2-4a8b-b8e7-9adf891d3285\",                        [{\"alignmentgroup\":\"True\",\"bingroup\":\"x\",\"hovertemplate\":\"variable=Bedrooms<br>value=%{x}<br>count=%{y}<extra></extra>\",\"legendgroup\":\"Bedrooms\",\"marker\":{\"color\":\"#636efa\",\"pattern\":{\"shape\":\"\"}},\"name\":\"Bedrooms\",\"offsetgroup\":\"Bedrooms\",\"orientation\":\"v\",\"showlegend\":true,\"x\":[3,3,3,2,3,3,2,2,2,3,3,3,3,2,3,3,4,3,4,4,4,3,3,3,3,3,4,4,4,3,2,2,2,2,3,3,3,3,3,4,3,4,3,3,3,4,3,3,2,3,3,2,2,3,3,4,3,2,3,3,3,3,3,3,4,3,3,3,4,2,2,2,2,3,2,4,4,3,3,3,3,3,3,3,3,3,3,3,3,3,2,4,4,3,2,3,3,3,3,2,2,3,5,3,3,3,3,3,3,3,3,3,3,3,4,3,3,4,4,4,4,4,3,5,3,3,2,2,2,3,2,3,4,4,5,3,4,2,3,3,2,3,4,2,3,4,4,4,2,3,3,3,3,3,3,2,4,3,3,3,3,4,4,2,2,4,4,3,3,3,3,3,4,2,5,2,4,3,3,3,2,3,3,4,3,4,4,3,2,3,4,2,4,4,3,3,3,4,3,3,4,3,3,3,4,3,4,4,5,4,4,4,5,4,4,3,4,4,3,3,4,4,4,4,4,4,3,6,4,4,2,3,4,3,4,4,2,4,4,4,4,4,4,4,3,3,3,3,2,3,3,4,4,5,3,3,4,4,4,2,2,4,2,4,4,4,2,4,2,2,3,3,3,2,4,3,4,2,3,3,3,2,3,3,3,2,3,2,4,3,3,4,3,5,3,3,2,3,3,3,6,3,2,4,3,4,3,4,4,3,4,2,4,4,4,4,4,2,3,4,3,4,3,3,3,3,4,3,4,4,2,3,4,3,2,3,3,3,4,4,3,3,2,3,3,4,4,3,4,4,4,3,3,3,4,2,2,3,3,3,3,3,3,3,2,3,3,4,3,2,4,3,2,3,3,3,3,3,3,2,2,3,3,3,3,4,4,3,3,2,3,3,3,3,2,3,3,3,3,3,3,3,3,3,2,4,3,3,4,3,3,2,4,3,2,2,4,3,4,3,3,3,3,4,2,3,3,2,4,4,2,3,3,3,3,2,3,3,3,3,3,3,1,3,4,4,3,3,2,3,2,3,4,3,2,4,3,2,2,3,3,3,4,3,4,3,4,3,3,2,2,3,3,4,4,2,2,3,4,3,4,4,4,3,4,3,3,3,3,2,4,4,4,4,4,3,3,4,4,2,4,4,2,4,3,3,3,3,4,4,4,3,2,2,2,3,2,3,3,3,2,3,3,2,3,3,2,3,4,3,3,3,3,4,3,4,3,2,4,3,2,3,4,3,4,2,2,3,2,3,2,2,3,3,3,4,5,3,2,4,3,2,3,3,4,4,3,3,4,3,4,4,2,2,2,4,3,3,4,4,3,2,4,3,3,2,4,3,4,3,4,4,3,4,3,4,2,3,3,4,4,4,4,4,4,4,3,4,2,4,2,4,4,3,4,4,5,4,4,5,3,4,4,3,4,4,2,2,2,5,2,4,3,3,3,2,4,3,2,4,3,4,4,3,4,4,3,3,3,2,3,2,3,4,3,4,4,4,4,4,2,4,3,4,3,4,3,4,3,4,2,4,3,3,3,3,3,3,4,2,3,4,3,3,3,1,3,3,3,3,3,3,3,3,4,4,3,4,3,3,3,3,3,3,3,4,3,4,3,3,3,3,3,3,3,3,3,3,3,3,3,3,3,3,3,3,3,4,5,3,3,2,4,3,3,3,3,3,2,3,1,3,3,3,4,3,3,4,2,3,4,2,3,3,2,4,2,3,3,3,4,3,3,3,3,3,4,3,3,4,3,3,4,4,2,3,4,3,2,4,2,2,3,4,3,3,2,3,3,2,4,2,5,2,3,5,3,3,3,6,4,3,4,4,5,3,3,2,4,3,4,3,4,3,2,2,4,2,3,4,3,3,2,4,3,4,4,5,4,4,3,4,4,4,3,3,3,3,3,3,3,4,3,4,3,3,2,3,4,2,2,3,3,3,3,2,2,4,2,4,2,2,3,4,4,3,4,3,4,4,4,3,4,3,4,2,3,3,3,3,4,3,3,4,3,3,4,2,2,4,3,3,4,3,2,3,3,3,3,4,3,4,3,4,3,3,4,2,4,4,3,2,4,3,5,4,3,4,4,4,2,3,4,3,2,4,3,3,3,2,5,4,4,4,2,2,4,2,4,3,4,4,4,3,4,2,3,2,4,3,4,4,4,4,3,3,4,4,4,3,3,3,3,3,3,2,3,3,3,4,3,4,3,3,3,2,5,2,3,3,3,3,2,3,3,3,3,3,3,4,5,3,4,4,3,5,4,2,4,4,3,4,2,3,3,4,4,4,3,3,4,3,4,4,4,3,2,3,4,2,3,3,3,3,3,2,3,4,2,3,2,4,3,4,3,4,3,3,4,3,3,3,4,4,2,3,3],\"xaxis\":\"x\",\"yaxis\":\"y\",\"type\":\"histogram\"}],                        {\"template\":{\"data\":{\"histogram2dcontour\":[{\"type\":\"histogram2dcontour\",\"colorbar\":{\"outlinewidth\":0,\"ticks\":\"\"},\"colorscale\":[[0.0,\"#0d0887\"],[0.1111111111111111,\"#46039f\"],[0.2222222222222222,\"#7201a8\"],[0.3333333333333333,\"#9c179e\"],[0.4444444444444444,\"#bd3786\"],[0.5555555555555556,\"#d8576b\"],[0.6666666666666666,\"#ed7953\"],[0.7777777777777778,\"#fb9f3a\"],[0.8888888888888888,\"#fdca26\"],[1.0,\"#f0f921\"]]}],\"choropleth\":[{\"type\":\"choropleth\",\"colorbar\":{\"outlinewidth\":0,\"ticks\":\"\"}}],\"histogram2d\":[{\"type\":\"histogram2d\",\"colorbar\":{\"outlinewidth\":0,\"ticks\":\"\"},\"colorscale\":[[0.0,\"#0d0887\"],[0.1111111111111111,\"#46039f\"],[0.2222222222222222,\"#7201a8\"],[0.3333333333333333,\"#9c179e\"],[0.4444444444444444,\"#bd3786\"],[0.5555555555555556,\"#d8576b\"],[0.6666666666666666,\"#ed7953\"],[0.7777777777777778,\"#fb9f3a\"],[0.8888888888888888,\"#fdca26\"],[1.0,\"#f0f921\"]]}],\"heatmap\":[{\"type\":\"heatmap\",\"colorbar\":{\"outlinewidth\":0,\"ticks\":\"\"},\"colorscale\":[[0.0,\"#0d0887\"],[0.1111111111111111,\"#46039f\"],[0.2222222222222222,\"#7201a8\"],[0.3333333333333333,\"#9c179e\"],[0.4444444444444444,\"#bd3786\"],[0.5555555555555556,\"#d8576b\"],[0.6666666666666666,\"#ed7953\"],[0.7777777777777778,\"#fb9f3a\"],[0.8888888888888888,\"#fdca26\"],[1.0,\"#f0f921\"]]}],\"heatmapgl\":[{\"type\":\"heatmapgl\",\"colorbar\":{\"outlinewidth\":0,\"ticks\":\"\"},\"colorscale\":[[0.0,\"#0d0887\"],[0.1111111111111111,\"#46039f\"],[0.2222222222222222,\"#7201a8\"],[0.3333333333333333,\"#9c179e\"],[0.4444444444444444,\"#bd3786\"],[0.5555555555555556,\"#d8576b\"],[0.6666666666666666,\"#ed7953\"],[0.7777777777777778,\"#fb9f3a\"],[0.8888888888888888,\"#fdca26\"],[1.0,\"#f0f921\"]]}],\"contourcarpet\":[{\"type\":\"contourcarpet\",\"colorbar\":{\"outlinewidth\":0,\"ticks\":\"\"}}],\"contour\":[{\"type\":\"contour\",\"colorbar\":{\"outlinewidth\":0,\"ticks\":\"\"},\"colorscale\":[[0.0,\"#0d0887\"],[0.1111111111111111,\"#46039f\"],[0.2222222222222222,\"#7201a8\"],[0.3333333333333333,\"#9c179e\"],[0.4444444444444444,\"#bd3786\"],[0.5555555555555556,\"#d8576b\"],[0.6666666666666666,\"#ed7953\"],[0.7777777777777778,\"#fb9f3a\"],[0.8888888888888888,\"#fdca26\"],[1.0,\"#f0f921\"]]}],\"surface\":[{\"type\":\"surface\",\"colorbar\":{\"outlinewidth\":0,\"ticks\":\"\"},\"colorscale\":[[0.0,\"#0d0887\"],[0.1111111111111111,\"#46039f\"],[0.2222222222222222,\"#7201a8\"],[0.3333333333333333,\"#9c179e\"],[0.4444444444444444,\"#bd3786\"],[0.5555555555555556,\"#d8576b\"],[0.6666666666666666,\"#ed7953\"],[0.7777777777777778,\"#fb9f3a\"],[0.8888888888888888,\"#fdca26\"],[1.0,\"#f0f921\"]]}],\"mesh3d\":[{\"type\":\"mesh3d\",\"colorbar\":{\"outlinewidth\":0,\"ticks\":\"\"}}],\"scatter\":[{\"fillpattern\":{\"fillmode\":\"overlay\",\"size\":10,\"solidity\":0.2},\"type\":\"scatter\"}],\"parcoords\":[{\"type\":\"parcoords\",\"line\":{\"colorbar\":{\"outlinewidth\":0,\"ticks\":\"\"}}}],\"scatterpolargl\":[{\"type\":\"scatterpolargl\",\"marker\":{\"colorbar\":{\"outlinewidth\":0,\"ticks\":\"\"}}}],\"bar\":[{\"error_x\":{\"color\":\"#2a3f5f\"},\"error_y\":{\"color\":\"#2a3f5f\"},\"marker\":{\"line\":{\"color\":\"#E5ECF6\",\"width\":0.5},\"pattern\":{\"fillmode\":\"overlay\",\"size\":10,\"solidity\":0.2}},\"type\":\"bar\"}],\"scattergeo\":[{\"type\":\"scattergeo\",\"marker\":{\"colorbar\":{\"outlinewidth\":0,\"ticks\":\"\"}}}],\"scatterpolar\":[{\"type\":\"scatterpolar\",\"marker\":{\"colorbar\":{\"outlinewidth\":0,\"ticks\":\"\"}}}],\"histogram\":[{\"marker\":{\"pattern\":{\"fillmode\":\"overlay\",\"size\":10,\"solidity\":0.2}},\"type\":\"histogram\"}],\"scattergl\":[{\"type\":\"scattergl\",\"marker\":{\"colorbar\":{\"outlinewidth\":0,\"ticks\":\"\"}}}],\"scatter3d\":[{\"type\":\"scatter3d\",\"line\":{\"colorbar\":{\"outlinewidth\":0,\"ticks\":\"\"}},\"marker\":{\"colorbar\":{\"outlinewidth\":0,\"ticks\":\"\"}}}],\"scattermapbox\":[{\"type\":\"scattermapbox\",\"marker\":{\"colorbar\":{\"outlinewidth\":0,\"ticks\":\"\"}}}],\"scatterternary\":[{\"type\":\"scatterternary\",\"marker\":{\"colorbar\":{\"outlinewidth\":0,\"ticks\":\"\"}}}],\"scattercarpet\":[{\"type\":\"scattercarpet\",\"marker\":{\"colorbar\":{\"outlinewidth\":0,\"ticks\":\"\"}}}],\"carpet\":[{\"aaxis\":{\"endlinecolor\":\"#2a3f5f\",\"gridcolor\":\"white\",\"linecolor\":\"white\",\"minorgridcolor\":\"white\",\"startlinecolor\":\"#2a3f5f\"},\"baxis\":{\"endlinecolor\":\"#2a3f5f\",\"gridcolor\":\"white\",\"linecolor\":\"white\",\"minorgridcolor\":\"white\",\"startlinecolor\":\"#2a3f5f\"},\"type\":\"carpet\"}],\"table\":[{\"cells\":{\"fill\":{\"color\":\"#EBF0F8\"},\"line\":{\"color\":\"white\"}},\"header\":{\"fill\":{\"color\":\"#C8D4E3\"},\"line\":{\"color\":\"white\"}},\"type\":\"table\"}],\"barpolar\":[{\"marker\":{\"line\":{\"color\":\"#E5ECF6\",\"width\":0.5},\"pattern\":{\"fillmode\":\"overlay\",\"size\":10,\"solidity\":0.2}},\"type\":\"barpolar\"}],\"pie\":[{\"automargin\":true,\"type\":\"pie\"}]},\"layout\":{\"autotypenumbers\":\"strict\",\"colorway\":[\"#636efa\",\"#EF553B\",\"#00cc96\",\"#ab63fa\",\"#FFA15A\",\"#19d3f3\",\"#FF6692\",\"#B6E880\",\"#FF97FF\",\"#FECB52\"],\"font\":{\"color\":\"#2a3f5f\"},\"hovermode\":\"closest\",\"hoverlabel\":{\"align\":\"left\"},\"paper_bgcolor\":\"white\",\"plot_bgcolor\":\"#E5ECF6\",\"polar\":{\"bgcolor\":\"#E5ECF6\",\"angularaxis\":{\"gridcolor\":\"white\",\"linecolor\":\"white\",\"ticks\":\"\"},\"radialaxis\":{\"gridcolor\":\"white\",\"linecolor\":\"white\",\"ticks\":\"\"}},\"ternary\":{\"bgcolor\":\"#E5ECF6\",\"aaxis\":{\"gridcolor\":\"white\",\"linecolor\":\"white\",\"ticks\":\"\"},\"baxis\":{\"gridcolor\":\"white\",\"linecolor\":\"white\",\"ticks\":\"\"},\"caxis\":{\"gridcolor\":\"white\",\"linecolor\":\"white\",\"ticks\":\"\"}},\"coloraxis\":{\"colorbar\":{\"outlinewidth\":0,\"ticks\":\"\"}},\"colorscale\":{\"sequential\":[[0.0,\"#0d0887\"],[0.1111111111111111,\"#46039f\"],[0.2222222222222222,\"#7201a8\"],[0.3333333333333333,\"#9c179e\"],[0.4444444444444444,\"#bd3786\"],[0.5555555555555556,\"#d8576b\"],[0.6666666666666666,\"#ed7953\"],[0.7777777777777778,\"#fb9f3a\"],[0.8888888888888888,\"#fdca26\"],[1.0,\"#f0f921\"]],\"sequentialminus\":[[0.0,\"#0d0887\"],[0.1111111111111111,\"#46039f\"],[0.2222222222222222,\"#7201a8\"],[0.3333333333333333,\"#9c179e\"],[0.4444444444444444,\"#bd3786\"],[0.5555555555555556,\"#d8576b\"],[0.6666666666666666,\"#ed7953\"],[0.7777777777777778,\"#fb9f3a\"],[0.8888888888888888,\"#fdca26\"],[1.0,\"#f0f921\"]],\"diverging\":[[0,\"#8e0152\"],[0.1,\"#c51b7d\"],[0.2,\"#de77ae\"],[0.3,\"#f1b6da\"],[0.4,\"#fde0ef\"],[0.5,\"#f7f7f7\"],[0.6,\"#e6f5d0\"],[0.7,\"#b8e186\"],[0.8,\"#7fbc41\"],[0.9,\"#4d9221\"],[1,\"#276419\"]]},\"xaxis\":{\"gridcolor\":\"white\",\"linecolor\":\"white\",\"ticks\":\"\",\"title\":{\"standoff\":15},\"zerolinecolor\":\"white\",\"automargin\":true,\"zerolinewidth\":2},\"yaxis\":{\"gridcolor\":\"white\",\"linecolor\":\"white\",\"ticks\":\"\",\"title\":{\"standoff\":15},\"zerolinecolor\":\"white\",\"automargin\":true,\"zerolinewidth\":2},\"scene\":{\"xaxis\":{\"backgroundcolor\":\"#E5ECF6\",\"gridcolor\":\"white\",\"linecolor\":\"white\",\"showbackground\":true,\"ticks\":\"\",\"zerolinecolor\":\"white\",\"gridwidth\":2},\"yaxis\":{\"backgroundcolor\":\"#E5ECF6\",\"gridcolor\":\"white\",\"linecolor\":\"white\",\"showbackground\":true,\"ticks\":\"\",\"zerolinecolor\":\"white\",\"gridwidth\":2},\"zaxis\":{\"backgroundcolor\":\"#E5ECF6\",\"gridcolor\":\"white\",\"linecolor\":\"white\",\"showbackground\":true,\"ticks\":\"\",\"zerolinecolor\":\"white\",\"gridwidth\":2}},\"shapedefaults\":{\"line\":{\"color\":\"#2a3f5f\"}},\"annotationdefaults\":{\"arrowcolor\":\"#2a3f5f\",\"arrowhead\":0,\"arrowwidth\":1},\"geo\":{\"bgcolor\":\"white\",\"landcolor\":\"#E5ECF6\",\"subunitcolor\":\"white\",\"showland\":true,\"showlakes\":true,\"lakecolor\":\"white\"},\"title\":{\"x\":0.05},\"mapbox\":{\"style\":\"light\"}}},\"xaxis\":{\"anchor\":\"y\",\"domain\":[0.0,1.0],\"title\":{\"text\":\"value\"}},\"yaxis\":{\"anchor\":\"x\",\"domain\":[0.0,1.0],\"title\":{\"text\":\"count\"}},\"legend\":{\"title\":{\"text\":\"variable\"},\"tracegroupgap\":0},\"margin\":{\"t\":60},\"barmode\":\"relative\"},                        {\"responsive\": true}                    ).then(function(){\n",
       "                            \n",
       "var gd = document.getElementById('bbaf85b0-3ee2-4a8b-b8e7-9adf891d3285');\n",
       "var x = new MutationObserver(function (mutations, observer) {{\n",
       "        var display = window.getComputedStyle(gd).display;\n",
       "        if (!display || display === 'none') {{\n",
       "            console.log([gd, 'removed!']);\n",
       "            Plotly.purge(gd);\n",
       "            observer.disconnect();\n",
       "        }}\n",
       "}});\n",
       "\n",
       "// Listen for the removal of the full notebook cells\n",
       "var notebookContainer = gd.closest('#notebook-container');\n",
       "if (notebookContainer) {{\n",
       "    x.observe(notebookContainer, {childList: true});\n",
       "}}\n",
       "\n",
       "// Listen for the clearing of the current output cell\n",
       "var outputEl = gd.closest('.output');\n",
       "if (outputEl) {{\n",
       "    x.observe(outputEl, {childList: true});\n",
       "}}\n",
       "\n",
       "                        })                };                });            </script>        </div>"
      ]
     },
     "metadata": {},
     "output_type": "display_data"
    },
    {
     "data": {
      "application/vnd.plotly.v1+json": {
       "config": {
        "plotlyServerURL": "https://plot.ly"
       },
       "data": [
        {
         "alignmentgroup": "True",
         "bingroup": "x",
         "hovertemplate": "variable=Lot Size<br>value=%{x}<br>count=%{y}<extra></extra>",
         "legendgroup": "Lot Size",
         "marker": {
          "color": "#636efa",
          "pattern": {
           "shape": ""
          }
         },
         "name": "Lot Size",
         "offsetgroup": "Lot Size",
         "orientation": "v",
         "showlegend": true,
         "type": "histogram",
         "x": [
          2,
          0.38,
          0.96,
          0.48,
          1.84,
          0.98,
          0.01,
          0.11,
          0.61,
          0.23,
          4.05,
          0.43,
          0.36,
          0.18,
          0.36,
          0.42,
          3,
          0.39,
          0.8,
          0.77,
          0.85,
          0.85,
          4.87,
          0.72,
          0.46,
          0.46,
          2.48,
          0.62,
          0.71,
          1,
          0.57,
          0.39,
          0.29,
          0.24,
          0.25,
          0.05,
          0.71,
          0.22,
          0.07,
          0.1,
          0.04,
          0.07,
          0.5,
          0.19,
          0.1,
          2.17,
          2.12,
          0.33,
          0.07,
          2.17,
          0.2,
          0.54,
          0.31,
          0.88,
          0.69,
          0.24,
          0.52,
          0.46,
          1.61,
          0.46,
          0.46,
          0.37,
          1,
          0.46,
          0.46,
          1,
          0.86,
          0.34,
          0.92,
          0.45,
          0.69,
          0.32,
          0.76,
          0.34,
          0.52,
          0.19,
          0.19,
          2.13,
          0.72,
          0.52,
          0.23,
          0.38,
          0.34,
          0.13,
          0.72,
          0.35,
          1,
          0.81,
          0.38,
          0.64,
          0.11,
          0.58,
          0.1,
          0.14,
          0.13,
          0.19,
          1.43,
          0.76,
          1,
          1.35,
          4,
          0.44,
          0.42,
          0.35,
          0.4,
          0.35,
          0.38,
          1.8,
          0.2,
          0.08,
          0.34,
          0.1,
          0.36,
          0.36,
          0.46,
          0.19,
          0.75,
          0.46,
          1.2,
          0.72,
          0.51,
          0.48,
          1,
          0.66,
          0.47,
          0.2,
          0.12,
          0.18,
          0.01,
          0.47,
          0.19,
          0.1,
          0.45,
          0.92,
          0.9,
          0.46,
          2.31,
          0.16,
          0.44,
          0.16,
          0.16,
          0.17,
          0.99,
          0.15,
          0.45,
          0.32,
          0.41,
          0.42,
          0.15,
          0.57,
          0.77,
          0.32,
          0.12,
          0.16,
          0.33,
          0.15,
          0.43,
          0.35,
          0.62,
          0.16,
          2.96,
          0.56,
          0.92,
          0.16,
          0.15,
          0.45,
          0.83,
          0.43,
          0.15,
          0.29,
          0.37,
          0.45,
          0.11,
          0.18,
          0.33,
          0,
          0.39,
          0.06,
          0.56,
          0.28,
          0.16,
          0.49,
          0.53,
          0.74,
          1.59,
          0.83,
          0.52,
          0.42,
          0.18,
          0.75,
          0.65,
          0.16,
          0.61,
          0.34,
          0.37,
          0.95,
          0.3,
          0.48,
          0.27,
          0.22,
          0.26,
          0.59,
          0.66,
          0.06,
          0.3,
          0.26,
          0.59,
          0.77,
          0.45,
          0.76,
          0.42,
          0.57,
          0.69,
          0.49,
          0.38,
          0.74,
          0.69,
          0.29,
          0.27,
          0.52,
          0.5,
          0.58,
          0.92,
          0.59,
          0.24,
          0.62,
          0.11,
          0.57,
          0.56,
          0.43,
          0.06,
          0.38,
          0.04,
          0.95,
          0.56,
          0.46,
          0.53,
          0.58,
          0.6,
          0.41,
          0.5,
          0.47,
          0.29,
          0.5,
          0.34,
          0.46,
          0.18,
          0.74,
          0.2,
          0.3,
          0.01,
          0.4,
          0.57,
          0.8,
          0.73,
          0.19,
          0.56,
          0.32,
          0.43,
          0.09,
          0.56,
          0.51,
          2.84,
          0.37,
          0.49,
          0.49,
          0.1,
          0.26,
          0.08,
          0.08,
          0.08,
          0.92,
          0.36,
          0.63,
          0.46,
          1,
          1.2,
          2.5,
          3.14,
          0.48,
          0.14,
          0.87,
          0.46,
          1.94,
          0.37,
          2.5,
          0.69,
          0.17,
          0.46,
          0.17,
          0.06,
          0.46,
          0.98,
          1,
          0.1,
          0.32,
          0.06,
          0.64,
          1.08,
          1.59,
          2,
          2,
          0.7,
          0.37,
          2,
          0.52,
          4.67,
          3.64,
          0.05,
          1,
          1,
          9,
          1,
          1.05,
          0.44,
          1.95,
          0.4,
          0.46,
          0.85,
          0.38,
          0.68,
          0.57,
          0.32,
          0.4,
          0.6,
          0.35,
          4.34,
          0.45,
          0.5,
          0.06,
          2,
          0.6,
          0.5,
          0.54,
          0.37,
          0.22,
          0.18,
          0.21,
          0.17,
          0.32,
          0.05,
          0.92,
          1,
          6.13,
          0.46,
          0.7,
          0.36,
          0.46,
          0.5,
          0.48,
          0.84,
          0.03,
          0.28,
          0.15,
          0.41,
          0.22,
          0.4,
          0.26,
          0.14,
          1.4,
          0.15,
          0.41,
          0.4,
          0.16,
          0.67,
          0.16,
          0.14,
          0.34,
          0.03,
          0.29,
          0.39,
          0.05,
          0.55,
          0.07,
          0.18,
          0.16,
          0.14,
          0.03,
          0.48,
          0.1,
          0.27,
          0.46,
          0.28,
          0.17,
          0.14,
          0.3,
          0.72,
          0.16,
          0.26,
          0.19,
          0.08,
          0.46,
          1,
          0.22,
          0.13,
          0.27,
          0.11,
          0.39,
          0.24,
          0.32,
          0.38,
          0.62,
          0.07,
          0.15,
          0.16,
          0.35,
          0.13,
          0.07,
          0.47,
          0.05,
          0.21,
          0.01,
          0.59,
          0.39,
          0.23,
          0.07,
          1.33,
          0.22,
          0.19,
          0.29,
          0.05,
          0.24,
          0.13,
          0.34,
          0.01,
          0.29,
          0.22,
          0.1,
          0.22,
          0.34,
          0.23,
          1,
          0.99,
          2.15,
          0.73,
          0.36,
          0.34,
          0.75,
          0.38,
          0.92,
          0.24,
          0.64,
          0.17,
          1,
          0.21,
          0.46,
          0.56,
          0.08,
          0.21,
          0.08,
          0.68,
          1.28,
          0.52,
          0.15,
          0.35,
          1.4,
          0.25,
          0.27,
          0.12,
          0.6,
          0.03,
          0.96,
          1.63,
          0.26,
          0.46,
          0.85,
          0.46,
          0.21,
          0.17,
          0.02,
          0.76,
          0.86,
          0.64,
          0.71,
          0.65,
          0.01,
          0.21,
          0.24,
          0.61,
          0.25,
          0.61,
          0.66,
          0.35,
          0.18,
          0.61,
          0.46,
          0.32,
          0.66,
          0.8,
          0,
          0.06,
          0.84,
          0.59,
          0.05,
          0.38,
          0.72,
          0.5,
          0.94,
          0.55,
          0.01,
          0.44,
          0.53,
          0.14,
          0.04,
          0.17,
          0.92,
          0.15,
          0.16,
          0.37,
          1.27,
          0.67,
          0.62,
          0.15,
          0.15,
          0.16,
          0.31,
          0.06,
          0.33,
          0.23,
          0.04,
          0.12,
          0.33,
          0.34,
          0.16,
          0.34,
          0.03,
          0.16,
          0.46,
          0.27,
          0.98,
          0.46,
          1.13,
          0.07,
          0.27,
          0.36,
          0.31,
          0.91,
          0.16,
          4.2,
          0.33,
          0.15,
          0.16,
          0.37,
          0.44,
          0.48,
          0.16,
          0.31,
          1,
          0.15,
          0.14,
          0.16,
          0.16,
          0.17,
          0.36,
          0.04,
          0.65,
          0.17,
          0.36,
          0.15,
          0.97,
          1,
          0.36,
          0.14,
          0.43,
          0.35,
          5.51,
          0.91,
          0.49,
          0.28,
          0.25,
          0.41,
          0.38,
          0.07,
          0.05,
          0.13,
          0.83,
          0.24,
          1,
          0.53,
          0.37,
          0.14,
          0.17,
          2.5,
          0.27,
          0.23,
          0.18,
          0.29,
          0.3,
          0.46,
          0.61,
          0.92,
          0.6,
          0.53,
          0.19,
          0.67,
          0.6,
          0.34,
          0.43,
          0.49,
          0.4,
          0.51,
          0.89,
          0.35,
          0.63,
          0.28,
          0.38,
          0.46,
          0.49,
          0.15,
          0.45,
          0.08,
          0.61,
          1.34,
          0.46,
          0.48,
          0.27,
          0.35,
          0.44,
          1.03,
          0.53,
          2,
          0.34,
          0.49,
          0.5,
          0.29,
          0.58,
          0.17,
          0.31,
          0.12,
          0.4,
          0.31,
          0.46,
          1.92,
          1.55,
          4,
          0.1,
          0.39,
          0.31,
          0.21,
          0.53,
          0.33,
          1.2,
          0.36,
          0.21,
          0.71,
          0.29,
          0.25,
          0.34,
          0.51,
          0.36,
          0.07,
          0.23,
          0.35,
          1.84,
          0.46,
          0.47,
          0.46,
          0.46,
          0.43,
          0.61,
          2,
          0.57,
          0,
          1.94,
          0.02,
          0.69,
          1.19,
          0.39,
          1,
          0.9,
          2,
          0.69,
          1.55,
          0.31,
          0.15,
          0.14,
          1,
          0.36,
          0.1,
          0.09,
          0.9,
          0.69,
          0.4,
          0.4,
          0.42,
          0.18,
          0.26,
          0.46,
          0.37,
          0.77,
          0.42,
          3.8,
          2.06,
          0.62,
          0.34,
          0.34,
          0.76,
          5.89,
          0.67,
          0.55,
          0.43,
          0.41,
          0.53,
          0.37,
          0.42,
          1.34,
          0.35,
          0.3,
          0.21,
          0.47,
          0.11,
          0.46,
          3,
          0.25,
          0.37,
          0.38,
          0.18,
          0.3,
          1,
          0.22,
          0.28,
          0.55,
          0.53,
          0.2,
          0.5,
          0.16,
          0.14,
          0.24,
          0.17,
          0.24,
          0.27,
          0.04,
          0.46,
          0.16,
          0.01,
          1.04,
          0.19,
          0.34,
          0.21,
          0.06,
          0.16,
          0.22,
          0.14,
          0.39,
          0.3,
          0.13,
          0.3,
          0.46,
          0.25,
          0.29,
          0.22,
          0.4,
          0.16,
          0.13,
          0.1,
          0.16,
          0.61,
          0.3,
          0.56,
          0.86,
          0.24,
          0.36,
          0.44,
          0.46,
          0.46,
          1,
          0.55,
          0.6,
          3.17,
          0.54,
          0.44,
          0.35,
          0.58,
          1,
          0.08,
          0.45,
          1.64,
          0.92,
          0.14,
          0.58,
          0.09,
          0.07,
          0.09,
          0.46,
          0.26,
          1,
          0.13,
          1.08,
          0.43,
          0.44,
          0.52,
          0.24,
          0.66,
          0.12,
          0.46,
          0.5,
          0.39,
          0.52,
          0.26,
          5.08,
          1.01,
          0.16,
          0.34,
          0.44,
          0.57,
          0.16,
          0.16,
          0.15,
          0.44,
          0.15,
          0.39,
          0.16,
          0.15,
          0.98,
          0.17,
          0.17,
          1,
          0.17,
          0.53,
          0.37,
          0.32,
          0.3,
          0.15,
          0.5,
          0.57,
          0.31,
          0.47,
          0.07,
          0.49,
          0.8,
          0.43,
          0.37,
          0.36,
          0.55,
          0.04,
          0.44,
          0.39,
          0.34,
          0.77,
          0.92,
          0.1,
          0.15,
          0.53,
          0.43,
          0.36,
          0.13,
          0.46,
          0.36,
          0.38,
          0.76,
          0.15,
          0.49,
          0.31,
          0.35,
          0.16,
          0.16,
          0.15,
          0.55,
          0.15,
          0.39,
          0.17,
          0.15,
          0.31,
          0.45,
          1,
          0.95,
          0.3,
          0.24,
          0.54,
          5.61,
          0.32,
          0.45,
          0.33,
          0.43,
          0.31,
          0.16,
          0.54,
          0.33,
          0.17,
          0.48,
          0.37,
          0.46,
          0.77,
          0.54,
          0.66,
          0.38,
          1,
          0.36,
          0.04,
          0.06,
          0.35,
          0.05,
          0.72,
          0.48,
          0.4,
          0.26,
          0.27,
          0.34,
          0.15,
          1,
          2,
          0.6,
          0.06,
          0.43,
          0.31,
          0.64,
          0.62,
          0.12,
          0.3,
          0.35,
          0.46,
          0.19,
          0.48,
          0.28,
          0.6,
          0.33,
          1,
          0.41,
          0.47,
          7.16,
          0.06,
          0.63,
          0.56,
          0.23,
          0.06,
          0.43,
          0.08,
          0.21,
          0.28,
          0.06,
          0.77,
          0.35,
          0.66,
          0.28,
          0.34,
          0.06,
          0.26,
          0.06,
          0.89,
          0.29,
          0.31,
          0.47,
          0.41,
          0.48,
          0.56,
          0.18,
          0.47,
          1.11,
          0.52,
          0.15,
          0.56,
          0.83,
          0.03,
          0.46,
          0.27,
          0.49,
          1.4,
          0.25,
          0.65,
          0.51,
          0.3,
          0.55,
          0.08,
          0.71,
          0.16,
          0.18,
          0.34,
          0.25,
          0.51,
          0.17,
          0.23,
          0.17,
          0.18,
          0.3,
          0.24,
          0.07,
          0.21,
          0.28,
          0.47,
          0.24,
          0.44,
          0.22,
          2,
          0.64,
          0.86,
          0.46,
          0.1,
          0.17,
          0.36,
          0.49,
          0.94,
          0.35,
          0.11,
          0.41,
          0.16,
          0.43,
          0.21,
          0.16,
          0.27,
          0.36,
          0.18,
          1.03,
          0.16,
          0.34,
          0.18,
          0.27,
          0.5,
          0.42,
          0.07,
          0.79,
          0.39,
          0.49,
          0.53,
          0.52,
          0.58,
          1,
          0.39,
          0.24,
          0.07,
          0.35,
          2.4,
          0.93,
          1,
          0.36,
          0.42,
          0.26,
          0.35,
          0.01,
          0.17,
          0.46,
          0.22,
          0.3,
          0.54,
          7.76,
          2.26,
          0.06,
          0.27,
          0.23,
          1,
          0.48,
          0.27,
          1,
          0.97,
          2.5,
          0.61,
          1,
          1.93
         ],
         "xaxis": "x",
         "yaxis": "y"
        }
       ],
       "layout": {
        "barmode": "relative",
        "legend": {
         "title": {
          "text": "variable"
         },
         "tracegroupgap": 0
        },
        "margin": {
         "t": 60
        },
        "template": {
         "data": {
          "bar": [
           {
            "error_x": {
             "color": "#2a3f5f"
            },
            "error_y": {
             "color": "#2a3f5f"
            },
            "marker": {
             "line": {
              "color": "#E5ECF6",
              "width": 0.5
             },
             "pattern": {
              "fillmode": "overlay",
              "size": 10,
              "solidity": 0.2
             }
            },
            "type": "bar"
           }
          ],
          "barpolar": [
           {
            "marker": {
             "line": {
              "color": "#E5ECF6",
              "width": 0.5
             },
             "pattern": {
              "fillmode": "overlay",
              "size": 10,
              "solidity": 0.2
             }
            },
            "type": "barpolar"
           }
          ],
          "carpet": [
           {
            "aaxis": {
             "endlinecolor": "#2a3f5f",
             "gridcolor": "white",
             "linecolor": "white",
             "minorgridcolor": "white",
             "startlinecolor": "#2a3f5f"
            },
            "baxis": {
             "endlinecolor": "#2a3f5f",
             "gridcolor": "white",
             "linecolor": "white",
             "minorgridcolor": "white",
             "startlinecolor": "#2a3f5f"
            },
            "type": "carpet"
           }
          ],
          "choropleth": [
           {
            "colorbar": {
             "outlinewidth": 0,
             "ticks": ""
            },
            "type": "choropleth"
           }
          ],
          "contour": [
           {
            "colorbar": {
             "outlinewidth": 0,
             "ticks": ""
            },
            "colorscale": [
             [
              0,
              "#0d0887"
             ],
             [
              0.1111111111111111,
              "#46039f"
             ],
             [
              0.2222222222222222,
              "#7201a8"
             ],
             [
              0.3333333333333333,
              "#9c179e"
             ],
             [
              0.4444444444444444,
              "#bd3786"
             ],
             [
              0.5555555555555556,
              "#d8576b"
             ],
             [
              0.6666666666666666,
              "#ed7953"
             ],
             [
              0.7777777777777778,
              "#fb9f3a"
             ],
             [
              0.8888888888888888,
              "#fdca26"
             ],
             [
              1,
              "#f0f921"
             ]
            ],
            "type": "contour"
           }
          ],
          "contourcarpet": [
           {
            "colorbar": {
             "outlinewidth": 0,
             "ticks": ""
            },
            "type": "contourcarpet"
           }
          ],
          "heatmap": [
           {
            "colorbar": {
             "outlinewidth": 0,
             "ticks": ""
            },
            "colorscale": [
             [
              0,
              "#0d0887"
             ],
             [
              0.1111111111111111,
              "#46039f"
             ],
             [
              0.2222222222222222,
              "#7201a8"
             ],
             [
              0.3333333333333333,
              "#9c179e"
             ],
             [
              0.4444444444444444,
              "#bd3786"
             ],
             [
              0.5555555555555556,
              "#d8576b"
             ],
             [
              0.6666666666666666,
              "#ed7953"
             ],
             [
              0.7777777777777778,
              "#fb9f3a"
             ],
             [
              0.8888888888888888,
              "#fdca26"
             ],
             [
              1,
              "#f0f921"
             ]
            ],
            "type": "heatmap"
           }
          ],
          "heatmapgl": [
           {
            "colorbar": {
             "outlinewidth": 0,
             "ticks": ""
            },
            "colorscale": [
             [
              0,
              "#0d0887"
             ],
             [
              0.1111111111111111,
              "#46039f"
             ],
             [
              0.2222222222222222,
              "#7201a8"
             ],
             [
              0.3333333333333333,
              "#9c179e"
             ],
             [
              0.4444444444444444,
              "#bd3786"
             ],
             [
              0.5555555555555556,
              "#d8576b"
             ],
             [
              0.6666666666666666,
              "#ed7953"
             ],
             [
              0.7777777777777778,
              "#fb9f3a"
             ],
             [
              0.8888888888888888,
              "#fdca26"
             ],
             [
              1,
              "#f0f921"
             ]
            ],
            "type": "heatmapgl"
           }
          ],
          "histogram": [
           {
            "marker": {
             "pattern": {
              "fillmode": "overlay",
              "size": 10,
              "solidity": 0.2
             }
            },
            "type": "histogram"
           }
          ],
          "histogram2d": [
           {
            "colorbar": {
             "outlinewidth": 0,
             "ticks": ""
            },
            "colorscale": [
             [
              0,
              "#0d0887"
             ],
             [
              0.1111111111111111,
              "#46039f"
             ],
             [
              0.2222222222222222,
              "#7201a8"
             ],
             [
              0.3333333333333333,
              "#9c179e"
             ],
             [
              0.4444444444444444,
              "#bd3786"
             ],
             [
              0.5555555555555556,
              "#d8576b"
             ],
             [
              0.6666666666666666,
              "#ed7953"
             ],
             [
              0.7777777777777778,
              "#fb9f3a"
             ],
             [
              0.8888888888888888,
              "#fdca26"
             ],
             [
              1,
              "#f0f921"
             ]
            ],
            "type": "histogram2d"
           }
          ],
          "histogram2dcontour": [
           {
            "colorbar": {
             "outlinewidth": 0,
             "ticks": ""
            },
            "colorscale": [
             [
              0,
              "#0d0887"
             ],
             [
              0.1111111111111111,
              "#46039f"
             ],
             [
              0.2222222222222222,
              "#7201a8"
             ],
             [
              0.3333333333333333,
              "#9c179e"
             ],
             [
              0.4444444444444444,
              "#bd3786"
             ],
             [
              0.5555555555555556,
              "#d8576b"
             ],
             [
              0.6666666666666666,
              "#ed7953"
             ],
             [
              0.7777777777777778,
              "#fb9f3a"
             ],
             [
              0.8888888888888888,
              "#fdca26"
             ],
             [
              1,
              "#f0f921"
             ]
            ],
            "type": "histogram2dcontour"
           }
          ],
          "mesh3d": [
           {
            "colorbar": {
             "outlinewidth": 0,
             "ticks": ""
            },
            "type": "mesh3d"
           }
          ],
          "parcoords": [
           {
            "line": {
             "colorbar": {
              "outlinewidth": 0,
              "ticks": ""
             }
            },
            "type": "parcoords"
           }
          ],
          "pie": [
           {
            "automargin": true,
            "type": "pie"
           }
          ],
          "scatter": [
           {
            "fillpattern": {
             "fillmode": "overlay",
             "size": 10,
             "solidity": 0.2
            },
            "type": "scatter"
           }
          ],
          "scatter3d": [
           {
            "line": {
             "colorbar": {
              "outlinewidth": 0,
              "ticks": ""
             }
            },
            "marker": {
             "colorbar": {
              "outlinewidth": 0,
              "ticks": ""
             }
            },
            "type": "scatter3d"
           }
          ],
          "scattercarpet": [
           {
            "marker": {
             "colorbar": {
              "outlinewidth": 0,
              "ticks": ""
             }
            },
            "type": "scattercarpet"
           }
          ],
          "scattergeo": [
           {
            "marker": {
             "colorbar": {
              "outlinewidth": 0,
              "ticks": ""
             }
            },
            "type": "scattergeo"
           }
          ],
          "scattergl": [
           {
            "marker": {
             "colorbar": {
              "outlinewidth": 0,
              "ticks": ""
             }
            },
            "type": "scattergl"
           }
          ],
          "scattermapbox": [
           {
            "marker": {
             "colorbar": {
              "outlinewidth": 0,
              "ticks": ""
             }
            },
            "type": "scattermapbox"
           }
          ],
          "scatterpolar": [
           {
            "marker": {
             "colorbar": {
              "outlinewidth": 0,
              "ticks": ""
             }
            },
            "type": "scatterpolar"
           }
          ],
          "scatterpolargl": [
           {
            "marker": {
             "colorbar": {
              "outlinewidth": 0,
              "ticks": ""
             }
            },
            "type": "scatterpolargl"
           }
          ],
          "scatterternary": [
           {
            "marker": {
             "colorbar": {
              "outlinewidth": 0,
              "ticks": ""
             }
            },
            "type": "scatterternary"
           }
          ],
          "surface": [
           {
            "colorbar": {
             "outlinewidth": 0,
             "ticks": ""
            },
            "colorscale": [
             [
              0,
              "#0d0887"
             ],
             [
              0.1111111111111111,
              "#46039f"
             ],
             [
              0.2222222222222222,
              "#7201a8"
             ],
             [
              0.3333333333333333,
              "#9c179e"
             ],
             [
              0.4444444444444444,
              "#bd3786"
             ],
             [
              0.5555555555555556,
              "#d8576b"
             ],
             [
              0.6666666666666666,
              "#ed7953"
             ],
             [
              0.7777777777777778,
              "#fb9f3a"
             ],
             [
              0.8888888888888888,
              "#fdca26"
             ],
             [
              1,
              "#f0f921"
             ]
            ],
            "type": "surface"
           }
          ],
          "table": [
           {
            "cells": {
             "fill": {
              "color": "#EBF0F8"
             },
             "line": {
              "color": "white"
             }
            },
            "header": {
             "fill": {
              "color": "#C8D4E3"
             },
             "line": {
              "color": "white"
             }
            },
            "type": "table"
           }
          ]
         },
         "layout": {
          "annotationdefaults": {
           "arrowcolor": "#2a3f5f",
           "arrowhead": 0,
           "arrowwidth": 1
          },
          "autotypenumbers": "strict",
          "coloraxis": {
           "colorbar": {
            "outlinewidth": 0,
            "ticks": ""
           }
          },
          "colorscale": {
           "diverging": [
            [
             0,
             "#8e0152"
            ],
            [
             0.1,
             "#c51b7d"
            ],
            [
             0.2,
             "#de77ae"
            ],
            [
             0.3,
             "#f1b6da"
            ],
            [
             0.4,
             "#fde0ef"
            ],
            [
             0.5,
             "#f7f7f7"
            ],
            [
             0.6,
             "#e6f5d0"
            ],
            [
             0.7,
             "#b8e186"
            ],
            [
             0.8,
             "#7fbc41"
            ],
            [
             0.9,
             "#4d9221"
            ],
            [
             1,
             "#276419"
            ]
           ],
           "sequential": [
            [
             0,
             "#0d0887"
            ],
            [
             0.1111111111111111,
             "#46039f"
            ],
            [
             0.2222222222222222,
             "#7201a8"
            ],
            [
             0.3333333333333333,
             "#9c179e"
            ],
            [
             0.4444444444444444,
             "#bd3786"
            ],
            [
             0.5555555555555556,
             "#d8576b"
            ],
            [
             0.6666666666666666,
             "#ed7953"
            ],
            [
             0.7777777777777778,
             "#fb9f3a"
            ],
            [
             0.8888888888888888,
             "#fdca26"
            ],
            [
             1,
             "#f0f921"
            ]
           ],
           "sequentialminus": [
            [
             0,
             "#0d0887"
            ],
            [
             0.1111111111111111,
             "#46039f"
            ],
            [
             0.2222222222222222,
             "#7201a8"
            ],
            [
             0.3333333333333333,
             "#9c179e"
            ],
            [
             0.4444444444444444,
             "#bd3786"
            ],
            [
             0.5555555555555556,
             "#d8576b"
            ],
            [
             0.6666666666666666,
             "#ed7953"
            ],
            [
             0.7777777777777778,
             "#fb9f3a"
            ],
            [
             0.8888888888888888,
             "#fdca26"
            ],
            [
             1,
             "#f0f921"
            ]
           ]
          },
          "colorway": [
           "#636efa",
           "#EF553B",
           "#00cc96",
           "#ab63fa",
           "#FFA15A",
           "#19d3f3",
           "#FF6692",
           "#B6E880",
           "#FF97FF",
           "#FECB52"
          ],
          "font": {
           "color": "#2a3f5f"
          },
          "geo": {
           "bgcolor": "white",
           "lakecolor": "white",
           "landcolor": "#E5ECF6",
           "showlakes": true,
           "showland": true,
           "subunitcolor": "white"
          },
          "hoverlabel": {
           "align": "left"
          },
          "hovermode": "closest",
          "mapbox": {
           "style": "light"
          },
          "paper_bgcolor": "white",
          "plot_bgcolor": "#E5ECF6",
          "polar": {
           "angularaxis": {
            "gridcolor": "white",
            "linecolor": "white",
            "ticks": ""
           },
           "bgcolor": "#E5ECF6",
           "radialaxis": {
            "gridcolor": "white",
            "linecolor": "white",
            "ticks": ""
           }
          },
          "scene": {
           "xaxis": {
            "backgroundcolor": "#E5ECF6",
            "gridcolor": "white",
            "gridwidth": 2,
            "linecolor": "white",
            "showbackground": true,
            "ticks": "",
            "zerolinecolor": "white"
           },
           "yaxis": {
            "backgroundcolor": "#E5ECF6",
            "gridcolor": "white",
            "gridwidth": 2,
            "linecolor": "white",
            "showbackground": true,
            "ticks": "",
            "zerolinecolor": "white"
           },
           "zaxis": {
            "backgroundcolor": "#E5ECF6",
            "gridcolor": "white",
            "gridwidth": 2,
            "linecolor": "white",
            "showbackground": true,
            "ticks": "",
            "zerolinecolor": "white"
           }
          },
          "shapedefaults": {
           "line": {
            "color": "#2a3f5f"
           }
          },
          "ternary": {
           "aaxis": {
            "gridcolor": "white",
            "linecolor": "white",
            "ticks": ""
           },
           "baxis": {
            "gridcolor": "white",
            "linecolor": "white",
            "ticks": ""
           },
           "bgcolor": "#E5ECF6",
           "caxis": {
            "gridcolor": "white",
            "linecolor": "white",
            "ticks": ""
           }
          },
          "title": {
           "x": 0.05
          },
          "xaxis": {
           "automargin": true,
           "gridcolor": "white",
           "linecolor": "white",
           "ticks": "",
           "title": {
            "standoff": 15
           },
           "zerolinecolor": "white",
           "zerolinewidth": 2
          },
          "yaxis": {
           "automargin": true,
           "gridcolor": "white",
           "linecolor": "white",
           "ticks": "",
           "title": {
            "standoff": 15
           },
           "zerolinecolor": "white",
           "zerolinewidth": 2
          }
         }
        },
        "xaxis": {
         "anchor": "y",
         "domain": [
          0,
          1
         ],
         "title": {
          "text": "value"
         }
        },
        "yaxis": {
         "anchor": "x",
         "domain": [
          0,
          1
         ],
         "title": {
          "text": "count"
         }
        }
       }
      },
      "text/html": [
       "<div>                            <div id=\"582dfb73-0e0e-4b50-bfe3-354fef695f9b\" class=\"plotly-graph-div\" style=\"height:525px; width:100%;\"></div>            <script type=\"text/javascript\">                require([\"plotly\"], function(Plotly) {                    window.PLOTLYENV=window.PLOTLYENV || {};                                    if (document.getElementById(\"582dfb73-0e0e-4b50-bfe3-354fef695f9b\")) {                    Plotly.newPlot(                        \"582dfb73-0e0e-4b50-bfe3-354fef695f9b\",                        [{\"alignmentgroup\":\"True\",\"bingroup\":\"x\",\"hovertemplate\":\"variable=Lot Size<br>value=%{x}<br>count=%{y}<extra></extra>\",\"legendgroup\":\"Lot Size\",\"marker\":{\"color\":\"#636efa\",\"pattern\":{\"shape\":\"\"}},\"name\":\"Lot Size\",\"offsetgroup\":\"Lot Size\",\"orientation\":\"v\",\"showlegend\":true,\"x\":[2.0,0.38,0.96,0.48,1.84,0.98,0.01,0.11,0.61,0.23,4.05,0.43,0.36,0.18,0.36,0.42,3.0,0.39,0.8,0.77,0.85,0.85,4.87,0.72,0.46,0.46,2.48,0.62,0.71,1.0,0.57,0.39,0.29,0.24,0.25,0.05,0.71,0.22,0.07,0.1,0.04,0.07,0.5,0.19,0.1,2.17,2.12,0.33,0.07,2.17,0.2,0.54,0.31,0.88,0.69,0.24,0.52,0.46,1.61,0.46,0.46,0.37,1.0,0.46,0.46,1.0,0.86,0.34,0.92,0.45,0.69,0.32,0.76,0.34,0.52,0.19,0.19,2.13,0.72,0.52,0.23,0.38,0.34,0.13,0.72,0.35,1.0,0.81,0.38,0.64,0.11,0.58,0.1,0.14,0.13,0.19,1.43,0.76,1.0,1.35,4.0,0.44,0.42,0.35,0.4,0.35,0.38,1.8,0.2,0.08,0.34,0.1,0.36,0.36,0.46,0.19,0.75,0.46,1.2,0.72,0.51,0.48,1.0,0.66,0.47,0.2,0.12,0.18,0.01,0.47,0.19,0.1,0.45,0.92,0.9,0.46,2.31,0.16,0.44,0.16,0.16,0.17,0.99,0.15,0.45,0.32,0.41,0.42,0.15,0.57,0.77,0.32,0.12,0.16,0.33,0.15,0.43,0.35,0.62,0.16,2.96,0.56,0.92,0.16,0.15,0.45,0.83,0.43,0.15,0.29,0.37,0.45,0.11,0.18,0.33,0.0,0.39,0.06,0.56,0.28,0.16,0.49,0.53,0.74,1.59,0.83,0.52,0.42,0.18,0.75,0.65,0.16,0.61,0.34,0.37,0.95,0.3,0.48,0.27,0.22,0.26,0.59,0.66,0.06,0.3,0.26,0.59,0.77,0.45,0.76,0.42,0.57,0.69,0.49,0.38,0.74,0.69,0.29,0.27,0.52,0.5,0.58,0.92,0.59,0.24,0.62,0.11,0.57,0.56,0.43,0.06,0.38,0.04,0.95,0.56,0.46,0.53,0.58,0.6,0.41,0.5,0.47,0.29,0.5,0.34,0.46,0.18,0.74,0.2,0.3,0.01,0.4,0.57,0.8,0.73,0.19,0.56,0.32,0.43,0.09,0.56,0.51,2.84,0.37,0.49,0.49,0.1,0.26,0.08,0.08,0.08,0.92,0.36,0.63,0.46,1.0,1.2,2.5,3.14,0.48,0.14,0.87,0.46,1.94,0.37,2.5,0.69,0.17,0.46,0.17,0.06,0.46,0.98,1.0,0.1,0.32,0.06,0.64,1.08,1.59,2.0,2.0,0.7,0.37,2.0,0.52,4.67,3.64,0.05,1.0,1.0,9.0,1.0,1.05,0.44,1.95,0.4,0.46,0.85,0.38,0.68,0.57,0.32,0.4,0.6,0.35,4.34,0.45,0.5,0.06,2.0,0.6,0.5,0.54,0.37,0.22,0.18,0.21,0.17,0.32,0.05,0.92,1.0,6.13,0.46,0.7,0.36,0.46,0.5,0.48,0.84,0.03,0.28,0.15,0.41,0.22,0.4,0.26,0.14,1.4,0.15,0.41,0.4,0.16,0.67,0.16,0.14,0.34,0.03,0.29,0.39,0.05,0.55,0.07,0.18,0.16,0.14,0.03,0.48,0.1,0.27,0.46,0.28,0.17,0.14,0.3,0.72,0.16,0.26,0.19,0.08,0.46,1.0,0.22,0.13,0.27,0.11,0.39,0.24,0.32,0.38,0.62,0.07,0.15,0.16,0.35,0.13,0.07,0.47,0.05,0.21,0.01,0.59,0.39,0.23,0.07,1.33,0.22,0.19,0.29,0.05,0.24,0.13,0.34,0.01,0.29,0.22,0.1,0.22,0.34,0.23,1.0,0.99,2.15,0.73,0.36,0.34,0.75,0.38,0.92,0.24,0.64,0.17,1.0,0.21,0.46,0.56,0.08,0.21,0.08,0.68,1.28,0.52,0.15,0.35,1.4,0.25,0.27,0.12,0.6,0.03,0.96,1.63,0.26,0.46,0.85,0.46,0.21,0.17,0.02,0.76,0.86,0.64,0.71,0.65,0.01,0.21,0.24,0.61,0.25,0.61,0.66,0.35,0.18,0.61,0.46,0.32,0.66,0.8,0.0,0.06,0.84,0.59,0.05,0.38,0.72,0.5,0.94,0.55,0.01,0.44,0.53,0.14,0.04,0.17,0.92,0.15,0.16,0.37,1.27,0.67,0.62,0.15,0.15,0.16,0.31,0.06,0.33,0.23,0.04,0.12,0.33,0.34,0.16,0.34,0.03,0.16,0.46,0.27,0.98,0.46,1.13,0.07,0.27,0.36,0.31,0.91,0.16,4.2,0.33,0.15,0.16,0.37,0.44,0.48,0.16,0.31,1.0,0.15,0.14,0.16,0.16,0.17,0.36,0.04,0.65,0.17,0.36,0.15,0.97,1.0,0.36,0.14,0.43,0.35,5.51,0.91,0.49,0.28,0.25,0.41,0.38,0.07,0.05,0.13,0.83,0.24,1.0,0.53,0.37,0.14,0.17,2.5,0.27,0.23,0.18,0.29,0.3,0.46,0.61,0.92,0.6,0.53,0.19,0.67,0.6,0.34,0.43,0.49,0.4,0.51,0.89,0.35,0.63,0.28,0.38,0.46,0.49,0.15,0.45,0.08,0.61,1.34,0.46,0.48,0.27,0.35,0.44,1.03,0.53,2.0,0.34,0.49,0.5,0.29,0.58,0.17,0.31,0.12,0.4,0.31,0.46,1.92,1.55,4.0,0.1,0.39,0.31,0.21,0.53,0.33,1.2,0.36,0.21,0.71,0.29,0.25,0.34,0.51,0.36,0.07,0.23,0.35,1.84,0.46,0.47,0.46,0.46,0.43,0.61,2.0,0.57,0.0,1.94,0.02,0.69,1.19,0.39,1.0,0.9,2.0,0.69,1.55,0.31,0.15,0.14,1.0,0.36,0.1,0.09,0.9,0.69,0.4,0.4,0.42,0.18,0.26,0.46,0.37,0.77,0.42,3.8,2.06,0.62,0.34,0.34,0.76,5.89,0.67,0.55,0.43,0.41,0.53,0.37,0.42,1.34,0.35,0.3,0.21,0.47,0.11,0.46,3.0,0.25,0.37,0.38,0.18,0.3,1.0,0.22,0.28,0.55,0.53,0.2,0.5,0.16,0.14,0.24,0.17,0.24,0.27,0.04,0.46,0.16,0.01,1.04,0.19,0.34,0.21,0.06,0.16,0.22,0.14,0.39,0.3,0.13,0.3,0.46,0.25,0.29,0.22,0.4,0.16,0.13,0.1,0.16,0.61,0.3,0.56,0.86,0.24,0.36,0.44,0.46,0.46,1.0,0.55,0.6,3.17,0.54,0.44,0.35,0.58,1.0,0.08,0.45,1.64,0.92,0.14,0.58,0.09,0.07,0.09,0.46,0.26,1.0,0.13,1.08,0.43,0.44,0.52,0.24,0.66,0.12,0.46,0.5,0.39,0.52,0.26,5.08,1.01,0.16,0.34,0.44,0.57,0.16,0.16,0.15,0.44,0.15,0.39,0.16,0.15,0.98,0.17,0.17,1.0,0.17,0.53,0.37,0.32,0.3,0.15,0.5,0.57,0.31,0.47,0.07,0.49,0.8,0.43,0.37,0.36,0.55,0.04,0.44,0.39,0.34,0.77,0.92,0.1,0.15,0.53,0.43,0.36,0.13,0.46,0.36,0.38,0.76,0.15,0.49,0.31,0.35,0.16,0.16,0.15,0.55,0.15,0.39,0.17,0.15,0.31,0.45,1.0,0.95,0.3,0.24,0.54,5.61,0.32,0.45,0.33,0.43,0.31,0.16,0.54,0.33,0.17,0.48,0.37,0.46,0.77,0.54,0.66,0.38,1.0,0.36,0.04,0.06,0.35,0.05,0.72,0.48,0.4,0.26,0.27,0.34,0.15,1.0,2.0,0.6,0.06,0.43,0.31,0.64,0.62,0.12,0.3,0.35,0.46,0.19,0.48,0.28,0.6,0.33,1.0,0.41,0.47,7.16,0.06,0.63,0.56,0.23,0.06,0.43,0.08,0.21,0.28,0.06,0.77,0.35,0.66,0.28,0.34,0.06,0.26,0.06,0.89,0.29,0.31,0.47,0.41,0.48,0.56,0.18,0.47,1.11,0.52,0.15,0.56,0.83,0.03,0.46,0.27,0.49,1.4,0.25,0.65,0.51,0.3,0.55,0.08,0.71,0.16,0.18,0.34,0.25,0.51,0.17,0.23,0.17,0.18,0.3,0.24,0.07,0.21,0.28,0.47,0.24,0.44,0.22,2.0,0.64,0.86,0.46,0.1,0.17,0.36,0.49,0.94,0.35,0.11,0.41,0.16,0.43,0.21,0.16,0.27,0.36,0.18,1.03,0.16,0.34,0.18,0.27,0.5,0.42,0.07,0.79,0.39,0.49,0.53,0.52,0.58,1.0,0.39,0.24,0.07,0.35,2.4,0.93,1.0,0.36,0.42,0.26,0.35,0.01,0.17,0.46,0.22,0.3,0.54,7.76,2.26,0.06,0.27,0.23,1.0,0.48,0.27,1.0,0.97,2.5,0.61,1.0,1.93],\"xaxis\":\"x\",\"yaxis\":\"y\",\"type\":\"histogram\"}],                        {\"template\":{\"data\":{\"histogram2dcontour\":[{\"type\":\"histogram2dcontour\",\"colorbar\":{\"outlinewidth\":0,\"ticks\":\"\"},\"colorscale\":[[0.0,\"#0d0887\"],[0.1111111111111111,\"#46039f\"],[0.2222222222222222,\"#7201a8\"],[0.3333333333333333,\"#9c179e\"],[0.4444444444444444,\"#bd3786\"],[0.5555555555555556,\"#d8576b\"],[0.6666666666666666,\"#ed7953\"],[0.7777777777777778,\"#fb9f3a\"],[0.8888888888888888,\"#fdca26\"],[1.0,\"#f0f921\"]]}],\"choropleth\":[{\"type\":\"choropleth\",\"colorbar\":{\"outlinewidth\":0,\"ticks\":\"\"}}],\"histogram2d\":[{\"type\":\"histogram2d\",\"colorbar\":{\"outlinewidth\":0,\"ticks\":\"\"},\"colorscale\":[[0.0,\"#0d0887\"],[0.1111111111111111,\"#46039f\"],[0.2222222222222222,\"#7201a8\"],[0.3333333333333333,\"#9c179e\"],[0.4444444444444444,\"#bd3786\"],[0.5555555555555556,\"#d8576b\"],[0.6666666666666666,\"#ed7953\"],[0.7777777777777778,\"#fb9f3a\"],[0.8888888888888888,\"#fdca26\"],[1.0,\"#f0f921\"]]}],\"heatmap\":[{\"type\":\"heatmap\",\"colorbar\":{\"outlinewidth\":0,\"ticks\":\"\"},\"colorscale\":[[0.0,\"#0d0887\"],[0.1111111111111111,\"#46039f\"],[0.2222222222222222,\"#7201a8\"],[0.3333333333333333,\"#9c179e\"],[0.4444444444444444,\"#bd3786\"],[0.5555555555555556,\"#d8576b\"],[0.6666666666666666,\"#ed7953\"],[0.7777777777777778,\"#fb9f3a\"],[0.8888888888888888,\"#fdca26\"],[1.0,\"#f0f921\"]]}],\"heatmapgl\":[{\"type\":\"heatmapgl\",\"colorbar\":{\"outlinewidth\":0,\"ticks\":\"\"},\"colorscale\":[[0.0,\"#0d0887\"],[0.1111111111111111,\"#46039f\"],[0.2222222222222222,\"#7201a8\"],[0.3333333333333333,\"#9c179e\"],[0.4444444444444444,\"#bd3786\"],[0.5555555555555556,\"#d8576b\"],[0.6666666666666666,\"#ed7953\"],[0.7777777777777778,\"#fb9f3a\"],[0.8888888888888888,\"#fdca26\"],[1.0,\"#f0f921\"]]}],\"contourcarpet\":[{\"type\":\"contourcarpet\",\"colorbar\":{\"outlinewidth\":0,\"ticks\":\"\"}}],\"contour\":[{\"type\":\"contour\",\"colorbar\":{\"outlinewidth\":0,\"ticks\":\"\"},\"colorscale\":[[0.0,\"#0d0887\"],[0.1111111111111111,\"#46039f\"],[0.2222222222222222,\"#7201a8\"],[0.3333333333333333,\"#9c179e\"],[0.4444444444444444,\"#bd3786\"],[0.5555555555555556,\"#d8576b\"],[0.6666666666666666,\"#ed7953\"],[0.7777777777777778,\"#fb9f3a\"],[0.8888888888888888,\"#fdca26\"],[1.0,\"#f0f921\"]]}],\"surface\":[{\"type\":\"surface\",\"colorbar\":{\"outlinewidth\":0,\"ticks\":\"\"},\"colorscale\":[[0.0,\"#0d0887\"],[0.1111111111111111,\"#46039f\"],[0.2222222222222222,\"#7201a8\"],[0.3333333333333333,\"#9c179e\"],[0.4444444444444444,\"#bd3786\"],[0.5555555555555556,\"#d8576b\"],[0.6666666666666666,\"#ed7953\"],[0.7777777777777778,\"#fb9f3a\"],[0.8888888888888888,\"#fdca26\"],[1.0,\"#f0f921\"]]}],\"mesh3d\":[{\"type\":\"mesh3d\",\"colorbar\":{\"outlinewidth\":0,\"ticks\":\"\"}}],\"scatter\":[{\"fillpattern\":{\"fillmode\":\"overlay\",\"size\":10,\"solidity\":0.2},\"type\":\"scatter\"}],\"parcoords\":[{\"type\":\"parcoords\",\"line\":{\"colorbar\":{\"outlinewidth\":0,\"ticks\":\"\"}}}],\"scatterpolargl\":[{\"type\":\"scatterpolargl\",\"marker\":{\"colorbar\":{\"outlinewidth\":0,\"ticks\":\"\"}}}],\"bar\":[{\"error_x\":{\"color\":\"#2a3f5f\"},\"error_y\":{\"color\":\"#2a3f5f\"},\"marker\":{\"line\":{\"color\":\"#E5ECF6\",\"width\":0.5},\"pattern\":{\"fillmode\":\"overlay\",\"size\":10,\"solidity\":0.2}},\"type\":\"bar\"}],\"scattergeo\":[{\"type\":\"scattergeo\",\"marker\":{\"colorbar\":{\"outlinewidth\":0,\"ticks\":\"\"}}}],\"scatterpolar\":[{\"type\":\"scatterpolar\",\"marker\":{\"colorbar\":{\"outlinewidth\":0,\"ticks\":\"\"}}}],\"histogram\":[{\"marker\":{\"pattern\":{\"fillmode\":\"overlay\",\"size\":10,\"solidity\":0.2}},\"type\":\"histogram\"}],\"scattergl\":[{\"type\":\"scattergl\",\"marker\":{\"colorbar\":{\"outlinewidth\":0,\"ticks\":\"\"}}}],\"scatter3d\":[{\"type\":\"scatter3d\",\"line\":{\"colorbar\":{\"outlinewidth\":0,\"ticks\":\"\"}},\"marker\":{\"colorbar\":{\"outlinewidth\":0,\"ticks\":\"\"}}}],\"scattermapbox\":[{\"type\":\"scattermapbox\",\"marker\":{\"colorbar\":{\"outlinewidth\":0,\"ticks\":\"\"}}}],\"scatterternary\":[{\"type\":\"scatterternary\",\"marker\":{\"colorbar\":{\"outlinewidth\":0,\"ticks\":\"\"}}}],\"scattercarpet\":[{\"type\":\"scattercarpet\",\"marker\":{\"colorbar\":{\"outlinewidth\":0,\"ticks\":\"\"}}}],\"carpet\":[{\"aaxis\":{\"endlinecolor\":\"#2a3f5f\",\"gridcolor\":\"white\",\"linecolor\":\"white\",\"minorgridcolor\":\"white\",\"startlinecolor\":\"#2a3f5f\"},\"baxis\":{\"endlinecolor\":\"#2a3f5f\",\"gridcolor\":\"white\",\"linecolor\":\"white\",\"minorgridcolor\":\"white\",\"startlinecolor\":\"#2a3f5f\"},\"type\":\"carpet\"}],\"table\":[{\"cells\":{\"fill\":{\"color\":\"#EBF0F8\"},\"line\":{\"color\":\"white\"}},\"header\":{\"fill\":{\"color\":\"#C8D4E3\"},\"line\":{\"color\":\"white\"}},\"type\":\"table\"}],\"barpolar\":[{\"marker\":{\"line\":{\"color\":\"#E5ECF6\",\"width\":0.5},\"pattern\":{\"fillmode\":\"overlay\",\"size\":10,\"solidity\":0.2}},\"type\":\"barpolar\"}],\"pie\":[{\"automargin\":true,\"type\":\"pie\"}]},\"layout\":{\"autotypenumbers\":\"strict\",\"colorway\":[\"#636efa\",\"#EF553B\",\"#00cc96\",\"#ab63fa\",\"#FFA15A\",\"#19d3f3\",\"#FF6692\",\"#B6E880\",\"#FF97FF\",\"#FECB52\"],\"font\":{\"color\":\"#2a3f5f\"},\"hovermode\":\"closest\",\"hoverlabel\":{\"align\":\"left\"},\"paper_bgcolor\":\"white\",\"plot_bgcolor\":\"#E5ECF6\",\"polar\":{\"bgcolor\":\"#E5ECF6\",\"angularaxis\":{\"gridcolor\":\"white\",\"linecolor\":\"white\",\"ticks\":\"\"},\"radialaxis\":{\"gridcolor\":\"white\",\"linecolor\":\"white\",\"ticks\":\"\"}},\"ternary\":{\"bgcolor\":\"#E5ECF6\",\"aaxis\":{\"gridcolor\":\"white\",\"linecolor\":\"white\",\"ticks\":\"\"},\"baxis\":{\"gridcolor\":\"white\",\"linecolor\":\"white\",\"ticks\":\"\"},\"caxis\":{\"gridcolor\":\"white\",\"linecolor\":\"white\",\"ticks\":\"\"}},\"coloraxis\":{\"colorbar\":{\"outlinewidth\":0,\"ticks\":\"\"}},\"colorscale\":{\"sequential\":[[0.0,\"#0d0887\"],[0.1111111111111111,\"#46039f\"],[0.2222222222222222,\"#7201a8\"],[0.3333333333333333,\"#9c179e\"],[0.4444444444444444,\"#bd3786\"],[0.5555555555555556,\"#d8576b\"],[0.6666666666666666,\"#ed7953\"],[0.7777777777777778,\"#fb9f3a\"],[0.8888888888888888,\"#fdca26\"],[1.0,\"#f0f921\"]],\"sequentialminus\":[[0.0,\"#0d0887\"],[0.1111111111111111,\"#46039f\"],[0.2222222222222222,\"#7201a8\"],[0.3333333333333333,\"#9c179e\"],[0.4444444444444444,\"#bd3786\"],[0.5555555555555556,\"#d8576b\"],[0.6666666666666666,\"#ed7953\"],[0.7777777777777778,\"#fb9f3a\"],[0.8888888888888888,\"#fdca26\"],[1.0,\"#f0f921\"]],\"diverging\":[[0,\"#8e0152\"],[0.1,\"#c51b7d\"],[0.2,\"#de77ae\"],[0.3,\"#f1b6da\"],[0.4,\"#fde0ef\"],[0.5,\"#f7f7f7\"],[0.6,\"#e6f5d0\"],[0.7,\"#b8e186\"],[0.8,\"#7fbc41\"],[0.9,\"#4d9221\"],[1,\"#276419\"]]},\"xaxis\":{\"gridcolor\":\"white\",\"linecolor\":\"white\",\"ticks\":\"\",\"title\":{\"standoff\":15},\"zerolinecolor\":\"white\",\"automargin\":true,\"zerolinewidth\":2},\"yaxis\":{\"gridcolor\":\"white\",\"linecolor\":\"white\",\"ticks\":\"\",\"title\":{\"standoff\":15},\"zerolinecolor\":\"white\",\"automargin\":true,\"zerolinewidth\":2},\"scene\":{\"xaxis\":{\"backgroundcolor\":\"#E5ECF6\",\"gridcolor\":\"white\",\"linecolor\":\"white\",\"showbackground\":true,\"ticks\":\"\",\"zerolinecolor\":\"white\",\"gridwidth\":2},\"yaxis\":{\"backgroundcolor\":\"#E5ECF6\",\"gridcolor\":\"white\",\"linecolor\":\"white\",\"showbackground\":true,\"ticks\":\"\",\"zerolinecolor\":\"white\",\"gridwidth\":2},\"zaxis\":{\"backgroundcolor\":\"#E5ECF6\",\"gridcolor\":\"white\",\"linecolor\":\"white\",\"showbackground\":true,\"ticks\":\"\",\"zerolinecolor\":\"white\",\"gridwidth\":2}},\"shapedefaults\":{\"line\":{\"color\":\"#2a3f5f\"}},\"annotationdefaults\":{\"arrowcolor\":\"#2a3f5f\",\"arrowhead\":0,\"arrowwidth\":1},\"geo\":{\"bgcolor\":\"white\",\"landcolor\":\"#E5ECF6\",\"subunitcolor\":\"white\",\"showland\":true,\"showlakes\":true,\"lakecolor\":\"white\"},\"title\":{\"x\":0.05},\"mapbox\":{\"style\":\"light\"}}},\"xaxis\":{\"anchor\":\"y\",\"domain\":[0.0,1.0],\"title\":{\"text\":\"value\"}},\"yaxis\":{\"anchor\":\"x\",\"domain\":[0.0,1.0],\"title\":{\"text\":\"count\"}},\"legend\":{\"title\":{\"text\":\"variable\"},\"tracegroupgap\":0},\"margin\":{\"t\":60},\"barmode\":\"relative\"},                        {\"responsive\": true}                    ).then(function(){\n",
       "                            \n",
       "var gd = document.getElementById('582dfb73-0e0e-4b50-bfe3-354fef695f9b');\n",
       "var x = new MutationObserver(function (mutations, observer) {{\n",
       "        var display = window.getComputedStyle(gd).display;\n",
       "        if (!display || display === 'none') {{\n",
       "            console.log([gd, 'removed!']);\n",
       "            Plotly.purge(gd);\n",
       "            observer.disconnect();\n",
       "        }}\n",
       "}});\n",
       "\n",
       "// Listen for the removal of the full notebook cells\n",
       "var notebookContainer = gd.closest('#notebook-container');\n",
       "if (notebookContainer) {{\n",
       "    x.observe(notebookContainer, {childList: true});\n",
       "}}\n",
       "\n",
       "// Listen for the clearing of the current output cell\n",
       "var outputEl = gd.closest('.output');\n",
       "if (outputEl) {{\n",
       "    x.observe(outputEl, {childList: true});\n",
       "}}\n",
       "\n",
       "                        })                };                });            </script>        </div>"
      ]
     },
     "metadata": {},
     "output_type": "display_data"
    },
    {
     "data": {
      "application/vnd.plotly.v1+json": {
       "config": {
        "plotlyServerURL": "https://plot.ly"
       },
       "data": [
        {
         "alignmentgroup": "True",
         "bingroup": "x",
         "hovertemplate": "variable=Age<br>value=%{x}<br>count=%{y}<extra></extra>",
         "legendgroup": "Age",
         "marker": {
          "color": "#636efa",
          "pattern": {
           "shape": ""
          }
         },
         "name": "Age",
         "offsetgroup": "Age",
         "orientation": "v",
         "showlegend": true,
         "type": "histogram",
         "x": [
          133,
          14,
          15,
          49,
          29,
          10,
          12,
          87,
          101,
          14,
          9,
          0,
          16,
          17,
          0,
          0,
          26,
          0,
          6,
          1,
          10,
          73,
          103,
          30,
          25,
          43,
          10,
          183,
          5,
          35,
          41,
          68,
          14,
          17,
          13,
          13,
          5,
          6,
          14,
          0,
          12,
          0,
          0,
          45,
          14,
          0,
          32,
          41,
          14,
          0,
          93,
          11,
          53,
          16,
          183,
          83,
          91,
          14,
          16,
          25,
          26,
          11,
          4,
          7,
          7,
          247,
          14,
          1,
          37,
          5,
          15,
          30,
          12,
          25,
          7,
          103,
          115,
          0,
          43,
          5,
          41,
          0,
          1,
          95,
          11,
          7,
          0,
          27,
          47,
          5,
          68,
          208,
          147,
          103,
          0,
          5,
          0,
          180,
          41,
          17,
          15,
          63,
          233,
          11,
          11,
          11,
          48,
          63,
          1,
          4,
          1,
          16,
          1,
          18,
          1,
          0,
          1,
          1,
          55,
          31,
          0,
          1,
          113,
          0,
          4,
          1,
          15,
          16,
          17,
          18,
          16,
          16,
          0,
          53,
          0,
          0,
          3,
          16,
          11,
          18,
          19,
          16,
          12,
          19,
          1,
          17,
          1,
          0,
          19,
          7,
          7,
          16,
          15,
          17,
          17,
          19,
          0,
          33,
          7,
          16,
          40,
          31,
          0,
          19,
          19,
          27,
          1,
          16,
          0,
          0,
          16,
          26,
          2,
          0,
          72,
          48,
          41,
          133,
          0,
          49,
          17,
          31,
          25,
          14,
          0,
          1,
          37,
          17,
          0,
          37,
          16,
          25,
          1,
          20,
          26,
          16,
          25,
          6,
          25,
          24,
          0,
          31,
          1,
          26,
          20,
          0,
          35,
          2,
          36,
          16,
          35,
          0,
          34,
          5,
          18,
          14,
          0,
          0,
          0,
          18,
          0,
          19,
          0,
          30,
          0,
          2,
          17,
          41,
          32,
          35,
          16,
          25,
          0,
          9,
          27,
          14,
          20,
          9,
          0,
          32,
          3,
          28,
          10,
          5,
          0,
          26,
          18,
          10,
          20,
          29,
          21,
          0,
          35,
          0,
          22,
          18,
          23,
          0,
          35,
          22,
          173,
          0,
          55,
          18,
          0,
          7,
          19,
          25,
          21,
          18,
          19,
          52,
          40,
          11,
          21,
          128,
          104,
          10,
          29,
          20,
          2,
          39,
          26,
          5,
          12,
          177,
          26,
          15,
          88,
          44,
          14,
          30,
          25,
          26,
          94,
          84,
          124,
          15,
          10,
          5,
          114,
          20,
          17,
          48,
          54,
          47,
          29,
          0,
          74,
          14,
          7,
          5,
          104,
          13,
          39,
          97,
          54,
          47,
          24,
          51,
          72,
          20,
          54,
          44,
          49,
          103,
          9,
          27,
          1,
          6,
          43,
          7,
          1,
          7,
          13,
          4,
          49,
          129,
          124,
          94,
          13,
          14,
          36,
          7,
          9,
          3,
          4,
          20,
          30,
          6,
          3,
          8,
          29,
          0,
          26,
          31,
          51,
          31,
          98,
          12,
          0,
          24,
          34,
          1,
          35,
          37,
          75,
          3,
          16,
          113,
          0,
          18,
          78,
          0,
          44,
          0,
          0,
          16,
          0,
          113,
          63,
          0,
          31,
          36,
          85,
          15,
          0,
          18,
          31,
          73,
          0,
          0,
          20,
          5,
          122,
          0,
          4,
          6,
          33,
          1,
          34,
          1,
          16,
          104,
          65,
          0,
          36,
          16,
          24,
          4,
          114,
          41,
          18,
          27,
          92,
          16,
          26,
          46,
          16,
          27,
          17,
          38,
          3,
          6,
          41,
          34,
          16,
          77,
          33,
          26,
          49,
          17,
          10,
          1,
          7,
          46,
          8,
          4,
          37,
          48,
          106,
          7,
          104,
          51,
          81,
          19,
          25,
          16,
          14,
          15,
          1,
          0,
          0,
          16,
          20,
          3,
          10,
          11,
          17,
          36,
          29,
          46,
          16,
          21,
          33,
          9,
          17,
          76,
          90,
          19,
          14,
          1,
          16,
          1,
          1,
          19,
          16,
          1,
          6,
          37,
          1,
          7,
          0,
          11,
          9,
          1,
          11,
          9,
          36,
          18,
          10,
          11,
          1,
          5,
          0,
          7,
          8,
          9,
          10,
          18,
          36,
          4,
          19,
          99,
          1,
          14,
          17,
          1,
          1,
          1,
          12,
          14,
          17,
          18,
          17,
          17,
          22,
          16,
          62,
          114,
          114,
          19,
          36,
          20,
          19,
          134,
          18,
          24,
          134,
          6,
          19,
          13,
          114,
          133,
          18,
          2,
          15,
          19,
          39,
          18,
          19,
          1,
          1,
          2,
          14,
          20,
          17,
          8,
          18,
          21,
          20,
          18,
          17,
          20,
          110,
          31,
          119,
          3,
          17,
          1,
          0,
          25,
          8,
          17,
          11,
          8,
          15,
          51,
          52,
          26,
          1,
          1,
          21,
          17,
          19,
          7,
          1,
          49,
          0,
          1,
          19,
          19,
          0,
          3,
          20,
          11,
          0,
          0,
          11,
          16,
          3,
          38,
          36,
          0,
          30,
          15,
          21,
          37,
          23,
          30,
          7,
          34,
          0,
          3,
          0,
          19,
          11,
          22,
          20,
          34,
          24,
          8,
          15,
          15,
          13,
          26,
          31,
          18,
          6,
          36,
          5,
          3,
          14,
          27,
          32,
          4,
          21,
          19,
          19,
          36,
          23,
          17,
          1,
          25,
          154,
          25,
          29,
          32,
          21,
          24,
          3,
          21,
          20,
          19,
          31,
          27,
          3,
          12,
          104,
          11,
          15,
          15,
          27,
          12,
          22,
          3,
          12,
          1,
          31,
          2,
          87,
          34,
          36,
          7,
          45,
          53,
          16,
          104,
          6,
          14,
          6,
          4,
          16,
          85,
          105,
          3,
          15,
          83,
          110,
          110,
          2,
          30,
          5,
          72,
          125,
          57,
          10,
          4,
          2,
          10,
          18,
          27,
          18,
          13,
          45,
          51,
          54,
          1,
          63,
          17,
          0,
          3,
          8,
          8,
          21,
          1,
          35,
          20,
          19,
          12,
          14,
          14,
          25,
          35,
          33,
          43,
          140,
          41,
          130,
          38,
          41,
          31,
          23,
          17,
          0,
          5,
          29,
          17,
          72,
          35,
          34,
          18,
          35,
          85,
          66,
          16,
          18,
          32,
          2,
          115,
          44,
          6,
          16,
          4,
          4,
          102,
          31,
          31,
          23,
          6,
          43,
          18,
          39,
          4,
          115,
          135,
          57,
          67,
          10,
          16,
          120,
          40,
          47,
          16,
          27,
          16,
          31,
          37,
          39,
          1,
          14,
          13,
          19,
          1,
          75,
          112,
          185,
          13,
          28,
          7,
          1,
          20,
          18,
          9,
          18,
          9,
          3,
          39,
          5,
          79,
          10,
          16,
          0,
          2,
          8,
          9,
          20,
          44,
          2,
          15,
          6,
          21,
          19,
          1,
          6,
          18,
          18,
          18,
          16,
          20,
          1,
          18,
          33,
          13,
          26,
          21,
          20,
          19,
          13,
          1,
          17,
          8,
          20,
          1,
          1,
          1,
          33,
          127,
          1,
          40,
          16,
          14,
          1,
          1,
          130,
          9,
          2,
          9,
          12,
          19,
          17,
          56,
          14,
          65,
          19,
          125,
          55,
          13,
          18,
          40,
          18,
          227,
          19,
          1,
          18,
          18,
          18,
          33,
          20,
          1,
          14,
          20,
          1,
          33,
          20,
          15,
          1,
          115,
          1,
          6,
          18,
          16,
          0,
          16,
          0,
          18,
          10,
          0,
          18,
          28,
          0,
          5,
          12,
          35,
          6,
          105,
          1,
          48,
          115,
          115,
          37,
          105,
          21,
          20,
          55,
          48,
          57,
          45,
          155,
          2,
          52,
          1,
          17,
          38,
          45,
          17,
          0,
          23,
          0,
          1,
          11,
          8,
          31,
          18,
          28,
          6,
          15,
          1,
          17,
          205,
          27,
          26,
          18,
          4,
          20,
          31,
          21,
          21,
          31,
          20,
          1,
          31,
          9,
          34,
          5,
          20,
          2,
          19,
          105,
          20,
          33,
          16,
          21,
          20,
          1,
          22,
          19,
          161,
          18,
          37,
          38,
          20,
          1,
          17,
          5,
          34,
          18,
          2,
          35,
          37,
          15,
          20,
          19,
          180,
          15,
          16,
          56,
          12,
          34,
          83,
          11,
          0,
          15,
          14,
          55,
          16,
          0,
          13,
          60,
          13,
          55,
          17,
          2,
          9,
          9,
          19,
          6,
          19,
          1,
          11,
          9,
          18,
          11,
          4,
          19,
          1,
          1,
          20,
          1,
          106,
          71,
          14,
          20,
          21,
          71,
          28,
          1,
          22,
          22,
          1,
          33,
          33,
          3,
          1,
          42,
          20,
          9,
          48,
          1,
          50,
          39,
          28,
          15,
          1,
          3,
          1,
          12,
          1,
          19,
          29,
          66,
          14,
          31,
          1,
          26,
          50,
          1,
          60,
          61,
          79,
          1,
          18,
          56,
          1,
          66,
          3,
          10
         ],
         "xaxis": "x",
         "yaxis": "y"
        }
       ],
       "layout": {
        "barmode": "relative",
        "legend": {
         "title": {
          "text": "variable"
         },
         "tracegroupgap": 0
        },
        "margin": {
         "t": 60
        },
        "template": {
         "data": {
          "bar": [
           {
            "error_x": {
             "color": "#2a3f5f"
            },
            "error_y": {
             "color": "#2a3f5f"
            },
            "marker": {
             "line": {
              "color": "#E5ECF6",
              "width": 0.5
             },
             "pattern": {
              "fillmode": "overlay",
              "size": 10,
              "solidity": 0.2
             }
            },
            "type": "bar"
           }
          ],
          "barpolar": [
           {
            "marker": {
             "line": {
              "color": "#E5ECF6",
              "width": 0.5
             },
             "pattern": {
              "fillmode": "overlay",
              "size": 10,
              "solidity": 0.2
             }
            },
            "type": "barpolar"
           }
          ],
          "carpet": [
           {
            "aaxis": {
             "endlinecolor": "#2a3f5f",
             "gridcolor": "white",
             "linecolor": "white",
             "minorgridcolor": "white",
             "startlinecolor": "#2a3f5f"
            },
            "baxis": {
             "endlinecolor": "#2a3f5f",
             "gridcolor": "white",
             "linecolor": "white",
             "minorgridcolor": "white",
             "startlinecolor": "#2a3f5f"
            },
            "type": "carpet"
           }
          ],
          "choropleth": [
           {
            "colorbar": {
             "outlinewidth": 0,
             "ticks": ""
            },
            "type": "choropleth"
           }
          ],
          "contour": [
           {
            "colorbar": {
             "outlinewidth": 0,
             "ticks": ""
            },
            "colorscale": [
             [
              0,
              "#0d0887"
             ],
             [
              0.1111111111111111,
              "#46039f"
             ],
             [
              0.2222222222222222,
              "#7201a8"
             ],
             [
              0.3333333333333333,
              "#9c179e"
             ],
             [
              0.4444444444444444,
              "#bd3786"
             ],
             [
              0.5555555555555556,
              "#d8576b"
             ],
             [
              0.6666666666666666,
              "#ed7953"
             ],
             [
              0.7777777777777778,
              "#fb9f3a"
             ],
             [
              0.8888888888888888,
              "#fdca26"
             ],
             [
              1,
              "#f0f921"
             ]
            ],
            "type": "contour"
           }
          ],
          "contourcarpet": [
           {
            "colorbar": {
             "outlinewidth": 0,
             "ticks": ""
            },
            "type": "contourcarpet"
           }
          ],
          "heatmap": [
           {
            "colorbar": {
             "outlinewidth": 0,
             "ticks": ""
            },
            "colorscale": [
             [
              0,
              "#0d0887"
             ],
             [
              0.1111111111111111,
              "#46039f"
             ],
             [
              0.2222222222222222,
              "#7201a8"
             ],
             [
              0.3333333333333333,
              "#9c179e"
             ],
             [
              0.4444444444444444,
              "#bd3786"
             ],
             [
              0.5555555555555556,
              "#d8576b"
             ],
             [
              0.6666666666666666,
              "#ed7953"
             ],
             [
              0.7777777777777778,
              "#fb9f3a"
             ],
             [
              0.8888888888888888,
              "#fdca26"
             ],
             [
              1,
              "#f0f921"
             ]
            ],
            "type": "heatmap"
           }
          ],
          "heatmapgl": [
           {
            "colorbar": {
             "outlinewidth": 0,
             "ticks": ""
            },
            "colorscale": [
             [
              0,
              "#0d0887"
             ],
             [
              0.1111111111111111,
              "#46039f"
             ],
             [
              0.2222222222222222,
              "#7201a8"
             ],
             [
              0.3333333333333333,
              "#9c179e"
             ],
             [
              0.4444444444444444,
              "#bd3786"
             ],
             [
              0.5555555555555556,
              "#d8576b"
             ],
             [
              0.6666666666666666,
              "#ed7953"
             ],
             [
              0.7777777777777778,
              "#fb9f3a"
             ],
             [
              0.8888888888888888,
              "#fdca26"
             ],
             [
              1,
              "#f0f921"
             ]
            ],
            "type": "heatmapgl"
           }
          ],
          "histogram": [
           {
            "marker": {
             "pattern": {
              "fillmode": "overlay",
              "size": 10,
              "solidity": 0.2
             }
            },
            "type": "histogram"
           }
          ],
          "histogram2d": [
           {
            "colorbar": {
             "outlinewidth": 0,
             "ticks": ""
            },
            "colorscale": [
             [
              0,
              "#0d0887"
             ],
             [
              0.1111111111111111,
              "#46039f"
             ],
             [
              0.2222222222222222,
              "#7201a8"
             ],
             [
              0.3333333333333333,
              "#9c179e"
             ],
             [
              0.4444444444444444,
              "#bd3786"
             ],
             [
              0.5555555555555556,
              "#d8576b"
             ],
             [
              0.6666666666666666,
              "#ed7953"
             ],
             [
              0.7777777777777778,
              "#fb9f3a"
             ],
             [
              0.8888888888888888,
              "#fdca26"
             ],
             [
              1,
              "#f0f921"
             ]
            ],
            "type": "histogram2d"
           }
          ],
          "histogram2dcontour": [
           {
            "colorbar": {
             "outlinewidth": 0,
             "ticks": ""
            },
            "colorscale": [
             [
              0,
              "#0d0887"
             ],
             [
              0.1111111111111111,
              "#46039f"
             ],
             [
              0.2222222222222222,
              "#7201a8"
             ],
             [
              0.3333333333333333,
              "#9c179e"
             ],
             [
              0.4444444444444444,
              "#bd3786"
             ],
             [
              0.5555555555555556,
              "#d8576b"
             ],
             [
              0.6666666666666666,
              "#ed7953"
             ],
             [
              0.7777777777777778,
              "#fb9f3a"
             ],
             [
              0.8888888888888888,
              "#fdca26"
             ],
             [
              1,
              "#f0f921"
             ]
            ],
            "type": "histogram2dcontour"
           }
          ],
          "mesh3d": [
           {
            "colorbar": {
             "outlinewidth": 0,
             "ticks": ""
            },
            "type": "mesh3d"
           }
          ],
          "parcoords": [
           {
            "line": {
             "colorbar": {
              "outlinewidth": 0,
              "ticks": ""
             }
            },
            "type": "parcoords"
           }
          ],
          "pie": [
           {
            "automargin": true,
            "type": "pie"
           }
          ],
          "scatter": [
           {
            "fillpattern": {
             "fillmode": "overlay",
             "size": 10,
             "solidity": 0.2
            },
            "type": "scatter"
           }
          ],
          "scatter3d": [
           {
            "line": {
             "colorbar": {
              "outlinewidth": 0,
              "ticks": ""
             }
            },
            "marker": {
             "colorbar": {
              "outlinewidth": 0,
              "ticks": ""
             }
            },
            "type": "scatter3d"
           }
          ],
          "scattercarpet": [
           {
            "marker": {
             "colorbar": {
              "outlinewidth": 0,
              "ticks": ""
             }
            },
            "type": "scattercarpet"
           }
          ],
          "scattergeo": [
           {
            "marker": {
             "colorbar": {
              "outlinewidth": 0,
              "ticks": ""
             }
            },
            "type": "scattergeo"
           }
          ],
          "scattergl": [
           {
            "marker": {
             "colorbar": {
              "outlinewidth": 0,
              "ticks": ""
             }
            },
            "type": "scattergl"
           }
          ],
          "scattermapbox": [
           {
            "marker": {
             "colorbar": {
              "outlinewidth": 0,
              "ticks": ""
             }
            },
            "type": "scattermapbox"
           }
          ],
          "scatterpolar": [
           {
            "marker": {
             "colorbar": {
              "outlinewidth": 0,
              "ticks": ""
             }
            },
            "type": "scatterpolar"
           }
          ],
          "scatterpolargl": [
           {
            "marker": {
             "colorbar": {
              "outlinewidth": 0,
              "ticks": ""
             }
            },
            "type": "scatterpolargl"
           }
          ],
          "scatterternary": [
           {
            "marker": {
             "colorbar": {
              "outlinewidth": 0,
              "ticks": ""
             }
            },
            "type": "scatterternary"
           }
          ],
          "surface": [
           {
            "colorbar": {
             "outlinewidth": 0,
             "ticks": ""
            },
            "colorscale": [
             [
              0,
              "#0d0887"
             ],
             [
              0.1111111111111111,
              "#46039f"
             ],
             [
              0.2222222222222222,
              "#7201a8"
             ],
             [
              0.3333333333333333,
              "#9c179e"
             ],
             [
              0.4444444444444444,
              "#bd3786"
             ],
             [
              0.5555555555555556,
              "#d8576b"
             ],
             [
              0.6666666666666666,
              "#ed7953"
             ],
             [
              0.7777777777777778,
              "#fb9f3a"
             ],
             [
              0.8888888888888888,
              "#fdca26"
             ],
             [
              1,
              "#f0f921"
             ]
            ],
            "type": "surface"
           }
          ],
          "table": [
           {
            "cells": {
             "fill": {
              "color": "#EBF0F8"
             },
             "line": {
              "color": "white"
             }
            },
            "header": {
             "fill": {
              "color": "#C8D4E3"
             },
             "line": {
              "color": "white"
             }
            },
            "type": "table"
           }
          ]
         },
         "layout": {
          "annotationdefaults": {
           "arrowcolor": "#2a3f5f",
           "arrowhead": 0,
           "arrowwidth": 1
          },
          "autotypenumbers": "strict",
          "coloraxis": {
           "colorbar": {
            "outlinewidth": 0,
            "ticks": ""
           }
          },
          "colorscale": {
           "diverging": [
            [
             0,
             "#8e0152"
            ],
            [
             0.1,
             "#c51b7d"
            ],
            [
             0.2,
             "#de77ae"
            ],
            [
             0.3,
             "#f1b6da"
            ],
            [
             0.4,
             "#fde0ef"
            ],
            [
             0.5,
             "#f7f7f7"
            ],
            [
             0.6,
             "#e6f5d0"
            ],
            [
             0.7,
             "#b8e186"
            ],
            [
             0.8,
             "#7fbc41"
            ],
            [
             0.9,
             "#4d9221"
            ],
            [
             1,
             "#276419"
            ]
           ],
           "sequential": [
            [
             0,
             "#0d0887"
            ],
            [
             0.1111111111111111,
             "#46039f"
            ],
            [
             0.2222222222222222,
             "#7201a8"
            ],
            [
             0.3333333333333333,
             "#9c179e"
            ],
            [
             0.4444444444444444,
             "#bd3786"
            ],
            [
             0.5555555555555556,
             "#d8576b"
            ],
            [
             0.6666666666666666,
             "#ed7953"
            ],
            [
             0.7777777777777778,
             "#fb9f3a"
            ],
            [
             0.8888888888888888,
             "#fdca26"
            ],
            [
             1,
             "#f0f921"
            ]
           ],
           "sequentialminus": [
            [
             0,
             "#0d0887"
            ],
            [
             0.1111111111111111,
             "#46039f"
            ],
            [
             0.2222222222222222,
             "#7201a8"
            ],
            [
             0.3333333333333333,
             "#9c179e"
            ],
            [
             0.4444444444444444,
             "#bd3786"
            ],
            [
             0.5555555555555556,
             "#d8576b"
            ],
            [
             0.6666666666666666,
             "#ed7953"
            ],
            [
             0.7777777777777778,
             "#fb9f3a"
            ],
            [
             0.8888888888888888,
             "#fdca26"
            ],
            [
             1,
             "#f0f921"
            ]
           ]
          },
          "colorway": [
           "#636efa",
           "#EF553B",
           "#00cc96",
           "#ab63fa",
           "#FFA15A",
           "#19d3f3",
           "#FF6692",
           "#B6E880",
           "#FF97FF",
           "#FECB52"
          ],
          "font": {
           "color": "#2a3f5f"
          },
          "geo": {
           "bgcolor": "white",
           "lakecolor": "white",
           "landcolor": "#E5ECF6",
           "showlakes": true,
           "showland": true,
           "subunitcolor": "white"
          },
          "hoverlabel": {
           "align": "left"
          },
          "hovermode": "closest",
          "mapbox": {
           "style": "light"
          },
          "paper_bgcolor": "white",
          "plot_bgcolor": "#E5ECF6",
          "polar": {
           "angularaxis": {
            "gridcolor": "white",
            "linecolor": "white",
            "ticks": ""
           },
           "bgcolor": "#E5ECF6",
           "radialaxis": {
            "gridcolor": "white",
            "linecolor": "white",
            "ticks": ""
           }
          },
          "scene": {
           "xaxis": {
            "backgroundcolor": "#E5ECF6",
            "gridcolor": "white",
            "gridwidth": 2,
            "linecolor": "white",
            "showbackground": true,
            "ticks": "",
            "zerolinecolor": "white"
           },
           "yaxis": {
            "backgroundcolor": "#E5ECF6",
            "gridcolor": "white",
            "gridwidth": 2,
            "linecolor": "white",
            "showbackground": true,
            "ticks": "",
            "zerolinecolor": "white"
           },
           "zaxis": {
            "backgroundcolor": "#E5ECF6",
            "gridcolor": "white",
            "gridwidth": 2,
            "linecolor": "white",
            "showbackground": true,
            "ticks": "",
            "zerolinecolor": "white"
           }
          },
          "shapedefaults": {
           "line": {
            "color": "#2a3f5f"
           }
          },
          "ternary": {
           "aaxis": {
            "gridcolor": "white",
            "linecolor": "white",
            "ticks": ""
           },
           "baxis": {
            "gridcolor": "white",
            "linecolor": "white",
            "ticks": ""
           },
           "bgcolor": "#E5ECF6",
           "caxis": {
            "gridcolor": "white",
            "linecolor": "white",
            "ticks": ""
           }
          },
          "title": {
           "x": 0.05
          },
          "xaxis": {
           "automargin": true,
           "gridcolor": "white",
           "linecolor": "white",
           "ticks": "",
           "title": {
            "standoff": 15
           },
           "zerolinecolor": "white",
           "zerolinewidth": 2
          },
          "yaxis": {
           "automargin": true,
           "gridcolor": "white",
           "linecolor": "white",
           "ticks": "",
           "title": {
            "standoff": 15
           },
           "zerolinecolor": "white",
           "zerolinewidth": 2
          }
         }
        },
        "xaxis": {
         "anchor": "y",
         "domain": [
          0,
          1
         ],
         "title": {
          "text": "value"
         }
        },
        "yaxis": {
         "anchor": "x",
         "domain": [
          0,
          1
         ],
         "title": {
          "text": "count"
         }
        }
       }
      },
      "text/html": [
       "<div>                            <div id=\"860580b4-ae9f-4cc3-b4f7-b0b144a20ae5\" class=\"plotly-graph-div\" style=\"height:525px; width:100%;\"></div>            <script type=\"text/javascript\">                require([\"plotly\"], function(Plotly) {                    window.PLOTLYENV=window.PLOTLYENV || {};                                    if (document.getElementById(\"860580b4-ae9f-4cc3-b4f7-b0b144a20ae5\")) {                    Plotly.newPlot(                        \"860580b4-ae9f-4cc3-b4f7-b0b144a20ae5\",                        [{\"alignmentgroup\":\"True\",\"bingroup\":\"x\",\"hovertemplate\":\"variable=Age<br>value=%{x}<br>count=%{y}<extra></extra>\",\"legendgroup\":\"Age\",\"marker\":{\"color\":\"#636efa\",\"pattern\":{\"shape\":\"\"}},\"name\":\"Age\",\"offsetgroup\":\"Age\",\"orientation\":\"v\",\"showlegend\":true,\"x\":[133,14,15,49,29,10,12,87,101,14,9,0,16,17,0,0,26,0,6,1,10,73,103,30,25,43,10,183,5,35,41,68,14,17,13,13,5,6,14,0,12,0,0,45,14,0,32,41,14,0,93,11,53,16,183,83,91,14,16,25,26,11,4,7,7,247,14,1,37,5,15,30,12,25,7,103,115,0,43,5,41,0,1,95,11,7,0,27,47,5,68,208,147,103,0,5,0,180,41,17,15,63,233,11,11,11,48,63,1,4,1,16,1,18,1,0,1,1,55,31,0,1,113,0,4,1,15,16,17,18,16,16,0,53,0,0,3,16,11,18,19,16,12,19,1,17,1,0,19,7,7,16,15,17,17,19,0,33,7,16,40,31,0,19,19,27,1,16,0,0,16,26,2,0,72,48,41,133,0,49,17,31,25,14,0,1,37,17,0,37,16,25,1,20,26,16,25,6,25,24,0,31,1,26,20,0,35,2,36,16,35,0,34,5,18,14,0,0,0,18,0,19,0,30,0,2,17,41,32,35,16,25,0,9,27,14,20,9,0,32,3,28,10,5,0,26,18,10,20,29,21,0,35,0,22,18,23,0,35,22,173,0,55,18,0,7,19,25,21,18,19,52,40,11,21,128,104,10,29,20,2,39,26,5,12,177,26,15,88,44,14,30,25,26,94,84,124,15,10,5,114,20,17,48,54,47,29,0,74,14,7,5,104,13,39,97,54,47,24,51,72,20,54,44,49,103,9,27,1,6,43,7,1,7,13,4,49,129,124,94,13,14,36,7,9,3,4,20,30,6,3,8,29,0,26,31,51,31,98,12,0,24,34,1,35,37,75,3,16,113,0,18,78,0,44,0,0,16,0,113,63,0,31,36,85,15,0,18,31,73,0,0,20,5,122,0,4,6,33,1,34,1,16,104,65,0,36,16,24,4,114,41,18,27,92,16,26,46,16,27,17,38,3,6,41,34,16,77,33,26,49,17,10,1,7,46,8,4,37,48,106,7,104,51,81,19,25,16,14,15,1,0,0,16,20,3,10,11,17,36,29,46,16,21,33,9,17,76,90,19,14,1,16,1,1,19,16,1,6,37,1,7,0,11,9,1,11,9,36,18,10,11,1,5,0,7,8,9,10,18,36,4,19,99,1,14,17,1,1,1,12,14,17,18,17,17,22,16,62,114,114,19,36,20,19,134,18,24,134,6,19,13,114,133,18,2,15,19,39,18,19,1,1,2,14,20,17,8,18,21,20,18,17,20,110,31,119,3,17,1,0,25,8,17,11,8,15,51,52,26,1,1,21,17,19,7,1,49,0,1,19,19,0,3,20,11,0,0,11,16,3,38,36,0,30,15,21,37,23,30,7,34,0,3,0,19,11,22,20,34,24,8,15,15,13,26,31,18,6,36,5,3,14,27,32,4,21,19,19,36,23,17,1,25,154,25,29,32,21,24,3,21,20,19,31,27,3,12,104,11,15,15,27,12,22,3,12,1,31,2,87,34,36,7,45,53,16,104,6,14,6,4,16,85,105,3,15,83,110,110,2,30,5,72,125,57,10,4,2,10,18,27,18,13,45,51,54,1,63,17,0,3,8,8,21,1,35,20,19,12,14,14,25,35,33,43,140,41,130,38,41,31,23,17,0,5,29,17,72,35,34,18,35,85,66,16,18,32,2,115,44,6,16,4,4,102,31,31,23,6,43,18,39,4,115,135,57,67,10,16,120,40,47,16,27,16,31,37,39,1,14,13,19,1,75,112,185,13,28,7,1,20,18,9,18,9,3,39,5,79,10,16,0,2,8,9,20,44,2,15,6,21,19,1,6,18,18,18,16,20,1,18,33,13,26,21,20,19,13,1,17,8,20,1,1,1,33,127,1,40,16,14,1,1,130,9,2,9,12,19,17,56,14,65,19,125,55,13,18,40,18,227,19,1,18,18,18,33,20,1,14,20,1,33,20,15,1,115,1,6,18,16,0,16,0,18,10,0,18,28,0,5,12,35,6,105,1,48,115,115,37,105,21,20,55,48,57,45,155,2,52,1,17,38,45,17,0,23,0,1,11,8,31,18,28,6,15,1,17,205,27,26,18,4,20,31,21,21,31,20,1,31,9,34,5,20,2,19,105,20,33,16,21,20,1,22,19,161,18,37,38,20,1,17,5,34,18,2,35,37,15,20,19,180,15,16,56,12,34,83,11,0,15,14,55,16,0,13,60,13,55,17,2,9,9,19,6,19,1,11,9,18,11,4,19,1,1,20,1,106,71,14,20,21,71,28,1,22,22,1,33,33,3,1,42,20,9,48,1,50,39,28,15,1,3,1,12,1,19,29,66,14,31,1,26,50,1,60,61,79,1,18,56,1,66,3,10],\"xaxis\":\"x\",\"yaxis\":\"y\",\"type\":\"histogram\"}],                        {\"template\":{\"data\":{\"histogram2dcontour\":[{\"type\":\"histogram2dcontour\",\"colorbar\":{\"outlinewidth\":0,\"ticks\":\"\"},\"colorscale\":[[0.0,\"#0d0887\"],[0.1111111111111111,\"#46039f\"],[0.2222222222222222,\"#7201a8\"],[0.3333333333333333,\"#9c179e\"],[0.4444444444444444,\"#bd3786\"],[0.5555555555555556,\"#d8576b\"],[0.6666666666666666,\"#ed7953\"],[0.7777777777777778,\"#fb9f3a\"],[0.8888888888888888,\"#fdca26\"],[1.0,\"#f0f921\"]]}],\"choropleth\":[{\"type\":\"choropleth\",\"colorbar\":{\"outlinewidth\":0,\"ticks\":\"\"}}],\"histogram2d\":[{\"type\":\"histogram2d\",\"colorbar\":{\"outlinewidth\":0,\"ticks\":\"\"},\"colorscale\":[[0.0,\"#0d0887\"],[0.1111111111111111,\"#46039f\"],[0.2222222222222222,\"#7201a8\"],[0.3333333333333333,\"#9c179e\"],[0.4444444444444444,\"#bd3786\"],[0.5555555555555556,\"#d8576b\"],[0.6666666666666666,\"#ed7953\"],[0.7777777777777778,\"#fb9f3a\"],[0.8888888888888888,\"#fdca26\"],[1.0,\"#f0f921\"]]}],\"heatmap\":[{\"type\":\"heatmap\",\"colorbar\":{\"outlinewidth\":0,\"ticks\":\"\"},\"colorscale\":[[0.0,\"#0d0887\"],[0.1111111111111111,\"#46039f\"],[0.2222222222222222,\"#7201a8\"],[0.3333333333333333,\"#9c179e\"],[0.4444444444444444,\"#bd3786\"],[0.5555555555555556,\"#d8576b\"],[0.6666666666666666,\"#ed7953\"],[0.7777777777777778,\"#fb9f3a\"],[0.8888888888888888,\"#fdca26\"],[1.0,\"#f0f921\"]]}],\"heatmapgl\":[{\"type\":\"heatmapgl\",\"colorbar\":{\"outlinewidth\":0,\"ticks\":\"\"},\"colorscale\":[[0.0,\"#0d0887\"],[0.1111111111111111,\"#46039f\"],[0.2222222222222222,\"#7201a8\"],[0.3333333333333333,\"#9c179e\"],[0.4444444444444444,\"#bd3786\"],[0.5555555555555556,\"#d8576b\"],[0.6666666666666666,\"#ed7953\"],[0.7777777777777778,\"#fb9f3a\"],[0.8888888888888888,\"#fdca26\"],[1.0,\"#f0f921\"]]}],\"contourcarpet\":[{\"type\":\"contourcarpet\",\"colorbar\":{\"outlinewidth\":0,\"ticks\":\"\"}}],\"contour\":[{\"type\":\"contour\",\"colorbar\":{\"outlinewidth\":0,\"ticks\":\"\"},\"colorscale\":[[0.0,\"#0d0887\"],[0.1111111111111111,\"#46039f\"],[0.2222222222222222,\"#7201a8\"],[0.3333333333333333,\"#9c179e\"],[0.4444444444444444,\"#bd3786\"],[0.5555555555555556,\"#d8576b\"],[0.6666666666666666,\"#ed7953\"],[0.7777777777777778,\"#fb9f3a\"],[0.8888888888888888,\"#fdca26\"],[1.0,\"#f0f921\"]]}],\"surface\":[{\"type\":\"surface\",\"colorbar\":{\"outlinewidth\":0,\"ticks\":\"\"},\"colorscale\":[[0.0,\"#0d0887\"],[0.1111111111111111,\"#46039f\"],[0.2222222222222222,\"#7201a8\"],[0.3333333333333333,\"#9c179e\"],[0.4444444444444444,\"#bd3786\"],[0.5555555555555556,\"#d8576b\"],[0.6666666666666666,\"#ed7953\"],[0.7777777777777778,\"#fb9f3a\"],[0.8888888888888888,\"#fdca26\"],[1.0,\"#f0f921\"]]}],\"mesh3d\":[{\"type\":\"mesh3d\",\"colorbar\":{\"outlinewidth\":0,\"ticks\":\"\"}}],\"scatter\":[{\"fillpattern\":{\"fillmode\":\"overlay\",\"size\":10,\"solidity\":0.2},\"type\":\"scatter\"}],\"parcoords\":[{\"type\":\"parcoords\",\"line\":{\"colorbar\":{\"outlinewidth\":0,\"ticks\":\"\"}}}],\"scatterpolargl\":[{\"type\":\"scatterpolargl\",\"marker\":{\"colorbar\":{\"outlinewidth\":0,\"ticks\":\"\"}}}],\"bar\":[{\"error_x\":{\"color\":\"#2a3f5f\"},\"error_y\":{\"color\":\"#2a3f5f\"},\"marker\":{\"line\":{\"color\":\"#E5ECF6\",\"width\":0.5},\"pattern\":{\"fillmode\":\"overlay\",\"size\":10,\"solidity\":0.2}},\"type\":\"bar\"}],\"scattergeo\":[{\"type\":\"scattergeo\",\"marker\":{\"colorbar\":{\"outlinewidth\":0,\"ticks\":\"\"}}}],\"scatterpolar\":[{\"type\":\"scatterpolar\",\"marker\":{\"colorbar\":{\"outlinewidth\":0,\"ticks\":\"\"}}}],\"histogram\":[{\"marker\":{\"pattern\":{\"fillmode\":\"overlay\",\"size\":10,\"solidity\":0.2}},\"type\":\"histogram\"}],\"scattergl\":[{\"type\":\"scattergl\",\"marker\":{\"colorbar\":{\"outlinewidth\":0,\"ticks\":\"\"}}}],\"scatter3d\":[{\"type\":\"scatter3d\",\"line\":{\"colorbar\":{\"outlinewidth\":0,\"ticks\":\"\"}},\"marker\":{\"colorbar\":{\"outlinewidth\":0,\"ticks\":\"\"}}}],\"scattermapbox\":[{\"type\":\"scattermapbox\",\"marker\":{\"colorbar\":{\"outlinewidth\":0,\"ticks\":\"\"}}}],\"scatterternary\":[{\"type\":\"scatterternary\",\"marker\":{\"colorbar\":{\"outlinewidth\":0,\"ticks\":\"\"}}}],\"scattercarpet\":[{\"type\":\"scattercarpet\",\"marker\":{\"colorbar\":{\"outlinewidth\":0,\"ticks\":\"\"}}}],\"carpet\":[{\"aaxis\":{\"endlinecolor\":\"#2a3f5f\",\"gridcolor\":\"white\",\"linecolor\":\"white\",\"minorgridcolor\":\"white\",\"startlinecolor\":\"#2a3f5f\"},\"baxis\":{\"endlinecolor\":\"#2a3f5f\",\"gridcolor\":\"white\",\"linecolor\":\"white\",\"minorgridcolor\":\"white\",\"startlinecolor\":\"#2a3f5f\"},\"type\":\"carpet\"}],\"table\":[{\"cells\":{\"fill\":{\"color\":\"#EBF0F8\"},\"line\":{\"color\":\"white\"}},\"header\":{\"fill\":{\"color\":\"#C8D4E3\"},\"line\":{\"color\":\"white\"}},\"type\":\"table\"}],\"barpolar\":[{\"marker\":{\"line\":{\"color\":\"#E5ECF6\",\"width\":0.5},\"pattern\":{\"fillmode\":\"overlay\",\"size\":10,\"solidity\":0.2}},\"type\":\"barpolar\"}],\"pie\":[{\"automargin\":true,\"type\":\"pie\"}]},\"layout\":{\"autotypenumbers\":\"strict\",\"colorway\":[\"#636efa\",\"#EF553B\",\"#00cc96\",\"#ab63fa\",\"#FFA15A\",\"#19d3f3\",\"#FF6692\",\"#B6E880\",\"#FF97FF\",\"#FECB52\"],\"font\":{\"color\":\"#2a3f5f\"},\"hovermode\":\"closest\",\"hoverlabel\":{\"align\":\"left\"},\"paper_bgcolor\":\"white\",\"plot_bgcolor\":\"#E5ECF6\",\"polar\":{\"bgcolor\":\"#E5ECF6\",\"angularaxis\":{\"gridcolor\":\"white\",\"linecolor\":\"white\",\"ticks\":\"\"},\"radialaxis\":{\"gridcolor\":\"white\",\"linecolor\":\"white\",\"ticks\":\"\"}},\"ternary\":{\"bgcolor\":\"#E5ECF6\",\"aaxis\":{\"gridcolor\":\"white\",\"linecolor\":\"white\",\"ticks\":\"\"},\"baxis\":{\"gridcolor\":\"white\",\"linecolor\":\"white\",\"ticks\":\"\"},\"caxis\":{\"gridcolor\":\"white\",\"linecolor\":\"white\",\"ticks\":\"\"}},\"coloraxis\":{\"colorbar\":{\"outlinewidth\":0,\"ticks\":\"\"}},\"colorscale\":{\"sequential\":[[0.0,\"#0d0887\"],[0.1111111111111111,\"#46039f\"],[0.2222222222222222,\"#7201a8\"],[0.3333333333333333,\"#9c179e\"],[0.4444444444444444,\"#bd3786\"],[0.5555555555555556,\"#d8576b\"],[0.6666666666666666,\"#ed7953\"],[0.7777777777777778,\"#fb9f3a\"],[0.8888888888888888,\"#fdca26\"],[1.0,\"#f0f921\"]],\"sequentialminus\":[[0.0,\"#0d0887\"],[0.1111111111111111,\"#46039f\"],[0.2222222222222222,\"#7201a8\"],[0.3333333333333333,\"#9c179e\"],[0.4444444444444444,\"#bd3786\"],[0.5555555555555556,\"#d8576b\"],[0.6666666666666666,\"#ed7953\"],[0.7777777777777778,\"#fb9f3a\"],[0.8888888888888888,\"#fdca26\"],[1.0,\"#f0f921\"]],\"diverging\":[[0,\"#8e0152\"],[0.1,\"#c51b7d\"],[0.2,\"#de77ae\"],[0.3,\"#f1b6da\"],[0.4,\"#fde0ef\"],[0.5,\"#f7f7f7\"],[0.6,\"#e6f5d0\"],[0.7,\"#b8e186\"],[0.8,\"#7fbc41\"],[0.9,\"#4d9221\"],[1,\"#276419\"]]},\"xaxis\":{\"gridcolor\":\"white\",\"linecolor\":\"white\",\"ticks\":\"\",\"title\":{\"standoff\":15},\"zerolinecolor\":\"white\",\"automargin\":true,\"zerolinewidth\":2},\"yaxis\":{\"gridcolor\":\"white\",\"linecolor\":\"white\",\"ticks\":\"\",\"title\":{\"standoff\":15},\"zerolinecolor\":\"white\",\"automargin\":true,\"zerolinewidth\":2},\"scene\":{\"xaxis\":{\"backgroundcolor\":\"#E5ECF6\",\"gridcolor\":\"white\",\"linecolor\":\"white\",\"showbackground\":true,\"ticks\":\"\",\"zerolinecolor\":\"white\",\"gridwidth\":2},\"yaxis\":{\"backgroundcolor\":\"#E5ECF6\",\"gridcolor\":\"white\",\"linecolor\":\"white\",\"showbackground\":true,\"ticks\":\"\",\"zerolinecolor\":\"white\",\"gridwidth\":2},\"zaxis\":{\"backgroundcolor\":\"#E5ECF6\",\"gridcolor\":\"white\",\"linecolor\":\"white\",\"showbackground\":true,\"ticks\":\"\",\"zerolinecolor\":\"white\",\"gridwidth\":2}},\"shapedefaults\":{\"line\":{\"color\":\"#2a3f5f\"}},\"annotationdefaults\":{\"arrowcolor\":\"#2a3f5f\",\"arrowhead\":0,\"arrowwidth\":1},\"geo\":{\"bgcolor\":\"white\",\"landcolor\":\"#E5ECF6\",\"subunitcolor\":\"white\",\"showland\":true,\"showlakes\":true,\"lakecolor\":\"white\"},\"title\":{\"x\":0.05},\"mapbox\":{\"style\":\"light\"}}},\"xaxis\":{\"anchor\":\"y\",\"domain\":[0.0,1.0],\"title\":{\"text\":\"value\"}},\"yaxis\":{\"anchor\":\"x\",\"domain\":[0.0,1.0],\"title\":{\"text\":\"count\"}},\"legend\":{\"title\":{\"text\":\"variable\"},\"tracegroupgap\":0},\"margin\":{\"t\":60},\"barmode\":\"relative\"},                        {\"responsive\": true}                    ).then(function(){\n",
       "                            \n",
       "var gd = document.getElementById('860580b4-ae9f-4cc3-b4f7-b0b144a20ae5');\n",
       "var x = new MutationObserver(function (mutations, observer) {{\n",
       "        var display = window.getComputedStyle(gd).display;\n",
       "        if (!display || display === 'none') {{\n",
       "            console.log([gd, 'removed!']);\n",
       "            Plotly.purge(gd);\n",
       "            observer.disconnect();\n",
       "        }}\n",
       "}});\n",
       "\n",
       "// Listen for the removal of the full notebook cells\n",
       "var notebookContainer = gd.closest('#notebook-container');\n",
       "if (notebookContainer) {{\n",
       "    x.observe(notebookContainer, {childList: true});\n",
       "}}\n",
       "\n",
       "// Listen for the clearing of the current output cell\n",
       "var outputEl = gd.closest('.output');\n",
       "if (outputEl) {{\n",
       "    x.observe(outputEl, {childList: true});\n",
       "}}\n",
       "\n",
       "                        })                };                });            </script>        </div>"
      ]
     },
     "metadata": {},
     "output_type": "display_data"
    },
    {
     "data": {
      "application/vnd.plotly.v1+json": {
       "config": {
        "plotlyServerURL": "https://plot.ly"
       },
       "data": [
        {
         "alignmentgroup": "True",
         "bingroup": "x",
         "hovertemplate": "variable=Fireplace<br>value=%{x}<br>count=%{y}<extra></extra>",
         "legendgroup": "Fireplace",
         "marker": {
          "color": "#636efa",
          "pattern": {
           "shape": ""
          }
         },
         "name": "Fireplace",
         "offsetgroup": "Fireplace",
         "orientation": "v",
         "showlegend": true,
         "type": "histogram",
         "x": [
          0,
          1,
          1,
          1,
          1,
          0,
          0,
          0,
          0,
          0,
          1,
          1,
          0,
          0,
          1,
          1,
          0,
          1,
          1,
          1,
          1,
          1,
          0,
          1,
          1,
          1,
          1,
          0,
          1,
          1,
          1,
          0,
          1,
          0,
          1,
          1,
          1,
          1,
          0,
          1,
          0,
          0,
          0,
          0,
          1,
          0,
          1,
          0,
          1,
          1,
          1,
          0,
          0,
          1,
          1,
          0,
          0,
          0,
          0,
          1,
          0,
          0,
          1,
          0,
          0,
          1,
          0,
          0,
          1,
          0,
          0,
          1,
          1,
          0,
          0,
          0,
          0,
          0,
          1,
          0,
          0,
          0,
          0,
          0,
          0,
          0,
          0,
          0,
          0,
          0,
          0,
          1,
          0,
          0,
          0,
          0,
          1,
          0,
          1,
          0,
          1,
          1,
          0,
          0,
          1,
          0,
          1,
          1,
          1,
          0,
          1,
          0,
          0,
          1,
          1,
          0,
          1,
          1,
          0,
          1,
          1,
          1,
          0,
          1,
          1,
          1,
          1,
          1,
          0,
          1,
          0,
          0,
          1,
          0,
          1,
          1,
          1,
          0,
          0,
          0,
          0,
          0,
          1,
          0,
          1,
          0,
          1,
          1,
          0,
          0,
          0,
          1,
          0,
          0,
          1,
          0,
          1,
          0,
          0,
          0,
          1,
          1,
          1,
          0,
          0,
          0,
          1,
          1,
          1,
          1,
          1,
          0,
          1,
          1,
          0,
          0,
          0,
          0,
          1,
          0,
          0,
          1,
          1,
          1,
          1,
          1,
          1,
          1,
          1,
          0,
          1,
          1,
          1,
          1,
          1,
          1,
          0,
          1,
          1,
          1,
          1,
          1,
          1,
          1,
          1,
          1,
          1,
          1,
          1,
          1,
          1,
          1,
          1,
          1,
          1,
          1,
          1,
          1,
          1,
          0,
          1,
          1,
          1,
          1,
          1,
          1,
          0,
          1,
          1,
          1,
          0,
          1,
          1,
          1,
          1,
          1,
          1,
          1,
          1,
          1,
          1,
          1,
          1,
          1,
          1,
          0,
          0,
          1,
          1,
          1,
          1,
          1,
          1,
          1,
          0,
          0,
          1,
          1,
          1,
          0,
          0,
          1,
          1,
          1,
          1,
          1,
          0,
          1,
          1,
          0,
          0,
          1,
          0,
          0,
          0,
          0,
          0,
          0,
          1,
          1,
          0,
          1,
          0,
          0,
          1,
          0,
          0,
          1,
          1,
          1,
          1,
          1,
          1,
          0,
          0,
          1,
          0,
          0,
          0,
          0,
          1,
          0,
          1,
          1,
          1,
          1,
          0,
          1,
          0,
          0,
          0,
          0,
          1,
          1,
          0,
          0,
          1,
          0,
          1,
          1,
          0,
          1,
          1,
          1,
          1,
          0,
          0,
          1,
          1,
          1,
          1,
          0,
          1,
          1,
          0,
          1,
          0,
          0,
          0,
          1,
          1,
          1,
          1,
          0,
          1,
          1,
          1,
          1,
          1,
          1,
          1,
          1,
          1,
          1,
          1,
          0,
          1,
          0,
          0,
          0,
          1,
          1,
          0,
          0,
          1,
          0,
          0,
          1,
          1,
          0,
          1,
          0,
          0,
          0,
          0,
          1,
          1,
          1,
          1,
          0,
          0,
          1,
          0,
          0,
          0,
          1,
          1,
          0,
          0,
          0,
          0,
          1,
          1,
          0,
          0,
          1,
          1,
          0,
          0,
          0,
          0,
          0,
          1,
          0,
          0,
          1,
          0,
          1,
          1,
          1,
          1,
          0,
          1,
          1,
          0,
          1,
          1,
          1,
          1,
          1,
          1,
          0,
          0,
          1,
          0,
          1,
          1,
          1,
          0,
          1,
          1,
          0,
          0,
          1,
          0,
          0,
          0,
          0,
          1,
          1,
          0,
          0,
          0,
          0,
          0,
          1,
          1,
          1,
          1,
          1,
          1,
          0,
          1,
          0,
          1,
          1,
          0,
          0,
          0,
          1,
          1,
          1,
          1,
          0,
          0,
          0,
          1,
          0,
          0,
          1,
          1,
          1,
          0,
          1,
          1,
          0,
          1,
          1,
          1,
          1,
          1,
          1,
          1,
          1,
          1,
          1,
          0,
          1,
          0,
          1,
          1,
          1,
          1,
          1,
          1,
          1,
          1,
          1,
          1,
          1,
          1,
          1,
          1,
          0,
          0,
          0,
          0,
          0,
          1,
          1,
          0,
          0,
          0,
          0,
          1,
          1,
          0,
          1,
          1,
          0,
          0,
          1,
          0,
          0,
          0,
          1,
          0,
          1,
          1,
          0,
          1,
          1,
          0,
          1,
          0,
          0,
          0,
          0,
          1,
          0,
          0,
          1,
          1,
          1,
          1,
          0,
          1,
          1,
          0,
          0,
          0,
          0,
          1,
          1,
          0,
          1,
          0,
          1,
          0,
          1,
          1,
          0,
          0,
          1,
          0,
          0,
          0,
          1,
          0,
          1,
          1,
          0,
          1,
          1,
          0,
          1,
          1,
          1,
          1,
          1,
          0,
          1,
          1,
          1,
          0,
          0,
          1,
          0,
          1,
          1,
          1,
          1,
          0,
          1,
          1,
          1,
          0,
          1,
          1,
          1,
          1,
          1,
          1,
          1,
          1,
          1,
          1,
          1,
          1,
          1,
          1,
          1,
          1,
          1,
          1,
          1,
          1,
          1,
          1,
          1,
          1,
          1,
          1,
          1,
          1,
          1,
          0,
          1,
          1,
          1,
          0,
          1,
          1,
          1,
          1,
          0,
          1,
          1,
          0,
          1,
          1,
          0,
          0,
          0,
          1,
          1,
          1,
          0,
          0,
          1,
          1,
          1,
          0,
          0,
          1,
          1,
          1,
          1,
          1,
          1,
          1,
          1,
          1,
          1,
          1,
          0,
          0,
          1,
          0,
          1,
          1,
          1,
          1,
          0,
          0,
          0,
          0,
          0,
          0,
          0,
          1,
          1,
          1,
          0,
          0,
          1,
          0,
          1,
          1,
          0,
          1,
          1,
          1,
          1,
          1,
          0,
          0,
          1,
          0,
          1,
          1,
          1,
          0,
          1,
          0,
          1,
          0,
          1,
          0,
          0,
          0,
          0,
          0,
          0,
          1,
          1,
          0,
          1,
          0,
          0,
          1,
          1,
          1,
          1,
          1,
          0,
          1,
          1,
          0,
          0,
          1,
          1,
          0,
          0,
          1,
          0,
          0,
          0,
          0,
          1,
          0,
          0,
          1,
          1,
          1,
          0,
          0,
          1,
          1,
          0,
          0,
          1,
          0,
          0,
          0,
          0,
          1,
          0,
          0,
          0,
          0,
          0,
          0,
          0,
          0,
          1,
          1,
          1,
          0,
          0,
          0,
          0,
          0,
          1,
          0,
          0,
          1,
          0,
          0,
          1,
          1,
          1,
          1,
          1,
          1,
          1,
          1,
          0,
          1,
          0,
          1,
          0,
          1,
          1,
          0,
          1,
          1,
          1,
          0,
          1,
          1,
          0,
          1,
          1,
          1,
          1,
          0,
          0,
          0,
          1,
          1,
          0,
          1,
          1,
          1,
          0,
          1,
          1,
          1,
          1,
          1,
          0,
          0,
          0,
          1,
          1,
          1,
          0,
          1,
          0,
          0,
          1,
          1,
          0,
          0,
          0,
          1,
          1,
          1,
          1,
          0,
          0,
          1,
          0,
          0,
          0,
          0,
          1,
          0,
          1,
          0,
          1,
          1,
          1,
          1,
          0,
          0,
          1,
          0,
          1,
          1,
          0,
          1,
          1,
          1,
          1,
          1,
          1,
          1,
          1,
          1,
          1,
          1,
          0,
          1,
          0,
          0,
          1,
          0,
          1,
          1,
          1,
          1,
          0,
          0,
          1,
          1,
          0,
          0,
          0,
          0,
          0,
          1,
          1,
          0,
          0,
          0,
          0,
          0,
          1,
          0,
          1,
          0,
          1,
          0,
          1,
          1,
          1,
          1,
          1,
          1,
          0,
          1,
          1,
          1,
          1,
          1,
          1,
          1,
          0,
          1,
          1,
          1,
          1,
          1,
          1,
          0,
          0,
          1,
          1,
          1,
          1,
          1,
          1,
          0,
          1,
          1,
          1,
          0,
          1,
          0,
          1,
          0,
          1,
          1,
          0,
          1,
          1,
          1,
          0,
          0,
          1,
          1,
          1,
          1,
          1,
          1,
          0,
          1,
          1,
          1,
          1,
          0,
          0,
          0,
          1,
          0,
          0,
          0,
          1,
          1,
          1,
          1,
          0,
          0,
          1,
          1,
          1,
          0,
          0,
          0,
          1,
          1,
          1,
          1,
          0,
          0,
          0,
          1,
          1,
          1,
          1,
          1,
          1,
          0,
          1,
          1,
          0,
          1,
          1,
          0,
          1,
          0,
          0,
          0,
          1,
          1,
          1,
          0,
          1,
          1,
          1,
          1,
          1,
          1,
          1,
          0,
          1,
          1,
          0,
          0,
          1,
          1,
          1,
          0,
          0,
          0,
          1,
          0,
          0,
          1,
          1,
          1,
          1,
          0,
          1,
          1,
          0,
          1,
          0,
          1,
          0,
          1,
          1,
          1,
          1,
          1
         ],
         "xaxis": "x",
         "yaxis": "y"
        }
       ],
       "layout": {
        "barmode": "relative",
        "legend": {
         "title": {
          "text": "variable"
         },
         "tracegroupgap": 0
        },
        "margin": {
         "t": 60
        },
        "template": {
         "data": {
          "bar": [
           {
            "error_x": {
             "color": "#2a3f5f"
            },
            "error_y": {
             "color": "#2a3f5f"
            },
            "marker": {
             "line": {
              "color": "#E5ECF6",
              "width": 0.5
             },
             "pattern": {
              "fillmode": "overlay",
              "size": 10,
              "solidity": 0.2
             }
            },
            "type": "bar"
           }
          ],
          "barpolar": [
           {
            "marker": {
             "line": {
              "color": "#E5ECF6",
              "width": 0.5
             },
             "pattern": {
              "fillmode": "overlay",
              "size": 10,
              "solidity": 0.2
             }
            },
            "type": "barpolar"
           }
          ],
          "carpet": [
           {
            "aaxis": {
             "endlinecolor": "#2a3f5f",
             "gridcolor": "white",
             "linecolor": "white",
             "minorgridcolor": "white",
             "startlinecolor": "#2a3f5f"
            },
            "baxis": {
             "endlinecolor": "#2a3f5f",
             "gridcolor": "white",
             "linecolor": "white",
             "minorgridcolor": "white",
             "startlinecolor": "#2a3f5f"
            },
            "type": "carpet"
           }
          ],
          "choropleth": [
           {
            "colorbar": {
             "outlinewidth": 0,
             "ticks": ""
            },
            "type": "choropleth"
           }
          ],
          "contour": [
           {
            "colorbar": {
             "outlinewidth": 0,
             "ticks": ""
            },
            "colorscale": [
             [
              0,
              "#0d0887"
             ],
             [
              0.1111111111111111,
              "#46039f"
             ],
             [
              0.2222222222222222,
              "#7201a8"
             ],
             [
              0.3333333333333333,
              "#9c179e"
             ],
             [
              0.4444444444444444,
              "#bd3786"
             ],
             [
              0.5555555555555556,
              "#d8576b"
             ],
             [
              0.6666666666666666,
              "#ed7953"
             ],
             [
              0.7777777777777778,
              "#fb9f3a"
             ],
             [
              0.8888888888888888,
              "#fdca26"
             ],
             [
              1,
              "#f0f921"
             ]
            ],
            "type": "contour"
           }
          ],
          "contourcarpet": [
           {
            "colorbar": {
             "outlinewidth": 0,
             "ticks": ""
            },
            "type": "contourcarpet"
           }
          ],
          "heatmap": [
           {
            "colorbar": {
             "outlinewidth": 0,
             "ticks": ""
            },
            "colorscale": [
             [
              0,
              "#0d0887"
             ],
             [
              0.1111111111111111,
              "#46039f"
             ],
             [
              0.2222222222222222,
              "#7201a8"
             ],
             [
              0.3333333333333333,
              "#9c179e"
             ],
             [
              0.4444444444444444,
              "#bd3786"
             ],
             [
              0.5555555555555556,
              "#d8576b"
             ],
             [
              0.6666666666666666,
              "#ed7953"
             ],
             [
              0.7777777777777778,
              "#fb9f3a"
             ],
             [
              0.8888888888888888,
              "#fdca26"
             ],
             [
              1,
              "#f0f921"
             ]
            ],
            "type": "heatmap"
           }
          ],
          "heatmapgl": [
           {
            "colorbar": {
             "outlinewidth": 0,
             "ticks": ""
            },
            "colorscale": [
             [
              0,
              "#0d0887"
             ],
             [
              0.1111111111111111,
              "#46039f"
             ],
             [
              0.2222222222222222,
              "#7201a8"
             ],
             [
              0.3333333333333333,
              "#9c179e"
             ],
             [
              0.4444444444444444,
              "#bd3786"
             ],
             [
              0.5555555555555556,
              "#d8576b"
             ],
             [
              0.6666666666666666,
              "#ed7953"
             ],
             [
              0.7777777777777778,
              "#fb9f3a"
             ],
             [
              0.8888888888888888,
              "#fdca26"
             ],
             [
              1,
              "#f0f921"
             ]
            ],
            "type": "heatmapgl"
           }
          ],
          "histogram": [
           {
            "marker": {
             "pattern": {
              "fillmode": "overlay",
              "size": 10,
              "solidity": 0.2
             }
            },
            "type": "histogram"
           }
          ],
          "histogram2d": [
           {
            "colorbar": {
             "outlinewidth": 0,
             "ticks": ""
            },
            "colorscale": [
             [
              0,
              "#0d0887"
             ],
             [
              0.1111111111111111,
              "#46039f"
             ],
             [
              0.2222222222222222,
              "#7201a8"
             ],
             [
              0.3333333333333333,
              "#9c179e"
             ],
             [
              0.4444444444444444,
              "#bd3786"
             ],
             [
              0.5555555555555556,
              "#d8576b"
             ],
             [
              0.6666666666666666,
              "#ed7953"
             ],
             [
              0.7777777777777778,
              "#fb9f3a"
             ],
             [
              0.8888888888888888,
              "#fdca26"
             ],
             [
              1,
              "#f0f921"
             ]
            ],
            "type": "histogram2d"
           }
          ],
          "histogram2dcontour": [
           {
            "colorbar": {
             "outlinewidth": 0,
             "ticks": ""
            },
            "colorscale": [
             [
              0,
              "#0d0887"
             ],
             [
              0.1111111111111111,
              "#46039f"
             ],
             [
              0.2222222222222222,
              "#7201a8"
             ],
             [
              0.3333333333333333,
              "#9c179e"
             ],
             [
              0.4444444444444444,
              "#bd3786"
             ],
             [
              0.5555555555555556,
              "#d8576b"
             ],
             [
              0.6666666666666666,
              "#ed7953"
             ],
             [
              0.7777777777777778,
              "#fb9f3a"
             ],
             [
              0.8888888888888888,
              "#fdca26"
             ],
             [
              1,
              "#f0f921"
             ]
            ],
            "type": "histogram2dcontour"
           }
          ],
          "mesh3d": [
           {
            "colorbar": {
             "outlinewidth": 0,
             "ticks": ""
            },
            "type": "mesh3d"
           }
          ],
          "parcoords": [
           {
            "line": {
             "colorbar": {
              "outlinewidth": 0,
              "ticks": ""
             }
            },
            "type": "parcoords"
           }
          ],
          "pie": [
           {
            "automargin": true,
            "type": "pie"
           }
          ],
          "scatter": [
           {
            "fillpattern": {
             "fillmode": "overlay",
             "size": 10,
             "solidity": 0.2
            },
            "type": "scatter"
           }
          ],
          "scatter3d": [
           {
            "line": {
             "colorbar": {
              "outlinewidth": 0,
              "ticks": ""
             }
            },
            "marker": {
             "colorbar": {
              "outlinewidth": 0,
              "ticks": ""
             }
            },
            "type": "scatter3d"
           }
          ],
          "scattercarpet": [
           {
            "marker": {
             "colorbar": {
              "outlinewidth": 0,
              "ticks": ""
             }
            },
            "type": "scattercarpet"
           }
          ],
          "scattergeo": [
           {
            "marker": {
             "colorbar": {
              "outlinewidth": 0,
              "ticks": ""
             }
            },
            "type": "scattergeo"
           }
          ],
          "scattergl": [
           {
            "marker": {
             "colorbar": {
              "outlinewidth": 0,
              "ticks": ""
             }
            },
            "type": "scattergl"
           }
          ],
          "scattermapbox": [
           {
            "marker": {
             "colorbar": {
              "outlinewidth": 0,
              "ticks": ""
             }
            },
            "type": "scattermapbox"
           }
          ],
          "scatterpolar": [
           {
            "marker": {
             "colorbar": {
              "outlinewidth": 0,
              "ticks": ""
             }
            },
            "type": "scatterpolar"
           }
          ],
          "scatterpolargl": [
           {
            "marker": {
             "colorbar": {
              "outlinewidth": 0,
              "ticks": ""
             }
            },
            "type": "scatterpolargl"
           }
          ],
          "scatterternary": [
           {
            "marker": {
             "colorbar": {
              "outlinewidth": 0,
              "ticks": ""
             }
            },
            "type": "scatterternary"
           }
          ],
          "surface": [
           {
            "colorbar": {
             "outlinewidth": 0,
             "ticks": ""
            },
            "colorscale": [
             [
              0,
              "#0d0887"
             ],
             [
              0.1111111111111111,
              "#46039f"
             ],
             [
              0.2222222222222222,
              "#7201a8"
             ],
             [
              0.3333333333333333,
              "#9c179e"
             ],
             [
              0.4444444444444444,
              "#bd3786"
             ],
             [
              0.5555555555555556,
              "#d8576b"
             ],
             [
              0.6666666666666666,
              "#ed7953"
             ],
             [
              0.7777777777777778,
              "#fb9f3a"
             ],
             [
              0.8888888888888888,
              "#fdca26"
             ],
             [
              1,
              "#f0f921"
             ]
            ],
            "type": "surface"
           }
          ],
          "table": [
           {
            "cells": {
             "fill": {
              "color": "#EBF0F8"
             },
             "line": {
              "color": "white"
             }
            },
            "header": {
             "fill": {
              "color": "#C8D4E3"
             },
             "line": {
              "color": "white"
             }
            },
            "type": "table"
           }
          ]
         },
         "layout": {
          "annotationdefaults": {
           "arrowcolor": "#2a3f5f",
           "arrowhead": 0,
           "arrowwidth": 1
          },
          "autotypenumbers": "strict",
          "coloraxis": {
           "colorbar": {
            "outlinewidth": 0,
            "ticks": ""
           }
          },
          "colorscale": {
           "diverging": [
            [
             0,
             "#8e0152"
            ],
            [
             0.1,
             "#c51b7d"
            ],
            [
             0.2,
             "#de77ae"
            ],
            [
             0.3,
             "#f1b6da"
            ],
            [
             0.4,
             "#fde0ef"
            ],
            [
             0.5,
             "#f7f7f7"
            ],
            [
             0.6,
             "#e6f5d0"
            ],
            [
             0.7,
             "#b8e186"
            ],
            [
             0.8,
             "#7fbc41"
            ],
            [
             0.9,
             "#4d9221"
            ],
            [
             1,
             "#276419"
            ]
           ],
           "sequential": [
            [
             0,
             "#0d0887"
            ],
            [
             0.1111111111111111,
             "#46039f"
            ],
            [
             0.2222222222222222,
             "#7201a8"
            ],
            [
             0.3333333333333333,
             "#9c179e"
            ],
            [
             0.4444444444444444,
             "#bd3786"
            ],
            [
             0.5555555555555556,
             "#d8576b"
            ],
            [
             0.6666666666666666,
             "#ed7953"
            ],
            [
             0.7777777777777778,
             "#fb9f3a"
            ],
            [
             0.8888888888888888,
             "#fdca26"
            ],
            [
             1,
             "#f0f921"
            ]
           ],
           "sequentialminus": [
            [
             0,
             "#0d0887"
            ],
            [
             0.1111111111111111,
             "#46039f"
            ],
            [
             0.2222222222222222,
             "#7201a8"
            ],
            [
             0.3333333333333333,
             "#9c179e"
            ],
            [
             0.4444444444444444,
             "#bd3786"
            ],
            [
             0.5555555555555556,
             "#d8576b"
            ],
            [
             0.6666666666666666,
             "#ed7953"
            ],
            [
             0.7777777777777778,
             "#fb9f3a"
            ],
            [
             0.8888888888888888,
             "#fdca26"
            ],
            [
             1,
             "#f0f921"
            ]
           ]
          },
          "colorway": [
           "#636efa",
           "#EF553B",
           "#00cc96",
           "#ab63fa",
           "#FFA15A",
           "#19d3f3",
           "#FF6692",
           "#B6E880",
           "#FF97FF",
           "#FECB52"
          ],
          "font": {
           "color": "#2a3f5f"
          },
          "geo": {
           "bgcolor": "white",
           "lakecolor": "white",
           "landcolor": "#E5ECF6",
           "showlakes": true,
           "showland": true,
           "subunitcolor": "white"
          },
          "hoverlabel": {
           "align": "left"
          },
          "hovermode": "closest",
          "mapbox": {
           "style": "light"
          },
          "paper_bgcolor": "white",
          "plot_bgcolor": "#E5ECF6",
          "polar": {
           "angularaxis": {
            "gridcolor": "white",
            "linecolor": "white",
            "ticks": ""
           },
           "bgcolor": "#E5ECF6",
           "radialaxis": {
            "gridcolor": "white",
            "linecolor": "white",
            "ticks": ""
           }
          },
          "scene": {
           "xaxis": {
            "backgroundcolor": "#E5ECF6",
            "gridcolor": "white",
            "gridwidth": 2,
            "linecolor": "white",
            "showbackground": true,
            "ticks": "",
            "zerolinecolor": "white"
           },
           "yaxis": {
            "backgroundcolor": "#E5ECF6",
            "gridcolor": "white",
            "gridwidth": 2,
            "linecolor": "white",
            "showbackground": true,
            "ticks": "",
            "zerolinecolor": "white"
           },
           "zaxis": {
            "backgroundcolor": "#E5ECF6",
            "gridcolor": "white",
            "gridwidth": 2,
            "linecolor": "white",
            "showbackground": true,
            "ticks": "",
            "zerolinecolor": "white"
           }
          },
          "shapedefaults": {
           "line": {
            "color": "#2a3f5f"
           }
          },
          "ternary": {
           "aaxis": {
            "gridcolor": "white",
            "linecolor": "white",
            "ticks": ""
           },
           "baxis": {
            "gridcolor": "white",
            "linecolor": "white",
            "ticks": ""
           },
           "bgcolor": "#E5ECF6",
           "caxis": {
            "gridcolor": "white",
            "linecolor": "white",
            "ticks": ""
           }
          },
          "title": {
           "x": 0.05
          },
          "xaxis": {
           "automargin": true,
           "gridcolor": "white",
           "linecolor": "white",
           "ticks": "",
           "title": {
            "standoff": 15
           },
           "zerolinecolor": "white",
           "zerolinewidth": 2
          },
          "yaxis": {
           "automargin": true,
           "gridcolor": "white",
           "linecolor": "white",
           "ticks": "",
           "title": {
            "standoff": 15
           },
           "zerolinecolor": "white",
           "zerolinewidth": 2
          }
         }
        },
        "xaxis": {
         "anchor": "y",
         "domain": [
          0,
          1
         ],
         "title": {
          "text": "value"
         }
        },
        "yaxis": {
         "anchor": "x",
         "domain": [
          0,
          1
         ],
         "title": {
          "text": "count"
         }
        }
       }
      },
      "text/html": [
       "<div>                            <div id=\"49ac97a6-6210-4c92-ad27-f8cc048fd6c4\" class=\"plotly-graph-div\" style=\"height:525px; width:100%;\"></div>            <script type=\"text/javascript\">                require([\"plotly\"], function(Plotly) {                    window.PLOTLYENV=window.PLOTLYENV || {};                                    if (document.getElementById(\"49ac97a6-6210-4c92-ad27-f8cc048fd6c4\")) {                    Plotly.newPlot(                        \"49ac97a6-6210-4c92-ad27-f8cc048fd6c4\",                        [{\"alignmentgroup\":\"True\",\"bingroup\":\"x\",\"hovertemplate\":\"variable=Fireplace<br>value=%{x}<br>count=%{y}<extra></extra>\",\"legendgroup\":\"Fireplace\",\"marker\":{\"color\":\"#636efa\",\"pattern\":{\"shape\":\"\"}},\"name\":\"Fireplace\",\"offsetgroup\":\"Fireplace\",\"orientation\":\"v\",\"showlegend\":true,\"x\":[0,1,1,1,1,0,0,0,0,0,1,1,0,0,1,1,0,1,1,1,1,1,0,1,1,1,1,0,1,1,1,0,1,0,1,1,1,1,0,1,0,0,0,0,1,0,1,0,1,1,1,0,0,1,1,0,0,0,0,1,0,0,1,0,0,1,0,0,1,0,0,1,1,0,0,0,0,0,1,0,0,0,0,0,0,0,0,0,0,0,0,1,0,0,0,0,1,0,1,0,1,1,0,0,1,0,1,1,1,0,1,0,0,1,1,0,1,1,0,1,1,1,0,1,1,1,1,1,0,1,0,0,1,0,1,1,1,0,0,0,0,0,1,0,1,0,1,1,0,0,0,1,0,0,1,0,1,0,0,0,1,1,1,0,0,0,1,1,1,1,1,0,1,1,0,0,0,0,1,0,0,1,1,1,1,1,1,1,1,0,1,1,1,1,1,1,0,1,1,1,1,1,1,1,1,1,1,1,1,1,1,1,1,1,1,1,1,1,1,0,1,1,1,1,1,1,0,1,1,1,0,1,1,1,1,1,1,1,1,1,1,1,1,1,1,0,0,1,1,1,1,1,1,1,0,0,1,1,1,0,0,1,1,1,1,1,0,1,1,0,0,1,0,0,0,0,0,0,1,1,0,1,0,0,1,0,0,1,1,1,1,1,1,0,0,1,0,0,0,0,1,0,1,1,1,1,0,1,0,0,0,0,1,1,0,0,1,0,1,1,0,1,1,1,1,0,0,1,1,1,1,0,1,1,0,1,0,0,0,1,1,1,1,0,1,1,1,1,1,1,1,1,1,1,1,0,1,0,0,0,1,1,0,0,1,0,0,1,1,0,1,0,0,0,0,1,1,1,1,0,0,1,0,0,0,1,1,0,0,0,0,1,1,0,0,1,1,0,0,0,0,0,1,0,0,1,0,1,1,1,1,0,1,1,0,1,1,1,1,1,1,0,0,1,0,1,1,1,0,1,1,0,0,1,0,0,0,0,1,1,0,0,0,0,0,1,1,1,1,1,1,0,1,0,1,1,0,0,0,1,1,1,1,0,0,0,1,0,0,1,1,1,0,1,1,0,1,1,1,1,1,1,1,1,1,1,0,1,0,1,1,1,1,1,1,1,1,1,1,1,1,1,1,0,0,0,0,0,1,1,0,0,0,0,1,1,0,1,1,0,0,1,0,0,0,1,0,1,1,0,1,1,0,1,0,0,0,0,1,0,0,1,1,1,1,0,1,1,0,0,0,0,1,1,0,1,0,1,0,1,1,0,0,1,0,0,0,1,0,1,1,0,1,1,0,1,1,1,1,1,0,1,1,1,0,0,1,0,1,1,1,1,0,1,1,1,0,1,1,1,1,1,1,1,1,1,1,1,1,1,1,1,1,1,1,1,1,1,1,1,1,1,1,1,1,1,0,1,1,1,0,1,1,1,1,0,1,1,0,1,1,0,0,0,1,1,1,0,0,1,1,1,0,0,1,1,1,1,1,1,1,1,1,1,1,0,0,1,0,1,1,1,1,0,0,0,0,0,0,0,1,1,1,0,0,1,0,1,1,0,1,1,1,1,1,0,0,1,0,1,1,1,0,1,0,1,0,1,0,0,0,0,0,0,1,1,0,1,0,0,1,1,1,1,1,0,1,1,0,0,1,1,0,0,1,0,0,0,0,1,0,0,1,1,1,0,0,1,1,0,0,1,0,0,0,0,1,0,0,0,0,0,0,0,0,1,1,1,0,0,0,0,0,1,0,0,1,0,0,1,1,1,1,1,1,1,1,0,1,0,1,0,1,1,0,1,1,1,0,1,1,0,1,1,1,1,0,0,0,1,1,0,1,1,1,0,1,1,1,1,1,0,0,0,1,1,1,0,1,0,0,1,1,0,0,0,1,1,1,1,0,0,1,0,0,0,0,1,0,1,0,1,1,1,1,0,0,1,0,1,1,0,1,1,1,1,1,1,1,1,1,1,1,0,1,0,0,1,0,1,1,1,1,0,0,1,1,0,0,0,0,0,1,1,0,0,0,0,0,1,0,1,0,1,0,1,1,1,1,1,1,0,1,1,1,1,1,1,1,0,1,1,1,1,1,1,0,0,1,1,1,1,1,1,0,1,1,1,0,1,0,1,0,1,1,0,1,1,1,0,0,1,1,1,1,1,1,0,1,1,1,1,0,0,0,1,0,0,0,1,1,1,1,0,0,1,1,1,0,0,0,1,1,1,1,0,0,0,1,1,1,1,1,1,0,1,1,0,1,1,0,1,0,0,0,1,1,1,0,1,1,1,1,1,1,1,0,1,1,0,0,1,1,1,0,0,0,1,0,0,1,1,1,1,0,1,1,0,1,0,1,0,1,1,1,1,1],\"xaxis\":\"x\",\"yaxis\":\"y\",\"type\":\"histogram\"}],                        {\"template\":{\"data\":{\"histogram2dcontour\":[{\"type\":\"histogram2dcontour\",\"colorbar\":{\"outlinewidth\":0,\"ticks\":\"\"},\"colorscale\":[[0.0,\"#0d0887\"],[0.1111111111111111,\"#46039f\"],[0.2222222222222222,\"#7201a8\"],[0.3333333333333333,\"#9c179e\"],[0.4444444444444444,\"#bd3786\"],[0.5555555555555556,\"#d8576b\"],[0.6666666666666666,\"#ed7953\"],[0.7777777777777778,\"#fb9f3a\"],[0.8888888888888888,\"#fdca26\"],[1.0,\"#f0f921\"]]}],\"choropleth\":[{\"type\":\"choropleth\",\"colorbar\":{\"outlinewidth\":0,\"ticks\":\"\"}}],\"histogram2d\":[{\"type\":\"histogram2d\",\"colorbar\":{\"outlinewidth\":0,\"ticks\":\"\"},\"colorscale\":[[0.0,\"#0d0887\"],[0.1111111111111111,\"#46039f\"],[0.2222222222222222,\"#7201a8\"],[0.3333333333333333,\"#9c179e\"],[0.4444444444444444,\"#bd3786\"],[0.5555555555555556,\"#d8576b\"],[0.6666666666666666,\"#ed7953\"],[0.7777777777777778,\"#fb9f3a\"],[0.8888888888888888,\"#fdca26\"],[1.0,\"#f0f921\"]]}],\"heatmap\":[{\"type\":\"heatmap\",\"colorbar\":{\"outlinewidth\":0,\"ticks\":\"\"},\"colorscale\":[[0.0,\"#0d0887\"],[0.1111111111111111,\"#46039f\"],[0.2222222222222222,\"#7201a8\"],[0.3333333333333333,\"#9c179e\"],[0.4444444444444444,\"#bd3786\"],[0.5555555555555556,\"#d8576b\"],[0.6666666666666666,\"#ed7953\"],[0.7777777777777778,\"#fb9f3a\"],[0.8888888888888888,\"#fdca26\"],[1.0,\"#f0f921\"]]}],\"heatmapgl\":[{\"type\":\"heatmapgl\",\"colorbar\":{\"outlinewidth\":0,\"ticks\":\"\"},\"colorscale\":[[0.0,\"#0d0887\"],[0.1111111111111111,\"#46039f\"],[0.2222222222222222,\"#7201a8\"],[0.3333333333333333,\"#9c179e\"],[0.4444444444444444,\"#bd3786\"],[0.5555555555555556,\"#d8576b\"],[0.6666666666666666,\"#ed7953\"],[0.7777777777777778,\"#fb9f3a\"],[0.8888888888888888,\"#fdca26\"],[1.0,\"#f0f921\"]]}],\"contourcarpet\":[{\"type\":\"contourcarpet\",\"colorbar\":{\"outlinewidth\":0,\"ticks\":\"\"}}],\"contour\":[{\"type\":\"contour\",\"colorbar\":{\"outlinewidth\":0,\"ticks\":\"\"},\"colorscale\":[[0.0,\"#0d0887\"],[0.1111111111111111,\"#46039f\"],[0.2222222222222222,\"#7201a8\"],[0.3333333333333333,\"#9c179e\"],[0.4444444444444444,\"#bd3786\"],[0.5555555555555556,\"#d8576b\"],[0.6666666666666666,\"#ed7953\"],[0.7777777777777778,\"#fb9f3a\"],[0.8888888888888888,\"#fdca26\"],[1.0,\"#f0f921\"]]}],\"surface\":[{\"type\":\"surface\",\"colorbar\":{\"outlinewidth\":0,\"ticks\":\"\"},\"colorscale\":[[0.0,\"#0d0887\"],[0.1111111111111111,\"#46039f\"],[0.2222222222222222,\"#7201a8\"],[0.3333333333333333,\"#9c179e\"],[0.4444444444444444,\"#bd3786\"],[0.5555555555555556,\"#d8576b\"],[0.6666666666666666,\"#ed7953\"],[0.7777777777777778,\"#fb9f3a\"],[0.8888888888888888,\"#fdca26\"],[1.0,\"#f0f921\"]]}],\"mesh3d\":[{\"type\":\"mesh3d\",\"colorbar\":{\"outlinewidth\":0,\"ticks\":\"\"}}],\"scatter\":[{\"fillpattern\":{\"fillmode\":\"overlay\",\"size\":10,\"solidity\":0.2},\"type\":\"scatter\"}],\"parcoords\":[{\"type\":\"parcoords\",\"line\":{\"colorbar\":{\"outlinewidth\":0,\"ticks\":\"\"}}}],\"scatterpolargl\":[{\"type\":\"scatterpolargl\",\"marker\":{\"colorbar\":{\"outlinewidth\":0,\"ticks\":\"\"}}}],\"bar\":[{\"error_x\":{\"color\":\"#2a3f5f\"},\"error_y\":{\"color\":\"#2a3f5f\"},\"marker\":{\"line\":{\"color\":\"#E5ECF6\",\"width\":0.5},\"pattern\":{\"fillmode\":\"overlay\",\"size\":10,\"solidity\":0.2}},\"type\":\"bar\"}],\"scattergeo\":[{\"type\":\"scattergeo\",\"marker\":{\"colorbar\":{\"outlinewidth\":0,\"ticks\":\"\"}}}],\"scatterpolar\":[{\"type\":\"scatterpolar\",\"marker\":{\"colorbar\":{\"outlinewidth\":0,\"ticks\":\"\"}}}],\"histogram\":[{\"marker\":{\"pattern\":{\"fillmode\":\"overlay\",\"size\":10,\"solidity\":0.2}},\"type\":\"histogram\"}],\"scattergl\":[{\"type\":\"scattergl\",\"marker\":{\"colorbar\":{\"outlinewidth\":0,\"ticks\":\"\"}}}],\"scatter3d\":[{\"type\":\"scatter3d\",\"line\":{\"colorbar\":{\"outlinewidth\":0,\"ticks\":\"\"}},\"marker\":{\"colorbar\":{\"outlinewidth\":0,\"ticks\":\"\"}}}],\"scattermapbox\":[{\"type\":\"scattermapbox\",\"marker\":{\"colorbar\":{\"outlinewidth\":0,\"ticks\":\"\"}}}],\"scatterternary\":[{\"type\":\"scatterternary\",\"marker\":{\"colorbar\":{\"outlinewidth\":0,\"ticks\":\"\"}}}],\"scattercarpet\":[{\"type\":\"scattercarpet\",\"marker\":{\"colorbar\":{\"outlinewidth\":0,\"ticks\":\"\"}}}],\"carpet\":[{\"aaxis\":{\"endlinecolor\":\"#2a3f5f\",\"gridcolor\":\"white\",\"linecolor\":\"white\",\"minorgridcolor\":\"white\",\"startlinecolor\":\"#2a3f5f\"},\"baxis\":{\"endlinecolor\":\"#2a3f5f\",\"gridcolor\":\"white\",\"linecolor\":\"white\",\"minorgridcolor\":\"white\",\"startlinecolor\":\"#2a3f5f\"},\"type\":\"carpet\"}],\"table\":[{\"cells\":{\"fill\":{\"color\":\"#EBF0F8\"},\"line\":{\"color\":\"white\"}},\"header\":{\"fill\":{\"color\":\"#C8D4E3\"},\"line\":{\"color\":\"white\"}},\"type\":\"table\"}],\"barpolar\":[{\"marker\":{\"line\":{\"color\":\"#E5ECF6\",\"width\":0.5},\"pattern\":{\"fillmode\":\"overlay\",\"size\":10,\"solidity\":0.2}},\"type\":\"barpolar\"}],\"pie\":[{\"automargin\":true,\"type\":\"pie\"}]},\"layout\":{\"autotypenumbers\":\"strict\",\"colorway\":[\"#636efa\",\"#EF553B\",\"#00cc96\",\"#ab63fa\",\"#FFA15A\",\"#19d3f3\",\"#FF6692\",\"#B6E880\",\"#FF97FF\",\"#FECB52\"],\"font\":{\"color\":\"#2a3f5f\"},\"hovermode\":\"closest\",\"hoverlabel\":{\"align\":\"left\"},\"paper_bgcolor\":\"white\",\"plot_bgcolor\":\"#E5ECF6\",\"polar\":{\"bgcolor\":\"#E5ECF6\",\"angularaxis\":{\"gridcolor\":\"white\",\"linecolor\":\"white\",\"ticks\":\"\"},\"radialaxis\":{\"gridcolor\":\"white\",\"linecolor\":\"white\",\"ticks\":\"\"}},\"ternary\":{\"bgcolor\":\"#E5ECF6\",\"aaxis\":{\"gridcolor\":\"white\",\"linecolor\":\"white\",\"ticks\":\"\"},\"baxis\":{\"gridcolor\":\"white\",\"linecolor\":\"white\",\"ticks\":\"\"},\"caxis\":{\"gridcolor\":\"white\",\"linecolor\":\"white\",\"ticks\":\"\"}},\"coloraxis\":{\"colorbar\":{\"outlinewidth\":0,\"ticks\":\"\"}},\"colorscale\":{\"sequential\":[[0.0,\"#0d0887\"],[0.1111111111111111,\"#46039f\"],[0.2222222222222222,\"#7201a8\"],[0.3333333333333333,\"#9c179e\"],[0.4444444444444444,\"#bd3786\"],[0.5555555555555556,\"#d8576b\"],[0.6666666666666666,\"#ed7953\"],[0.7777777777777778,\"#fb9f3a\"],[0.8888888888888888,\"#fdca26\"],[1.0,\"#f0f921\"]],\"sequentialminus\":[[0.0,\"#0d0887\"],[0.1111111111111111,\"#46039f\"],[0.2222222222222222,\"#7201a8\"],[0.3333333333333333,\"#9c179e\"],[0.4444444444444444,\"#bd3786\"],[0.5555555555555556,\"#d8576b\"],[0.6666666666666666,\"#ed7953\"],[0.7777777777777778,\"#fb9f3a\"],[0.8888888888888888,\"#fdca26\"],[1.0,\"#f0f921\"]],\"diverging\":[[0,\"#8e0152\"],[0.1,\"#c51b7d\"],[0.2,\"#de77ae\"],[0.3,\"#f1b6da\"],[0.4,\"#fde0ef\"],[0.5,\"#f7f7f7\"],[0.6,\"#e6f5d0\"],[0.7,\"#b8e186\"],[0.8,\"#7fbc41\"],[0.9,\"#4d9221\"],[1,\"#276419\"]]},\"xaxis\":{\"gridcolor\":\"white\",\"linecolor\":\"white\",\"ticks\":\"\",\"title\":{\"standoff\":15},\"zerolinecolor\":\"white\",\"automargin\":true,\"zerolinewidth\":2},\"yaxis\":{\"gridcolor\":\"white\",\"linecolor\":\"white\",\"ticks\":\"\",\"title\":{\"standoff\":15},\"zerolinecolor\":\"white\",\"automargin\":true,\"zerolinewidth\":2},\"scene\":{\"xaxis\":{\"backgroundcolor\":\"#E5ECF6\",\"gridcolor\":\"white\",\"linecolor\":\"white\",\"showbackground\":true,\"ticks\":\"\",\"zerolinecolor\":\"white\",\"gridwidth\":2},\"yaxis\":{\"backgroundcolor\":\"#E5ECF6\",\"gridcolor\":\"white\",\"linecolor\":\"white\",\"showbackground\":true,\"ticks\":\"\",\"zerolinecolor\":\"white\",\"gridwidth\":2},\"zaxis\":{\"backgroundcolor\":\"#E5ECF6\",\"gridcolor\":\"white\",\"linecolor\":\"white\",\"showbackground\":true,\"ticks\":\"\",\"zerolinecolor\":\"white\",\"gridwidth\":2}},\"shapedefaults\":{\"line\":{\"color\":\"#2a3f5f\"}},\"annotationdefaults\":{\"arrowcolor\":\"#2a3f5f\",\"arrowhead\":0,\"arrowwidth\":1},\"geo\":{\"bgcolor\":\"white\",\"landcolor\":\"#E5ECF6\",\"subunitcolor\":\"white\",\"showland\":true,\"showlakes\":true,\"lakecolor\":\"white\"},\"title\":{\"x\":0.05},\"mapbox\":{\"style\":\"light\"}}},\"xaxis\":{\"anchor\":\"y\",\"domain\":[0.0,1.0],\"title\":{\"text\":\"value\"}},\"yaxis\":{\"anchor\":\"x\",\"domain\":[0.0,1.0],\"title\":{\"text\":\"count\"}},\"legend\":{\"title\":{\"text\":\"variable\"},\"tracegroupgap\":0},\"margin\":{\"t\":60},\"barmode\":\"relative\"},                        {\"responsive\": true}                    ).then(function(){\n",
       "                            \n",
       "var gd = document.getElementById('49ac97a6-6210-4c92-ad27-f8cc048fd6c4');\n",
       "var x = new MutationObserver(function (mutations, observer) {{\n",
       "        var display = window.getComputedStyle(gd).display;\n",
       "        if (!display || display === 'none') {{\n",
       "            console.log([gd, 'removed!']);\n",
       "            Plotly.purge(gd);\n",
       "            observer.disconnect();\n",
       "        }}\n",
       "}});\n",
       "\n",
       "// Listen for the removal of the full notebook cells\n",
       "var notebookContainer = gd.closest('#notebook-container');\n",
       "if (notebookContainer) {{\n",
       "    x.observe(notebookContainer, {childList: true});\n",
       "}}\n",
       "\n",
       "// Listen for the clearing of the current output cell\n",
       "var outputEl = gd.closest('.output');\n",
       "if (outputEl) {{\n",
       "    x.observe(outputEl, {childList: true});\n",
       "}}\n",
       "\n",
       "                        })                };                });            </script>        </div>"
      ]
     },
     "metadata": {},
     "output_type": "display_data"
    },
    {
     "data": {
      "application/vnd.plotly.v1+json": {
       "config": {
        "plotlyServerURL": "https://plot.ly"
       },
       "data": [
        {
         "alignmentgroup": "True",
         "bingroup": "x",
         "hovertemplate": "variable=Price<br>value=%{x}<br>count=%{y}<extra></extra>",
         "legendgroup": "Price",
         "marker": {
          "color": "#636efa",
          "pattern": {
           "shape": ""
          }
         },
         "name": "Price",
         "offsetgroup": "Price",
         "orientation": "v",
         "showlegend": true,
         "type": "histogram",
         "x": [
          14.2212,
          13.4865,
          11.8007,
          13.8297,
          12.947,
          20.6512,
          5.0709,
          10.8794,
          6.8353,
          12.3266,
          30.9808,
          15.7946,
          8.0248,
          13.5708,
          17.3723,
          14.051,
          12.2221,
          15.1917,
          23.5105,
          25.9999,
          21.1517,
          10.2068,
          12.844,
          11.5659,
          14.5583,
          11.6289,
          23.8792,
          22.1925,
          31.0696,
          13.9079,
          10.9578,
          6.5325,
          8.9893,
          8.7588,
          13.2311,
          13.1411,
          15.8863,
          13.049,
          8.8207,
          17.8767,
          14.8246,
          20.5073,
          18.5323,
          7.1904,
          8.2556,
          19.9684,
          12.2221,
          8.1762,
          8.4291,
          20.6512,
          10.5363,
          4.5004,
          6.2105,
          10.3508,
          15.7513,
          7.9893,
          8.877,
          11.5312,
          11.8952,
          10.3861,
          11.2649,
          12.7385,
          15.3129,
          14.3808,
          13.3067,
          22.6742,
          9.8652,
          11.1394,
          10.1418,
          13.9219,
          11.5248,
          9.9574,
          22.4818,
          10.8459,
          10.7919,
          4.5904,
          8.3617,
          15.4723,
          10.1258,
          11.8949,
          12.8717,
          13.6379,
          12.4367,
          6.2938,
          17.2016,
          10.6524,
          14.7412,
          11.1221,
          7.5862,
          10.9578,
          11.9166,
          18.5318,
          10.4749,
          4.4674,
          8.054,
          9.3773,
          10.9999,
          1.6858,
          11.4326,
          10.6524,
          16.0995,
          13.9079,
          5.9003,
          14.7425,
          14.4695,
          13.0229,
          11.984,
          12.9723,
          13.3595,
          12.6311,
          16.7693,
          10.3958,
          15.5488,
          15.2112,
          22.8619,
          13.9435,
          16.1923,
          26.1011,
          12.0115,
          15.3013,
          29.8923,
          27.1791,
          12.6498,
          26.7731,
          18.1979,
          14.5663,
          12.8273,
          10.6524,
          10.1997,
          11.0963,
          14.7625,
          11.6321,
          19.488,
          14.3294,
          38.7652,
          24.089,
          26.046,
          9.0354,
          19.2694,
          10.2801,
          7.9567,
          10.1708,
          16.2913,
          7.5606,
          17.5874,
          15.9313,
          20.7237,
          20.5397,
          7.9116,
          16.1923,
          13.3155,
          15.9786,
          10.2405,
          11.4514,
          16.2006,
          9.3815,
          18.114,
          13.7309,
          13.6551,
          10.7049,
          16.3524,
          18.114,
          31.712,
          7.7547,
          8.1762,
          14.7517,
          26.3226,
          16.3191,
          12.592,
          16.4623,
          16.1562,
          16.3781,
          23.5152,
          12.0639,
          12.3834,
          7.6342,
          7.9982,
          6.9152,
          7.1647,
          14.0765,
          9.1792,
          13.4865,
          13.9079,
          24.4443,
          16.2091,
          26.3226,
          12.601,
          17.3102,
          12.0639,
          13.9079,
          18.9654,
          8.9432,
          19.6317,
          20.9122,
          14.0602,
          17.0567,
          11.1875,
          22.5885,
          16.3652,
          11.9858,
          21.283,
          14.2907,
          19.3524,
          18.9836,
          15.4432,
          24.8204,
          17.5514,
          29.7024,
          17.5514,
          20.1616,
          17.2814,
          23.2894,
          16.9124,
          23.2219,
          24.752,
          22.4928,
          29.4133,
          22.8806,
          17.06,
          17.5784,
          22.9055,
          15.7513,
          30.875,
          20.2157,
          24.1885,
          29.738,
          11.9751,
          17.5321,
          15.3129,
          15.6679,
          10.2086,
          14.9933,
          22.8375,
          26.1872,
          16.1118,
          19.0856,
          14.0701,
          36.8396,
          25.0976,
          18.0032,
          33.2888,
          17.7452,
          21.9262,
          25.4327,
          19.7105,
          16.6888,
          11.5401,
          20.861,
          10.7892,
          14.3294,
          28.2373,
          23.9301,
          14.321,
          37.9678,
          22.1263,
          11.1264,
          25.2872,
          17.2315,
          18.2068,
          9.4405,
          2.613,
          30.8218,
          11.7164,
          17.3639,
          28.2289,
          19.8083,
          10.0306,
          18.1225,
          10.3677,
          8.6651,
          9.6934,
          13.065,
          10.5843,
          11.4513,
          16.0426,
          10.5363,
          18.9995,
          10.4084,
          21.0081,
          13.7508,
          11.1436,
          7.4422,
          10.7912,
          12.3757,
          13.98,
          7.7921,
          14.5123,
          10.4412,
          39.1842,
          11.8468,
          17.6698,
          6.3852,
          21.2103,
          14.6611,
          11.3444,
          4.763,
          6.3101,
          5.1183,
          9.2436,
          11.4513,
          17.7604,
          26.9063,
          12.7303,
          13.3612,
          13.7508,
          14.5147,
          10.7306,
          26.0228,
          10.4412,
          12.0476,
          11.8409,
          14.6611,
          8.556,
          20.5498,
          16.3478,
          13.754,
          11.6862,
          10.9633,
          15.6606,
          13.9418,
          12.2229,
          17.9524,
          11.1633,
          13.4266,
          13.0239,
          12.168,
          19.9187,
          12.6311,
          26.5637,
          22.9915,
          16.1473,
          15.0909,
          28.736,
          18.9912,
          10.904,
          14.4561,
          9.0678,
          8.9955,
          12.2082,
          8.4333,
          14.4571,
          18.0803,
          19.8622,
          12.0192,
          16.3102,
          18.4515,
          18.9654,
          13.582,
          15.0022,
          18.9776,
          19.6603,
          16.1839,
          20.2836,
          15.6797,
          22.2198,
          10.3262,
          25.3545,
          11.617,
          11.2509,
          35.5529,
          20.4643,
          13.5011,
          10.6659,
          32.3819,
          13.5011,
          12.601,
          21.6018,
          44.6436,
          13.3155,
          14.6471,
          32.9484,
          11.0963,
          30.0931,
          25.5303,
          15.0909,
          18.4109,
          17.3446,
          12.774,
          21.3048,
          11.407,
          20.5947,
          20.9226,
          13.4378,
          11.3371,
          26.1301,
          21.8734,
          25.4944,
          14.3252,
          9.9463,
          12.3064,
          24.3305,
          21.2846,
          37.8465,
          26.3408,
          18.9654,
          35.7384,
          26.5515,
          16.8497,
          13.2088,
          13.0518,
          9.2519,
          22.9761,
          23.1298,
          15.2822,
          22.4888,
          24.4124,
          14.8989,
          23.6936,
          26.1031,
          24.6976,
          12.0476,
          16.8065,
          17.3794,
          21.3901,
          21.7797,
          17.1885,
          28.6474,
          17.494,
          26.1647,
          13.8424,
          14.8967,
          20.094,
          23.4429,
          33.3411,
          24.7639,
          12.2796,
          27.9083,
          17.7124,
          16.0007,
          15.4798,
          37.3227,
          12.2257,
          16.5213,
          12.804,
          12.0476,
          6.4174,
          12.4492,
          11.1534,
          11.459,
          9.7783,
          6.4552,
          11.4238,
          5.7678,
          8.9232,
          7.2189,
          21.0081,
          12.6049,
          9.879,
          10.3408,
          10.2806,
          15.9843,
          11.1353,
          23.4954,
          10.3256,
          8.158,
          22.918,
          11.6882,
          15.4238,
          10.0839,
          12.2257,
          12.804,
          10.2806,
          23.6055,
          9.1672,
          13.0757,
          20.0793,
          20.2836,
          6.0238,
          4.0932,
          9.2519,
          14.8692,
          12.391,
          10.3258,
          39.4532,
          18.7104,
          9.7476,
          12.5562,
          20.8048,
          33.4556,
          13.4933,
          17.814,
          34.5364,
          28.55,
          22.8904,
          20.7018,
          25.7015,
          16.0635,
          32.9221,
          13.6499,
          12.1279,
          24.0952,
          34.0545,
          17.6846,
          31.2448,
          31.4912,
          17.1885,
          22.5742,
          24.0639,
          23.6742,
          9.9311,
          13.6192,
          22.3266,
          13.3215,
          7.765,
          15.0505,
          16.9343,
          11.5566,
          15.4528,
          21.8184,
          36.6772,
          19.999,
          30.3599,
          9.4774,
          9.8389,
          11.0115,
          16.0349,
          7.5094,
          15.2404,
          15.4314,
          9.9311,
          11.077,
          15.737,
          14.8203,
          8.5585,
          13.7606,
          11.0889,
          9.6004,
          11.9001,
          7.4421,
          14.5123,
          16.3728,
          19.3497,
          7.3892,
          11.3367,
          16.2984,
          20.28,
          8.4291,
          9.8632,
          15.5713,
          14.6626,
          9.2932,
          16.4419,
          21.8184,
          17.4208,
          20.0713,
          10.2003,
          8.5939,
          21.0672,
          9.8389,
          10.2806,
          11.1239,
          10.0397,
          11.7703,
          15.2786,
          8.7852,
          18.067,
          5.5817,
          23.0708,
          9.3846,
          24.3276,
          22.6304,
          11.9784,
          10.8478,
          15.4696,
          19.8622,
          16.7776,
          8.4291,
          12.6436,
          12.9609,
          13.7127,
          27.7235,
          20.9555,
          10.1193,
          10.4084,
          9.9045,
          33.4556,
          18.6605,
          21.0646,
          23.0414,
          20.8253,
          10.4084,
          9.4584,
          23.3155,
          22.7994,
          11.5649,
          13.7044,
          26.1846,
          16.8739,
          23.6936,
          19.7581,
          29.7174,
          15.5414,
          14.176,
          21.4367,
          14.6981,
          26.826,
          6.9876,
          14.3768,
          13.0917,
          18.7701,
          24.0872,
          20.6415,
          19.179,
          31.2434,
          21.7226,
          17.6618,
          15.2786,
          19.0983,
          9.9082,
          14.8585,
          12.9868,
          30.4045,
          26.5848,
          18.7087,
          22.0776,
          16.119,
          18.4108,
          17.9524,
          24.4382,
          21.3137,
          24.4441,
          26.3938,
          27.1578,
          11.9937,
          14.0945,
          23.6819,
          9.1672,
          9.32,
          11.8409,
          18.0288,
          8.7852,
          23.7583,
          35.7138,
          19.8622,
          14.8967,
          13.3688,
          15.653,
          17.876,
          10.3633,
          18.2334,
          20.4661,
          7.4422,
          16.1496,
          8.9306,
          15.2491,
          16.0007,
          21.2103,
          17.1171,
          17.1171,
          16.2612,
          9.526,
          13.0239,
          12.5029,
          13.7681,
          17.5084,
          32.8491,
          28.2655,
          29.2524,
          14.0658,
          21.5824,
          16.5957,
          17.7998,
          26.0887,
          32.5262,
          11.4827,
          9.6958,
          10.4339,
          14.6609,
          15.0798,
          20.7347,
          19.99,
          13.3199,
          16.7253,
          9.7682,
          7.917,
          11.2877,
          7.8191,
          11.0738,
          10.1227,
          6.9463,
          16.7319,
          15.195,
          18.8497,
          10.8002,
          10.4371,
          6.9814,
          11.6938,
          20.0791,
          16.2631,
          16.6222,
          14.6978,
          15.682,
          17.0534,
          20.9371,
          15.359,
          12.4585,
          12.2044,
          22.4668,
          11.6589,
          17.9572,
          19.0444,
          21.3249,
          18.1399,
          19.3565,
          14.8231,
          33.7918,
          12.4669,
          16.7975,
          9.0446,
          10.123,
          9.1386,
          14.9078,
          12.1973,
          12.3827,
          10.9259,
          10.7766,
          19.1746,
          14.6161,
          14.0238,
          10.7513,
          15.743,
          33.0219,
          43.2845,
          24.0857,
          25.1259,
          16.9647,
          20.595,
          33.8596,
          26.8783,
          11.8585,
          11.374,
          25.7499,
          15.2466,
          11.4519,
          24.7839,
          18.1516,
          13.8914,
          10.8421,
          10.7411,
          16.6019,
          9.3174,
          23.1749,
          13.722,
          27.9522,
          25.0723,
          14.2057,
          11.1546,
          26.2461,
          29.8549,
          15.6164,
          18.3657,
          16.0692,
          14.7634,
          23.6215,
          10.9249,
          13.9104,
          10.4328,
          10.4984,
          9.0446,
          14.242,
          5.236,
          11.3796,
          10.4267,
          12.9427,
          15.195,
          17.2789,
          13.5526,
          14.8401,
          6.5615,
          28.3851,
          13.0782,
          13.5526,
          18.4315,
          14.6329,
          5.5851,
          11.1809,
          8.8092,
          2.6049,
          11.1702,
          23.2989,
          23.562,
          11.9389,
          11.2153,
          20.2527,
          15.0502,
          18.8497,
          12.9155,
          11.7287,
          20.9371,
          9.9903,
          20.595,
          12.7055,
          31.1709,
          14.2302,
          17.7539,
          27.7828,
          19.6512,
          10.4984,
          15.7411,
          29.5268,
          20.2751,
          10.4984,
          15.5929,
          22.6705,
          27.1339,
          12.6082,
          11.36,
          10.4556,
          16.7145,
          10.6365,
          23.8951,
          11.6589,
          17.0345,
          21.8517,
          9.7739,
          10.5035,
          23.3876,
          10.4651,
          21.2932,
          27.8906,
          16.0571,
          18.4315,
          10.0967,
          22.0261,
          18.9665,
          24.059,
          16.9407,
          12.7394,
          22.2576,
          20.051,
          15.5787,
          18.6348,
          21.7868,
          20.8635,
          8.2019,
          18.3066,
          23.6215,
          15.0849,
          17.8216,
          19.6846,
          13.5167,
          6.555,
          14.3697,
          11.2153,
          16.331,
          11.7907,
          4.9211,
          18.7003,
          13.5823,
          11.3514,
          10.253,
          7.5975,
          12.8434,
          18.5487,
          12.6082,
          9.8333,
          10.4556,
          15.7081,
          9.2852,
          23.8951,
          24.2952,
          7.5399,
          22.0765,
          16.3992,
          23.3876,
          16.0571,
          25.1699,
          10.2626,
          20.3478,
          35.4739,
          18.4654,
          12.5361,
          23.7062,
          15.5787,
          23.6829,
          10.7743,
          21.0743,
          21.6841,
          11.8517,
          11.6795,
          15.8789,
          20.0126,
          17.8216,
          10.1375,
          10.3672,
          11.0234,
          20.6931,
          8.9893,
          3.1113,
          5.9043,
          9.4064,
          5.0483,
          25.3433,
          14.4335,
          5.421,
          9.3895,
          13.0574,
          9.4486,
          10.9577,
          25.3973,
          32.633,
          28.4154,
          11.5771,
          20.1876,
          9.9491,
          15.195,
          27.8936,
          10.123,
          22.3055,
          23.7716,
          18.0817,
          10.123,
          18.1516,
          19.1988,
          18.361,
          23.7367,
          29.6708,
          27.2902,
          19.6875,
          13.9627,
          12.9155,
          19.8969,
          20.595,
          20.8743,
          11.24,
          17.4534,
          10.6117,
          10.7743,
          15.4499,
          13.6203,
          37.9472,
          18.9736,
          30.8253,
          13.4171,
          12.0279,
          11.2825,
          25.14,
          12.5361,
          9.4868,
          11.0182,
          18.0927,
          23.3714,
          17.2795,
          15.0772,
          32.9328,
          8.8092,
          18.7026,
          13.2138,
          16.3986,
          15.992,
          15.0434,
          21.653,
          26.2461,
          20.6688,
          19.0284,
          15.7476,
          34.7761,
          26.2461,
          19.4877,
          16.6335,
          19.3565,
          23.2934,
          10.8593,
          12.4013,
          10.0938,
          9.4064,
          10.9042,
          15.9175,
          9.4667,
          15.0434,
          14.9756,
          21.8475,
          17.2795,
          15.8565,
          6.0309,
          9.8256,
          23.8832,
          14.0269,
          9.8423,
          13.1165,
          9.3174,
          9.3895,
          21.3249,
          14.9078,
          15.5855,
          10.1375,
          26.0485,
          10.8958,
          22.8291,
          21.4749,
          25.6417,
          17.3082,
          29.5426,
          19.3774,
          10.0003,
          22.233,
          19.735,
          9.5708,
          24.925,
          15.7055,
          10.2287,
          17.8851,
          9.5708,
          13.5901,
          4.4873,
          18.2056,
          20.507,
          20.1928,
          10.8785,
          27.0841,
          18.5902,
          15.0581,
          28.5769,
          24.7125,
          20.324,
          20.7751,
          12.4939,
          8.013,
          22.7314,
          19.9733,
          4.9564,
          10.695,
          15.8338,
          16.9876,
          14.744,
          20.8339,
          14.8496,
          19.7956,
          6.7951,
          12.1798,
          24.2955,
          21.7314,
          14.1029,
          31.8121,
          15.385,
          8.8092,
          12.4939,
          10.7973,
          11.9875,
          6.6027,
          18.2649,
          20.648,
          10.7695,
          23.6737,
          15.4829,
          17.9492,
          18.9108
         ],
         "xaxis": "x",
         "yaxis": "y"
        }
       ],
       "layout": {
        "barmode": "relative",
        "legend": {
         "title": {
          "text": "variable"
         },
         "tracegroupgap": 0
        },
        "margin": {
         "t": 60
        },
        "template": {
         "data": {
          "bar": [
           {
            "error_x": {
             "color": "#2a3f5f"
            },
            "error_y": {
             "color": "#2a3f5f"
            },
            "marker": {
             "line": {
              "color": "#E5ECF6",
              "width": 0.5
             },
             "pattern": {
              "fillmode": "overlay",
              "size": 10,
              "solidity": 0.2
             }
            },
            "type": "bar"
           }
          ],
          "barpolar": [
           {
            "marker": {
             "line": {
              "color": "#E5ECF6",
              "width": 0.5
             },
             "pattern": {
              "fillmode": "overlay",
              "size": 10,
              "solidity": 0.2
             }
            },
            "type": "barpolar"
           }
          ],
          "carpet": [
           {
            "aaxis": {
             "endlinecolor": "#2a3f5f",
             "gridcolor": "white",
             "linecolor": "white",
             "minorgridcolor": "white",
             "startlinecolor": "#2a3f5f"
            },
            "baxis": {
             "endlinecolor": "#2a3f5f",
             "gridcolor": "white",
             "linecolor": "white",
             "minorgridcolor": "white",
             "startlinecolor": "#2a3f5f"
            },
            "type": "carpet"
           }
          ],
          "choropleth": [
           {
            "colorbar": {
             "outlinewidth": 0,
             "ticks": ""
            },
            "type": "choropleth"
           }
          ],
          "contour": [
           {
            "colorbar": {
             "outlinewidth": 0,
             "ticks": ""
            },
            "colorscale": [
             [
              0,
              "#0d0887"
             ],
             [
              0.1111111111111111,
              "#46039f"
             ],
             [
              0.2222222222222222,
              "#7201a8"
             ],
             [
              0.3333333333333333,
              "#9c179e"
             ],
             [
              0.4444444444444444,
              "#bd3786"
             ],
             [
              0.5555555555555556,
              "#d8576b"
             ],
             [
              0.6666666666666666,
              "#ed7953"
             ],
             [
              0.7777777777777778,
              "#fb9f3a"
             ],
             [
              0.8888888888888888,
              "#fdca26"
             ],
             [
              1,
              "#f0f921"
             ]
            ],
            "type": "contour"
           }
          ],
          "contourcarpet": [
           {
            "colorbar": {
             "outlinewidth": 0,
             "ticks": ""
            },
            "type": "contourcarpet"
           }
          ],
          "heatmap": [
           {
            "colorbar": {
             "outlinewidth": 0,
             "ticks": ""
            },
            "colorscale": [
             [
              0,
              "#0d0887"
             ],
             [
              0.1111111111111111,
              "#46039f"
             ],
             [
              0.2222222222222222,
              "#7201a8"
             ],
             [
              0.3333333333333333,
              "#9c179e"
             ],
             [
              0.4444444444444444,
              "#bd3786"
             ],
             [
              0.5555555555555556,
              "#d8576b"
             ],
             [
              0.6666666666666666,
              "#ed7953"
             ],
             [
              0.7777777777777778,
              "#fb9f3a"
             ],
             [
              0.8888888888888888,
              "#fdca26"
             ],
             [
              1,
              "#f0f921"
             ]
            ],
            "type": "heatmap"
           }
          ],
          "heatmapgl": [
           {
            "colorbar": {
             "outlinewidth": 0,
             "ticks": ""
            },
            "colorscale": [
             [
              0,
              "#0d0887"
             ],
             [
              0.1111111111111111,
              "#46039f"
             ],
             [
              0.2222222222222222,
              "#7201a8"
             ],
             [
              0.3333333333333333,
              "#9c179e"
             ],
             [
              0.4444444444444444,
              "#bd3786"
             ],
             [
              0.5555555555555556,
              "#d8576b"
             ],
             [
              0.6666666666666666,
              "#ed7953"
             ],
             [
              0.7777777777777778,
              "#fb9f3a"
             ],
             [
              0.8888888888888888,
              "#fdca26"
             ],
             [
              1,
              "#f0f921"
             ]
            ],
            "type": "heatmapgl"
           }
          ],
          "histogram": [
           {
            "marker": {
             "pattern": {
              "fillmode": "overlay",
              "size": 10,
              "solidity": 0.2
             }
            },
            "type": "histogram"
           }
          ],
          "histogram2d": [
           {
            "colorbar": {
             "outlinewidth": 0,
             "ticks": ""
            },
            "colorscale": [
             [
              0,
              "#0d0887"
             ],
             [
              0.1111111111111111,
              "#46039f"
             ],
             [
              0.2222222222222222,
              "#7201a8"
             ],
             [
              0.3333333333333333,
              "#9c179e"
             ],
             [
              0.4444444444444444,
              "#bd3786"
             ],
             [
              0.5555555555555556,
              "#d8576b"
             ],
             [
              0.6666666666666666,
              "#ed7953"
             ],
             [
              0.7777777777777778,
              "#fb9f3a"
             ],
             [
              0.8888888888888888,
              "#fdca26"
             ],
             [
              1,
              "#f0f921"
             ]
            ],
            "type": "histogram2d"
           }
          ],
          "histogram2dcontour": [
           {
            "colorbar": {
             "outlinewidth": 0,
             "ticks": ""
            },
            "colorscale": [
             [
              0,
              "#0d0887"
             ],
             [
              0.1111111111111111,
              "#46039f"
             ],
             [
              0.2222222222222222,
              "#7201a8"
             ],
             [
              0.3333333333333333,
              "#9c179e"
             ],
             [
              0.4444444444444444,
              "#bd3786"
             ],
             [
              0.5555555555555556,
              "#d8576b"
             ],
             [
              0.6666666666666666,
              "#ed7953"
             ],
             [
              0.7777777777777778,
              "#fb9f3a"
             ],
             [
              0.8888888888888888,
              "#fdca26"
             ],
             [
              1,
              "#f0f921"
             ]
            ],
            "type": "histogram2dcontour"
           }
          ],
          "mesh3d": [
           {
            "colorbar": {
             "outlinewidth": 0,
             "ticks": ""
            },
            "type": "mesh3d"
           }
          ],
          "parcoords": [
           {
            "line": {
             "colorbar": {
              "outlinewidth": 0,
              "ticks": ""
             }
            },
            "type": "parcoords"
           }
          ],
          "pie": [
           {
            "automargin": true,
            "type": "pie"
           }
          ],
          "scatter": [
           {
            "fillpattern": {
             "fillmode": "overlay",
             "size": 10,
             "solidity": 0.2
            },
            "type": "scatter"
           }
          ],
          "scatter3d": [
           {
            "line": {
             "colorbar": {
              "outlinewidth": 0,
              "ticks": ""
             }
            },
            "marker": {
             "colorbar": {
              "outlinewidth": 0,
              "ticks": ""
             }
            },
            "type": "scatter3d"
           }
          ],
          "scattercarpet": [
           {
            "marker": {
             "colorbar": {
              "outlinewidth": 0,
              "ticks": ""
             }
            },
            "type": "scattercarpet"
           }
          ],
          "scattergeo": [
           {
            "marker": {
             "colorbar": {
              "outlinewidth": 0,
              "ticks": ""
             }
            },
            "type": "scattergeo"
           }
          ],
          "scattergl": [
           {
            "marker": {
             "colorbar": {
              "outlinewidth": 0,
              "ticks": ""
             }
            },
            "type": "scattergl"
           }
          ],
          "scattermapbox": [
           {
            "marker": {
             "colorbar": {
              "outlinewidth": 0,
              "ticks": ""
             }
            },
            "type": "scattermapbox"
           }
          ],
          "scatterpolar": [
           {
            "marker": {
             "colorbar": {
              "outlinewidth": 0,
              "ticks": ""
             }
            },
            "type": "scatterpolar"
           }
          ],
          "scatterpolargl": [
           {
            "marker": {
             "colorbar": {
              "outlinewidth": 0,
              "ticks": ""
             }
            },
            "type": "scatterpolargl"
           }
          ],
          "scatterternary": [
           {
            "marker": {
             "colorbar": {
              "outlinewidth": 0,
              "ticks": ""
             }
            },
            "type": "scatterternary"
           }
          ],
          "surface": [
           {
            "colorbar": {
             "outlinewidth": 0,
             "ticks": ""
            },
            "colorscale": [
             [
              0,
              "#0d0887"
             ],
             [
              0.1111111111111111,
              "#46039f"
             ],
             [
              0.2222222222222222,
              "#7201a8"
             ],
             [
              0.3333333333333333,
              "#9c179e"
             ],
             [
              0.4444444444444444,
              "#bd3786"
             ],
             [
              0.5555555555555556,
              "#d8576b"
             ],
             [
              0.6666666666666666,
              "#ed7953"
             ],
             [
              0.7777777777777778,
              "#fb9f3a"
             ],
             [
              0.8888888888888888,
              "#fdca26"
             ],
             [
              1,
              "#f0f921"
             ]
            ],
            "type": "surface"
           }
          ],
          "table": [
           {
            "cells": {
             "fill": {
              "color": "#EBF0F8"
             },
             "line": {
              "color": "white"
             }
            },
            "header": {
             "fill": {
              "color": "#C8D4E3"
             },
             "line": {
              "color": "white"
             }
            },
            "type": "table"
           }
          ]
         },
         "layout": {
          "annotationdefaults": {
           "arrowcolor": "#2a3f5f",
           "arrowhead": 0,
           "arrowwidth": 1
          },
          "autotypenumbers": "strict",
          "coloraxis": {
           "colorbar": {
            "outlinewidth": 0,
            "ticks": ""
           }
          },
          "colorscale": {
           "diverging": [
            [
             0,
             "#8e0152"
            ],
            [
             0.1,
             "#c51b7d"
            ],
            [
             0.2,
             "#de77ae"
            ],
            [
             0.3,
             "#f1b6da"
            ],
            [
             0.4,
             "#fde0ef"
            ],
            [
             0.5,
             "#f7f7f7"
            ],
            [
             0.6,
             "#e6f5d0"
            ],
            [
             0.7,
             "#b8e186"
            ],
            [
             0.8,
             "#7fbc41"
            ],
            [
             0.9,
             "#4d9221"
            ],
            [
             1,
             "#276419"
            ]
           ],
           "sequential": [
            [
             0,
             "#0d0887"
            ],
            [
             0.1111111111111111,
             "#46039f"
            ],
            [
             0.2222222222222222,
             "#7201a8"
            ],
            [
             0.3333333333333333,
             "#9c179e"
            ],
            [
             0.4444444444444444,
             "#bd3786"
            ],
            [
             0.5555555555555556,
             "#d8576b"
            ],
            [
             0.6666666666666666,
             "#ed7953"
            ],
            [
             0.7777777777777778,
             "#fb9f3a"
            ],
            [
             0.8888888888888888,
             "#fdca26"
            ],
            [
             1,
             "#f0f921"
            ]
           ],
           "sequentialminus": [
            [
             0,
             "#0d0887"
            ],
            [
             0.1111111111111111,
             "#46039f"
            ],
            [
             0.2222222222222222,
             "#7201a8"
            ],
            [
             0.3333333333333333,
             "#9c179e"
            ],
            [
             0.4444444444444444,
             "#bd3786"
            ],
            [
             0.5555555555555556,
             "#d8576b"
            ],
            [
             0.6666666666666666,
             "#ed7953"
            ],
            [
             0.7777777777777778,
             "#fb9f3a"
            ],
            [
             0.8888888888888888,
             "#fdca26"
            ],
            [
             1,
             "#f0f921"
            ]
           ]
          },
          "colorway": [
           "#636efa",
           "#EF553B",
           "#00cc96",
           "#ab63fa",
           "#FFA15A",
           "#19d3f3",
           "#FF6692",
           "#B6E880",
           "#FF97FF",
           "#FECB52"
          ],
          "font": {
           "color": "#2a3f5f"
          },
          "geo": {
           "bgcolor": "white",
           "lakecolor": "white",
           "landcolor": "#E5ECF6",
           "showlakes": true,
           "showland": true,
           "subunitcolor": "white"
          },
          "hoverlabel": {
           "align": "left"
          },
          "hovermode": "closest",
          "mapbox": {
           "style": "light"
          },
          "paper_bgcolor": "white",
          "plot_bgcolor": "#E5ECF6",
          "polar": {
           "angularaxis": {
            "gridcolor": "white",
            "linecolor": "white",
            "ticks": ""
           },
           "bgcolor": "#E5ECF6",
           "radialaxis": {
            "gridcolor": "white",
            "linecolor": "white",
            "ticks": ""
           }
          },
          "scene": {
           "xaxis": {
            "backgroundcolor": "#E5ECF6",
            "gridcolor": "white",
            "gridwidth": 2,
            "linecolor": "white",
            "showbackground": true,
            "ticks": "",
            "zerolinecolor": "white"
           },
           "yaxis": {
            "backgroundcolor": "#E5ECF6",
            "gridcolor": "white",
            "gridwidth": 2,
            "linecolor": "white",
            "showbackground": true,
            "ticks": "",
            "zerolinecolor": "white"
           },
           "zaxis": {
            "backgroundcolor": "#E5ECF6",
            "gridcolor": "white",
            "gridwidth": 2,
            "linecolor": "white",
            "showbackground": true,
            "ticks": "",
            "zerolinecolor": "white"
           }
          },
          "shapedefaults": {
           "line": {
            "color": "#2a3f5f"
           }
          },
          "ternary": {
           "aaxis": {
            "gridcolor": "white",
            "linecolor": "white",
            "ticks": ""
           },
           "baxis": {
            "gridcolor": "white",
            "linecolor": "white",
            "ticks": ""
           },
           "bgcolor": "#E5ECF6",
           "caxis": {
            "gridcolor": "white",
            "linecolor": "white",
            "ticks": ""
           }
          },
          "title": {
           "x": 0.05
          },
          "xaxis": {
           "automargin": true,
           "gridcolor": "white",
           "linecolor": "white",
           "ticks": "",
           "title": {
            "standoff": 15
           },
           "zerolinecolor": "white",
           "zerolinewidth": 2
          },
          "yaxis": {
           "automargin": true,
           "gridcolor": "white",
           "linecolor": "white",
           "ticks": "",
           "title": {
            "standoff": 15
           },
           "zerolinecolor": "white",
           "zerolinewidth": 2
          }
         }
        },
        "xaxis": {
         "anchor": "y",
         "domain": [
          0,
          1
         ],
         "title": {
          "text": "value"
         }
        },
        "yaxis": {
         "anchor": "x",
         "domain": [
          0,
          1
         ],
         "title": {
          "text": "count"
         }
        }
       }
      },
      "text/html": [
       "<div>                            <div id=\"1ec765be-3550-41ee-947f-18264e846c5e\" class=\"plotly-graph-div\" style=\"height:525px; width:100%;\"></div>            <script type=\"text/javascript\">                require([\"plotly\"], function(Plotly) {                    window.PLOTLYENV=window.PLOTLYENV || {};                                    if (document.getElementById(\"1ec765be-3550-41ee-947f-18264e846c5e\")) {                    Plotly.newPlot(                        \"1ec765be-3550-41ee-947f-18264e846c5e\",                        [{\"alignmentgroup\":\"True\",\"bingroup\":\"x\",\"hovertemplate\":\"variable=Price<br>value=%{x}<br>count=%{y}<extra></extra>\",\"legendgroup\":\"Price\",\"marker\":{\"color\":\"#636efa\",\"pattern\":{\"shape\":\"\"}},\"name\":\"Price\",\"offsetgroup\":\"Price\",\"orientation\":\"v\",\"showlegend\":true,\"x\":[14.2212,13.4865,11.8007,13.8297,12.947,20.6512,5.0709,10.8794,6.8353,12.3266,30.9808,15.7946,8.0248,13.5708,17.3723,14.051,12.2221,15.1917,23.5105,25.9999,21.1517,10.2068,12.844,11.5659,14.5583,11.6289,23.8792,22.1925,31.0696,13.9079,10.9578,6.5325,8.9893,8.7588,13.2311,13.1411,15.8863,13.049,8.8207,17.8767,14.8246,20.5073,18.5323,7.1904,8.2556,19.9684,12.2221,8.1762,8.4291,20.6512,10.5363,4.5004,6.2105,10.3508,15.7513,7.9893,8.877,11.5312,11.8952,10.3861,11.2649,12.7385,15.3129,14.3808,13.3067,22.6742,9.8652,11.1394,10.1418,13.9219,11.5248,9.9574,22.4818,10.8459,10.7919,4.5904,8.3617,15.4723,10.1258,11.8949,12.8717,13.6379,12.4367,6.2938,17.2016,10.6524,14.7412,11.1221,7.5862,10.9578,11.9166,18.5318,10.4749,4.4674,8.054,9.3773,10.9999,1.6858,11.4326,10.6524,16.0995,13.9079,5.9003,14.7425,14.4695,13.0229,11.984,12.9723,13.3595,12.6311,16.7693,10.3958,15.5488,15.2112,22.8619,13.9435,16.1923,26.1011,12.0115,15.3013,29.8923,27.1791,12.6498,26.7731,18.1979,14.5663,12.8273,10.6524,10.1997,11.0963,14.7625,11.6321,19.488,14.3294,38.7652,24.089,26.046,9.0354,19.2694,10.2801,7.9567,10.1708,16.2913,7.5606,17.5874,15.9313,20.7237,20.5397,7.9116,16.1923,13.3155,15.9786,10.2405,11.4514,16.2006,9.3815,18.114,13.7309,13.6551,10.7049,16.3524,18.114,31.712,7.7547,8.1762,14.7517,26.3226,16.3191,12.592,16.4623,16.1562,16.3781,23.5152,12.0639,12.3834,7.6342,7.9982,6.9152,7.1647,14.0765,9.1792,13.4865,13.9079,24.4443,16.2091,26.3226,12.601,17.3102,12.0639,13.9079,18.9654,8.9432,19.6317,20.9122,14.0602,17.0567,11.1875,22.5885,16.3652,11.9858,21.283,14.2907,19.3524,18.9836,15.4432,24.8204,17.5514,29.7024,17.5514,20.1616,17.2814,23.2894,16.9124,23.2219,24.752,22.4928,29.4133,22.8806,17.06,17.5784,22.9055,15.7513,30.875,20.2157,24.1885,29.738,11.9751,17.5321,15.3129,15.6679,10.2086,14.9933,22.8375,26.1872,16.1118,19.0856,14.0701,36.8396,25.0976,18.0032,33.2888,17.7452,21.9262,25.4327,19.7105,16.6888,11.5401,20.861,10.7892,14.3294,28.2373,23.9301,14.321,37.9678,22.1263,11.1264,25.2872,17.2315,18.2068,9.4405,2.613,30.8218,11.7164,17.3639,28.2289,19.8083,10.0306,18.1225,10.3677,8.6651,9.6934,13.065,10.5843,11.4513,16.0426,10.5363,18.9995,10.4084,21.0081,13.7508,11.1436,7.4422,10.7912,12.3757,13.98,7.7921,14.5123,10.4412,39.1842,11.8468,17.6698,6.3852,21.2103,14.6611,11.3444,4.763,6.3101,5.1183,9.2436,11.4513,17.7604,26.9063,12.7303,13.3612,13.7508,14.5147,10.7306,26.0228,10.4412,12.0476,11.8409,14.6611,8.556,20.5498,16.3478,13.754,11.6862,10.9633,15.6606,13.9418,12.2229,17.9524,11.1633,13.4266,13.0239,12.168,19.9187,12.6311,26.5637,22.9915,16.1473,15.0909,28.736,18.9912,10.904,14.4561,9.0678,8.9955,12.2082,8.4333,14.4571,18.0803,19.8622,12.0192,16.3102,18.4515,18.9654,13.582,15.0022,18.9776,19.6603,16.1839,20.2836,15.6797,22.2198,10.3262,25.3545,11.617,11.2509,35.5529,20.4643,13.5011,10.6659,32.3819,13.5011,12.601,21.6018,44.6436,13.3155,14.6471,32.9484,11.0963,30.0931,25.5303,15.0909,18.4109,17.3446,12.774,21.3048,11.407,20.5947,20.9226,13.4378,11.3371,26.1301,21.8734,25.4944,14.3252,9.9463,12.3064,24.3305,21.2846,37.8465,26.3408,18.9654,35.7384,26.5515,16.8497,13.2088,13.0518,9.2519,22.9761,23.1298,15.2822,22.4888,24.4124,14.8989,23.6936,26.1031,24.6976,12.0476,16.8065,17.3794,21.3901,21.7797,17.1885,28.6474,17.494,26.1647,13.8424,14.8967,20.094,23.4429,33.3411,24.7639,12.2796,27.9083,17.7124,16.0007,15.4798,37.3227,12.2257,16.5213,12.804,12.0476,6.4174,12.4492,11.1534,11.459,9.7783,6.4552,11.4238,5.7678,8.9232,7.2189,21.0081,12.6049,9.879,10.3408,10.2806,15.9843,11.1353,23.4954,10.3256,8.158,22.918,11.6882,15.4238,10.0839,12.2257,12.804,10.2806,23.6055,9.1672,13.0757,20.0793,20.2836,6.0238,4.0932,9.2519,14.8692,12.391,10.3258,39.4532,18.7104,9.7476,12.5562,20.8048,33.4556,13.4933,17.814,34.5364,28.55,22.8904,20.7018,25.7015,16.0635,32.9221,13.6499,12.1279,24.0952,34.0545,17.6846,31.2448,31.4912,17.1885,22.5742,24.0639,23.6742,9.9311,13.6192,22.3266,13.3215,7.765,15.0505,16.9343,11.5566,15.4528,21.8184,36.6772,19.999,30.3599,9.4774,9.8389,11.0115,16.0349,7.5094,15.2404,15.4314,9.9311,11.077,15.737,14.8203,8.5585,13.7606,11.0889,9.6004,11.9001,7.4421,14.5123,16.3728,19.3497,7.3892,11.3367,16.2984,20.28,8.4291,9.8632,15.5713,14.6626,9.2932,16.4419,21.8184,17.4208,20.0713,10.2003,8.5939,21.0672,9.8389,10.2806,11.1239,10.0397,11.7703,15.2786,8.7852,18.067,5.5817,23.0708,9.3846,24.3276,22.6304,11.9784,10.8478,15.4696,19.8622,16.7776,8.4291,12.6436,12.9609,13.7127,27.7235,20.9555,10.1193,10.4084,9.9045,33.4556,18.6605,21.0646,23.0414,20.8253,10.4084,9.4584,23.3155,22.7994,11.5649,13.7044,26.1846,16.8739,23.6936,19.7581,29.7174,15.5414,14.176,21.4367,14.6981,26.826,6.9876,14.3768,13.0917,18.7701,24.0872,20.6415,19.179,31.2434,21.7226,17.6618,15.2786,19.0983,9.9082,14.8585,12.9868,30.4045,26.5848,18.7087,22.0776,16.119,18.4108,17.9524,24.4382,21.3137,24.4441,26.3938,27.1578,11.9937,14.0945,23.6819,9.1672,9.32,11.8409,18.0288,8.7852,23.7583,35.7138,19.8622,14.8967,13.3688,15.653,17.876,10.3633,18.2334,20.4661,7.4422,16.1496,8.9306,15.2491,16.0007,21.2103,17.1171,17.1171,16.2612,9.526,13.0239,12.5029,13.7681,17.5084,32.8491,28.2655,29.2524,14.0658,21.5824,16.5957,17.7998,26.0887,32.5262,11.4827,9.6958,10.4339,14.6609,15.0798,20.7347,19.99,13.3199,16.7253,9.7682,7.917,11.2877,7.8191,11.0738,10.1227,6.9463,16.7319,15.195,18.8497,10.8002,10.4371,6.9814,11.6938,20.0791,16.2631,16.6222,14.6978,15.682,17.0534,20.9371,15.359,12.4585,12.2044,22.4668,11.6589,17.9572,19.0444,21.3249,18.1399,19.3565,14.8231,33.7918,12.4669,16.7975,9.0446,10.123,9.1386,14.9078,12.1973,12.3827,10.9259,10.7766,19.1746,14.6161,14.0238,10.7513,15.743,33.0219,43.2845,24.0857,25.1259,16.9647,20.595,33.8596,26.8783,11.8585,11.374,25.7499,15.2466,11.4519,24.7839,18.1516,13.8914,10.8421,10.7411,16.6019,9.3174,23.1749,13.722,27.9522,25.0723,14.2057,11.1546,26.2461,29.8549,15.6164,18.3657,16.0692,14.7634,23.6215,10.9249,13.9104,10.4328,10.4984,9.0446,14.242,5.236,11.3796,10.4267,12.9427,15.195,17.2789,13.5526,14.8401,6.5615,28.3851,13.0782,13.5526,18.4315,14.6329,5.5851,11.1809,8.8092,2.6049,11.1702,23.2989,23.562,11.9389,11.2153,20.2527,15.0502,18.8497,12.9155,11.7287,20.9371,9.9903,20.595,12.7055,31.1709,14.2302,17.7539,27.7828,19.6512,10.4984,15.7411,29.5268,20.2751,10.4984,15.5929,22.6705,27.1339,12.6082,11.36,10.4556,16.7145,10.6365,23.8951,11.6589,17.0345,21.8517,9.7739,10.5035,23.3876,10.4651,21.2932,27.8906,16.0571,18.4315,10.0967,22.0261,18.9665,24.059,16.9407,12.7394,22.2576,20.051,15.5787,18.6348,21.7868,20.8635,8.2019,18.3066,23.6215,15.0849,17.8216,19.6846,13.5167,6.555,14.3697,11.2153,16.331,11.7907,4.9211,18.7003,13.5823,11.3514,10.253,7.5975,12.8434,18.5487,12.6082,9.8333,10.4556,15.7081,9.2852,23.8951,24.2952,7.5399,22.0765,16.3992,23.3876,16.0571,25.1699,10.2626,20.3478,35.4739,18.4654,12.5361,23.7062,15.5787,23.6829,10.7743,21.0743,21.6841,11.8517,11.6795,15.8789,20.0126,17.8216,10.1375,10.3672,11.0234,20.6931,8.9893,3.1113,5.9043,9.4064,5.0483,25.3433,14.4335,5.421,9.3895,13.0574,9.4486,10.9577,25.3973,32.633,28.4154,11.5771,20.1876,9.9491,15.195,27.8936,10.123,22.3055,23.7716,18.0817,10.123,18.1516,19.1988,18.361,23.7367,29.6708,27.2902,19.6875,13.9627,12.9155,19.8969,20.595,20.8743,11.24,17.4534,10.6117,10.7743,15.4499,13.6203,37.9472,18.9736,30.8253,13.4171,12.0279,11.2825,25.14,12.5361,9.4868,11.0182,18.0927,23.3714,17.2795,15.0772,32.9328,8.8092,18.7026,13.2138,16.3986,15.992,15.0434,21.653,26.2461,20.6688,19.0284,15.7476,34.7761,26.2461,19.4877,16.6335,19.3565,23.2934,10.8593,12.4013,10.0938,9.4064,10.9042,15.9175,9.4667,15.0434,14.9756,21.8475,17.2795,15.8565,6.0309,9.8256,23.8832,14.0269,9.8423,13.1165,9.3174,9.3895,21.3249,14.9078,15.5855,10.1375,26.0485,10.8958,22.8291,21.4749,25.6417,17.3082,29.5426,19.3774,10.0003,22.233,19.735,9.5708,24.925,15.7055,10.2287,17.8851,9.5708,13.5901,4.4873,18.2056,20.507,20.1928,10.8785,27.0841,18.5902,15.0581,28.5769,24.7125,20.324,20.7751,12.4939,8.013,22.7314,19.9733,4.9564,10.695,15.8338,16.9876,14.744,20.8339,14.8496,19.7956,6.7951,12.1798,24.2955,21.7314,14.1029,31.8121,15.385,8.8092,12.4939,10.7973,11.9875,6.6027,18.2649,20.648,10.7695,23.6737,15.4829,17.9492,18.9108],\"xaxis\":\"x\",\"yaxis\":\"y\",\"type\":\"histogram\"}],                        {\"template\":{\"data\":{\"histogram2dcontour\":[{\"type\":\"histogram2dcontour\",\"colorbar\":{\"outlinewidth\":0,\"ticks\":\"\"},\"colorscale\":[[0.0,\"#0d0887\"],[0.1111111111111111,\"#46039f\"],[0.2222222222222222,\"#7201a8\"],[0.3333333333333333,\"#9c179e\"],[0.4444444444444444,\"#bd3786\"],[0.5555555555555556,\"#d8576b\"],[0.6666666666666666,\"#ed7953\"],[0.7777777777777778,\"#fb9f3a\"],[0.8888888888888888,\"#fdca26\"],[1.0,\"#f0f921\"]]}],\"choropleth\":[{\"type\":\"choropleth\",\"colorbar\":{\"outlinewidth\":0,\"ticks\":\"\"}}],\"histogram2d\":[{\"type\":\"histogram2d\",\"colorbar\":{\"outlinewidth\":0,\"ticks\":\"\"},\"colorscale\":[[0.0,\"#0d0887\"],[0.1111111111111111,\"#46039f\"],[0.2222222222222222,\"#7201a8\"],[0.3333333333333333,\"#9c179e\"],[0.4444444444444444,\"#bd3786\"],[0.5555555555555556,\"#d8576b\"],[0.6666666666666666,\"#ed7953\"],[0.7777777777777778,\"#fb9f3a\"],[0.8888888888888888,\"#fdca26\"],[1.0,\"#f0f921\"]]}],\"heatmap\":[{\"type\":\"heatmap\",\"colorbar\":{\"outlinewidth\":0,\"ticks\":\"\"},\"colorscale\":[[0.0,\"#0d0887\"],[0.1111111111111111,\"#46039f\"],[0.2222222222222222,\"#7201a8\"],[0.3333333333333333,\"#9c179e\"],[0.4444444444444444,\"#bd3786\"],[0.5555555555555556,\"#d8576b\"],[0.6666666666666666,\"#ed7953\"],[0.7777777777777778,\"#fb9f3a\"],[0.8888888888888888,\"#fdca26\"],[1.0,\"#f0f921\"]]}],\"heatmapgl\":[{\"type\":\"heatmapgl\",\"colorbar\":{\"outlinewidth\":0,\"ticks\":\"\"},\"colorscale\":[[0.0,\"#0d0887\"],[0.1111111111111111,\"#46039f\"],[0.2222222222222222,\"#7201a8\"],[0.3333333333333333,\"#9c179e\"],[0.4444444444444444,\"#bd3786\"],[0.5555555555555556,\"#d8576b\"],[0.6666666666666666,\"#ed7953\"],[0.7777777777777778,\"#fb9f3a\"],[0.8888888888888888,\"#fdca26\"],[1.0,\"#f0f921\"]]}],\"contourcarpet\":[{\"type\":\"contourcarpet\",\"colorbar\":{\"outlinewidth\":0,\"ticks\":\"\"}}],\"contour\":[{\"type\":\"contour\",\"colorbar\":{\"outlinewidth\":0,\"ticks\":\"\"},\"colorscale\":[[0.0,\"#0d0887\"],[0.1111111111111111,\"#46039f\"],[0.2222222222222222,\"#7201a8\"],[0.3333333333333333,\"#9c179e\"],[0.4444444444444444,\"#bd3786\"],[0.5555555555555556,\"#d8576b\"],[0.6666666666666666,\"#ed7953\"],[0.7777777777777778,\"#fb9f3a\"],[0.8888888888888888,\"#fdca26\"],[1.0,\"#f0f921\"]]}],\"surface\":[{\"type\":\"surface\",\"colorbar\":{\"outlinewidth\":0,\"ticks\":\"\"},\"colorscale\":[[0.0,\"#0d0887\"],[0.1111111111111111,\"#46039f\"],[0.2222222222222222,\"#7201a8\"],[0.3333333333333333,\"#9c179e\"],[0.4444444444444444,\"#bd3786\"],[0.5555555555555556,\"#d8576b\"],[0.6666666666666666,\"#ed7953\"],[0.7777777777777778,\"#fb9f3a\"],[0.8888888888888888,\"#fdca26\"],[1.0,\"#f0f921\"]]}],\"mesh3d\":[{\"type\":\"mesh3d\",\"colorbar\":{\"outlinewidth\":0,\"ticks\":\"\"}}],\"scatter\":[{\"fillpattern\":{\"fillmode\":\"overlay\",\"size\":10,\"solidity\":0.2},\"type\":\"scatter\"}],\"parcoords\":[{\"type\":\"parcoords\",\"line\":{\"colorbar\":{\"outlinewidth\":0,\"ticks\":\"\"}}}],\"scatterpolargl\":[{\"type\":\"scatterpolargl\",\"marker\":{\"colorbar\":{\"outlinewidth\":0,\"ticks\":\"\"}}}],\"bar\":[{\"error_x\":{\"color\":\"#2a3f5f\"},\"error_y\":{\"color\":\"#2a3f5f\"},\"marker\":{\"line\":{\"color\":\"#E5ECF6\",\"width\":0.5},\"pattern\":{\"fillmode\":\"overlay\",\"size\":10,\"solidity\":0.2}},\"type\":\"bar\"}],\"scattergeo\":[{\"type\":\"scattergeo\",\"marker\":{\"colorbar\":{\"outlinewidth\":0,\"ticks\":\"\"}}}],\"scatterpolar\":[{\"type\":\"scatterpolar\",\"marker\":{\"colorbar\":{\"outlinewidth\":0,\"ticks\":\"\"}}}],\"histogram\":[{\"marker\":{\"pattern\":{\"fillmode\":\"overlay\",\"size\":10,\"solidity\":0.2}},\"type\":\"histogram\"}],\"scattergl\":[{\"type\":\"scattergl\",\"marker\":{\"colorbar\":{\"outlinewidth\":0,\"ticks\":\"\"}}}],\"scatter3d\":[{\"type\":\"scatter3d\",\"line\":{\"colorbar\":{\"outlinewidth\":0,\"ticks\":\"\"}},\"marker\":{\"colorbar\":{\"outlinewidth\":0,\"ticks\":\"\"}}}],\"scattermapbox\":[{\"type\":\"scattermapbox\",\"marker\":{\"colorbar\":{\"outlinewidth\":0,\"ticks\":\"\"}}}],\"scatterternary\":[{\"type\":\"scatterternary\",\"marker\":{\"colorbar\":{\"outlinewidth\":0,\"ticks\":\"\"}}}],\"scattercarpet\":[{\"type\":\"scattercarpet\",\"marker\":{\"colorbar\":{\"outlinewidth\":0,\"ticks\":\"\"}}}],\"carpet\":[{\"aaxis\":{\"endlinecolor\":\"#2a3f5f\",\"gridcolor\":\"white\",\"linecolor\":\"white\",\"minorgridcolor\":\"white\",\"startlinecolor\":\"#2a3f5f\"},\"baxis\":{\"endlinecolor\":\"#2a3f5f\",\"gridcolor\":\"white\",\"linecolor\":\"white\",\"minorgridcolor\":\"white\",\"startlinecolor\":\"#2a3f5f\"},\"type\":\"carpet\"}],\"table\":[{\"cells\":{\"fill\":{\"color\":\"#EBF0F8\"},\"line\":{\"color\":\"white\"}},\"header\":{\"fill\":{\"color\":\"#C8D4E3\"},\"line\":{\"color\":\"white\"}},\"type\":\"table\"}],\"barpolar\":[{\"marker\":{\"line\":{\"color\":\"#E5ECF6\",\"width\":0.5},\"pattern\":{\"fillmode\":\"overlay\",\"size\":10,\"solidity\":0.2}},\"type\":\"barpolar\"}],\"pie\":[{\"automargin\":true,\"type\":\"pie\"}]},\"layout\":{\"autotypenumbers\":\"strict\",\"colorway\":[\"#636efa\",\"#EF553B\",\"#00cc96\",\"#ab63fa\",\"#FFA15A\",\"#19d3f3\",\"#FF6692\",\"#B6E880\",\"#FF97FF\",\"#FECB52\"],\"font\":{\"color\":\"#2a3f5f\"},\"hovermode\":\"closest\",\"hoverlabel\":{\"align\":\"left\"},\"paper_bgcolor\":\"white\",\"plot_bgcolor\":\"#E5ECF6\",\"polar\":{\"bgcolor\":\"#E5ECF6\",\"angularaxis\":{\"gridcolor\":\"white\",\"linecolor\":\"white\",\"ticks\":\"\"},\"radialaxis\":{\"gridcolor\":\"white\",\"linecolor\":\"white\",\"ticks\":\"\"}},\"ternary\":{\"bgcolor\":\"#E5ECF6\",\"aaxis\":{\"gridcolor\":\"white\",\"linecolor\":\"white\",\"ticks\":\"\"},\"baxis\":{\"gridcolor\":\"white\",\"linecolor\":\"white\",\"ticks\":\"\"},\"caxis\":{\"gridcolor\":\"white\",\"linecolor\":\"white\",\"ticks\":\"\"}},\"coloraxis\":{\"colorbar\":{\"outlinewidth\":0,\"ticks\":\"\"}},\"colorscale\":{\"sequential\":[[0.0,\"#0d0887\"],[0.1111111111111111,\"#46039f\"],[0.2222222222222222,\"#7201a8\"],[0.3333333333333333,\"#9c179e\"],[0.4444444444444444,\"#bd3786\"],[0.5555555555555556,\"#d8576b\"],[0.6666666666666666,\"#ed7953\"],[0.7777777777777778,\"#fb9f3a\"],[0.8888888888888888,\"#fdca26\"],[1.0,\"#f0f921\"]],\"sequentialminus\":[[0.0,\"#0d0887\"],[0.1111111111111111,\"#46039f\"],[0.2222222222222222,\"#7201a8\"],[0.3333333333333333,\"#9c179e\"],[0.4444444444444444,\"#bd3786\"],[0.5555555555555556,\"#d8576b\"],[0.6666666666666666,\"#ed7953\"],[0.7777777777777778,\"#fb9f3a\"],[0.8888888888888888,\"#fdca26\"],[1.0,\"#f0f921\"]],\"diverging\":[[0,\"#8e0152\"],[0.1,\"#c51b7d\"],[0.2,\"#de77ae\"],[0.3,\"#f1b6da\"],[0.4,\"#fde0ef\"],[0.5,\"#f7f7f7\"],[0.6,\"#e6f5d0\"],[0.7,\"#b8e186\"],[0.8,\"#7fbc41\"],[0.9,\"#4d9221\"],[1,\"#276419\"]]},\"xaxis\":{\"gridcolor\":\"white\",\"linecolor\":\"white\",\"ticks\":\"\",\"title\":{\"standoff\":15},\"zerolinecolor\":\"white\",\"automargin\":true,\"zerolinewidth\":2},\"yaxis\":{\"gridcolor\":\"white\",\"linecolor\":\"white\",\"ticks\":\"\",\"title\":{\"standoff\":15},\"zerolinecolor\":\"white\",\"automargin\":true,\"zerolinewidth\":2},\"scene\":{\"xaxis\":{\"backgroundcolor\":\"#E5ECF6\",\"gridcolor\":\"white\",\"linecolor\":\"white\",\"showbackground\":true,\"ticks\":\"\",\"zerolinecolor\":\"white\",\"gridwidth\":2},\"yaxis\":{\"backgroundcolor\":\"#E5ECF6\",\"gridcolor\":\"white\",\"linecolor\":\"white\",\"showbackground\":true,\"ticks\":\"\",\"zerolinecolor\":\"white\",\"gridwidth\":2},\"zaxis\":{\"backgroundcolor\":\"#E5ECF6\",\"gridcolor\":\"white\",\"linecolor\":\"white\",\"showbackground\":true,\"ticks\":\"\",\"zerolinecolor\":\"white\",\"gridwidth\":2}},\"shapedefaults\":{\"line\":{\"color\":\"#2a3f5f\"}},\"annotationdefaults\":{\"arrowcolor\":\"#2a3f5f\",\"arrowhead\":0,\"arrowwidth\":1},\"geo\":{\"bgcolor\":\"white\",\"landcolor\":\"#E5ECF6\",\"subunitcolor\":\"white\",\"showland\":true,\"showlakes\":true,\"lakecolor\":\"white\"},\"title\":{\"x\":0.05},\"mapbox\":{\"style\":\"light\"}}},\"xaxis\":{\"anchor\":\"y\",\"domain\":[0.0,1.0],\"title\":{\"text\":\"value\"}},\"yaxis\":{\"anchor\":\"x\",\"domain\":[0.0,1.0],\"title\":{\"text\":\"count\"}},\"legend\":{\"title\":{\"text\":\"variable\"},\"tracegroupgap\":0},\"margin\":{\"t\":60},\"barmode\":\"relative\"},                        {\"responsive\": true}                    ).then(function(){\n",
       "                            \n",
       "var gd = document.getElementById('1ec765be-3550-41ee-947f-18264e846c5e');\n",
       "var x = new MutationObserver(function (mutations, observer) {{\n",
       "        var display = window.getComputedStyle(gd).display;\n",
       "        if (!display || display === 'none') {{\n",
       "            console.log([gd, 'removed!']);\n",
       "            Plotly.purge(gd);\n",
       "            observer.disconnect();\n",
       "        }}\n",
       "}});\n",
       "\n",
       "// Listen for the removal of the full notebook cells\n",
       "var notebookContainer = gd.closest('#notebook-container');\n",
       "if (notebookContainer) {{\n",
       "    x.observe(notebookContainer, {childList: true});\n",
       "}}\n",
       "\n",
       "// Listen for the clearing of the current output cell\n",
       "var outputEl = gd.closest('.output');\n",
       "if (outputEl) {{\n",
       "    x.observe(outputEl, {childList: true});\n",
       "}}\n",
       "\n",
       "                        })                };                });            </script>        </div>"
      ]
     },
     "metadata": {},
     "output_type": "display_data"
    }
   ],
   "source": [
    "columns=['Living Area','Bathrooms','Bedrooms','Lot Size','Age','Fireplace','Price']\n",
    "for i in columns:\n",
    "    fig=px.histogram(data[i])\n",
    "    fig.show()"
   ]
  },
  {
   "cell_type": "code",
   "execution_count": 68,
   "id": "3f2ed141",
   "metadata": {},
   "outputs": [
    {
     "data": {
      "text/plain": [
       "<Axes: ylabel='Density'>"
      ]
     },
     "execution_count": 68,
     "metadata": {},
     "output_type": "execute_result"
    },
    {
     "data": {
      "image/png": "[encoded data removed]",
      "text/plain": [
       "<Figure size 640x480 with 1 Axes>"
      ]
     },
     "metadata": {},
     "output_type": "display_data"
    }
   ],
   "source": [
    "sns.distplot(data)"
   ]
  },
  {
   "cell_type": "code",
   "execution_count": 5,
   "id": "67fc87b9",
   "metadata": {},
   "outputs": [
    {
     "data": {
      "text/plain": [
       "Living Area    0\n",
       "Bathrooms      0\n",
       "Bedrooms       0\n",
       "Lot Size       0\n",
       "Age            0\n",
       "Fireplace      0\n",
       "Price          0\n",
       "dtype: int64"
      ]
     },
     "execution_count": 5,
     "metadata": {},
     "output_type": "execute_result"
    }
   ],
   "source": [
    "data.isnull().sum()"
   ]
  },
  {
   "cell_type": "code",
   "execution_count": null,
   "id": "67ee4479",
   "metadata": {},
   "outputs": [],
   "source": []
  },
  {
   "cell_type": "code",
   "execution_count": 69,
   "id": "ff65771d",
   "metadata": {},
   "outputs": [],
   "source": [
    "x=data.iloc[:,:-1]\n",
    "y=data.iloc[:,-1]"
   ]
  },
  {
   "cell_type": "code",
   "execution_count": 70,
   "id": "30c7fee2",
   "metadata": {},
   "outputs": [
    {
     "data": {
      "text/html": [
       "<div>\n",
       "<style scoped>\n",
       "    .dataframe tbody tr th:only-of-type {\n",
       "        vertical-align: middle;\n",
       "    }\n",
       "\n",
       "    .dataframe tbody tr th {\n",
       "        vertical-align: top;\n",
       "    }\n",
       "\n",
       "    .dataframe thead th {\n",
       "        text-align: right;\n",
       "    }\n",
       "</style>\n",
       "<table border=\"1\" class=\"dataframe\">\n",
       "  <thead>\n",
       "    <tr style=\"text-align: right;\">\n",
       "      <th></th>\n",
       "      <th>Living Area</th>\n",
       "      <th>Bathrooms</th>\n",
       "      <th>Bedrooms</th>\n",
       "      <th>Lot Size</th>\n",
       "      <th>Age</th>\n",
       "      <th>Fireplace</th>\n",
       "    </tr>\n",
       "  </thead>\n",
       "  <tbody>\n",
       "    <tr>\n",
       "      <th>0</th>\n",
       "      <td>1.982</td>\n",
       "      <td>1.0</td>\n",
       "      <td>3</td>\n",
       "      <td>2.00</td>\n",
       "      <td>133</td>\n",
       "      <td>0</td>\n",
       "    </tr>\n",
       "    <tr>\n",
       "      <th>1</th>\n",
       "      <td>1.676</td>\n",
       "      <td>1.5</td>\n",
       "      <td>3</td>\n",
       "      <td>0.38</td>\n",
       "      <td>14</td>\n",
       "      <td>1</td>\n",
       "    </tr>\n",
       "    <tr>\n",
       "      <th>2</th>\n",
       "      <td>1.694</td>\n",
       "      <td>2.0</td>\n",
       "      <td>3</td>\n",
       "      <td>0.96</td>\n",
       "      <td>15</td>\n",
       "      <td>1</td>\n",
       "    </tr>\n",
       "    <tr>\n",
       "      <th>3</th>\n",
       "      <td>1.800</td>\n",
       "      <td>1.0</td>\n",
       "      <td>2</td>\n",
       "      <td>0.48</td>\n",
       "      <td>49</td>\n",
       "      <td>1</td>\n",
       "    </tr>\n",
       "    <tr>\n",
       "      <th>4</th>\n",
       "      <td>2.088</td>\n",
       "      <td>1.0</td>\n",
       "      <td>3</td>\n",
       "      <td>1.84</td>\n",
       "      <td>29</td>\n",
       "      <td>1</td>\n",
       "    </tr>\n",
       "    <tr>\n",
       "      <th>...</th>\n",
       "      <td>...</td>\n",
       "      <td>...</td>\n",
       "      <td>...</td>\n",
       "      <td>...</td>\n",
       "      <td>...</td>\n",
       "      <td>...</td>\n",
       "    </tr>\n",
       "    <tr>\n",
       "      <th>1042</th>\n",
       "      <td>1.802</td>\n",
       "      <td>2.0</td>\n",
       "      <td>4</td>\n",
       "      <td>0.97</td>\n",
       "      <td>56</td>\n",
       "      <td>1</td>\n",
       "    </tr>\n",
       "    <tr>\n",
       "      <th>1043</th>\n",
       "      <td>3.239</td>\n",
       "      <td>3.5</td>\n",
       "      <td>4</td>\n",
       "      <td>2.50</td>\n",
       "      <td>1</td>\n",
       "      <td>1</td>\n",
       "    </tr>\n",
       "    <tr>\n",
       "      <th>1044</th>\n",
       "      <td>1.440</td>\n",
       "      <td>2.0</td>\n",
       "      <td>2</td>\n",
       "      <td>0.61</td>\n",
       "      <td>66</td>\n",
       "      <td>1</td>\n",
       "    </tr>\n",
       "    <tr>\n",
       "      <th>1045</th>\n",
       "      <td>2.030</td>\n",
       "      <td>2.5</td>\n",
       "      <td>3</td>\n",
       "      <td>1.00</td>\n",
       "      <td>3</td>\n",
       "      <td>1</td>\n",
       "    </tr>\n",
       "    <tr>\n",
       "      <th>1046</th>\n",
       "      <td>2.097</td>\n",
       "      <td>2.5</td>\n",
       "      <td>3</td>\n",
       "      <td>1.93</td>\n",
       "      <td>10</td>\n",
       "      <td>1</td>\n",
       "    </tr>\n",
       "  </tbody>\n",
       "</table>\n",
       "<p>1047 rows × 6 columns</p>\n",
       "</div>"
      ],
      "text/plain": [
       "      Living Area  Bathrooms  Bedrooms  Lot Size  Age  Fireplace\n",
       "0           1.982        1.0         3      2.00  133          0\n",
       "1           1.676        1.5         3      0.38   14          1\n",
       "2           1.694        2.0         3      0.96   15          1\n",
       "3           1.800        1.0         2      0.48   49          1\n",
       "4           2.088        1.0         3      1.84   29          1\n",
       "...           ...        ...       ...       ...  ...        ...\n",
       "1042        1.802        2.0         4      0.97   56          1\n",
       "1043        3.239        3.5         4      2.50    1          1\n",
       "1044        1.440        2.0         2      0.61   66          1\n",
       "1045        2.030        2.5         3      1.00    3          1\n",
       "1046        2.097        2.5         3      1.93   10          1\n",
       "\n",
       "[1047 rows x 6 columns]"
      ]
     },
     "execution_count": 70,
     "metadata": {},
     "output_type": "execute_result"
    }
   ],
   "source": [
    "x"
   ]
  },
  {
   "cell_type": "code",
   "execution_count": 71,
   "id": "0df8564d",
   "metadata": {},
   "outputs": [],
   "source": [
    "from sklearn.model_selection import train_test_split\n",
    "from sklearn.linear_model import LinearRegression"
   ]
  },
  {
   "cell_type": "code",
   "execution_count": 73,
   "id": "5eab36ac",
   "metadata": {},
   "outputs": [],
   "source": [
    "x_train,x_test,y_train,y_test=train_test_split(x,y,test_size=0.2,random_state=1500)\n"
   ]
  },
  {
   "cell_type": "markdown",
   "id": "836e9580",
   "metadata": {},
   "source": [
    "# Using LinearRegression\n"
   ]
  },
  {
   "cell_type": "code",
   "execution_count": 74,
   "id": "ad3d1043",
   "metadata": {},
   "outputs": [
    {
     "data": {
      "text/html": [
       "<style>#sk-container-id-3 {color: black;}#sk-container-id-3 pre{padding: 0;}#sk-container-id-3 div.sk-toggleable {background-color: white;}#sk-container-id-3 label.sk-toggleable__label {cursor: pointer;display: block;width: 100%;margin-bottom: 0;padding: 0.3em;box-sizing: border-box;text-align: center;}#sk-container-id-3 label.sk-toggleable__label-arrow:before {content: \"▸\";float: left;margin-right: 0.25em;color: #696969;}#sk-container-id-3 label.sk-toggleable__label-arrow:hover:before {color: black;}#sk-container-id-3 div.sk-estimator:hover label.sk-toggleable__label-arrow:before {color: black;}#sk-container-id-3 div.sk-toggleable__content {max-height: 0;max-width: 0;overflow: hidden;text-align: left;background-color: #f0f8ff;}#sk-container-id-3 div.sk-toggleable__content pre {margin: 0.2em;color: black;border-radius: 0.25em;background-color: #f0f8ff;}#sk-container-id-3 input.sk-toggleable__control:checked~div.sk-toggleable__content {max-height: 200px;max-width: 100%;overflow: auto;}#sk-container-id-3 input.sk-toggleable__control:checked~label.sk-toggleable__label-arrow:before {content: \"▾\";}#sk-container-id-3 div.sk-estimator input.sk-toggleable__control:checked~label.sk-toggleable__label {background-color: #d4ebff;}#sk-container-id-3 div.sk-label input.sk-toggleable__control:checked~label.sk-toggleable__label {background-color: #d4ebff;}#sk-container-id-3 input.sk-hidden--visually {border: 0;clip: rect(1px 1px 1px 1px);clip: rect(1px, 1px, 1px, 1px);height: 1px;margin: -1px;overflow: hidden;padding: 0;position: absolute;width: 1px;}#sk-container-id-3 div.sk-estimator {font-family: monospace;background-color: #f0f8ff;border: 1px dotted black;border-radius: 0.25em;box-sizing: border-box;margin-bottom: 0.5em;}#sk-container-id-3 div.sk-estimator:hover {background-color: #d4ebff;}#sk-container-id-3 div.sk-parallel-item::after {content: \"\";width: 100%;border-bottom: 1px solid gray;flex-grow: 1;}#sk-container-id-3 div.sk-label:hover label.sk-toggleable__label {background-color: #d4ebff;}#sk-container-id-3 div.sk-serial::before {content: \"\";position: absolute;border-left: 1px solid gray;box-sizing: border-box;top: 0;bottom: 0;left: 50%;z-index: 0;}#sk-container-id-3 div.sk-serial {display: flex;flex-direction: column;align-items: center;background-color: white;padding-right: 0.2em;padding-left: 0.2em;position: relative;}#sk-container-id-3 div.sk-item {position: relative;z-index: 1;}#sk-container-id-3 div.sk-parallel {display: flex;align-items: stretch;justify-content: center;background-color: white;position: relative;}#sk-container-id-3 div.sk-item::before, #sk-container-id-3 div.sk-parallel-item::before {content: \"\";position: absolute;border-left: 1px solid gray;box-sizing: border-box;top: 0;bottom: 0;left: 50%;z-index: -1;}#sk-container-id-3 div.sk-parallel-item {display: flex;flex-direction: column;z-index: 1;position: relative;background-color: white;}#sk-container-id-3 div.sk-parallel-item:first-child::after {align-self: flex-end;width: 50%;}#sk-container-id-3 div.sk-parallel-item:last-child::after {align-self: flex-start;width: 50%;}#sk-container-id-3 div.sk-parallel-item:only-child::after {width: 0;}#sk-container-id-3 div.sk-dashed-wrapped {border: 1px dashed gray;margin: 0 0.4em 0.5em 0.4em;box-sizing: border-box;padding-bottom: 0.4em;background-color: white;}#sk-container-id-3 div.sk-label label {font-family: monospace;font-weight: bold;display: inline-block;line-height: 1.2em;}#sk-container-id-3 div.sk-label-container {text-align: center;}#sk-container-id-3 div.sk-container {/* jupyter's `normalize.less` sets `[hidden] { display: none; }` but bootstrap.min.css set `[hidden] { display: none !important; }` so we also need the `!important` here to be able to override the default hidden behavior on the sphinx rendered scikit-learn.org. See: https://github.com/scikit-learn/scikit-learn/issues/21755 */display: inline-block !important;position: relative;}#sk-container-id-3 div.sk-text-repr-fallback {display: none;}</style><div id=\"sk-container-id-3\" class=\"sk-top-container\"><div class=\"sk-text-repr-fallback\"><pre>LinearRegression()</pre><b>In a Jupyter environment, please rerun this cell to show the HTML representation or trust the notebook. <br />On GitHub, the HTML representation is unable to render, please try loading this page with nbviewer.org.</b></div><div class=\"sk-container\" hidden><div class=\"sk-item\"><div class=\"sk-estimator sk-toggleable\"><input class=\"sk-toggleable__control sk-hidden--visually\" id=\"sk-estimator-id-3\" type=\"checkbox\" checked><label for=\"sk-estimator-id-3\" class=\"sk-toggleable__label sk-toggleable__label-arrow\">LinearRegression</label><div class=\"sk-toggleable__content\"><pre>LinearRegression()</pre></div></div></div></div></div>"
      ],
      "text/plain": [
       "LinearRegression()"
      ]
     },
     "execution_count": 74,
     "metadata": {},
     "output_type": "execute_result"
    }
   ],
   "source": [
    "model=LinearRegression()\n",
    "model.fit(x_train,y_train)"
   ]
  },
  {
   "cell_type": "code",
   "execution_count": 75,
   "id": "390bfae1",
   "metadata": {},
   "outputs": [],
   "source": [
    "y_pred_train=model.predict(x_train)\n",
    "y_pred_test=model.predict(x_test)"
   ]
  },
  {
   "cell_type": "code",
   "execution_count": 76,
   "id": "1634e96f",
   "metadata": {},
   "outputs": [
    {
     "data": {
      "text/html": [
       "<div>\n",
       "<style scoped>\n",
       "    .dataframe tbody tr th:only-of-type {\n",
       "        vertical-align: middle;\n",
       "    }\n",
       "\n",
       "    .dataframe tbody tr th {\n",
       "        vertical-align: top;\n",
       "    }\n",
       "\n",
       "    .dataframe thead th {\n",
       "        text-align: right;\n",
       "    }\n",
       "</style>\n",
       "<table border=\"1\" class=\"dataframe\">\n",
       "  <thead>\n",
       "    <tr style=\"text-align: right;\">\n",
       "      <th></th>\n",
       "      <th>Actual</th>\n",
       "      <th>Prediction</th>\n",
       "    </tr>\n",
       "  </thead>\n",
       "  <tbody>\n",
       "    <tr>\n",
       "      <th>10</th>\n",
       "      <td>30.9808</td>\n",
       "      <td>21.703861</td>\n",
       "    </tr>\n",
       "    <tr>\n",
       "      <th>552</th>\n",
       "      <td>11.7703</td>\n",
       "      <td>15.950250</td>\n",
       "    </tr>\n",
       "    <tr>\n",
       "      <th>28</th>\n",
       "      <td>31.0696</td>\n",
       "      <td>24.773128</td>\n",
       "    </tr>\n",
       "    <tr>\n",
       "      <th>1016</th>\n",
       "      <td>12.4939</td>\n",
       "      <td>10.633972</td>\n",
       "    </tr>\n",
       "    <tr>\n",
       "      <th>78</th>\n",
       "      <td>10.1258</td>\n",
       "      <td>11.148246</td>\n",
       "    </tr>\n",
       "    <tr>\n",
       "      <th>...</th>\n",
       "      <td>...</td>\n",
       "      <td>...</td>\n",
       "    </tr>\n",
       "    <tr>\n",
       "      <th>546</th>\n",
       "      <td>8.5939</td>\n",
       "      <td>15.920997</td>\n",
       "    </tr>\n",
       "    <tr>\n",
       "      <th>714</th>\n",
       "      <td>10.9259</td>\n",
       "      <td>11.396779</td>\n",
       "    </tr>\n",
       "    <tr>\n",
       "      <th>12</th>\n",
       "      <td>8.0248</td>\n",
       "      <td>14.100667</td>\n",
       "    </tr>\n",
       "    <tr>\n",
       "      <th>788</th>\n",
       "      <td>20.9371</td>\n",
       "      <td>20.220440</td>\n",
       "    </tr>\n",
       "    <tr>\n",
       "      <th>277</th>\n",
       "      <td>10.4084</td>\n",
       "      <td>12.947726</td>\n",
       "    </tr>\n",
       "  </tbody>\n",
       "</table>\n",
       "<p>210 rows × 2 columns</p>\n",
       "</div>"
      ],
      "text/plain": [
       "       Actual  Prediction\n",
       "10    30.9808   21.703861\n",
       "552   11.7703   15.950250\n",
       "28    31.0696   24.773128\n",
       "1016  12.4939   10.633972\n",
       "78    10.1258   11.148246\n",
       "...       ...         ...\n",
       "546    8.5939   15.920997\n",
       "714   10.9259   11.396779\n",
       "12     8.0248   14.100667\n",
       "788   20.9371   20.220440\n",
       "277   10.4084   12.947726\n",
       "\n",
       "[210 rows x 2 columns]"
      ]
     },
     "execution_count": 76,
     "metadata": {},
     "output_type": "execute_result"
    }
   ],
   "source": [
    "from sklearn.metrics import accuracy_score,confusion_matrix\n",
    "pred_df=pd.DataFrame({'Actual':y_test,'Prediction':y_pred_test})\n",
    "pred_df"
   ]
  },
  {
   "cell_type": "markdown",
   "id": "88a4c91d",
   "metadata": {},
   "source": [
    "# Validation"
   ]
  },
  {
   "cell_type": "code",
   "execution_count": 78,
   "id": "aceb4cef",
   "metadata": {},
   "outputs": [
    {
     "name": "stdout",
     "output_type": "stream",
     "text": [
      "Mean Absolute Error: 2.8415340987073954\n",
      "Mean Squared Error: 15.294052466232573\n",
      "Root Mean Squared Error: 3.9107611108622544\n"
     ]
    }
   ],
   "source": [
    "#Accuracy\n",
    "import sklearn\n",
    "from sklearn import metrics\n",
    "print('Mean Absolute Error:', sklearn.metrics.mean_absolute_error(y_test, y_pred_test))  \n",
    "print('Mean Squared Error:', sklearn.metrics.mean_squared_error(y_test, y_pred_test))  \n",
    "print('Root Mean Squared Error:', np.sqrt(sklearn.metrics.mean_squared_error(y_test, y_pred_test)))"
   ]
  },
  {
   "cell_type": "code",
   "execution_count": 84,
   "id": "65fe21ec",
   "metadata": {},
   "outputs": [
    {
     "data": {
      "image/png": "[encoded data removed]",
      "text/plain": [
       "<Figure size 800x300 with 1 Axes>"
      ]
     },
     "metadata": {},
     "output_type": "display_data"
    }
   ],
   "source": [
    "#Actual vs prediction plotting\n",
    "df1 = data.head(5)\n",
    "df1.plot(kind='bar',figsize=(8,3))\n",
    "plt.plot(which='major', linestyle='-', linewidth='0.5', color='red')\n",
    "plt.plot(which='minor', linestyle=':', linewidth='0.5', color='black')\n",
    "plt.show()"
   ]
  },
  {
   "cell_type": "markdown",
   "id": "32da948b",
   "metadata": {},
   "source": [
    "# DecisionTreeRegressor"
   ]
  },
  {
   "cell_type": "code",
   "execution_count": 89,
   "id": "1cef31c3",
   "metadata": {},
   "outputs": [
    {
     "data": {
      "text/html": [
       "<style>#sk-container-id-4 {color: black;}#sk-container-id-4 pre{padding: 0;}#sk-container-id-4 div.sk-toggleable {background-color: white;}#sk-container-id-4 label.sk-toggleable__label {cursor: pointer;display: block;width: 100%;margin-bottom: 0;padding: 0.3em;box-sizing: border-box;text-align: center;}#sk-container-id-4 label.sk-toggleable__label-arrow:before {content: \"▸\";float: left;margin-right: 0.25em;color: #696969;}#sk-container-id-4 label.sk-toggleable__label-arrow:hover:before {color: black;}#sk-container-id-4 div.sk-estimator:hover label.sk-toggleable__label-arrow:before {color: black;}#sk-container-id-4 div.sk-toggleable__content {max-height: 0;max-width: 0;overflow: hidden;text-align: left;background-color: #f0f8ff;}#sk-container-id-4 div.sk-toggleable__content pre {margin: 0.2em;color: black;border-radius: 0.25em;background-color: #f0f8ff;}#sk-container-id-4 input.sk-toggleable__control:checked~div.sk-toggleable__content {max-height: 200px;max-width: 100%;overflow: auto;}#sk-container-id-4 input.sk-toggleable__control:checked~label.sk-toggleable__label-arrow:before {content: \"▾\";}#sk-container-id-4 div.sk-estimator input.sk-toggleable__control:checked~label.sk-toggleable__label {background-color: #d4ebff;}#sk-container-id-4 div.sk-label input.sk-toggleable__control:checked~label.sk-toggleable__label {background-color: #d4ebff;}#sk-container-id-4 input.sk-hidden--visually {border: 0;clip: rect(1px 1px 1px 1px);clip: rect(1px, 1px, 1px, 1px);height: 1px;margin: -1px;overflow: hidden;padding: 0;position: absolute;width: 1px;}#sk-container-id-4 div.sk-estimator {font-family: monospace;background-color: #f0f8ff;border: 1px dotted black;border-radius: 0.25em;box-sizing: border-box;margin-bottom: 0.5em;}#sk-container-id-4 div.sk-estimator:hover {background-color: #d4ebff;}#sk-container-id-4 div.sk-parallel-item::after {content: \"\";width: 100%;border-bottom: 1px solid gray;flex-grow: 1;}#sk-container-id-4 div.sk-label:hover label.sk-toggleable__label {background-color: #d4ebff;}#sk-container-id-4 div.sk-serial::before {content: \"\";position: absolute;border-left: 1px solid gray;box-sizing: border-box;top: 0;bottom: 0;left: 50%;z-index: 0;}#sk-container-id-4 div.sk-serial {display: flex;flex-direction: column;align-items: center;background-color: white;padding-right: 0.2em;padding-left: 0.2em;position: relative;}#sk-container-id-4 div.sk-item {position: relative;z-index: 1;}#sk-container-id-4 div.sk-parallel {display: flex;align-items: stretch;justify-content: center;background-color: white;position: relative;}#sk-container-id-4 div.sk-item::before, #sk-container-id-4 div.sk-parallel-item::before {content: \"\";position: absolute;border-left: 1px solid gray;box-sizing: border-box;top: 0;bottom: 0;left: 50%;z-index: -1;}#sk-container-id-4 div.sk-parallel-item {display: flex;flex-direction: column;z-index: 1;position: relative;background-color: white;}#sk-container-id-4 div.sk-parallel-item:first-child::after {align-self: flex-end;width: 50%;}#sk-container-id-4 div.sk-parallel-item:last-child::after {align-self: flex-start;width: 50%;}#sk-container-id-4 div.sk-parallel-item:only-child::after {width: 0;}#sk-container-id-4 div.sk-dashed-wrapped {border: 1px dashed gray;margin: 0 0.4em 0.5em 0.4em;box-sizing: border-box;padding-bottom: 0.4em;background-color: white;}#sk-container-id-4 div.sk-label label {font-family: monospace;font-weight: bold;display: inline-block;line-height: 1.2em;}#sk-container-id-4 div.sk-label-container {text-align: center;}#sk-container-id-4 div.sk-container {/* jupyter's `normalize.less` sets `[hidden] { display: none; }` but bootstrap.min.css set `[hidden] { display: none !important; }` so we also need the `!important` here to be able to override the default hidden behavior on the sphinx rendered scikit-learn.org. See: https://github.com/scikit-learn/scikit-learn/issues/21755 */display: inline-block !important;position: relative;}#sk-container-id-4 div.sk-text-repr-fallback {display: none;}</style><div id=\"sk-container-id-4\" class=\"sk-top-container\"><div class=\"sk-text-repr-fallback\"><pre>DecisionTreeRegressor()</pre><b>In a Jupyter environment, please rerun this cell to show the HTML representation or trust the notebook. <br />On GitHub, the HTML representation is unable to render, please try loading this page with nbviewer.org.</b></div><div class=\"sk-container\" hidden><div class=\"sk-item\"><div class=\"sk-estimator sk-toggleable\"><input class=\"sk-toggleable__control sk-hidden--visually\" id=\"sk-estimator-id-4\" type=\"checkbox\" checked><label for=\"sk-estimator-id-4\" class=\"sk-toggleable__label sk-toggleable__label-arrow\">DecisionTreeRegressor</label><div class=\"sk-toggleable__content\"><pre>DecisionTreeRegressor()</pre></div></div></div></div></div>"
      ],
      "text/plain": [
       "DecisionTreeRegressor()"
      ]
     },
     "execution_count": 89,
     "metadata": {},
     "output_type": "execute_result"
    }
   ],
   "source": [
    "from sklearn.tree import DecisionTreeRegressor\n",
    "\n",
    "model=DecisionTreeRegressor()\n",
    "model.fit(x_train,y_train)"
   ]
  },
  {
   "cell_type": "code",
   "execution_count": 90,
   "id": "429f6474",
   "metadata": {},
   "outputs": [],
   "source": [
    "y_pred=model.predict(x_test)"
   ]
  },
  {
   "cell_type": "code",
   "execution_count": 91,
   "id": "0f88e53d",
   "metadata": {},
   "outputs": [
    {
     "data": {
      "text/html": [
       "<div>\n",
       "<style scoped>\n",
       "    .dataframe tbody tr th:only-of-type {\n",
       "        vertical-align: middle;\n",
       "    }\n",
       "\n",
       "    .dataframe tbody tr th {\n",
       "        vertical-align: top;\n",
       "    }\n",
       "\n",
       "    .dataframe thead th {\n",
       "        text-align: right;\n",
       "    }\n",
       "</style>\n",
       "<table border=\"1\" class=\"dataframe\">\n",
       "  <thead>\n",
       "    <tr style=\"text-align: right;\">\n",
       "      <th></th>\n",
       "      <th>Actual</th>\n",
       "      <th>Prediction</th>\n",
       "    </tr>\n",
       "  </thead>\n",
       "  <tbody>\n",
       "    <tr>\n",
       "      <th>10</th>\n",
       "      <td>30.9808</td>\n",
       "      <td>23.8792</td>\n",
       "    </tr>\n",
       "    <tr>\n",
       "      <th>552</th>\n",
       "      <td>11.7703</td>\n",
       "      <td>11.0115</td>\n",
       "    </tr>\n",
       "    <tr>\n",
       "      <th>28</th>\n",
       "      <td>31.0696</td>\n",
       "      <td>30.8253</td>\n",
       "    </tr>\n",
       "    <tr>\n",
       "      <th>1016</th>\n",
       "      <td>12.4939</td>\n",
       "      <td>10.7919</td>\n",
       "    </tr>\n",
       "    <tr>\n",
       "      <th>78</th>\n",
       "      <td>10.1258</td>\n",
       "      <td>10.2806</td>\n",
       "    </tr>\n",
       "    <tr>\n",
       "      <th>...</th>\n",
       "      <td>...</td>\n",
       "      <td>...</td>\n",
       "    </tr>\n",
       "    <tr>\n",
       "      <th>546</th>\n",
       "      <td>8.5939</td>\n",
       "      <td>15.9786</td>\n",
       "    </tr>\n",
       "    <tr>\n",
       "      <th>714</th>\n",
       "      <td>10.9259</td>\n",
       "      <td>12.6049</td>\n",
       "    </tr>\n",
       "    <tr>\n",
       "      <th>12</th>\n",
       "      <td>8.0248</td>\n",
       "      <td>17.0567</td>\n",
       "    </tr>\n",
       "    <tr>\n",
       "      <th>788</th>\n",
       "      <td>20.9371</td>\n",
       "      <td>19.2694</td>\n",
       "    </tr>\n",
       "    <tr>\n",
       "      <th>277</th>\n",
       "      <td>10.4084</td>\n",
       "      <td>12.0476</td>\n",
       "    </tr>\n",
       "  </tbody>\n",
       "</table>\n",
       "<p>210 rows × 2 columns</p>\n",
       "</div>"
      ],
      "text/plain": [
       "       Actual  Prediction\n",
       "10    30.9808     23.8792\n",
       "552   11.7703     11.0115\n",
       "28    31.0696     30.8253\n",
       "1016  12.4939     10.7919\n",
       "78    10.1258     10.2806\n",
       "...       ...         ...\n",
       "546    8.5939     15.9786\n",
       "714   10.9259     12.6049\n",
       "12     8.0248     17.0567\n",
       "788   20.9371     19.2694\n",
       "277   10.4084     12.0476\n",
       "\n",
       "[210 rows x 2 columns]"
      ]
     },
     "execution_count": 91,
     "metadata": {},
     "output_type": "execute_result"
    }
   ],
   "source": [
    "df=pd.DataFrame({'Actual':y_test,'Prediction':y_pred})\n",
    "df"
   ]
  },
  {
   "cell_type": "markdown",
   "id": "cc8db951",
   "metadata": {},
   "source": [
    "# Validation"
   ]
  },
  {
   "cell_type": "code",
   "execution_count": 98,
   "id": "3b8150e0",
   "metadata": {},
   "outputs": [
    {
     "name": "stdout",
     "output_type": "stream",
     "text": [
      "Mean Absolute Error: 3.4059742857142856\n",
      "Mean Squared Error: 25.073153680666664\n",
      "Root Mean Squared Error: 5.0073100244209625\n"
     ]
    }
   ],
   "source": [
    "#Accuracy\n",
    "import sklearn\n",
    "from sklearn import metrics\n",
    "print('Mean Absolute Error:', sklearn.metrics.mean_absolute_error(y_test, y_pred))  \n",
    "print('Mean Squared Error:', sklearn.metrics.mean_squared_error(y_test, y_pred))  \n",
    "print('Root Mean Squared Error:', np.sqrt(sklearn.metrics.mean_squared_error(y_test, y_pred)))"
   ]
  },
  {
   "cell_type": "markdown",
   "id": "5d828580",
   "metadata": {},
   "source": [
    "# RandomForestRegressor"
   ]
  },
  {
   "cell_type": "code",
   "execution_count": 93,
   "id": "d9a71429",
   "metadata": {},
   "outputs": [
    {
     "data": {
      "text/html": [
       "<style>#sk-container-id-5 {color: black;}#sk-container-id-5 pre{padding: 0;}#sk-container-id-5 div.sk-toggleable {background-color: white;}#sk-container-id-5 label.sk-toggleable__label {cursor: pointer;display: block;width: 100%;margin-bottom: 0;padding: 0.3em;box-sizing: border-box;text-align: center;}#sk-container-id-5 label.sk-toggleable__label-arrow:before {content: \"▸\";float: left;margin-right: 0.25em;color: #696969;}#sk-container-id-5 label.sk-toggleable__label-arrow:hover:before {color: black;}#sk-container-id-5 div.sk-estimator:hover label.sk-toggleable__label-arrow:before {color: black;}#sk-container-id-5 div.sk-toggleable__content {max-height: 0;max-width: 0;overflow: hidden;text-align: left;background-color: #f0f8ff;}#sk-container-id-5 div.sk-toggleable__content pre {margin: 0.2em;color: black;border-radius: 0.25em;background-color: #f0f8ff;}#sk-container-id-5 input.sk-toggleable__control:checked~div.sk-toggleable__content {max-height: 200px;max-width: 100%;overflow: auto;}#sk-container-id-5 input.sk-toggleable__control:checked~label.sk-toggleable__label-arrow:before {content: \"▾\";}#sk-container-id-5 div.sk-estimator input.sk-toggleable__control:checked~label.sk-toggleable__label {background-color: #d4ebff;}#sk-container-id-5 div.sk-label input.sk-toggleable__control:checked~label.sk-toggleable__label {background-color: #d4ebff;}#sk-container-id-5 input.sk-hidden--visually {border: 0;clip: rect(1px 1px 1px 1px);clip: rect(1px, 1px, 1px, 1px);height: 1px;margin: -1px;overflow: hidden;padding: 0;position: absolute;width: 1px;}#sk-container-id-5 div.sk-estimator {font-family: monospace;background-color: #f0f8ff;border: 1px dotted black;border-radius: 0.25em;box-sizing: border-box;margin-bottom: 0.5em;}#sk-container-id-5 div.sk-estimator:hover {background-color: #d4ebff;}#sk-container-id-5 div.sk-parallel-item::after {content: \"\";width: 100%;border-bottom: 1px solid gray;flex-grow: 1;}#sk-container-id-5 div.sk-label:hover label.sk-toggleable__label {background-color: #d4ebff;}#sk-container-id-5 div.sk-serial::before {content: \"\";position: absolute;border-left: 1px solid gray;box-sizing: border-box;top: 0;bottom: 0;left: 50%;z-index: 0;}#sk-container-id-5 div.sk-serial {display: flex;flex-direction: column;align-items: center;background-color: white;padding-right: 0.2em;padding-left: 0.2em;position: relative;}#sk-container-id-5 div.sk-item {position: relative;z-index: 1;}#sk-container-id-5 div.sk-parallel {display: flex;align-items: stretch;justify-content: center;background-color: white;position: relative;}#sk-container-id-5 div.sk-item::before, #sk-container-id-5 div.sk-parallel-item::before {content: \"\";position: absolute;border-left: 1px solid gray;box-sizing: border-box;top: 0;bottom: 0;left: 50%;z-index: -1;}#sk-container-id-5 div.sk-parallel-item {display: flex;flex-direction: column;z-index: 1;position: relative;background-color: white;}#sk-container-id-5 div.sk-parallel-item:first-child::after {align-self: flex-end;width: 50%;}#sk-container-id-5 div.sk-parallel-item:last-child::after {align-self: flex-start;width: 50%;}#sk-container-id-5 div.sk-parallel-item:only-child::after {width: 0;}#sk-container-id-5 div.sk-dashed-wrapped {border: 1px dashed gray;margin: 0 0.4em 0.5em 0.4em;box-sizing: border-box;padding-bottom: 0.4em;background-color: white;}#sk-container-id-5 div.sk-label label {font-family: monospace;font-weight: bold;display: inline-block;line-height: 1.2em;}#sk-container-id-5 div.sk-label-container {text-align: center;}#sk-container-id-5 div.sk-container {/* jupyter's `normalize.less` sets `[hidden] { display: none; }` but bootstrap.min.css set `[hidden] { display: none !important; }` so we also need the `!important` here to be able to override the default hidden behavior on the sphinx rendered scikit-learn.org. See: https://github.com/scikit-learn/scikit-learn/issues/21755 */display: inline-block !important;position: relative;}#sk-container-id-5 div.sk-text-repr-fallback {display: none;}</style><div id=\"sk-container-id-5\" class=\"sk-top-container\"><div class=\"sk-text-repr-fallback\"><pre>RandomForestRegressor()</pre><b>In a Jupyter environment, please rerun this cell to show the HTML representation or trust the notebook. <br />On GitHub, the HTML representation is unable to render, please try loading this page with nbviewer.org.</b></div><div class=\"sk-container\" hidden><div class=\"sk-item\"><div class=\"sk-estimator sk-toggleable\"><input class=\"sk-toggleable__control sk-hidden--visually\" id=\"sk-estimator-id-5\" type=\"checkbox\" checked><label for=\"sk-estimator-id-5\" class=\"sk-toggleable__label sk-toggleable__label-arrow\">RandomForestRegressor</label><div class=\"sk-toggleable__content\"><pre>RandomForestRegressor()</pre></div></div></div></div></div>"
      ],
      "text/plain": [
       "RandomForestRegressor()"
      ]
     },
     "execution_count": 93,
     "metadata": {},
     "output_type": "execute_result"
    }
   ],
   "source": [
    "from sklearn.ensemble import RandomForestRegressor\n",
    "model=RandomForestRegressor()\n",
    "model.fit(x_train,y_train)"
   ]
  },
  {
   "cell_type": "code",
   "execution_count": 95,
   "id": "5226c327",
   "metadata": {},
   "outputs": [],
   "source": [
    "y_pred1=model.predict(x_test)"
   ]
  },
  {
   "cell_type": "code",
   "execution_count": 96,
   "id": "9572b914",
   "metadata": {},
   "outputs": [
    {
     "data": {
      "text/html": [
       "<div>\n",
       "<style scoped>\n",
       "    .dataframe tbody tr th:only-of-type {\n",
       "        vertical-align: middle;\n",
       "    }\n",
       "\n",
       "    .dataframe tbody tr th {\n",
       "        vertical-align: top;\n",
       "    }\n",
       "\n",
       "    .dataframe thead th {\n",
       "        text-align: right;\n",
       "    }\n",
       "</style>\n",
       "<table border=\"1\" class=\"dataframe\">\n",
       "  <thead>\n",
       "    <tr style=\"text-align: right;\">\n",
       "      <th></th>\n",
       "      <th>Actual</th>\n",
       "      <th>Prediction</th>\n",
       "    </tr>\n",
       "  </thead>\n",
       "  <tbody>\n",
       "    <tr>\n",
       "      <th>10</th>\n",
       "      <td>30.9808</td>\n",
       "      <td>23.467595</td>\n",
       "    </tr>\n",
       "    <tr>\n",
       "      <th>552</th>\n",
       "      <td>11.7703</td>\n",
       "      <td>12.381082</td>\n",
       "    </tr>\n",
       "    <tr>\n",
       "      <th>28</th>\n",
       "      <td>31.0696</td>\n",
       "      <td>30.326916</td>\n",
       "    </tr>\n",
       "    <tr>\n",
       "      <th>1016</th>\n",
       "      <td>12.4939</td>\n",
       "      <td>11.627047</td>\n",
       "    </tr>\n",
       "    <tr>\n",
       "      <th>78</th>\n",
       "      <td>10.1258</td>\n",
       "      <td>11.264797</td>\n",
       "    </tr>\n",
       "    <tr>\n",
       "      <th>...</th>\n",
       "      <td>...</td>\n",
       "      <td>...</td>\n",
       "    </tr>\n",
       "    <tr>\n",
       "      <th>546</th>\n",
       "      <td>8.5939</td>\n",
       "      <td>15.575853</td>\n",
       "    </tr>\n",
       "    <tr>\n",
       "      <th>714</th>\n",
       "      <td>10.9259</td>\n",
       "      <td>11.938503</td>\n",
       "    </tr>\n",
       "    <tr>\n",
       "      <th>12</th>\n",
       "      <td>8.0248</td>\n",
       "      <td>14.908277</td>\n",
       "    </tr>\n",
       "    <tr>\n",
       "      <th>788</th>\n",
       "      <td>20.9371</td>\n",
       "      <td>20.444779</td>\n",
       "    </tr>\n",
       "    <tr>\n",
       "      <th>277</th>\n",
       "      <td>10.4084</td>\n",
       "      <td>11.203334</td>\n",
       "    </tr>\n",
       "  </tbody>\n",
       "</table>\n",
       "<p>210 rows × 2 columns</p>\n",
       "</div>"
      ],
      "text/plain": [
       "       Actual  Prediction\n",
       "10    30.9808   23.467595\n",
       "552   11.7703   12.381082\n",
       "28    31.0696   30.326916\n",
       "1016  12.4939   11.627047\n",
       "78    10.1258   11.264797\n",
       "...       ...         ...\n",
       "546    8.5939   15.575853\n",
       "714   10.9259   11.938503\n",
       "12     8.0248   14.908277\n",
       "788   20.9371   20.444779\n",
       "277   10.4084   11.203334\n",
       "\n",
       "[210 rows x 2 columns]"
      ]
     },
     "execution_count": 96,
     "metadata": {},
     "output_type": "execute_result"
    }
   ],
   "source": [
    "df2=pd.DataFrame({'Actual':y_test,'Prediction':y_pred1})\n",
    "df2"
   ]
  },
  {
   "cell_type": "markdown",
   "id": "e5eb8201",
   "metadata": {},
   "source": [
    "# validation"
   ]
  },
  {
   "cell_type": "code",
   "execution_count": 99,
   "id": "9b1234b7",
   "metadata": {},
   "outputs": [
    {
     "name": "stdout",
     "output_type": "stream",
     "text": [
      "Mean Absolute Error: 2.5301383130838997\n",
      "Mean Squared Error: 13.380492374212201\n",
      "Root Mean Squared Error: 3.6579355344527604\n"
     ]
    }
   ],
   "source": [
    "#Accuracy\n",
    "import sklearn\n",
    "from sklearn import metrics\n",
    "print('Mean Absolute Error:', sklearn.metrics.mean_absolute_error(y_test, y_pred1))  \n",
    "print('Mean Squared Error:', sklearn.metrics.mean_squared_error(y_test, y_pred1))  \n",
    "print('Root Mean Squared Error:', np.sqrt(sklearn.metrics.mean_squared_error(y_test, y_pred1)))"
   ]
  }
 ],
 "metadata": {
  "kernelspec": {
   "display_name": "Python 3 (ipykernel)",
   "language": "python",
   "name": "python3"
  },
  "language_info": {
   "codemirror_mode": {
    "name": "ipython",
    "version": 3
   },
   "file_extension": ".py",
   "mimetype": "text/x-python",
   "name": "python",
   "nbconvert_exporter": "python",
   "pygments_lexer": "ipython3",
   "version": "3.11.4"
  }
 },
 "nbformat": 4,
 "nbformat_minor": 5
}
